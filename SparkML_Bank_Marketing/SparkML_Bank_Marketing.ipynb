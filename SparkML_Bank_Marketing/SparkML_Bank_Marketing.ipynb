{
  "nbformat": 4,
  "nbformat_minor": 0,
  "metadata": {
    "colab": {
      "name": "SparkML_Bank_Marketing.ipynb",
      "provenance": [],
      "authorship_tag": "ABX9TyMcnFOMx2BxGKurc9orvgtx",
      "include_colab_link": true
    },
    "kernelspec": {
      "name": "python3",
      "display_name": "Python 3"
    }
  },
  "cells": [
    {
      "cell_type": "markdown",
      "metadata": {
        "id": "view-in-github",
        "colab_type": "text"
      },
      "source": [
        "<a href=\"https://colab.research.google.com/github/Melvinmcrn/DataScience/blob/master/SparkML_Bank_Marketing/SparkML_Bank_Marketing.ipynb\" target=\"_parent\"><img src=\"https://colab.research.google.com/assets/colab-badge.svg\" alt=\"Open In Colab\"/></a>"
      ]
    },
    {
      "cell_type": "markdown",
      "metadata": {
        "id": "jrI7D6po_lB2",
        "colab_type": "text"
      },
      "source": [
        "# Bank Marketing"
      ]
    },
    {
      "cell_type": "markdown",
      "metadata": {
        "id": "AiUacj3M_n5p",
        "colab_type": "text"
      },
      "source": [
        "### Import and create spark"
      ]
    },
    {
      "cell_type": "code",
      "metadata": {
        "id": "oLsyqSLAmc6t",
        "colab_type": "code",
        "colab": {}
      },
      "source": [
        "!apt-get install openjdk-8-jdk-headless -qq > /dev/null\n",
        "!wget -q https://downloads.apache.org/spark/spark-2.4.5/spark-2.4.5-bin-hadoop2.7.tgz\n",
        "!tar xf spark-2.4.5-bin-hadoop2.7.tgz\n",
        "!pip install -q findspark"
      ],
      "execution_count": 0,
      "outputs": []
    },
    {
      "cell_type": "code",
      "metadata": {
        "id": "LJRAo6x8md83",
        "colab_type": "code",
        "colab": {}
      },
      "source": [
        "import os\n",
        "os.environ[\"JAVA_HOME\"] = \"/usr/lib/jvm/java-8-openjdk-amd64\"\n",
        "os.environ[\"SPARK_HOME\"] = \"/content/spark-2.4.5-bin-hadoop2.7\"\n",
        "import findspark\n",
        "findspark.init()\n",
        "from pyspark.sql import SparkSession\n",
        "spark = SparkSession.builder.master(\"local[*]\").getOrCreate()"
      ],
      "execution_count": 0,
      "outputs": []
    },
    {
      "cell_type": "code",
      "metadata": {
        "id": "-gU8vXXJmhAL",
        "colab_type": "code",
        "colab": {}
      },
      "source": [
        "# import module\n",
        "from pyspark import SparkContext\n",
        "from pyspark.sql import SparkSession\n",
        "from pyspark.conf import SparkConf\n",
        "from pyspark.ml import Pipeline, PipelineModel\n",
        "from pyspark.ml.classification import DecisionTreeClassifier, DecisionTreeClassificationModel, LogisticRegression, LogisticRegressionModel, RandomForestClassifier, RandomForestClassificationModel\n",
        "from pyspark.ml.feature import StringIndexer, IndexToString, VectorAssembler\n",
        "from pyspark.ml.evaluation import MulticlassClassificationEvaluator\n",
        "from pyspark.ml.tuning import CrossValidator, ParamGridBuilder\n",
        "from pyspark.sql.functions import isnan, when, count, col"
      ],
      "execution_count": 0,
      "outputs": []
    },
    {
      "cell_type": "code",
      "metadata": {
        "id": "IO5UdNwWmnQC",
        "colab_type": "code",
        "colab": {}
      },
      "source": [
        "# Create spark context\n",
        "sc = SparkContext.getOrCreate()"
      ],
      "execution_count": 0,
      "outputs": []
    },
    {
      "cell_type": "code",
      "metadata": {
        "id": "osSI1qlmmpbS",
        "colab_type": "code",
        "outputId": "e1c05089-25db-427a-a25f-34472c5693c2",
        "colab": {
          "base_uri": "https://localhost:8080/",
          "height": 191
        }
      },
      "source": [
        "sc"
      ],
      "execution_count": 5,
      "outputs": [
        {
          "output_type": "execute_result",
          "data": {
            "text/html": [
              "\n",
              "        <div>\n",
              "            <p><b>SparkContext</b></p>\n",
              "\n",
              "            <p><a href=\"http://4a83cfa65044:4040\">Spark UI</a></p>\n",
              "\n",
              "            <dl>\n",
              "              <dt>Version</dt>\n",
              "                <dd><code>v2.4.5</code></dd>\n",
              "              <dt>Master</dt>\n",
              "                <dd><code>local[*]</code></dd>\n",
              "              <dt>AppName</dt>\n",
              "                <dd><code>pyspark-shell</code></dd>\n",
              "            </dl>\n",
              "        </div>\n",
              "        "
            ],
            "text/plain": [
              "<SparkContext master=local[*] appName=pyspark-shell>"
            ]
          },
          "metadata": {
            "tags": []
          },
          "execution_count": 5
        }
      ]
    },
    {
      "cell_type": "code",
      "metadata": {
        "id": "lEx7hSYsmrKb",
        "colab_type": "code",
        "outputId": "2548d4ee-a7e3-4bf2-ae8e-9be646340d43",
        "colab": {
          "base_uri": "https://localhost:8080/",
          "height": 34
        }
      },
      "source": [
        "# Setup SparkSession(SparkSQL)\n",
        "spark = (SparkSession\n",
        "         .builder\n",
        "         .appName(\"SparkML_Bank_Marketing\")\n",
        "         .getOrCreate())\n",
        "print (spark)"
      ],
      "execution_count": 6,
      "outputs": [
        {
          "output_type": "stream",
          "text": [
            "<pyspark.sql.session.SparkSession object at 0x7f3e82456b38>\n"
          ],
          "name": "stdout"
        }
      ]
    },
    {
      "cell_type": "markdown",
      "metadata": {
        "id": "eNHhH8xG_wuo",
        "colab_type": "text"
      },
      "source": [
        "### Read file and prepare data"
      ]
    },
    {
      "cell_type": "code",
      "metadata": {
        "id": "fKeJidjKmz1F",
        "colab_type": "code",
        "outputId": "bb64ae98-5eb9-4aa8-e393-37b14332db1e",
        "colab": {
          "base_uri": "https://localhost:8080/",
          "height": 34
        }
      },
      "source": [
        "# Read file to spark DataFrame\n",
        "data = (spark\n",
        "        .read\n",
        "        .option(\"header\",\"true\")\n",
        "        .option(\"inferSchema\", \"true\")\n",
        "        .option(\"sep\",\";\")\n",
        "        .csv(\"bank-full.csv\"))\n",
        "data.cache()\n",
        "print (\"finish caching data\")"
      ],
      "execution_count": 7,
      "outputs": [
        {
          "output_type": "stream",
          "text": [
            "finish caching data\n"
          ],
          "name": "stdout"
        }
      ]
    },
    {
      "cell_type": "code",
      "metadata": {
        "id": "Qind_d8uluHk",
        "colab_type": "code",
        "outputId": "ed1791fb-465d-49e4-966c-df2c08d71f08",
        "colab": {
          "base_uri": "https://localhost:8080/",
          "height": 215
        }
      },
      "source": [
        "data.describe().toPandas()"
      ],
      "execution_count": 8,
      "outputs": [
        {
          "output_type": "execute_result",
          "data": {
            "text/html": [
              "<div>\n",
              "<style scoped>\n",
              "    .dataframe tbody tr th:only-of-type {\n",
              "        vertical-align: middle;\n",
              "    }\n",
              "\n",
              "    .dataframe tbody tr th {\n",
              "        vertical-align: top;\n",
              "    }\n",
              "\n",
              "    .dataframe thead th {\n",
              "        text-align: right;\n",
              "    }\n",
              "</style>\n",
              "<table border=\"1\" class=\"dataframe\">\n",
              "  <thead>\n",
              "    <tr style=\"text-align: right;\">\n",
              "      <th></th>\n",
              "      <th>summary</th>\n",
              "      <th>age</th>\n",
              "      <th>job</th>\n",
              "      <th>marital</th>\n",
              "      <th>education</th>\n",
              "      <th>default</th>\n",
              "      <th>balance</th>\n",
              "      <th>housing</th>\n",
              "      <th>loan</th>\n",
              "      <th>contact</th>\n",
              "      <th>day</th>\n",
              "      <th>month</th>\n",
              "      <th>duration</th>\n",
              "      <th>campaign</th>\n",
              "      <th>pdays</th>\n",
              "      <th>previous</th>\n",
              "      <th>poutcome</th>\n",
              "      <th>y</th>\n",
              "    </tr>\n",
              "  </thead>\n",
              "  <tbody>\n",
              "    <tr>\n",
              "      <th>0</th>\n",
              "      <td>count</td>\n",
              "      <td>45211</td>\n",
              "      <td>45211</td>\n",
              "      <td>45211</td>\n",
              "      <td>45211</td>\n",
              "      <td>45211</td>\n",
              "      <td>45211</td>\n",
              "      <td>45211</td>\n",
              "      <td>45211</td>\n",
              "      <td>45211</td>\n",
              "      <td>45211</td>\n",
              "      <td>45211</td>\n",
              "      <td>45211</td>\n",
              "      <td>45211</td>\n",
              "      <td>45211</td>\n",
              "      <td>45211</td>\n",
              "      <td>45211</td>\n",
              "      <td>45211</td>\n",
              "    </tr>\n",
              "    <tr>\n",
              "      <th>1</th>\n",
              "      <td>mean</td>\n",
              "      <td>40.93621021432837</td>\n",
              "      <td>None</td>\n",
              "      <td>None</td>\n",
              "      <td>None</td>\n",
              "      <td>None</td>\n",
              "      <td>1362.2720576850766</td>\n",
              "      <td>None</td>\n",
              "      <td>None</td>\n",
              "      <td>None</td>\n",
              "      <td>15.80641879188693</td>\n",
              "      <td>None</td>\n",
              "      <td>258.1630797814691</td>\n",
              "      <td>2.763840658246887</td>\n",
              "      <td>40.19782796222158</td>\n",
              "      <td>0.5803233726305546</td>\n",
              "      <td>None</td>\n",
              "      <td>None</td>\n",
              "    </tr>\n",
              "    <tr>\n",
              "      <th>2</th>\n",
              "      <td>stddev</td>\n",
              "      <td>10.618762040975408</td>\n",
              "      <td>None</td>\n",
              "      <td>None</td>\n",
              "      <td>None</td>\n",
              "      <td>None</td>\n",
              "      <td>3044.7658291685243</td>\n",
              "      <td>None</td>\n",
              "      <td>None</td>\n",
              "      <td>None</td>\n",
              "      <td>8.322476153044596</td>\n",
              "      <td>None</td>\n",
              "      <td>257.52781226517095</td>\n",
              "      <td>3.098020883279184</td>\n",
              "      <td>100.12874599059813</td>\n",
              "      <td>2.3034410449312204</td>\n",
              "      <td>None</td>\n",
              "      <td>None</td>\n",
              "    </tr>\n",
              "    <tr>\n",
              "      <th>3</th>\n",
              "      <td>min</td>\n",
              "      <td>18</td>\n",
              "      <td>admin.</td>\n",
              "      <td>divorced</td>\n",
              "      <td>primary</td>\n",
              "      <td>no</td>\n",
              "      <td>-8019</td>\n",
              "      <td>no</td>\n",
              "      <td>no</td>\n",
              "      <td>cellular</td>\n",
              "      <td>1</td>\n",
              "      <td>apr</td>\n",
              "      <td>0</td>\n",
              "      <td>1</td>\n",
              "      <td>-1</td>\n",
              "      <td>0</td>\n",
              "      <td>failure</td>\n",
              "      <td>no</td>\n",
              "    </tr>\n",
              "    <tr>\n",
              "      <th>4</th>\n",
              "      <td>max</td>\n",
              "      <td>95</td>\n",
              "      <td>unknown</td>\n",
              "      <td>single</td>\n",
              "      <td>unknown</td>\n",
              "      <td>yes</td>\n",
              "      <td>102127</td>\n",
              "      <td>yes</td>\n",
              "      <td>yes</td>\n",
              "      <td>unknown</td>\n",
              "      <td>31</td>\n",
              "      <td>sep</td>\n",
              "      <td>4918</td>\n",
              "      <td>63</td>\n",
              "      <td>871</td>\n",
              "      <td>275</td>\n",
              "      <td>unknown</td>\n",
              "      <td>yes</td>\n",
              "    </tr>\n",
              "  </tbody>\n",
              "</table>\n",
              "</div>"
            ],
            "text/plain": [
              "  summary                 age      job  ...            previous poutcome      y\n",
              "0   count               45211    45211  ...               45211    45211  45211\n",
              "1    mean   40.93621021432837     None  ...  0.5803233726305546     None   None\n",
              "2  stddev  10.618762040975408     None  ...  2.3034410449312204     None   None\n",
              "3     min                  18   admin.  ...                   0  failure     no\n",
              "4     max                  95  unknown  ...                 275  unknown    yes\n",
              "\n",
              "[5 rows x 18 columns]"
            ]
          },
          "metadata": {
            "tags": []
          },
          "execution_count": 8
        }
      ]
    },
    {
      "cell_type": "code",
      "metadata": {
        "id": "SzYwUw_yqf0G",
        "colab_type": "code",
        "colab": {
          "base_uri": "https://localhost:8080/",
          "height": 195
        },
        "outputId": "41d35c19-e9a9-4e0b-d509-ceabb544adc3"
      },
      "source": [
        "data.toPandas().head(5)"
      ],
      "execution_count": 9,
      "outputs": [
        {
          "output_type": "execute_result",
          "data": {
            "text/html": [
              "<div>\n",
              "<style scoped>\n",
              "    .dataframe tbody tr th:only-of-type {\n",
              "        vertical-align: middle;\n",
              "    }\n",
              "\n",
              "    .dataframe tbody tr th {\n",
              "        vertical-align: top;\n",
              "    }\n",
              "\n",
              "    .dataframe thead th {\n",
              "        text-align: right;\n",
              "    }\n",
              "</style>\n",
              "<table border=\"1\" class=\"dataframe\">\n",
              "  <thead>\n",
              "    <tr style=\"text-align: right;\">\n",
              "      <th></th>\n",
              "      <th>age</th>\n",
              "      <th>job</th>\n",
              "      <th>marital</th>\n",
              "      <th>education</th>\n",
              "      <th>default</th>\n",
              "      <th>balance</th>\n",
              "      <th>housing</th>\n",
              "      <th>loan</th>\n",
              "      <th>contact</th>\n",
              "      <th>day</th>\n",
              "      <th>month</th>\n",
              "      <th>duration</th>\n",
              "      <th>campaign</th>\n",
              "      <th>pdays</th>\n",
              "      <th>previous</th>\n",
              "      <th>poutcome</th>\n",
              "      <th>y</th>\n",
              "    </tr>\n",
              "  </thead>\n",
              "  <tbody>\n",
              "    <tr>\n",
              "      <th>0</th>\n",
              "      <td>58</td>\n",
              "      <td>management</td>\n",
              "      <td>married</td>\n",
              "      <td>tertiary</td>\n",
              "      <td>no</td>\n",
              "      <td>2143</td>\n",
              "      <td>yes</td>\n",
              "      <td>no</td>\n",
              "      <td>unknown</td>\n",
              "      <td>5</td>\n",
              "      <td>may</td>\n",
              "      <td>261</td>\n",
              "      <td>1</td>\n",
              "      <td>-1</td>\n",
              "      <td>0</td>\n",
              "      <td>unknown</td>\n",
              "      <td>no</td>\n",
              "    </tr>\n",
              "    <tr>\n",
              "      <th>1</th>\n",
              "      <td>44</td>\n",
              "      <td>technician</td>\n",
              "      <td>single</td>\n",
              "      <td>secondary</td>\n",
              "      <td>no</td>\n",
              "      <td>29</td>\n",
              "      <td>yes</td>\n",
              "      <td>no</td>\n",
              "      <td>unknown</td>\n",
              "      <td>5</td>\n",
              "      <td>may</td>\n",
              "      <td>151</td>\n",
              "      <td>1</td>\n",
              "      <td>-1</td>\n",
              "      <td>0</td>\n",
              "      <td>unknown</td>\n",
              "      <td>no</td>\n",
              "    </tr>\n",
              "    <tr>\n",
              "      <th>2</th>\n",
              "      <td>33</td>\n",
              "      <td>entrepreneur</td>\n",
              "      <td>married</td>\n",
              "      <td>secondary</td>\n",
              "      <td>no</td>\n",
              "      <td>2</td>\n",
              "      <td>yes</td>\n",
              "      <td>yes</td>\n",
              "      <td>unknown</td>\n",
              "      <td>5</td>\n",
              "      <td>may</td>\n",
              "      <td>76</td>\n",
              "      <td>1</td>\n",
              "      <td>-1</td>\n",
              "      <td>0</td>\n",
              "      <td>unknown</td>\n",
              "      <td>no</td>\n",
              "    </tr>\n",
              "    <tr>\n",
              "      <th>3</th>\n",
              "      <td>47</td>\n",
              "      <td>blue-collar</td>\n",
              "      <td>married</td>\n",
              "      <td>unknown</td>\n",
              "      <td>no</td>\n",
              "      <td>1506</td>\n",
              "      <td>yes</td>\n",
              "      <td>no</td>\n",
              "      <td>unknown</td>\n",
              "      <td>5</td>\n",
              "      <td>may</td>\n",
              "      <td>92</td>\n",
              "      <td>1</td>\n",
              "      <td>-1</td>\n",
              "      <td>0</td>\n",
              "      <td>unknown</td>\n",
              "      <td>no</td>\n",
              "    </tr>\n",
              "    <tr>\n",
              "      <th>4</th>\n",
              "      <td>33</td>\n",
              "      <td>unknown</td>\n",
              "      <td>single</td>\n",
              "      <td>unknown</td>\n",
              "      <td>no</td>\n",
              "      <td>1</td>\n",
              "      <td>no</td>\n",
              "      <td>no</td>\n",
              "      <td>unknown</td>\n",
              "      <td>5</td>\n",
              "      <td>may</td>\n",
              "      <td>198</td>\n",
              "      <td>1</td>\n",
              "      <td>-1</td>\n",
              "      <td>0</td>\n",
              "      <td>unknown</td>\n",
              "      <td>no</td>\n",
              "    </tr>\n",
              "  </tbody>\n",
              "</table>\n",
              "</div>"
            ],
            "text/plain": [
              "   age           job  marital  education  ... pdays  previous poutcome   y\n",
              "0   58    management  married   tertiary  ...    -1         0  unknown  no\n",
              "1   44    technician   single  secondary  ...    -1         0  unknown  no\n",
              "2   33  entrepreneur  married  secondary  ...    -1         0  unknown  no\n",
              "3   47   blue-collar  married    unknown  ...    -1         0  unknown  no\n",
              "4   33       unknown   single    unknown  ...    -1         0  unknown  no\n",
              "\n",
              "[5 rows x 17 columns]"
            ]
          },
          "metadata": {
            "tags": []
          },
          "execution_count": 9
        }
      ]
    },
    {
      "cell_type": "code",
      "metadata": {
        "id": "wQkZaZyx8AZd",
        "colab_type": "code",
        "colab": {
          "base_uri": "https://localhost:8080/",
          "height": 336
        },
        "outputId": "f8260521-fcde-4a7b-dd26-22c05838a233"
      },
      "source": [
        "data.printSchema()"
      ],
      "execution_count": 10,
      "outputs": [
        {
          "output_type": "stream",
          "text": [
            "root\n",
            " |-- age: integer (nullable = true)\n",
            " |-- job: string (nullable = true)\n",
            " |-- marital: string (nullable = true)\n",
            " |-- education: string (nullable = true)\n",
            " |-- default: string (nullable = true)\n",
            " |-- balance: integer (nullable = true)\n",
            " |-- housing: string (nullable = true)\n",
            " |-- loan: string (nullable = true)\n",
            " |-- contact: string (nullable = true)\n",
            " |-- day: integer (nullable = true)\n",
            " |-- month: string (nullable = true)\n",
            " |-- duration: integer (nullable = true)\n",
            " |-- campaign: integer (nullable = true)\n",
            " |-- pdays: integer (nullable = true)\n",
            " |-- previous: integer (nullable = true)\n",
            " |-- poutcome: string (nullable = true)\n",
            " |-- y: string (nullable = true)\n",
            "\n"
          ],
          "name": "stdout"
        }
      ]
    },
    {
      "cell_type": "code",
      "metadata": {
        "id": "Z_NCp01V8NCR",
        "colab_type": "code",
        "colab": {
          "base_uri": "https://localhost:8080/",
          "height": 118
        },
        "outputId": "639da9f8-6746-4784-afd7-04e643578400"
      },
      "source": [
        "data.select([count(when(isnan(c) | col(c).isNull(), c)).alias(c) for c in data.columns]).show()"
      ],
      "execution_count": 11,
      "outputs": [
        {
          "output_type": "stream",
          "text": [
            "+---+---+-------+---------+-------+-------+-------+----+-------+---+-----+--------+--------+-----+--------+--------+---+\n",
            "|age|job|marital|education|default|balance|housing|loan|contact|day|month|duration|campaign|pdays|previous|poutcome|  y|\n",
            "+---+---+-------+---------+-------+-------+-------+----+-------+---+-----+--------+--------+-----+--------+--------+---+\n",
            "|  0|  0|      0|        0|      0|      0|      0|   0|      0|  0|    0|       0|       0|    0|       0|       0|  0|\n",
            "+---+---+-------+---------+-------+-------+-------+----+-------+---+-----+--------+--------+-----+--------+--------+---+\n",
            "\n"
          ],
          "name": "stdout"
        }
      ]
    },
    {
      "cell_type": "code",
      "metadata": {
        "id": "9x7ekZT_Ee6q",
        "colab_type": "code",
        "colab": {
          "base_uri": "https://localhost:8080/",
          "height": 420
        },
        "outputId": "4b518f32-fedf-44a6-c7cc-f8d9c601ba23"
      },
      "source": [
        "# split Train and Test data\n",
        "label = 'y'\n",
        "\n",
        "data = data.sort(label)\n",
        "(trainData, testData) = data.randomSplit([0.7, 0.3],seed = 101)\n",
        "\n",
        "print (\"data count : \" + str(data.count()))\n",
        "print (\"trainData count : \" + str(trainData.count()))\n",
        "print (\"testData count : \" + str(testData.count()))\n",
        "\n",
        "data.groupBy(label).count().show()\n",
        "trainData.groupBy(label).count().show()\n",
        "testData.groupBy(label).count().show()"
      ],
      "execution_count": 12,
      "outputs": [
        {
          "output_type": "stream",
          "text": [
            "data count : 45211\n",
            "trainData count : 31768\n",
            "testData count : 13443\n",
            "+---+-----+\n",
            "|  y|count|\n",
            "+---+-----+\n",
            "| no|39922|\n",
            "|yes| 5289|\n",
            "+---+-----+\n",
            "\n",
            "+---+-----+\n",
            "|  y|count|\n",
            "+---+-----+\n",
            "| no|28029|\n",
            "|yes| 3739|\n",
            "+---+-----+\n",
            "\n",
            "+---+-----+\n",
            "|  y|count|\n",
            "+---+-----+\n",
            "| no|11893|\n",
            "|yes| 1550|\n",
            "+---+-----+\n",
            "\n"
          ],
          "name": "stdout"
        }
      ]
    },
    {
      "cell_type": "code",
      "metadata": {
        "id": "mrIYVdNGKCze",
        "colab_type": "code",
        "colab": {
          "base_uri": "https://localhost:8080/",
          "height": 54
        },
        "outputId": "b9d24570-95b6-4d17-b83d-48499a2f3247"
      },
      "source": [
        "# String indexer\n",
        "category = ['job','marital','education','default','housing','loan','contact','month','poutcome']\n",
        "continuous = ['age','balance','day','duration','pdays','campaign','previous']\n",
        "featureidx_list = [StringIndexer(inputCol = label, outputCol='label')]\n",
        "featureidx_list += [StringIndexer(inputCol = c, outputCol=c + 'idx') for c in category]\n",
        "\n",
        "print (featureidx_list)"
      ],
      "execution_count": 37,
      "outputs": [
        {
          "output_type": "stream",
          "text": [
            "[StringIndexer_a0acd001857b, StringIndexer_25b08f022fa3, StringIndexer_f6a6d89e1352, StringIndexer_77b1597d6a6b, StringIndexer_4fa7330bfe93, StringIndexer_e37296ee33b6, StringIndexer_973742fd0dc6, StringIndexer_cac63be14727, StringIndexer_c210fc8325b3, StringIndexer_026ac0f651f4]\n"
          ],
          "name": "stdout"
        }
      ]
    },
    {
      "cell_type": "code",
      "metadata": {
        "id": "JVlDOuLINoip",
        "colab_type": "code",
        "colab": {
          "base_uri": "https://localhost:8080/",
          "height": 34
        },
        "outputId": "7d0f5df4-affe-4ece-9565-1fe610c7aeab"
      },
      "source": [
        "# Create Vector\n",
        "features = continuous + [c + 'idx' for c in category]\n",
        "assem =  VectorAssembler(inputCols = features ,outputCol=\"features\")\n",
        "\n",
        "print (type(assem))"
      ],
      "execution_count": 38,
      "outputs": [
        {
          "output_type": "stream",
          "text": [
            "<class 'pyspark.ml.feature.VectorAssembler'>\n"
          ],
          "name": "stdout"
        }
      ]
    },
    {
      "cell_type": "markdown",
      "metadata": {
        "id": "WTPuAWR6oLX7",
        "colab_type": "text"
      },
      "source": [
        "### Create Model"
      ]
    },
    {
      "cell_type": "code",
      "metadata": {
        "id": "Jl8DgyEeQI-m",
        "colab_type": "code",
        "colab": {
          "base_uri": "https://localhost:8080/",
          "height": 34
        },
        "outputId": "936df3b2-2797-41b2-880e-7baf68b73c26"
      },
      "source": [
        "# Create model - Decision Tree\n",
        "dt = DecisionTreeClassifier(labelCol=\"label\", featuresCol=\"features\")\n",
        "\n",
        "print (dt)"
      ],
      "execution_count": 39,
      "outputs": [
        {
          "output_type": "stream",
          "text": [
            "DecisionTreeClassifier_d82be66ed6e4\n"
          ],
          "name": "stdout"
        }
      ]
    },
    {
      "cell_type": "code",
      "metadata": {
        "id": "h-SLY3JLkUd1",
        "colab_type": "code",
        "colab": {
          "base_uri": "https://localhost:8080/",
          "height": 34
        },
        "outputId": "b9db12ce-6f0e-44bc-e95c-2b631e98709a"
      },
      "source": [
        "# Create model - Logistic Regression\n",
        "lr = LogisticRegression(labelCol=\"label\", featuresCol=\"features\")\n",
        "\n",
        "print (lr)"
      ],
      "execution_count": 40,
      "outputs": [
        {
          "output_type": "stream",
          "text": [
            "LogisticRegression_8bfc433dda76\n"
          ],
          "name": "stdout"
        }
      ]
    },
    {
      "cell_type": "code",
      "metadata": {
        "id": "-7Xvy0q6nwjc",
        "colab_type": "code",
        "colab": {
          "base_uri": "https://localhost:8080/",
          "height": 34
        },
        "outputId": "de324de2-857c-4895-fa56-6ea19b2da1b2"
      },
      "source": [
        "# Create model - Random Forest\n",
        "rf = RandomForestClassifier(labelCol=\"label\", featuresCol=\"features\")\n",
        "\n",
        "print(rf)"
      ],
      "execution_count": 41,
      "outputs": [
        {
          "output_type": "stream",
          "text": [
            "RandomForestClassifier_72e54821bfc9\n"
          ],
          "name": "stdout"
        }
      ]
    },
    {
      "cell_type": "markdown",
      "metadata": {
        "id": "B7H-O8J7oNlR",
        "colab_type": "text"
      },
      "source": [
        "### Set ML pipeline"
      ]
    },
    {
      "cell_type": "code",
      "metadata": {
        "id": "nZYHRVh_n6F-",
        "colab_type": "code",
        "colab": {
          "base_uri": "https://localhost:8080/",
          "height": 188
        },
        "outputId": "8f736ac1-49fd-41dc-9d53-c6ce8fbf1a7e"
      },
      "source": [
        "# Set ML pipeline - Decision Tree\n",
        "print (featureidx_list)\n",
        "print (assem)\n",
        "print (dt)\n",
        "print (\"\\n\")\n",
        "\n",
        "all_process_list = featureidx_list + [assem,dt]\n",
        "print (all_process_list)\n",
        "\n",
        "dt_pipeline = Pipeline(stages=all_process_list)\n",
        "print (\"\\n\")\n",
        "print (dt_pipeline)"
      ],
      "execution_count": 42,
      "outputs": [
        {
          "output_type": "stream",
          "text": [
            "[StringIndexer_a0acd001857b, StringIndexer_25b08f022fa3, StringIndexer_f6a6d89e1352, StringIndexer_77b1597d6a6b, StringIndexer_4fa7330bfe93, StringIndexer_e37296ee33b6, StringIndexer_973742fd0dc6, StringIndexer_cac63be14727, StringIndexer_c210fc8325b3, StringIndexer_026ac0f651f4]\n",
            "VectorAssembler_e20a93599b61\n",
            "DecisionTreeClassifier_d82be66ed6e4\n",
            "\n",
            "\n",
            "[StringIndexer_a0acd001857b, StringIndexer_25b08f022fa3, StringIndexer_f6a6d89e1352, StringIndexer_77b1597d6a6b, StringIndexer_4fa7330bfe93, StringIndexer_e37296ee33b6, StringIndexer_973742fd0dc6, StringIndexer_cac63be14727, StringIndexer_c210fc8325b3, StringIndexer_026ac0f651f4, VectorAssembler_e20a93599b61, DecisionTreeClassifier_d82be66ed6e4]\n",
            "\n",
            "\n",
            "Pipeline_0e3890f6eec6\n"
          ],
          "name": "stdout"
        }
      ]
    },
    {
      "cell_type": "code",
      "metadata": {
        "colab_type": "code",
        "id": "KWMWJbqeofCm",
        "colab": {
          "base_uri": "https://localhost:8080/",
          "height": 188
        },
        "outputId": "152580ca-6a84-47b0-f161-6acd392117c2"
      },
      "source": [
        "# Set ML pipeline - Logistic Regression\n",
        "print (featureidx_list)\n",
        "print (assem)\n",
        "print (lr)\n",
        "print (\"\\n\")\n",
        "\n",
        "all_process_list = featureidx_list + [assem,lr]\n",
        "print (all_process_list)\n",
        "\n",
        "lr_pipeline = Pipeline(stages=all_process_list)\n",
        "print (\"\\n\")\n",
        "print (lr_pipeline)"
      ],
      "execution_count": 43,
      "outputs": [
        {
          "output_type": "stream",
          "text": [
            "[StringIndexer_a0acd001857b, StringIndexer_25b08f022fa3, StringIndexer_f6a6d89e1352, StringIndexer_77b1597d6a6b, StringIndexer_4fa7330bfe93, StringIndexer_e37296ee33b6, StringIndexer_973742fd0dc6, StringIndexer_cac63be14727, StringIndexer_c210fc8325b3, StringIndexer_026ac0f651f4]\n",
            "VectorAssembler_e20a93599b61\n",
            "LogisticRegression_8bfc433dda76\n",
            "\n",
            "\n",
            "[StringIndexer_a0acd001857b, StringIndexer_25b08f022fa3, StringIndexer_f6a6d89e1352, StringIndexer_77b1597d6a6b, StringIndexer_4fa7330bfe93, StringIndexer_e37296ee33b6, StringIndexer_973742fd0dc6, StringIndexer_cac63be14727, StringIndexer_c210fc8325b3, StringIndexer_026ac0f651f4, VectorAssembler_e20a93599b61, LogisticRegression_8bfc433dda76]\n",
            "\n",
            "\n",
            "Pipeline_38bc4b410a68\n"
          ],
          "name": "stdout"
        }
      ]
    },
    {
      "cell_type": "code",
      "metadata": {
        "colab_type": "code",
        "id": "BIMcK8sZofP2",
        "colab": {
          "base_uri": "https://localhost:8080/",
          "height": 188
        },
        "outputId": "e69e2328-ccea-4cd0-cea0-e385c54b4652"
      },
      "source": [
        "# Set ML pipeline - Random Forest\n",
        "print (featureidx_list)\n",
        "print (assem)\n",
        "print (rf)\n",
        "print (\"\\n\")\n",
        "\n",
        "all_process_list = featureidx_list + [assem,rf]\n",
        "print (all_process_list)\n",
        "\n",
        "rf_pipeline = Pipeline(stages=all_process_list)\n",
        "print (\"\\n\")\n",
        "print (dt_pipeline)"
      ],
      "execution_count": 44,
      "outputs": [
        {
          "output_type": "stream",
          "text": [
            "[StringIndexer_a0acd001857b, StringIndexer_25b08f022fa3, StringIndexer_f6a6d89e1352, StringIndexer_77b1597d6a6b, StringIndexer_4fa7330bfe93, StringIndexer_e37296ee33b6, StringIndexer_973742fd0dc6, StringIndexer_cac63be14727, StringIndexer_c210fc8325b3, StringIndexer_026ac0f651f4]\n",
            "VectorAssembler_e20a93599b61\n",
            "RandomForestClassifier_72e54821bfc9\n",
            "\n",
            "\n",
            "[StringIndexer_a0acd001857b, StringIndexer_25b08f022fa3, StringIndexer_f6a6d89e1352, StringIndexer_77b1597d6a6b, StringIndexer_4fa7330bfe93, StringIndexer_e37296ee33b6, StringIndexer_973742fd0dc6, StringIndexer_cac63be14727, StringIndexer_c210fc8325b3, StringIndexer_026ac0f651f4, VectorAssembler_e20a93599b61, RandomForestClassifier_72e54821bfc9]\n",
            "\n",
            "\n",
            "Pipeline_0e3890f6eec6\n"
          ],
          "name": "stdout"
        }
      ]
    },
    {
      "cell_type": "markdown",
      "metadata": {
        "id": "gQftRm8Dq3n7",
        "colab_type": "text"
      },
      "source": [
        "### Param Grid"
      ]
    },
    {
      "cell_type": "code",
      "metadata": {
        "id": "29A5KAE9qyJ_",
        "colab_type": "code",
        "colab": {}
      },
      "source": [
        "# Param Grid - Decision Tree\n",
        "dt_paramGrid = (ParamGridBuilder()\n",
        "    .addGrid(dt.maxDepth, [5,10,30])\n",
        "     .addGrid(dt.minInstancesPerNode, [1,10])\n",
        "     .addGrid(dt.impurity, [\"gini\",\"entropy\"])        \n",
        "    .build())"
      ],
      "execution_count": 0,
      "outputs": []
    },
    {
      "cell_type": "code",
      "metadata": {
        "id": "wXRa-v07rDnZ",
        "colab_type": "code",
        "colab": {}
      },
      "source": [
        "# Param Grid - Logistic Regression\n",
        "lr_paramGrid = (ParamGridBuilder()\n",
        "    .addGrid(lr.family, ['multinomial' ,'binomial' ])\n",
        "    .addGrid(lr.maxIter, [5,10,50])\n",
        "    .addGrid(lr.regParam, [0.1,0.5,0.8])       \n",
        "    .build())"
      ],
      "execution_count": 0,
      "outputs": []
    },
    {
      "cell_type": "code",
      "metadata": {
        "id": "HPk-wJX7rNwG",
        "colab_type": "code",
        "colab": {}
      },
      "source": [
        "# Param Grid - Random Forest\n",
        "rf_paramGrid = (ParamGridBuilder()\n",
        "    .addGrid(rf.numTrees, [5,10,50])\n",
        "     .addGrid(rf.maxDepth, [5,10])\n",
        "     .addGrid(rf.impurity , [\"gini\",\"entropy\"])        \n",
        "    .build())"
      ],
      "execution_count": 0,
      "outputs": []
    },
    {
      "cell_type": "markdown",
      "metadata": {
        "id": "maN2E276w-yv",
        "colab_type": "text"
      },
      "source": [
        "### Cross Validator"
      ]
    },
    {
      "cell_type": "code",
      "metadata": {
        "id": "EYWNTzjVwS5d",
        "colab_type": "code",
        "colab": {}
      },
      "source": [
        "# Cross Validator - Decision Tree\n",
        "crossval = CrossValidator(estimator=dt_pipeline,\n",
        "                      estimatorParamMaps=dt_paramGrid,\n",
        "                      evaluator=MulticlassClassificationEvaluator(labelCol=\"label\", predictionCol=\"prediction\", metricName=\"f1\"),\n",
        "                      numFolds=3)\n",
        "dt_cvModel = crossval.fit(trainData)\n",
        "dt_model = dt_cvModel.bestModel"
      ],
      "execution_count": 0,
      "outputs": []
    },
    {
      "cell_type": "code",
      "metadata": {
        "id": "6mQxsvqp0VgM",
        "colab_type": "code",
        "colab": {
          "base_uri": "https://localhost:8080/",
          "height": 50
        },
        "outputId": "8abb8d64-aae1-4ac6-85a1-acb9a2044ca7"
      },
      "source": [
        "print (dt_model)\n",
        "print(max(dt_cvModel.avgMetrics))"
      ],
      "execution_count": 60,
      "outputs": [
        {
          "output_type": "stream",
          "text": [
            "PipelineModel_ff7869a7001c\n",
            "0.8879057472963947\n"
          ],
          "name": "stdout"
        }
      ]
    },
    {
      "cell_type": "code",
      "metadata": {
        "id": "0NLiWUXFxd1D",
        "colab_type": "code",
        "colab": {}
      },
      "source": [
        "# Cross Validator - Logistic Regression\n",
        "crossval = CrossValidator(estimator=lr_pipeline,\n",
        "                      estimatorParamMaps=lr_paramGrid,\n",
        "                      evaluator=MulticlassClassificationEvaluator(labelCol=\"label\", predictionCol=\"prediction\", metricName=\"f1\"),\n",
        "                      numFolds=3)\n",
        "lr_cvModel = crossval.fit(trainData)\n",
        "lr_model = lr_cvModel.bestModel"
      ],
      "execution_count": 0,
      "outputs": []
    },
    {
      "cell_type": "code",
      "metadata": {
        "id": "xAzLzGdC0b9V",
        "colab_type": "code",
        "colab": {
          "base_uri": "https://localhost:8080/",
          "height": 50
        },
        "outputId": "0a2fe135-4f6e-45eb-d052-9a5ed2dabaf8"
      },
      "source": [
        "print (lr_model)\n",
        "print(max(lr_cvModel.avgMetrics))"
      ],
      "execution_count": 58,
      "outputs": [
        {
          "output_type": "stream",
          "text": [
            "PipelineModel_0c0acc50597c\n",
            "0.8620602392909142\n"
          ],
          "name": "stdout"
        }
      ]
    },
    {
      "cell_type": "code",
      "metadata": {
        "id": "9vNN8-hSxjsg",
        "colab_type": "code",
        "colab": {}
      },
      "source": [
        "# Cross Validator - Random Forest\n",
        "crossval = CrossValidator(estimator=rf_pipeline,\n",
        "                      estimatorParamMaps=rf_paramGrid,\n",
        "                      evaluator=MulticlassClassificationEvaluator(labelCol=\"label\", predictionCol=\"prediction\", metricName=\"f1\"),\n",
        "                      numFolds=3)\n",
        "rf_cvModel = crossval.fit(trainData)\n",
        "rf_model = rf_cvModel.bestModel"
      ],
      "execution_count": 0,
      "outputs": []
    },
    {
      "cell_type": "code",
      "metadata": {
        "id": "738fdW0dxoq7",
        "colab_type": "code",
        "colab": {
          "base_uri": "https://localhost:8080/",
          "height": 50
        },
        "outputId": "50f6c510-e6fe-4f2b-9bb0-c3c29d5700b7"
      },
      "source": [
        "print (rf_model)\n",
        "print(max(rf_cvModel.avgMetrics))"
      ],
      "execution_count": 64,
      "outputs": [
        {
          "output_type": "stream",
          "text": [
            "PipelineModel_26b02b9d4445\n",
            "0.8869278328034349\n"
          ],
          "name": "stdout"
        }
      ]
    },
    {
      "cell_type": "markdown",
      "metadata": {
        "id": "VYEXUE-g_N9Y",
        "colab_type": "text"
      },
      "source": [
        "### Choose best model and make prediction"
      ]
    },
    {
      "cell_type": "code",
      "metadata": {
        "id": "JfRAnhYy0k2H",
        "colab_type": "code",
        "colab": {
          "base_uri": "https://localhost:8080/",
          "height": 34
        },
        "outputId": "d4ef8e81-a4d6-44f4-a321-dff4fb89a47b"
      },
      "source": [
        "model = dt_model\n",
        "\n",
        "if max(lr_cvModel.avgMetrics) > max(rf_cvModel.avgMetrics) and max(lr_cvModel.avgMetrics) > max(dt_cvModel.avgMetrics):\n",
        "  model = lr_model\n",
        "  print('best model = Logistic Regression')\n",
        "elif max(rf_cvModel.avgMetrics) > max(lr_cvModel.avgMetrics) and max(rf_cvModel.avgMetrics) > max(dt_cvModel.avgMetrics):\n",
        "  model = rf_model\n",
        "  print('best model = Random Forest')\n",
        "else:\n",
        "  model = dt_model\n",
        "  print('best model = Decision Tree')"
      ],
      "execution_count": 65,
      "outputs": [
        {
          "output_type": "stream",
          "text": [
            "best model = Decision Tree\n"
          ],
          "name": "stdout"
        }
      ]
    },
    {
      "cell_type": "code",
      "metadata": {
        "id": "sg6z7i_5-4yB",
        "colab_type": "code",
        "colab": {}
      },
      "source": [
        "prediction = model.transform(testData)"
      ],
      "execution_count": 0,
      "outputs": []
    },
    {
      "cell_type": "code",
      "metadata": {
        "id": "YnnkMuex_WDF",
        "colab_type": "code",
        "colab": {
          "base_uri": "https://localhost:8080/",
          "height": 1000
        },
        "outputId": "c7d9a9af-5816-4f99-ae21-00dabe94cdb5"
      },
      "source": [
        "prediction.toPandas()"
      ],
      "execution_count": 67,
      "outputs": [
        {
          "output_type": "execute_result",
          "data": {
            "text/html": [
              "<div>\n",
              "<style scoped>\n",
              "    .dataframe tbody tr th:only-of-type {\n",
              "        vertical-align: middle;\n",
              "    }\n",
              "\n",
              "    .dataframe tbody tr th {\n",
              "        vertical-align: top;\n",
              "    }\n",
              "\n",
              "    .dataframe thead th {\n",
              "        text-align: right;\n",
              "    }\n",
              "</style>\n",
              "<table border=\"1\" class=\"dataframe\">\n",
              "  <thead>\n",
              "    <tr style=\"text-align: right;\">\n",
              "      <th></th>\n",
              "      <th>age</th>\n",
              "      <th>job</th>\n",
              "      <th>marital</th>\n",
              "      <th>education</th>\n",
              "      <th>default</th>\n",
              "      <th>balance</th>\n",
              "      <th>housing</th>\n",
              "      <th>loan</th>\n",
              "      <th>contact</th>\n",
              "      <th>day</th>\n",
              "      <th>month</th>\n",
              "      <th>duration</th>\n",
              "      <th>campaign</th>\n",
              "      <th>pdays</th>\n",
              "      <th>previous</th>\n",
              "      <th>poutcome</th>\n",
              "      <th>y</th>\n",
              "      <th>label</th>\n",
              "      <th>jobidx</th>\n",
              "      <th>maritalidx</th>\n",
              "      <th>educationidx</th>\n",
              "      <th>defaultidx</th>\n",
              "      <th>housingidx</th>\n",
              "      <th>loanidx</th>\n",
              "      <th>contactidx</th>\n",
              "      <th>monthidx</th>\n",
              "      <th>poutcomeidx</th>\n",
              "      <th>features</th>\n",
              "      <th>rawPrediction</th>\n",
              "      <th>probability</th>\n",
              "      <th>prediction</th>\n",
              "    </tr>\n",
              "  </thead>\n",
              "  <tbody>\n",
              "    <tr>\n",
              "      <th>0</th>\n",
              "      <td>18</td>\n",
              "      <td>student</td>\n",
              "      <td>single</td>\n",
              "      <td>unknown</td>\n",
              "      <td>no</td>\n",
              "      <td>35</td>\n",
              "      <td>no</td>\n",
              "      <td>no</td>\n",
              "      <td>telephone</td>\n",
              "      <td>21</td>\n",
              "      <td>aug</td>\n",
              "      <td>104</td>\n",
              "      <td>2</td>\n",
              "      <td>-1</td>\n",
              "      <td>0</td>\n",
              "      <td>unknown</td>\n",
              "      <td>no</td>\n",
              "      <td>0.0</td>\n",
              "      <td>10.0</td>\n",
              "      <td>1.0</td>\n",
              "      <td>3.0</td>\n",
              "      <td>0.0</td>\n",
              "      <td>1.0</td>\n",
              "      <td>0.0</td>\n",
              "      <td>2.0</td>\n",
              "      <td>2.0</td>\n",
              "      <td>0.0</td>\n",
              "      <td>[18.0, 35.0, 21.0, 104.0, -1.0, 2.0, 0.0, 10.0...</td>\n",
              "      <td>[0.0, 2.0]</td>\n",
              "      <td>[0.0, 1.0]</td>\n",
              "      <td>1.0</td>\n",
              "    </tr>\n",
              "    <tr>\n",
              "      <th>1</th>\n",
              "      <td>18</td>\n",
              "      <td>student</td>\n",
              "      <td>single</td>\n",
              "      <td>unknown</td>\n",
              "      <td>no</td>\n",
              "      <td>108</td>\n",
              "      <td>no</td>\n",
              "      <td>no</td>\n",
              "      <td>cellular</td>\n",
              "      <td>9</td>\n",
              "      <td>feb</td>\n",
              "      <td>92</td>\n",
              "      <td>1</td>\n",
              "      <td>183</td>\n",
              "      <td>1</td>\n",
              "      <td>success</td>\n",
              "      <td>yes</td>\n",
              "      <td>1.0</td>\n",
              "      <td>10.0</td>\n",
              "      <td>1.0</td>\n",
              "      <td>3.0</td>\n",
              "      <td>0.0</td>\n",
              "      <td>1.0</td>\n",
              "      <td>0.0</td>\n",
              "      <td>0.0</td>\n",
              "      <td>6.0</td>\n",
              "      <td>3.0</td>\n",
              "      <td>[18.0, 108.0, 9.0, 92.0, 183.0, 1.0, 1.0, 10.0...</td>\n",
              "      <td>[69.0, 0.0]</td>\n",
              "      <td>[1.0, 0.0]</td>\n",
              "      <td>0.0</td>\n",
              "    </tr>\n",
              "    <tr>\n",
              "      <th>2</th>\n",
              "      <td>18</td>\n",
              "      <td>student</td>\n",
              "      <td>single</td>\n",
              "      <td>unknown</td>\n",
              "      <td>no</td>\n",
              "      <td>108</td>\n",
              "      <td>no</td>\n",
              "      <td>no</td>\n",
              "      <td>cellular</td>\n",
              "      <td>10</td>\n",
              "      <td>aug</td>\n",
              "      <td>167</td>\n",
              "      <td>1</td>\n",
              "      <td>-1</td>\n",
              "      <td>0</td>\n",
              "      <td>unknown</td>\n",
              "      <td>yes</td>\n",
              "      <td>1.0</td>\n",
              "      <td>10.0</td>\n",
              "      <td>1.0</td>\n",
              "      <td>3.0</td>\n",
              "      <td>0.0</td>\n",
              "      <td>1.0</td>\n",
              "      <td>0.0</td>\n",
              "      <td>0.0</td>\n",
              "      <td>2.0</td>\n",
              "      <td>0.0</td>\n",
              "      <td>[18.0, 108.0, 10.0, 167.0, -1.0, 1.0, 0.0, 10....</td>\n",
              "      <td>[12.0, 27.0]</td>\n",
              "      <td>[0.3076923076923077, 0.6923076923076923]</td>\n",
              "      <td>1.0</td>\n",
              "    </tr>\n",
              "    <tr>\n",
              "      <th>3</th>\n",
              "      <td>19</td>\n",
              "      <td>student</td>\n",
              "      <td>single</td>\n",
              "      <td>primary</td>\n",
              "      <td>no</td>\n",
              "      <td>103</td>\n",
              "      <td>no</td>\n",
              "      <td>no</td>\n",
              "      <td>cellular</td>\n",
              "      <td>10</td>\n",
              "      <td>jul</td>\n",
              "      <td>104</td>\n",
              "      <td>2</td>\n",
              "      <td>-1</td>\n",
              "      <td>0</td>\n",
              "      <td>unknown</td>\n",
              "      <td>yes</td>\n",
              "      <td>1.0</td>\n",
              "      <td>10.0</td>\n",
              "      <td>1.0</td>\n",
              "      <td>2.0</td>\n",
              "      <td>0.0</td>\n",
              "      <td>1.0</td>\n",
              "      <td>0.0</td>\n",
              "      <td>0.0</td>\n",
              "      <td>1.0</td>\n",
              "      <td>0.0</td>\n",
              "      <td>[19.0, 103.0, 10.0, 104.0, -1.0, 2.0, 0.0, 10....</td>\n",
              "      <td>[74.0, 0.0]</td>\n",
              "      <td>[1.0, 0.0]</td>\n",
              "      <td>0.0</td>\n",
              "    </tr>\n",
              "    <tr>\n",
              "      <th>4</th>\n",
              "      <td>19</td>\n",
              "      <td>student</td>\n",
              "      <td>single</td>\n",
              "      <td>primary</td>\n",
              "      <td>no</td>\n",
              "      <td>1247</td>\n",
              "      <td>no</td>\n",
              "      <td>no</td>\n",
              "      <td>cellular</td>\n",
              "      <td>23</td>\n",
              "      <td>apr</td>\n",
              "      <td>94</td>\n",
              "      <td>1</td>\n",
              "      <td>-1</td>\n",
              "      <td>0</td>\n",
              "      <td>unknown</td>\n",
              "      <td>no</td>\n",
              "      <td>0.0</td>\n",
              "      <td>10.0</td>\n",
              "      <td>1.0</td>\n",
              "      <td>2.0</td>\n",
              "      <td>0.0</td>\n",
              "      <td>1.0</td>\n",
              "      <td>0.0</td>\n",
              "      <td>0.0</td>\n",
              "      <td>5.0</td>\n",
              "      <td>0.0</td>\n",
              "      <td>[19.0, 1247.0, 23.0, 94.0, -1.0, 1.0, 0.0, 10....</td>\n",
              "      <td>[112.0, 22.0]</td>\n",
              "      <td>[0.835820895522388, 0.16417910447761194]</td>\n",
              "      <td>0.0</td>\n",
              "    </tr>\n",
              "    <tr>\n",
              "      <th>...</th>\n",
              "      <td>...</td>\n",
              "      <td>...</td>\n",
              "      <td>...</td>\n",
              "      <td>...</td>\n",
              "      <td>...</td>\n",
              "      <td>...</td>\n",
              "      <td>...</td>\n",
              "      <td>...</td>\n",
              "      <td>...</td>\n",
              "      <td>...</td>\n",
              "      <td>...</td>\n",
              "      <td>...</td>\n",
              "      <td>...</td>\n",
              "      <td>...</td>\n",
              "      <td>...</td>\n",
              "      <td>...</td>\n",
              "      <td>...</td>\n",
              "      <td>...</td>\n",
              "      <td>...</td>\n",
              "      <td>...</td>\n",
              "      <td>...</td>\n",
              "      <td>...</td>\n",
              "      <td>...</td>\n",
              "      <td>...</td>\n",
              "      <td>...</td>\n",
              "      <td>...</td>\n",
              "      <td>...</td>\n",
              "      <td>...</td>\n",
              "      <td>...</td>\n",
              "      <td>...</td>\n",
              "      <td>...</td>\n",
              "    </tr>\n",
              "    <tr>\n",
              "      <th>13438</th>\n",
              "      <td>84</td>\n",
              "      <td>retired</td>\n",
              "      <td>divorced</td>\n",
              "      <td>primary</td>\n",
              "      <td>no</td>\n",
              "      <td>639</td>\n",
              "      <td>no</td>\n",
              "      <td>no</td>\n",
              "      <td>telephone</td>\n",
              "      <td>18</td>\n",
              "      <td>may</td>\n",
              "      <td>353</td>\n",
              "      <td>3</td>\n",
              "      <td>-1</td>\n",
              "      <td>0</td>\n",
              "      <td>unknown</td>\n",
              "      <td>yes</td>\n",
              "      <td>1.0</td>\n",
              "      <td>5.0</td>\n",
              "      <td>2.0</td>\n",
              "      <td>2.0</td>\n",
              "      <td>0.0</td>\n",
              "      <td>1.0</td>\n",
              "      <td>0.0</td>\n",
              "      <td>2.0</td>\n",
              "      <td>0.0</td>\n",
              "      <td>0.0</td>\n",
              "      <td>[84.0, 639.0, 18.0, 353.0, -1.0, 3.0, 0.0, 5.0...</td>\n",
              "      <td>[39.0, 55.0]</td>\n",
              "      <td>[0.4148936170212766, 0.5851063829787234]</td>\n",
              "      <td>1.0</td>\n",
              "    </tr>\n",
              "    <tr>\n",
              "      <th>13439</th>\n",
              "      <td>86</td>\n",
              "      <td>retired</td>\n",
              "      <td>married</td>\n",
              "      <td>primary</td>\n",
              "      <td>no</td>\n",
              "      <td>1255</td>\n",
              "      <td>no</td>\n",
              "      <td>no</td>\n",
              "      <td>cellular</td>\n",
              "      <td>14</td>\n",
              "      <td>oct</td>\n",
              "      <td>192</td>\n",
              "      <td>2</td>\n",
              "      <td>92</td>\n",
              "      <td>4</td>\n",
              "      <td>success</td>\n",
              "      <td>no</td>\n",
              "      <td>0.0</td>\n",
              "      <td>5.0</td>\n",
              "      <td>0.0</td>\n",
              "      <td>2.0</td>\n",
              "      <td>0.0</td>\n",
              "      <td>1.0</td>\n",
              "      <td>0.0</td>\n",
              "      <td>0.0</td>\n",
              "      <td>8.0</td>\n",
              "      <td>3.0</td>\n",
              "      <td>[86.0, 1255.0, 14.0, 192.0, 92.0, 2.0, 4.0, 5....</td>\n",
              "      <td>[57.0, 234.0]</td>\n",
              "      <td>[0.1958762886597938, 0.8041237113402062]</td>\n",
              "      <td>1.0</td>\n",
              "    </tr>\n",
              "    <tr>\n",
              "      <th>13440</th>\n",
              "      <td>86</td>\n",
              "      <td>retired</td>\n",
              "      <td>married</td>\n",
              "      <td>primary</td>\n",
              "      <td>no</td>\n",
              "      <td>5236</td>\n",
              "      <td>no</td>\n",
              "      <td>no</td>\n",
              "      <td>telephone</td>\n",
              "      <td>1</td>\n",
              "      <td>apr</td>\n",
              "      <td>558</td>\n",
              "      <td>2</td>\n",
              "      <td>-1</td>\n",
              "      <td>0</td>\n",
              "      <td>unknown</td>\n",
              "      <td>yes</td>\n",
              "      <td>1.0</td>\n",
              "      <td>5.0</td>\n",
              "      <td>0.0</td>\n",
              "      <td>2.0</td>\n",
              "      <td>0.0</td>\n",
              "      <td>1.0</td>\n",
              "      <td>0.0</td>\n",
              "      <td>2.0</td>\n",
              "      <td>5.0</td>\n",
              "      <td>0.0</td>\n",
              "      <td>[86.0, 5236.0, 1.0, 558.0, -1.0, 2.0, 0.0, 5.0...</td>\n",
              "      <td>[6.0, 1.0]</td>\n",
              "      <td>[0.8571428571428571, 0.14285714285714285]</td>\n",
              "      <td>0.0</td>\n",
              "    </tr>\n",
              "    <tr>\n",
              "      <th>13441</th>\n",
              "      <td>89</td>\n",
              "      <td>retired</td>\n",
              "      <td>married</td>\n",
              "      <td>primary</td>\n",
              "      <td>no</td>\n",
              "      <td>0</td>\n",
              "      <td>no</td>\n",
              "      <td>no</td>\n",
              "      <td>telephone</td>\n",
              "      <td>27</td>\n",
              "      <td>sep</td>\n",
              "      <td>157</td>\n",
              "      <td>5</td>\n",
              "      <td>-1</td>\n",
              "      <td>0</td>\n",
              "      <td>unknown</td>\n",
              "      <td>no</td>\n",
              "      <td>0.0</td>\n",
              "      <td>5.0</td>\n",
              "      <td>0.0</td>\n",
              "      <td>2.0</td>\n",
              "      <td>0.0</td>\n",
              "      <td>1.0</td>\n",
              "      <td>0.0</td>\n",
              "      <td>2.0</td>\n",
              "      <td>9.0</td>\n",
              "      <td>0.0</td>\n",
              "      <td>[89.0, 0.0, 27.0, 157.0, -1.0, 5.0, 0.0, 5.0, ...</td>\n",
              "      <td>[48.0, 6.0]</td>\n",
              "      <td>[0.8888888888888888, 0.1111111111111111]</td>\n",
              "      <td>0.0</td>\n",
              "    </tr>\n",
              "    <tr>\n",
              "      <th>13442</th>\n",
              "      <td>90</td>\n",
              "      <td>retired</td>\n",
              "      <td>divorced</td>\n",
              "      <td>primary</td>\n",
              "      <td>no</td>\n",
              "      <td>712</td>\n",
              "      <td>no</td>\n",
              "      <td>no</td>\n",
              "      <td>telephone</td>\n",
              "      <td>3</td>\n",
              "      <td>mar</td>\n",
              "      <td>557</td>\n",
              "      <td>1</td>\n",
              "      <td>-1</td>\n",
              "      <td>0</td>\n",
              "      <td>unknown</td>\n",
              "      <td>yes</td>\n",
              "      <td>1.0</td>\n",
              "      <td>5.0</td>\n",
              "      <td>2.0</td>\n",
              "      <td>2.0</td>\n",
              "      <td>0.0</td>\n",
              "      <td>1.0</td>\n",
              "      <td>0.0</td>\n",
              "      <td>2.0</td>\n",
              "      <td>10.0</td>\n",
              "      <td>0.0</td>\n",
              "      <td>[90.0, 712.0, 3.0, 557.0, -1.0, 1.0, 0.0, 5.0,...</td>\n",
              "      <td>[6.0, 1.0]</td>\n",
              "      <td>[0.8571428571428571, 0.14285714285714285]</td>\n",
              "      <td>0.0</td>\n",
              "    </tr>\n",
              "  </tbody>\n",
              "</table>\n",
              "<p>13443 rows × 31 columns</p>\n",
              "</div>"
            ],
            "text/plain": [
              "       age      job  ...                                probability prediction\n",
              "0       18  student  ...                                 [0.0, 1.0]        1.0\n",
              "1       18  student  ...                                 [1.0, 0.0]        0.0\n",
              "2       18  student  ...   [0.3076923076923077, 0.6923076923076923]        1.0\n",
              "3       19  student  ...                                 [1.0, 0.0]        0.0\n",
              "4       19  student  ...   [0.835820895522388, 0.16417910447761194]        0.0\n",
              "...    ...      ...  ...                                        ...        ...\n",
              "13438   84  retired  ...   [0.4148936170212766, 0.5851063829787234]        1.0\n",
              "13439   86  retired  ...   [0.1958762886597938, 0.8041237113402062]        1.0\n",
              "13440   86  retired  ...  [0.8571428571428571, 0.14285714285714285]        0.0\n",
              "13441   89  retired  ...   [0.8888888888888888, 0.1111111111111111]        0.0\n",
              "13442   90  retired  ...  [0.8571428571428571, 0.14285714285714285]        0.0\n",
              "\n",
              "[13443 rows x 31 columns]"
            ]
          },
          "metadata": {
            "tags": []
          },
          "execution_count": 67
        }
      ]
    },
    {
      "cell_type": "code",
      "metadata": {
        "id": "L2asbjoD_aMB",
        "colab_type": "code",
        "colab": {
          "base_uri": "https://localhost:8080/",
          "height": 402
        },
        "outputId": "1aeba8f8-7636-4483-8707-2f515256e601"
      },
      "source": [
        "prediction.select(\"prediction\", \"rawPrediction\", \"probability\", \"label\", \"features\").toPandas()"
      ],
      "execution_count": 68,
      "outputs": [
        {
          "output_type": "execute_result",
          "data": {
            "text/html": [
              "<div>\n",
              "<style scoped>\n",
              "    .dataframe tbody tr th:only-of-type {\n",
              "        vertical-align: middle;\n",
              "    }\n",
              "\n",
              "    .dataframe tbody tr th {\n",
              "        vertical-align: top;\n",
              "    }\n",
              "\n",
              "    .dataframe thead th {\n",
              "        text-align: right;\n",
              "    }\n",
              "</style>\n",
              "<table border=\"1\" class=\"dataframe\">\n",
              "  <thead>\n",
              "    <tr style=\"text-align: right;\">\n",
              "      <th></th>\n",
              "      <th>prediction</th>\n",
              "      <th>rawPrediction</th>\n",
              "      <th>probability</th>\n",
              "      <th>label</th>\n",
              "      <th>features</th>\n",
              "    </tr>\n",
              "  </thead>\n",
              "  <tbody>\n",
              "    <tr>\n",
              "      <th>0</th>\n",
              "      <td>1.0</td>\n",
              "      <td>[0.0, 2.0]</td>\n",
              "      <td>[0.0, 1.0]</td>\n",
              "      <td>0.0</td>\n",
              "      <td>[18.0, 35.0, 21.0, 104.0, -1.0, 2.0, 0.0, 10.0...</td>\n",
              "    </tr>\n",
              "    <tr>\n",
              "      <th>1</th>\n",
              "      <td>0.0</td>\n",
              "      <td>[69.0, 0.0]</td>\n",
              "      <td>[1.0, 0.0]</td>\n",
              "      <td>1.0</td>\n",
              "      <td>[18.0, 108.0, 9.0, 92.0, 183.0, 1.0, 1.0, 10.0...</td>\n",
              "    </tr>\n",
              "    <tr>\n",
              "      <th>2</th>\n",
              "      <td>1.0</td>\n",
              "      <td>[12.0, 27.0]</td>\n",
              "      <td>[0.3076923076923077, 0.6923076923076923]</td>\n",
              "      <td>1.0</td>\n",
              "      <td>[18.0, 108.0, 10.0, 167.0, -1.0, 1.0, 0.0, 10....</td>\n",
              "    </tr>\n",
              "    <tr>\n",
              "      <th>3</th>\n",
              "      <td>0.0</td>\n",
              "      <td>[74.0, 0.0]</td>\n",
              "      <td>[1.0, 0.0]</td>\n",
              "      <td>1.0</td>\n",
              "      <td>[19.0, 103.0, 10.0, 104.0, -1.0, 2.0, 0.0, 10....</td>\n",
              "    </tr>\n",
              "    <tr>\n",
              "      <th>4</th>\n",
              "      <td>0.0</td>\n",
              "      <td>[112.0, 22.0]</td>\n",
              "      <td>[0.835820895522388, 0.16417910447761194]</td>\n",
              "      <td>0.0</td>\n",
              "      <td>[19.0, 1247.0, 23.0, 94.0, -1.0, 1.0, 0.0, 10....</td>\n",
              "    </tr>\n",
              "    <tr>\n",
              "      <th>...</th>\n",
              "      <td>...</td>\n",
              "      <td>...</td>\n",
              "      <td>...</td>\n",
              "      <td>...</td>\n",
              "      <td>...</td>\n",
              "    </tr>\n",
              "    <tr>\n",
              "      <th>13438</th>\n",
              "      <td>1.0</td>\n",
              "      <td>[39.0, 55.0]</td>\n",
              "      <td>[0.4148936170212766, 0.5851063829787234]</td>\n",
              "      <td>1.0</td>\n",
              "      <td>[84.0, 639.0, 18.0, 353.0, -1.0, 3.0, 0.0, 5.0...</td>\n",
              "    </tr>\n",
              "    <tr>\n",
              "      <th>13439</th>\n",
              "      <td>1.0</td>\n",
              "      <td>[57.0, 234.0]</td>\n",
              "      <td>[0.1958762886597938, 0.8041237113402062]</td>\n",
              "      <td>0.0</td>\n",
              "      <td>[86.0, 1255.0, 14.0, 192.0, 92.0, 2.0, 4.0, 5....</td>\n",
              "    </tr>\n",
              "    <tr>\n",
              "      <th>13440</th>\n",
              "      <td>0.0</td>\n",
              "      <td>[6.0, 1.0]</td>\n",
              "      <td>[0.8571428571428571, 0.14285714285714285]</td>\n",
              "      <td>1.0</td>\n",
              "      <td>[86.0, 5236.0, 1.0, 558.0, -1.0, 2.0, 0.0, 5.0...</td>\n",
              "    </tr>\n",
              "    <tr>\n",
              "      <th>13441</th>\n",
              "      <td>0.0</td>\n",
              "      <td>[48.0, 6.0]</td>\n",
              "      <td>[0.8888888888888888, 0.1111111111111111]</td>\n",
              "      <td>0.0</td>\n",
              "      <td>[89.0, 0.0, 27.0, 157.0, -1.0, 5.0, 0.0, 5.0, ...</td>\n",
              "    </tr>\n",
              "    <tr>\n",
              "      <th>13442</th>\n",
              "      <td>0.0</td>\n",
              "      <td>[6.0, 1.0]</td>\n",
              "      <td>[0.8571428571428571, 0.14285714285714285]</td>\n",
              "      <td>1.0</td>\n",
              "      <td>[90.0, 712.0, 3.0, 557.0, -1.0, 1.0, 0.0, 5.0,...</td>\n",
              "    </tr>\n",
              "  </tbody>\n",
              "</table>\n",
              "<p>13443 rows × 5 columns</p>\n",
              "</div>"
            ],
            "text/plain": [
              "       prediction  ...                                           features\n",
              "0             1.0  ...  [18.0, 35.0, 21.0, 104.0, -1.0, 2.0, 0.0, 10.0...\n",
              "1             0.0  ...  [18.0, 108.0, 9.0, 92.0, 183.0, 1.0, 1.0, 10.0...\n",
              "2             1.0  ...  [18.0, 108.0, 10.0, 167.0, -1.0, 1.0, 0.0, 10....\n",
              "3             0.0  ...  [19.0, 103.0, 10.0, 104.0, -1.0, 2.0, 0.0, 10....\n",
              "4             0.0  ...  [19.0, 1247.0, 23.0, 94.0, -1.0, 1.0, 0.0, 10....\n",
              "...           ...  ...                                                ...\n",
              "13438         1.0  ...  [84.0, 639.0, 18.0, 353.0, -1.0, 3.0, 0.0, 5.0...\n",
              "13439         1.0  ...  [86.0, 1255.0, 14.0, 192.0, 92.0, 2.0, 4.0, 5....\n",
              "13440         0.0  ...  [86.0, 5236.0, 1.0, 558.0, -1.0, 2.0, 0.0, 5.0...\n",
              "13441         0.0  ...  [89.0, 0.0, 27.0, 157.0, -1.0, 5.0, 0.0, 5.0, ...\n",
              "13442         0.0  ...  [90.0, 712.0, 3.0, 557.0, -1.0, 1.0, 0.0, 5.0,...\n",
              "\n",
              "[13443 rows x 5 columns]"
            ]
          },
          "metadata": {
            "tags": []
          },
          "execution_count": 68
        }
      ]
    },
    {
      "cell_type": "markdown",
      "metadata": {
        "id": "AgJgVSGaAD2f",
        "colab_type": "text"
      },
      "source": [
        "### Evaluate model"
      ]
    },
    {
      "cell_type": "code",
      "metadata": {
        "id": "6ZA-oij3__2K",
        "colab_type": "code",
        "colab": {
          "base_uri": "https://localhost:8080/",
          "height": 67
        },
        "outputId": "4e29e131-677d-4832-9179-78401813b8b1"
      },
      "source": [
        "for metricName in ['f1','weightedPrecision','weightedRecall']:\n",
        "    evaluator = MulticlassClassificationEvaluator(labelCol=\"label\", predictionCol=\"prediction\", metricName=metricName)\n",
        "    result = evaluator.evaluate(prediction)\n",
        "    print ('%s = %g' % (metricName,result))"
      ],
      "execution_count": 72,
      "outputs": [
        {
          "output_type": "stream",
          "text": [
            "f1 = 0.888259\n",
            "weightedPrecision = 0.884237\n",
            "weightedRecall = 0.895633\n"
          ],
          "name": "stdout"
        }
      ]
    },
    {
      "cell_type": "code",
      "metadata": {
        "id": "MPO8PR26BrdZ",
        "colab_type": "code",
        "colab": {}
      },
      "source": [
        ""
      ],
      "execution_count": 0,
      "outputs": []
    }
  ]
}
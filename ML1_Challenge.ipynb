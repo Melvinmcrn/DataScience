{
  "nbformat": 4,
  "nbformat_minor": 0,
  "metadata": {
    "colab": {
      "name": "Untitled3.ipynb",
      "provenance": [],
      "authorship_tag": "ABX9TyPbs6bR9hREqQ6kZcdrzKos",
      "include_colab_link": true
    },
    "kernelspec": {
      "name": "python3",
      "display_name": "Python 3"
    }
  },
  "cells": [
    {
      "cell_type": "markdown",
      "metadata": {
        "id": "view-in-github",
        "colab_type": "text"
      },
      "source": [
        "<a href=\"https://colab.research.google.com/github/Melvinmcrn/DataScience/blob/master/ML1_Challenge.ipynb\" target=\"_parent\"><img src=\"https://colab.research.google.com/assets/colab-badge.svg\" alt=\"Open In Colab\"/></a>"
      ]
    },
    {
      "cell_type": "code",
      "metadata": {
        "id": "zNbZ-fHxjdw3",
        "colab_type": "code",
        "colab": {}
      },
      "source": [
        "import pandas as pd\n",
        "import numpy as np\n",
        "from sklearn.model_selection import train_test_split\n",
        "from sklearn.ensemble import RandomForestClassifier\n",
        "from sklearn.model_selection import GridSearchCV, RandomizedSearchCV\n",
        "from sklearn.neural_network import MLPClassifier"
      ],
      "execution_count": 0,
      "outputs": []
    },
    {
      "cell_type": "code",
      "metadata": {
        "id": "r80AT9lujzLk",
        "colab_type": "code",
        "outputId": "0dd47187-dc32-4362-f6d0-121883a4367f",
        "colab": {
          "base_uri": "https://localhost:8080/",
          "height": 279
        }
      },
      "source": [
        "columns_name = ['age','workclass','fnlwgt','education','education-num','maritial-status','occupation','relationship','race','sex','capital-gain','capital-loss','hours-per-week','native-country','salary']\n",
        "data = pd.read_csv('https://archive.ics.uci.edu/ml/machine-learning-databases/adult/adult.data', names=columns_name)\n",
        "data.head()"
      ],
      "execution_count": 2,
      "outputs": [
        {
          "output_type": "execute_result",
          "data": {
            "text/html": [
              "<div>\n",
              "<style scoped>\n",
              "    .dataframe tbody tr th:only-of-type {\n",
              "        vertical-align: middle;\n",
              "    }\n",
              "\n",
              "    .dataframe tbody tr th {\n",
              "        vertical-align: top;\n",
              "    }\n",
              "\n",
              "    .dataframe thead th {\n",
              "        text-align: right;\n",
              "    }\n",
              "</style>\n",
              "<table border=\"1\" class=\"dataframe\">\n",
              "  <thead>\n",
              "    <tr style=\"text-align: right;\">\n",
              "      <th></th>\n",
              "      <th>age</th>\n",
              "      <th>workclass</th>\n",
              "      <th>fnlwgt</th>\n",
              "      <th>education</th>\n",
              "      <th>education-num</th>\n",
              "      <th>maritial-status</th>\n",
              "      <th>occupation</th>\n",
              "      <th>relationship</th>\n",
              "      <th>race</th>\n",
              "      <th>sex</th>\n",
              "      <th>capital-gain</th>\n",
              "      <th>capital-loss</th>\n",
              "      <th>hours-per-week</th>\n",
              "      <th>native-country</th>\n",
              "      <th>salary</th>\n",
              "    </tr>\n",
              "  </thead>\n",
              "  <tbody>\n",
              "    <tr>\n",
              "      <th>0</th>\n",
              "      <td>39</td>\n",
              "      <td>State-gov</td>\n",
              "      <td>77516</td>\n",
              "      <td>Bachelors</td>\n",
              "      <td>13</td>\n",
              "      <td>Never-married</td>\n",
              "      <td>Adm-clerical</td>\n",
              "      <td>Not-in-family</td>\n",
              "      <td>White</td>\n",
              "      <td>Male</td>\n",
              "      <td>2174</td>\n",
              "      <td>0</td>\n",
              "      <td>40</td>\n",
              "      <td>United-States</td>\n",
              "      <td>&lt;=50K</td>\n",
              "    </tr>\n",
              "    <tr>\n",
              "      <th>1</th>\n",
              "      <td>50</td>\n",
              "      <td>Self-emp-not-inc</td>\n",
              "      <td>83311</td>\n",
              "      <td>Bachelors</td>\n",
              "      <td>13</td>\n",
              "      <td>Married-civ-spouse</td>\n",
              "      <td>Exec-managerial</td>\n",
              "      <td>Husband</td>\n",
              "      <td>White</td>\n",
              "      <td>Male</td>\n",
              "      <td>0</td>\n",
              "      <td>0</td>\n",
              "      <td>13</td>\n",
              "      <td>United-States</td>\n",
              "      <td>&lt;=50K</td>\n",
              "    </tr>\n",
              "    <tr>\n",
              "      <th>2</th>\n",
              "      <td>38</td>\n",
              "      <td>Private</td>\n",
              "      <td>215646</td>\n",
              "      <td>HS-grad</td>\n",
              "      <td>9</td>\n",
              "      <td>Divorced</td>\n",
              "      <td>Handlers-cleaners</td>\n",
              "      <td>Not-in-family</td>\n",
              "      <td>White</td>\n",
              "      <td>Male</td>\n",
              "      <td>0</td>\n",
              "      <td>0</td>\n",
              "      <td>40</td>\n",
              "      <td>United-States</td>\n",
              "      <td>&lt;=50K</td>\n",
              "    </tr>\n",
              "    <tr>\n",
              "      <th>3</th>\n",
              "      <td>53</td>\n",
              "      <td>Private</td>\n",
              "      <td>234721</td>\n",
              "      <td>11th</td>\n",
              "      <td>7</td>\n",
              "      <td>Married-civ-spouse</td>\n",
              "      <td>Handlers-cleaners</td>\n",
              "      <td>Husband</td>\n",
              "      <td>Black</td>\n",
              "      <td>Male</td>\n",
              "      <td>0</td>\n",
              "      <td>0</td>\n",
              "      <td>40</td>\n",
              "      <td>United-States</td>\n",
              "      <td>&lt;=50K</td>\n",
              "    </tr>\n",
              "    <tr>\n",
              "      <th>4</th>\n",
              "      <td>28</td>\n",
              "      <td>Private</td>\n",
              "      <td>338409</td>\n",
              "      <td>Bachelors</td>\n",
              "      <td>13</td>\n",
              "      <td>Married-civ-spouse</td>\n",
              "      <td>Prof-specialty</td>\n",
              "      <td>Wife</td>\n",
              "      <td>Black</td>\n",
              "      <td>Female</td>\n",
              "      <td>0</td>\n",
              "      <td>0</td>\n",
              "      <td>40</td>\n",
              "      <td>Cuba</td>\n",
              "      <td>&lt;=50K</td>\n",
              "    </tr>\n",
              "  </tbody>\n",
              "</table>\n",
              "</div>"
            ],
            "text/plain": [
              "   age          workclass  fnlwgt  ... hours-per-week  native-country  salary\n",
              "0   39          State-gov   77516  ...             40   United-States   <=50K\n",
              "1   50   Self-emp-not-inc   83311  ...             13   United-States   <=50K\n",
              "2   38            Private  215646  ...             40   United-States   <=50K\n",
              "3   53            Private  234721  ...             40   United-States   <=50K\n",
              "4   28            Private  338409  ...             40            Cuba   <=50K\n",
              "\n",
              "[5 rows x 15 columns]"
            ]
          },
          "metadata": {
            "tags": []
          },
          "execution_count": 2
        }
      ]
    },
    {
      "cell_type": "code",
      "metadata": {
        "id": "qvI4A2KFklm0",
        "colab_type": "code",
        "outputId": "b10b8272-3d07-494a-abfd-e9a80f073fbc",
        "colab": {
          "base_uri": "https://localhost:8080/",
          "height": 353
        }
      },
      "source": [
        "data.info()"
      ],
      "execution_count": 3,
      "outputs": [
        {
          "output_type": "stream",
          "text": [
            "<class 'pandas.core.frame.DataFrame'>\n",
            "RangeIndex: 32561 entries, 0 to 32560\n",
            "Data columns (total 15 columns):\n",
            "age                32561 non-null int64\n",
            "workclass          32561 non-null object\n",
            "fnlwgt             32561 non-null int64\n",
            "education          32561 non-null object\n",
            "education-num      32561 non-null int64\n",
            "maritial-status    32561 non-null object\n",
            "occupation         32561 non-null object\n",
            "relationship       32561 non-null object\n",
            "race               32561 non-null object\n",
            "sex                32561 non-null object\n",
            "capital-gain       32561 non-null int64\n",
            "capital-loss       32561 non-null int64\n",
            "hours-per-week     32561 non-null int64\n",
            "native-country     32561 non-null object\n",
            "salary             32561 non-null object\n",
            "dtypes: int64(6), object(9)\n",
            "memory usage: 3.7+ MB\n"
          ],
          "name": "stdout"
        }
      ]
    },
    {
      "cell_type": "code",
      "metadata": {
        "id": "ghmCX6QclTml",
        "colab_type": "code",
        "outputId": "3c650505-8dd3-4a2a-9616-fe75e11f7488",
        "colab": {
          "base_uri": "https://localhost:8080/",
          "height": 284
        }
      },
      "source": [
        "data.describe()"
      ],
      "execution_count": 4,
      "outputs": [
        {
          "output_type": "execute_result",
          "data": {
            "text/html": [
              "<div>\n",
              "<style scoped>\n",
              "    .dataframe tbody tr th:only-of-type {\n",
              "        vertical-align: middle;\n",
              "    }\n",
              "\n",
              "    .dataframe tbody tr th {\n",
              "        vertical-align: top;\n",
              "    }\n",
              "\n",
              "    .dataframe thead th {\n",
              "        text-align: right;\n",
              "    }\n",
              "</style>\n",
              "<table border=\"1\" class=\"dataframe\">\n",
              "  <thead>\n",
              "    <tr style=\"text-align: right;\">\n",
              "      <th></th>\n",
              "      <th>age</th>\n",
              "      <th>fnlwgt</th>\n",
              "      <th>education-num</th>\n",
              "      <th>capital-gain</th>\n",
              "      <th>capital-loss</th>\n",
              "      <th>hours-per-week</th>\n",
              "    </tr>\n",
              "  </thead>\n",
              "  <tbody>\n",
              "    <tr>\n",
              "      <th>count</th>\n",
              "      <td>32561.000000</td>\n",
              "      <td>3.256100e+04</td>\n",
              "      <td>32561.000000</td>\n",
              "      <td>32561.000000</td>\n",
              "      <td>32561.000000</td>\n",
              "      <td>32561.000000</td>\n",
              "    </tr>\n",
              "    <tr>\n",
              "      <th>mean</th>\n",
              "      <td>38.581647</td>\n",
              "      <td>1.897784e+05</td>\n",
              "      <td>10.080679</td>\n",
              "      <td>1077.648844</td>\n",
              "      <td>87.303830</td>\n",
              "      <td>40.437456</td>\n",
              "    </tr>\n",
              "    <tr>\n",
              "      <th>std</th>\n",
              "      <td>13.640433</td>\n",
              "      <td>1.055500e+05</td>\n",
              "      <td>2.572720</td>\n",
              "      <td>7385.292085</td>\n",
              "      <td>402.960219</td>\n",
              "      <td>12.347429</td>\n",
              "    </tr>\n",
              "    <tr>\n",
              "      <th>min</th>\n",
              "      <td>17.000000</td>\n",
              "      <td>1.228500e+04</td>\n",
              "      <td>1.000000</td>\n",
              "      <td>0.000000</td>\n",
              "      <td>0.000000</td>\n",
              "      <td>1.000000</td>\n",
              "    </tr>\n",
              "    <tr>\n",
              "      <th>25%</th>\n",
              "      <td>28.000000</td>\n",
              "      <td>1.178270e+05</td>\n",
              "      <td>9.000000</td>\n",
              "      <td>0.000000</td>\n",
              "      <td>0.000000</td>\n",
              "      <td>40.000000</td>\n",
              "    </tr>\n",
              "    <tr>\n",
              "      <th>50%</th>\n",
              "      <td>37.000000</td>\n",
              "      <td>1.783560e+05</td>\n",
              "      <td>10.000000</td>\n",
              "      <td>0.000000</td>\n",
              "      <td>0.000000</td>\n",
              "      <td>40.000000</td>\n",
              "    </tr>\n",
              "    <tr>\n",
              "      <th>75%</th>\n",
              "      <td>48.000000</td>\n",
              "      <td>2.370510e+05</td>\n",
              "      <td>12.000000</td>\n",
              "      <td>0.000000</td>\n",
              "      <td>0.000000</td>\n",
              "      <td>45.000000</td>\n",
              "    </tr>\n",
              "    <tr>\n",
              "      <th>max</th>\n",
              "      <td>90.000000</td>\n",
              "      <td>1.484705e+06</td>\n",
              "      <td>16.000000</td>\n",
              "      <td>99999.000000</td>\n",
              "      <td>4356.000000</td>\n",
              "      <td>99.000000</td>\n",
              "    </tr>\n",
              "  </tbody>\n",
              "</table>\n",
              "</div>"
            ],
            "text/plain": [
              "                age        fnlwgt  ...  capital-loss  hours-per-week\n",
              "count  32561.000000  3.256100e+04  ...  32561.000000    32561.000000\n",
              "mean      38.581647  1.897784e+05  ...     87.303830       40.437456\n",
              "std       13.640433  1.055500e+05  ...    402.960219       12.347429\n",
              "min       17.000000  1.228500e+04  ...      0.000000        1.000000\n",
              "25%       28.000000  1.178270e+05  ...      0.000000       40.000000\n",
              "50%       37.000000  1.783560e+05  ...      0.000000       40.000000\n",
              "75%       48.000000  2.370510e+05  ...      0.000000       45.000000\n",
              "max       90.000000  1.484705e+06  ...   4356.000000       99.000000\n",
              "\n",
              "[8 rows x 6 columns]"
            ]
          },
          "metadata": {
            "tags": []
          },
          "execution_count": 4
        }
      ]
    },
    {
      "cell_type": "markdown",
      "metadata": {
        "id": "lb2Y3Elknpuw",
        "colab_type": "text"
      },
      "source": [
        "# Data Preparation"
      ]
    },
    {
      "cell_type": "markdown",
      "metadata": {
        "id": "xX_A4LZc6yuV",
        "colab_type": "text"
      },
      "source": [
        "First, strip every data in the dataframe because every data start with a space."
      ]
    },
    {
      "cell_type": "code",
      "metadata": {
        "id": "5c90Qidv59G6",
        "colab_type": "code",
        "outputId": "e1322294-2589-462d-a737-c0ddb854d415",
        "colab": {
          "base_uri": "https://localhost:8080/",
          "height": 34
        }
      },
      "source": [
        "df_obj = data.select_dtypes(['object'])\n",
        "data[df_obj.columns] = df_obj.apply(lambda x: x.str.strip())\n",
        "data['sex'][0]"
      ],
      "execution_count": 5,
      "outputs": [
        {
          "output_type": "execute_result",
          "data": {
            "text/plain": [
              "'Male'"
            ]
          },
          "metadata": {
            "tags": []
          },
          "execution_count": 5
        }
      ]
    },
    {
      "cell_type": "markdown",
      "metadata": {
        "id": "Yr6O2AcYCDTs",
        "colab_type": "text"
      },
      "source": [
        "Set '?' value to null so we can deal with NaN easily later."
      ]
    },
    {
      "cell_type": "code",
      "metadata": {
        "id": "OrxXkRiiC5ls",
        "colab_type": "code",
        "colab": {}
      },
      "source": [
        "def CheckQuestionValue():\n",
        "  for c in data.columns:\n",
        "    if len(data.loc[data[c] == '?']):\n",
        "      print(c)"
      ],
      "execution_count": 0,
      "outputs": []
    },
    {
      "cell_type": "code",
      "metadata": {
        "id": "QE1hkHFVC_jm",
        "colab_type": "code",
        "outputId": "88577cb5-e00d-4314-af9f-77d2bb4bc6ab",
        "colab": {
          "base_uri": "https://localhost:8080/",
          "height": 121
        }
      },
      "source": [
        "CheckQuestionValue()"
      ],
      "execution_count": 7,
      "outputs": [
        {
          "output_type": "stream",
          "text": [
            "workclass\n",
            "occupation\n",
            "native-country\n"
          ],
          "name": "stdout"
        },
        {
          "output_type": "stream",
          "text": [
            "/usr/local/lib/python3.6/dist-packages/pandas/core/ops/__init__.py:1115: FutureWarning: elementwise comparison failed; returning scalar instead, but in the future will perform elementwise comparison\n",
            "  result = method(y)\n"
          ],
          "name": "stderr"
        }
      ]
    },
    {
      "cell_type": "code",
      "metadata": {
        "id": "sEwGslzWCM9G",
        "colab_type": "code",
        "outputId": "ea432fce-883a-46b4-a17e-20a7e781fc7f",
        "colab": {
          "base_uri": "https://localhost:8080/",
          "height": 70
        }
      },
      "source": [
        "mapping_dict ={'?':np.nan}\n",
        "data = data.replace(mapping_dict)\n",
        "CheckQuestionValue()"
      ],
      "execution_count": 8,
      "outputs": [
        {
          "output_type": "stream",
          "text": [
            "/usr/local/lib/python3.6/dist-packages/pandas/core/ops/__init__.py:1115: FutureWarning: elementwise comparison failed; returning scalar instead, but in the future will perform elementwise comparison\n",
            "  result = method(y)\n"
          ],
          "name": "stderr"
        }
      ]
    },
    {
      "cell_type": "markdown",
      "metadata": {
        "id": "IBD207H-65N4",
        "colab_type": "text"
      },
      "source": [
        "Change sex data to (0 for Male) and (1 for Female)"
      ]
    },
    {
      "cell_type": "code",
      "metadata": {
        "id": "dqtUf87lmz5h",
        "colab_type": "code",
        "outputId": "c2f33dee-bad4-46ac-eb37-a37d1f27dfeb",
        "colab": {
          "base_uri": "https://localhost:8080/",
          "height": 353
        }
      },
      "source": [
        "mapping_dict = { 'sex': {'Male':0, 'Female':1}}\n",
        "cleaned_data = data.replace(mapping_dict)\n",
        "cleaned_data.info()"
      ],
      "execution_count": 9,
      "outputs": [
        {
          "output_type": "stream",
          "text": [
            "<class 'pandas.core.frame.DataFrame'>\n",
            "RangeIndex: 32561 entries, 0 to 32560\n",
            "Data columns (total 15 columns):\n",
            "age                32561 non-null int64\n",
            "workclass          30725 non-null object\n",
            "fnlwgt             32561 non-null int64\n",
            "education          32561 non-null object\n",
            "education-num      32561 non-null int64\n",
            "maritial-status    32561 non-null object\n",
            "occupation         30718 non-null object\n",
            "relationship       32561 non-null object\n",
            "race               32561 non-null object\n",
            "sex                32561 non-null int64\n",
            "capital-gain       32561 non-null int64\n",
            "capital-loss       32561 non-null int64\n",
            "hours-per-week     32561 non-null int64\n",
            "native-country     31978 non-null object\n",
            "salary             32561 non-null object\n",
            "dtypes: int64(7), object(8)\n",
            "memory usage: 3.7+ MB\n"
          ],
          "name": "stdout"
        }
      ]
    },
    {
      "cell_type": "markdown",
      "metadata": {
        "id": "IBLe8cRBEDJO",
        "colab_type": "text"
      },
      "source": [
        "Change target value to 0 (>50K) and 1 (<=50K)"
      ]
    },
    {
      "cell_type": "code",
      "metadata": {
        "id": "wHFZkkZfEIxS",
        "colab_type": "code",
        "outputId": "849a1dad-0081-49cf-e45c-4dea613b73e2",
        "colab": {
          "base_uri": "https://localhost:8080/",
          "height": 353
        }
      },
      "source": [
        "mapping_dict = { 'salary': {'>50K':0, '<=50K':1}}\n",
        "cleaned_data = cleaned_data.replace(mapping_dict)\n",
        "cleaned_data.info()"
      ],
      "execution_count": 10,
      "outputs": [
        {
          "output_type": "stream",
          "text": [
            "<class 'pandas.core.frame.DataFrame'>\n",
            "RangeIndex: 32561 entries, 0 to 32560\n",
            "Data columns (total 15 columns):\n",
            "age                32561 non-null int64\n",
            "workclass          30725 non-null object\n",
            "fnlwgt             32561 non-null int64\n",
            "education          32561 non-null object\n",
            "education-num      32561 non-null int64\n",
            "maritial-status    32561 non-null object\n",
            "occupation         30718 non-null object\n",
            "relationship       32561 non-null object\n",
            "race               32561 non-null object\n",
            "sex                32561 non-null int64\n",
            "capital-gain       32561 non-null int64\n",
            "capital-loss       32561 non-null int64\n",
            "hours-per-week     32561 non-null int64\n",
            "native-country     31978 non-null object\n",
            "salary             32561 non-null int64\n",
            "dtypes: int64(8), object(7)\n",
            "memory usage: 3.7+ MB\n"
          ],
          "name": "stdout"
        }
      ]
    },
    {
      "cell_type": "markdown",
      "metadata": {
        "id": "g2Oy24uiUcoD",
        "colab_type": "text"
      },
      "source": [
        "Deal with cat data and make them numeric"
      ]
    },
    {
      "cell_type": "code",
      "metadata": {
        "id": "YmaCHHAXUcSv",
        "colab_type": "code",
        "colab": {
          "base_uri": "https://localhost:8080/",
          "height": 168
        },
        "outputId": "c486caf5-2c6b-43ad-bbfb-e200b701cb27"
      },
      "source": [
        "cleaned_data['workclass'].value_counts()"
      ],
      "execution_count": 11,
      "outputs": [
        {
          "output_type": "execute_result",
          "data": {
            "text/plain": [
              "Private             22696\n",
              "Self-emp-not-inc     2541\n",
              "Local-gov            2093\n",
              "State-gov            1298\n",
              "Self-emp-inc         1116\n",
              "Federal-gov           960\n",
              "Without-pay            14\n",
              "Never-worked            7\n",
              "Name: workclass, dtype: int64"
            ]
          },
          "metadata": {
            "tags": []
          },
          "execution_count": 11
        }
      ]
    },
    {
      "cell_type": "code",
      "metadata": {
        "id": "kjNisjS3np7I",
        "colab_type": "code",
        "colab": {
          "base_uri": "https://localhost:8080/",
          "height": 195
        },
        "outputId": "6972b866-899b-4103-93ac-a1e3430486f5"
      },
      "source": [
        "dummy = pd.get_dummies(cleaned_data['workclass'], drop_first=True)\n",
        "dummy.head(5)"
      ],
      "execution_count": 12,
      "outputs": [
        {
          "output_type": "execute_result",
          "data": {
            "text/html": [
              "<div>\n",
              "<style scoped>\n",
              "    .dataframe tbody tr th:only-of-type {\n",
              "        vertical-align: middle;\n",
              "    }\n",
              "\n",
              "    .dataframe tbody tr th {\n",
              "        vertical-align: top;\n",
              "    }\n",
              "\n",
              "    .dataframe thead th {\n",
              "        text-align: right;\n",
              "    }\n",
              "</style>\n",
              "<table border=\"1\" class=\"dataframe\">\n",
              "  <thead>\n",
              "    <tr style=\"text-align: right;\">\n",
              "      <th></th>\n",
              "      <th>Local-gov</th>\n",
              "      <th>Never-worked</th>\n",
              "      <th>Private</th>\n",
              "      <th>Self-emp-inc</th>\n",
              "      <th>Self-emp-not-inc</th>\n",
              "      <th>State-gov</th>\n",
              "      <th>Without-pay</th>\n",
              "    </tr>\n",
              "  </thead>\n",
              "  <tbody>\n",
              "    <tr>\n",
              "      <th>0</th>\n",
              "      <td>0</td>\n",
              "      <td>0</td>\n",
              "      <td>0</td>\n",
              "      <td>0</td>\n",
              "      <td>0</td>\n",
              "      <td>1</td>\n",
              "      <td>0</td>\n",
              "    </tr>\n",
              "    <tr>\n",
              "      <th>1</th>\n",
              "      <td>0</td>\n",
              "      <td>0</td>\n",
              "      <td>0</td>\n",
              "      <td>0</td>\n",
              "      <td>1</td>\n",
              "      <td>0</td>\n",
              "      <td>0</td>\n",
              "    </tr>\n",
              "    <tr>\n",
              "      <th>2</th>\n",
              "      <td>0</td>\n",
              "      <td>0</td>\n",
              "      <td>1</td>\n",
              "      <td>0</td>\n",
              "      <td>0</td>\n",
              "      <td>0</td>\n",
              "      <td>0</td>\n",
              "    </tr>\n",
              "    <tr>\n",
              "      <th>3</th>\n",
              "      <td>0</td>\n",
              "      <td>0</td>\n",
              "      <td>1</td>\n",
              "      <td>0</td>\n",
              "      <td>0</td>\n",
              "      <td>0</td>\n",
              "      <td>0</td>\n",
              "    </tr>\n",
              "    <tr>\n",
              "      <th>4</th>\n",
              "      <td>0</td>\n",
              "      <td>0</td>\n",
              "      <td>1</td>\n",
              "      <td>0</td>\n",
              "      <td>0</td>\n",
              "      <td>0</td>\n",
              "      <td>0</td>\n",
              "    </tr>\n",
              "  </tbody>\n",
              "</table>\n",
              "</div>"
            ],
            "text/plain": [
              "   Local-gov  Never-worked  Private  ...  Self-emp-not-inc  State-gov  Without-pay\n",
              "0          0             0        0  ...                 0          1            0\n",
              "1          0             0        0  ...                 1          0            0\n",
              "2          0             0        1  ...                 0          0            0\n",
              "3          0             0        1  ...                 0          0            0\n",
              "4          0             0        1  ...                 0          0            0\n",
              "\n",
              "[5 rows x 7 columns]"
            ]
          },
          "metadata": {
            "tags": []
          },
          "execution_count": 12
        }
      ]
    },
    {
      "cell_type": "code",
      "metadata": {
        "id": "8eaOApQ5qCoT",
        "colab_type": "code",
        "colab": {
          "base_uri": "https://localhost:8080/",
          "height": 454
        },
        "outputId": "1284c131-5706-4a5d-a07c-cbadc1a367a4"
      },
      "source": [
        "cleaned_data = pd.concat([cleaned_data, dummy], axis=1)\n",
        "cleaned_data = cleaned_data.drop(['workclass'], axis=1)\n",
        "cleaned_data.info()"
      ],
      "execution_count": 13,
      "outputs": [
        {
          "output_type": "stream",
          "text": [
            "<class 'pandas.core.frame.DataFrame'>\n",
            "RangeIndex: 32561 entries, 0 to 32560\n",
            "Data columns (total 21 columns):\n",
            "age                 32561 non-null int64\n",
            "fnlwgt              32561 non-null int64\n",
            "education           32561 non-null object\n",
            "education-num       32561 non-null int64\n",
            "maritial-status     32561 non-null object\n",
            "occupation          30718 non-null object\n",
            "relationship        32561 non-null object\n",
            "race                32561 non-null object\n",
            "sex                 32561 non-null int64\n",
            "capital-gain        32561 non-null int64\n",
            "capital-loss        32561 non-null int64\n",
            "hours-per-week      32561 non-null int64\n",
            "native-country      31978 non-null object\n",
            "salary              32561 non-null int64\n",
            "Local-gov           32561 non-null uint8\n",
            "Never-worked        32561 non-null uint8\n",
            "Private             32561 non-null uint8\n",
            "Self-emp-inc        32561 non-null uint8\n",
            "Self-emp-not-inc    32561 non-null uint8\n",
            "State-gov           32561 non-null uint8\n",
            "Without-pay         32561 non-null uint8\n",
            "dtypes: int64(8), object(6), uint8(7)\n",
            "memory usage: 3.7+ MB\n"
          ],
          "name": "stdout"
        }
      ]
    },
    {
      "cell_type": "code",
      "metadata": {
        "id": "4Lom1i-_1hiA",
        "colab_type": "code",
        "colab": {
          "base_uri": "https://localhost:8080/",
          "height": 302
        },
        "outputId": "82bc84ab-b184-4546-bf69-ca87e4dc2206"
      },
      "source": [
        "cleaned_data['education'].value_counts()"
      ],
      "execution_count": 14,
      "outputs": [
        {
          "output_type": "execute_result",
          "data": {
            "text/plain": [
              "HS-grad         10501\n",
              "Some-college     7291\n",
              "Bachelors        5355\n",
              "Masters          1723\n",
              "Assoc-voc        1382\n",
              "11th             1175\n",
              "Assoc-acdm       1067\n",
              "10th              933\n",
              "7th-8th           646\n",
              "Prof-school       576\n",
              "9th               514\n",
              "12th              433\n",
              "Doctorate         413\n",
              "5th-6th           333\n",
              "1st-4th           168\n",
              "Preschool          51\n",
              "Name: education, dtype: int64"
            ]
          },
          "metadata": {
            "tags": []
          },
          "execution_count": 14
        }
      ]
    },
    {
      "cell_type": "code",
      "metadata": {
        "id": "1lkGJziCqds1",
        "colab_type": "code",
        "colab": {}
      },
      "source": [
        "dummy = pd.get_dummies(cleaned_data['education'], drop_first=True)\n",
        "cleaned_data = pd.concat([cleaned_data, dummy], axis=1)\n",
        "cleaned_data = cleaned_data.drop(['education'], axis=1)"
      ],
      "execution_count": 0,
      "outputs": []
    },
    {
      "cell_type": "code",
      "metadata": {
        "id": "YWlccDpH1rcv",
        "colab_type": "code",
        "colab": {
          "base_uri": "https://localhost:8080/",
          "height": 151
        },
        "outputId": "90759594-f941-4701-88d6-911b9a342a61"
      },
      "source": [
        "cleaned_data['maritial-status'].value_counts()"
      ],
      "execution_count": 16,
      "outputs": [
        {
          "output_type": "execute_result",
          "data": {
            "text/plain": [
              "Married-civ-spouse       14976\n",
              "Never-married            10683\n",
              "Divorced                  4443\n",
              "Separated                 1025\n",
              "Widowed                    993\n",
              "Married-spouse-absent      418\n",
              "Married-AF-spouse           23\n",
              "Name: maritial-status, dtype: int64"
            ]
          },
          "metadata": {
            "tags": []
          },
          "execution_count": 16
        }
      ]
    },
    {
      "cell_type": "code",
      "metadata": {
        "id": "E4J4uBcrrMjl",
        "colab_type": "code",
        "colab": {}
      },
      "source": [
        "dummy = pd.get_dummies(cleaned_data['maritial-status'], drop_first=True)\n",
        "cleaned_data = pd.concat([cleaned_data, dummy], axis=1)\n",
        "cleaned_data = cleaned_data.drop(['maritial-status'], axis=1)"
      ],
      "execution_count": 0,
      "outputs": []
    },
    {
      "cell_type": "code",
      "metadata": {
        "id": "rfTuTxVV1u7d",
        "colab_type": "code",
        "colab": {
          "base_uri": "https://localhost:8080/",
          "height": 269
        },
        "outputId": "d6b7e75b-7cc1-45b2-8528-5a8b212a4953"
      },
      "source": [
        "cleaned_data['occupation'].value_counts()"
      ],
      "execution_count": 18,
      "outputs": [
        {
          "output_type": "execute_result",
          "data": {
            "text/plain": [
              "Prof-specialty       4140\n",
              "Craft-repair         4099\n",
              "Exec-managerial      4066\n",
              "Adm-clerical         3770\n",
              "Sales                3650\n",
              "Other-service        3295\n",
              "Machine-op-inspct    2002\n",
              "Transport-moving     1597\n",
              "Handlers-cleaners    1370\n",
              "Farming-fishing       994\n",
              "Tech-support          928\n",
              "Protective-serv       649\n",
              "Priv-house-serv       149\n",
              "Armed-Forces            9\n",
              "Name: occupation, dtype: int64"
            ]
          },
          "metadata": {
            "tags": []
          },
          "execution_count": 18
        }
      ]
    },
    {
      "cell_type": "code",
      "metadata": {
        "id": "t1Sgu7nGrZOj",
        "colab_type": "code",
        "colab": {}
      },
      "source": [
        "dummy = pd.get_dummies(cleaned_data['occupation'], drop_first=True)\n",
        "cleaned_data = pd.concat([cleaned_data, dummy], axis=1)\n",
        "cleaned_data = cleaned_data.drop(['occupation'], axis=1)"
      ],
      "execution_count": 0,
      "outputs": []
    },
    {
      "cell_type": "code",
      "metadata": {
        "id": "gRCA7K-z1xnL",
        "colab_type": "code",
        "colab": {
          "base_uri": "https://localhost:8080/",
          "height": 134
        },
        "outputId": "f0315b38-b16a-438b-c509-a99b44e21b5c"
      },
      "source": [
        "cleaned_data['relationship'].value_counts()"
      ],
      "execution_count": 20,
      "outputs": [
        {
          "output_type": "execute_result",
          "data": {
            "text/plain": [
              "Husband           13193\n",
              "Not-in-family      8305\n",
              "Own-child          5068\n",
              "Unmarried          3446\n",
              "Wife               1568\n",
              "Other-relative      981\n",
              "Name: relationship, dtype: int64"
            ]
          },
          "metadata": {
            "tags": []
          },
          "execution_count": 20
        }
      ]
    },
    {
      "cell_type": "code",
      "metadata": {
        "id": "8Bt5YgLBrbWN",
        "colab_type": "code",
        "colab": {}
      },
      "source": [
        "dummy = pd.get_dummies(cleaned_data['relationship'], drop_first=True)\n",
        "cleaned_data = pd.concat([cleaned_data, dummy], axis=1)\n",
        "cleaned_data = cleaned_data.drop(['relationship'], axis=1)"
      ],
      "execution_count": 0,
      "outputs": []
    },
    {
      "cell_type": "code",
      "metadata": {
        "id": "7eAY-yal10W_",
        "colab_type": "code",
        "colab": {
          "base_uri": "https://localhost:8080/",
          "height": 118
        },
        "outputId": "ed75ff57-dc6f-4bc7-fa75-eb963330fd1d"
      },
      "source": [
        "cleaned_data['race'].value_counts()"
      ],
      "execution_count": 22,
      "outputs": [
        {
          "output_type": "execute_result",
          "data": {
            "text/plain": [
              "White                 27816\n",
              "Black                  3124\n",
              "Asian-Pac-Islander     1039\n",
              "Amer-Indian-Eskimo      311\n",
              "Other                   271\n",
              "Name: race, dtype: int64"
            ]
          },
          "metadata": {
            "tags": []
          },
          "execution_count": 22
        }
      ]
    },
    {
      "cell_type": "code",
      "metadata": {
        "id": "RtVmmNshrgj0",
        "colab_type": "code",
        "colab": {}
      },
      "source": [
        "dummy = pd.get_dummies(cleaned_data['race'], drop_first=True)\n",
        "cleaned_data = pd.concat([cleaned_data, dummy], axis=1)\n",
        "cleaned_data = cleaned_data.drop(['race'], axis=1)"
      ],
      "execution_count": 0,
      "outputs": []
    },
    {
      "cell_type": "code",
      "metadata": {
        "id": "6sEPaHGc12wc",
        "colab_type": "code",
        "colab": {
          "base_uri": "https://localhost:8080/",
          "height": 722
        },
        "outputId": "171a3754-dbcd-4c63-e1e2-b72c11ee8c16"
      },
      "source": [
        "cleaned_data['native-country'].value_counts()"
      ],
      "execution_count": 24,
      "outputs": [
        {
          "output_type": "execute_result",
          "data": {
            "text/plain": [
              "United-States                 29170\n",
              "Mexico                          643\n",
              "Philippines                     198\n",
              "Germany                         137\n",
              "Canada                          121\n",
              "Puerto-Rico                     114\n",
              "El-Salvador                     106\n",
              "India                           100\n",
              "Cuba                             95\n",
              "England                          90\n",
              "Jamaica                          81\n",
              "South                            80\n",
              "China                            75\n",
              "Italy                            73\n",
              "Dominican-Republic               70\n",
              "Vietnam                          67\n",
              "Guatemala                        64\n",
              "Japan                            62\n",
              "Poland                           60\n",
              "Columbia                         59\n",
              "Taiwan                           51\n",
              "Haiti                            44\n",
              "Iran                             43\n",
              "Portugal                         37\n",
              "Nicaragua                        34\n",
              "Peru                             31\n",
              "Greece                           29\n",
              "France                           29\n",
              "Ecuador                          28\n",
              "Ireland                          24\n",
              "Hong                             20\n",
              "Cambodia                         19\n",
              "Trinadad&Tobago                  19\n",
              "Laos                             18\n",
              "Thailand                         18\n",
              "Yugoslavia                       16\n",
              "Outlying-US(Guam-USVI-etc)       14\n",
              "Honduras                         13\n",
              "Hungary                          13\n",
              "Scotland                         12\n",
              "Holand-Netherlands                1\n",
              "Name: native-country, dtype: int64"
            ]
          },
          "metadata": {
            "tags": []
          },
          "execution_count": 24
        }
      ]
    },
    {
      "cell_type": "code",
      "metadata": {
        "id": "-NTGAbWWrjqp",
        "colab_type": "code",
        "colab": {}
      },
      "source": [
        "#drop native-country because there are too many value\n",
        "cleaned_data = cleaned_data.drop(['native-country'], axis=1)"
      ],
      "execution_count": 0,
      "outputs": []
    },
    {
      "cell_type": "code",
      "metadata": {
        "id": "x3UrVzokrub8",
        "colab_type": "code",
        "colab": {
          "base_uri": "https://localhost:8080/",
          "height": 1000
        },
        "outputId": "5a79ddbc-a12e-49e5-bb35-34712e87e7d1"
      },
      "source": [
        "cleaned_data.info()"
      ],
      "execution_count": 26,
      "outputs": [
        {
          "output_type": "stream",
          "text": [
            "<class 'pandas.core.frame.DataFrame'>\n",
            "RangeIndex: 32561 entries, 0 to 32560\n",
            "Data columns (total 58 columns):\n",
            "age                      32561 non-null int64\n",
            "fnlwgt                   32561 non-null int64\n",
            "education-num            32561 non-null int64\n",
            "sex                      32561 non-null int64\n",
            "capital-gain             32561 non-null int64\n",
            "capital-loss             32561 non-null int64\n",
            "hours-per-week           32561 non-null int64\n",
            "salary                   32561 non-null int64\n",
            "Local-gov                32561 non-null uint8\n",
            "Never-worked             32561 non-null uint8\n",
            "Private                  32561 non-null uint8\n",
            "Self-emp-inc             32561 non-null uint8\n",
            "Self-emp-not-inc         32561 non-null uint8\n",
            "State-gov                32561 non-null uint8\n",
            "Without-pay              32561 non-null uint8\n",
            "11th                     32561 non-null uint8\n",
            "12th                     32561 non-null uint8\n",
            "1st-4th                  32561 non-null uint8\n",
            "5th-6th                  32561 non-null uint8\n",
            "7th-8th                  32561 non-null uint8\n",
            "9th                      32561 non-null uint8\n",
            "Assoc-acdm               32561 non-null uint8\n",
            "Assoc-voc                32561 non-null uint8\n",
            "Bachelors                32561 non-null uint8\n",
            "Doctorate                32561 non-null uint8\n",
            "HS-grad                  32561 non-null uint8\n",
            "Masters                  32561 non-null uint8\n",
            "Preschool                32561 non-null uint8\n",
            "Prof-school              32561 non-null uint8\n",
            "Some-college             32561 non-null uint8\n",
            "Married-AF-spouse        32561 non-null uint8\n",
            "Married-civ-spouse       32561 non-null uint8\n",
            "Married-spouse-absent    32561 non-null uint8\n",
            "Never-married            32561 non-null uint8\n",
            "Separated                32561 non-null uint8\n",
            "Widowed                  32561 non-null uint8\n",
            "Armed-Forces             32561 non-null uint8\n",
            "Craft-repair             32561 non-null uint8\n",
            "Exec-managerial          32561 non-null uint8\n",
            "Farming-fishing          32561 non-null uint8\n",
            "Handlers-cleaners        32561 non-null uint8\n",
            "Machine-op-inspct        32561 non-null uint8\n",
            "Other-service            32561 non-null uint8\n",
            "Priv-house-serv          32561 non-null uint8\n",
            "Prof-specialty           32561 non-null uint8\n",
            "Protective-serv          32561 non-null uint8\n",
            "Sales                    32561 non-null uint8\n",
            "Tech-support             32561 non-null uint8\n",
            "Transport-moving         32561 non-null uint8\n",
            "Not-in-family            32561 non-null uint8\n",
            "Other-relative           32561 non-null uint8\n",
            "Own-child                32561 non-null uint8\n",
            "Unmarried                32561 non-null uint8\n",
            "Wife                     32561 non-null uint8\n",
            "Asian-Pac-Islander       32561 non-null uint8\n",
            "Black                    32561 non-null uint8\n",
            "Other                    32561 non-null uint8\n",
            "White                    32561 non-null uint8\n",
            "dtypes: int64(8), uint8(50)\n",
            "memory usage: 3.5 MB\n"
          ],
          "name": "stdout"
        }
      ]
    },
    {
      "cell_type": "code",
      "metadata": {
        "id": "0wNiOlkyB41B",
        "colab_type": "code",
        "outputId": "2fe4e492-4e75-4a56-ab48-bee8ba146d65",
        "colab": {
          "base_uri": "https://localhost:8080/",
          "height": 1000
        }
      },
      "source": [
        "cleaned_data.isnull().sum()"
      ],
      "execution_count": 27,
      "outputs": [
        {
          "output_type": "execute_result",
          "data": {
            "text/plain": [
              "age                      0\n",
              "fnlwgt                   0\n",
              "education-num            0\n",
              "sex                      0\n",
              "capital-gain             0\n",
              "capital-loss             0\n",
              "hours-per-week           0\n",
              "salary                   0\n",
              "Local-gov                0\n",
              "Never-worked             0\n",
              "Private                  0\n",
              "Self-emp-inc             0\n",
              "Self-emp-not-inc         0\n",
              "State-gov                0\n",
              "Without-pay              0\n",
              "11th                     0\n",
              "12th                     0\n",
              "1st-4th                  0\n",
              "5th-6th                  0\n",
              "7th-8th                  0\n",
              "9th                      0\n",
              "Assoc-acdm               0\n",
              "Assoc-voc                0\n",
              "Bachelors                0\n",
              "Doctorate                0\n",
              "HS-grad                  0\n",
              "Masters                  0\n",
              "Preschool                0\n",
              "Prof-school              0\n",
              "Some-college             0\n",
              "Married-AF-spouse        0\n",
              "Married-civ-spouse       0\n",
              "Married-spouse-absent    0\n",
              "Never-married            0\n",
              "Separated                0\n",
              "Widowed                  0\n",
              "Armed-Forces             0\n",
              "Craft-repair             0\n",
              "Exec-managerial          0\n",
              "Farming-fishing          0\n",
              "Handlers-cleaners        0\n",
              "Machine-op-inspct        0\n",
              "Other-service            0\n",
              "Priv-house-serv          0\n",
              "Prof-specialty           0\n",
              "Protective-serv          0\n",
              "Sales                    0\n",
              "Tech-support             0\n",
              "Transport-moving         0\n",
              "Not-in-family            0\n",
              "Other-relative           0\n",
              "Own-child                0\n",
              "Unmarried                0\n",
              "Wife                     0\n",
              "Asian-Pac-Islander       0\n",
              "Black                    0\n",
              "Other                    0\n",
              "White                    0\n",
              "dtype: int64"
            ]
          },
          "metadata": {
            "tags": []
          },
          "execution_count": 27
        }
      ]
    },
    {
      "cell_type": "code",
      "metadata": {
        "id": "Fit3O8KGH5j3",
        "colab_type": "code",
        "outputId": "a5240be7-58ff-4845-fca6-e7437b09eb52",
        "colab": {
          "base_uri": "https://localhost:8080/",
          "height": 1000
        }
      },
      "source": [
        "nonnull_data = cleaned_data.dropna()\n",
        "nonnull_data.isnull().sum()"
      ],
      "execution_count": 28,
      "outputs": [
        {
          "output_type": "execute_result",
          "data": {
            "text/plain": [
              "age                      0\n",
              "fnlwgt                   0\n",
              "education-num            0\n",
              "sex                      0\n",
              "capital-gain             0\n",
              "capital-loss             0\n",
              "hours-per-week           0\n",
              "salary                   0\n",
              "Local-gov                0\n",
              "Never-worked             0\n",
              "Private                  0\n",
              "Self-emp-inc             0\n",
              "Self-emp-not-inc         0\n",
              "State-gov                0\n",
              "Without-pay              0\n",
              "11th                     0\n",
              "12th                     0\n",
              "1st-4th                  0\n",
              "5th-6th                  0\n",
              "7th-8th                  0\n",
              "9th                      0\n",
              "Assoc-acdm               0\n",
              "Assoc-voc                0\n",
              "Bachelors                0\n",
              "Doctorate                0\n",
              "HS-grad                  0\n",
              "Masters                  0\n",
              "Preschool                0\n",
              "Prof-school              0\n",
              "Some-college             0\n",
              "Married-AF-spouse        0\n",
              "Married-civ-spouse       0\n",
              "Married-spouse-absent    0\n",
              "Never-married            0\n",
              "Separated                0\n",
              "Widowed                  0\n",
              "Armed-Forces             0\n",
              "Craft-repair             0\n",
              "Exec-managerial          0\n",
              "Farming-fishing          0\n",
              "Handlers-cleaners        0\n",
              "Machine-op-inspct        0\n",
              "Other-service            0\n",
              "Priv-house-serv          0\n",
              "Prof-specialty           0\n",
              "Protective-serv          0\n",
              "Sales                    0\n",
              "Tech-support             0\n",
              "Transport-moving         0\n",
              "Not-in-family            0\n",
              "Other-relative           0\n",
              "Own-child                0\n",
              "Unmarried                0\n",
              "Wife                     0\n",
              "Asian-Pac-Islander       0\n",
              "Black                    0\n",
              "Other                    0\n",
              "White                    0\n",
              "dtype: int64"
            ]
          },
          "metadata": {
            "tags": []
          },
          "execution_count": 28
        }
      ]
    },
    {
      "cell_type": "code",
      "metadata": {
        "id": "cO-4UXVJITfF",
        "colab_type": "code",
        "outputId": "1666f65d-74c4-4c20-d550-4c494561fec3",
        "colab": {
          "base_uri": "https://localhost:8080/",
          "height": 34
        }
      },
      "source": [
        "nonnull_data.shape"
      ],
      "execution_count": 29,
      "outputs": [
        {
          "output_type": "execute_result",
          "data": {
            "text/plain": [
              "(32561, 58)"
            ]
          },
          "metadata": {
            "tags": []
          },
          "execution_count": 29
        }
      ]
    },
    {
      "cell_type": "code",
      "metadata": {
        "id": "zUs_4LQSKRaF",
        "colab_type": "code",
        "colab": {}
      },
      "source": [
        "data = nonnull_data"
      ],
      "execution_count": 0,
      "outputs": []
    },
    {
      "cell_type": "markdown",
      "metadata": {
        "id": "l71uitgrIbmz",
        "colab_type": "text"
      },
      "source": [
        "# Divide data into train/test data"
      ]
    },
    {
      "cell_type": "code",
      "metadata": {
        "id": "GkeK1G9tIWRX",
        "colab_type": "code",
        "colab": {}
      },
      "source": [
        "X_train, X_test, y_train, y_test = train_test_split(data.drop('salary', axis=1), data['salary'], test_size=0.3, stratify=data['salary'], random_state=1234)"
      ],
      "execution_count": 0,
      "outputs": []
    },
    {
      "cell_type": "markdown",
      "metadata": {
        "id": "kJStZqgtPDRE",
        "colab_type": "text"
      },
      "source": [
        "# Start training"
      ]
    },
    {
      "cell_type": "markdown",
      "metadata": {
        "id": "WAuDYzK_BonH",
        "colab_type": "text"
      },
      "source": [
        "## RandomForest"
      ]
    },
    {
      "cell_type": "code",
      "metadata": {
        "id": "3RZnkDJ8QP6z",
        "colab_type": "code",
        "colab": {}
      },
      "source": [
        "parameters = {'min_samples_leaf':[1,2,3,4,5,6,7,8,9,10], 'max_depth':[None, 1,2,3,4,5,6,7,8,9,10], 'criterion':['gini','entropy'], 'min_samples_split':[2,3,4,5,6,7,8,9,10]}"
      ],
      "execution_count": 0,
      "outputs": []
    },
    {
      "cell_type": "code",
      "metadata": {
        "id": "JR4nj5Misozo",
        "colab_type": "code",
        "colab": {
          "base_uri": "https://localhost:8080/",
          "height": 84
        },
        "outputId": "20d2eb12-7b82-419e-a812-8cba5b419878"
      },
      "source": [
        "clf = RandomizedSearchCV(RandomForestClassifier(random_state=1234), parameters, random_state=1234)\n",
        "clf.fit(X_train, y_train)\n",
        "clf.best_params_"
      ],
      "execution_count": 53,
      "outputs": [
        {
          "output_type": "execute_result",
          "data": {
            "text/plain": [
              "{'criterion': 'entropy',\n",
              " 'max_depth': None,\n",
              " 'min_samples_leaf': 10,\n",
              " 'min_samples_split': 8}"
            ]
          },
          "metadata": {
            "tags": []
          },
          "execution_count": 53
        }
      ]
    },
    {
      "cell_type": "code",
      "metadata": {
        "id": "GLg8zJln3wFf",
        "colab_type": "code",
        "colab": {}
      },
      "source": [
        "clf = GridSearchCV(RandomForestClassifier(), parameters)\n",
        "clf.fit(X_train, y_train)\n",
        "clf.best_params_"
      ],
      "execution_count": 0,
      "outputs": []
    },
    {
      "cell_type": "code",
      "metadata": {
        "id": "sPhkpFWu9x6S",
        "colab_type": "code",
        "colab": {}
      },
      "source": [
        ""
      ],
      "execution_count": 0,
      "outputs": []
    }
  ]
}
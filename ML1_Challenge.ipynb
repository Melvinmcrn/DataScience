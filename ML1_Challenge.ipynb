{
  "nbformat": 4,
  "nbformat_minor": 0,
  "metadata": {
    "colab": {
      "name": "Untitled3.ipynb",
      "provenance": [],
      "authorship_tag": "ABX9TyNQLzs81YXF7B119gQ+38rA",
      "include_colab_link": true
    },
    "kernelspec": {
      "name": "python3",
      "display_name": "Python 3"
    }
  },
  "cells": [
    {
      "cell_type": "markdown",
      "metadata": {
        "id": "view-in-github",
        "colab_type": "text"
      },
      "source": [
        "<a href=\"https://colab.research.google.com/github/Melvinmcrn/DataScience/blob/master/ML1_Challenge.ipynb\" target=\"_parent\"><img src=\"https://colab.research.google.com/assets/colab-badge.svg\" alt=\"Open In Colab\"/></a>"
      ]
    },
    {
      "cell_type": "code",
      "metadata": {
        "id": "zNbZ-fHxjdw3",
        "colab_type": "code",
        "colab": {}
      },
      "source": [
        "import pandas as pd\n",
        "import numpy as np\n",
        "from sklearn.model_selection import train_test_split\n",
        "from sklearn.ensemble import RandomForestClassifier\n",
        "from sklearn.model_selection import GridSearchCV, RandomizedSearchCV\n",
        "from sklearn.neural_network import MLPClassifier\n",
        "from sklearn.neighbors import KNeighborsClassifier"
      ],
      "execution_count": 0,
      "outputs": []
    },
    {
      "cell_type": "code",
      "metadata": {
        "id": "r80AT9lujzLk",
        "colab_type": "code",
        "outputId": "ad75184c-2467-476e-938e-f9326c1ccedd",
        "colab": {
          "base_uri": "https://localhost:8080/",
          "height": 279
        }
      },
      "source": [
        "columns_name = ['age','workclass','fnlwgt','education','education-num','maritial-status','occupation','relationship','race','sex','capital-gain','capital-loss','hours-per-week','native-country','salary']\n",
        "data = pd.read_csv('https://archive.ics.uci.edu/ml/machine-learning-databases/adult/adult.data', names=columns_name)\n",
        "data.head()"
      ],
      "execution_count": 3,
      "outputs": [
        {
          "output_type": "execute_result",
          "data": {
            "text/html": [
              "<div>\n",
              "<style scoped>\n",
              "    .dataframe tbody tr th:only-of-type {\n",
              "        vertical-align: middle;\n",
              "    }\n",
              "\n",
              "    .dataframe tbody tr th {\n",
              "        vertical-align: top;\n",
              "    }\n",
              "\n",
              "    .dataframe thead th {\n",
              "        text-align: right;\n",
              "    }\n",
              "</style>\n",
              "<table border=\"1\" class=\"dataframe\">\n",
              "  <thead>\n",
              "    <tr style=\"text-align: right;\">\n",
              "      <th></th>\n",
              "      <th>age</th>\n",
              "      <th>workclass</th>\n",
              "      <th>fnlwgt</th>\n",
              "      <th>education</th>\n",
              "      <th>education-num</th>\n",
              "      <th>maritial-status</th>\n",
              "      <th>occupation</th>\n",
              "      <th>relationship</th>\n",
              "      <th>race</th>\n",
              "      <th>sex</th>\n",
              "      <th>capital-gain</th>\n",
              "      <th>capital-loss</th>\n",
              "      <th>hours-per-week</th>\n",
              "      <th>native-country</th>\n",
              "      <th>salary</th>\n",
              "    </tr>\n",
              "  </thead>\n",
              "  <tbody>\n",
              "    <tr>\n",
              "      <th>0</th>\n",
              "      <td>39</td>\n",
              "      <td>State-gov</td>\n",
              "      <td>77516</td>\n",
              "      <td>Bachelors</td>\n",
              "      <td>13</td>\n",
              "      <td>Never-married</td>\n",
              "      <td>Adm-clerical</td>\n",
              "      <td>Not-in-family</td>\n",
              "      <td>White</td>\n",
              "      <td>Male</td>\n",
              "      <td>2174</td>\n",
              "      <td>0</td>\n",
              "      <td>40</td>\n",
              "      <td>United-States</td>\n",
              "      <td>&lt;=50K</td>\n",
              "    </tr>\n",
              "    <tr>\n",
              "      <th>1</th>\n",
              "      <td>50</td>\n",
              "      <td>Self-emp-not-inc</td>\n",
              "      <td>83311</td>\n",
              "      <td>Bachelors</td>\n",
              "      <td>13</td>\n",
              "      <td>Married-civ-spouse</td>\n",
              "      <td>Exec-managerial</td>\n",
              "      <td>Husband</td>\n",
              "      <td>White</td>\n",
              "      <td>Male</td>\n",
              "      <td>0</td>\n",
              "      <td>0</td>\n",
              "      <td>13</td>\n",
              "      <td>United-States</td>\n",
              "      <td>&lt;=50K</td>\n",
              "    </tr>\n",
              "    <tr>\n",
              "      <th>2</th>\n",
              "      <td>38</td>\n",
              "      <td>Private</td>\n",
              "      <td>215646</td>\n",
              "      <td>HS-grad</td>\n",
              "      <td>9</td>\n",
              "      <td>Divorced</td>\n",
              "      <td>Handlers-cleaners</td>\n",
              "      <td>Not-in-family</td>\n",
              "      <td>White</td>\n",
              "      <td>Male</td>\n",
              "      <td>0</td>\n",
              "      <td>0</td>\n",
              "      <td>40</td>\n",
              "      <td>United-States</td>\n",
              "      <td>&lt;=50K</td>\n",
              "    </tr>\n",
              "    <tr>\n",
              "      <th>3</th>\n",
              "      <td>53</td>\n",
              "      <td>Private</td>\n",
              "      <td>234721</td>\n",
              "      <td>11th</td>\n",
              "      <td>7</td>\n",
              "      <td>Married-civ-spouse</td>\n",
              "      <td>Handlers-cleaners</td>\n",
              "      <td>Husband</td>\n",
              "      <td>Black</td>\n",
              "      <td>Male</td>\n",
              "      <td>0</td>\n",
              "      <td>0</td>\n",
              "      <td>40</td>\n",
              "      <td>United-States</td>\n",
              "      <td>&lt;=50K</td>\n",
              "    </tr>\n",
              "    <tr>\n",
              "      <th>4</th>\n",
              "      <td>28</td>\n",
              "      <td>Private</td>\n",
              "      <td>338409</td>\n",
              "      <td>Bachelors</td>\n",
              "      <td>13</td>\n",
              "      <td>Married-civ-spouse</td>\n",
              "      <td>Prof-specialty</td>\n",
              "      <td>Wife</td>\n",
              "      <td>Black</td>\n",
              "      <td>Female</td>\n",
              "      <td>0</td>\n",
              "      <td>0</td>\n",
              "      <td>40</td>\n",
              "      <td>Cuba</td>\n",
              "      <td>&lt;=50K</td>\n",
              "    </tr>\n",
              "  </tbody>\n",
              "</table>\n",
              "</div>"
            ],
            "text/plain": [
              "   age          workclass  fnlwgt  ... hours-per-week  native-country  salary\n",
              "0   39          State-gov   77516  ...             40   United-States   <=50K\n",
              "1   50   Self-emp-not-inc   83311  ...             13   United-States   <=50K\n",
              "2   38            Private  215646  ...             40   United-States   <=50K\n",
              "3   53            Private  234721  ...             40   United-States   <=50K\n",
              "4   28            Private  338409  ...             40            Cuba   <=50K\n",
              "\n",
              "[5 rows x 15 columns]"
            ]
          },
          "metadata": {
            "tags": []
          },
          "execution_count": 3
        }
      ]
    },
    {
      "cell_type": "code",
      "metadata": {
        "id": "qvI4A2KFklm0",
        "colab_type": "code",
        "outputId": "68d96987-e78e-4f54-cf8a-22ae9421f2fd",
        "colab": {
          "base_uri": "https://localhost:8080/",
          "height": 353
        }
      },
      "source": [
        "data.info()"
      ],
      "execution_count": 4,
      "outputs": [
        {
          "output_type": "stream",
          "text": [
            "<class 'pandas.core.frame.DataFrame'>\n",
            "RangeIndex: 32561 entries, 0 to 32560\n",
            "Data columns (total 15 columns):\n",
            "age                32561 non-null int64\n",
            "workclass          32561 non-null object\n",
            "fnlwgt             32561 non-null int64\n",
            "education          32561 non-null object\n",
            "education-num      32561 non-null int64\n",
            "maritial-status    32561 non-null object\n",
            "occupation         32561 non-null object\n",
            "relationship       32561 non-null object\n",
            "race               32561 non-null object\n",
            "sex                32561 non-null object\n",
            "capital-gain       32561 non-null int64\n",
            "capital-loss       32561 non-null int64\n",
            "hours-per-week     32561 non-null int64\n",
            "native-country     32561 non-null object\n",
            "salary             32561 non-null object\n",
            "dtypes: int64(6), object(9)\n",
            "memory usage: 3.7+ MB\n"
          ],
          "name": "stdout"
        }
      ]
    },
    {
      "cell_type": "code",
      "metadata": {
        "id": "ghmCX6QclTml",
        "colab_type": "code",
        "outputId": "ddbf0b68-906e-4543-900f-11748bd67b95",
        "colab": {
          "base_uri": "https://localhost:8080/",
          "height": 284
        }
      },
      "source": [
        "data.describe()"
      ],
      "execution_count": 5,
      "outputs": [
        {
          "output_type": "execute_result",
          "data": {
            "text/html": [
              "<div>\n",
              "<style scoped>\n",
              "    .dataframe tbody tr th:only-of-type {\n",
              "        vertical-align: middle;\n",
              "    }\n",
              "\n",
              "    .dataframe tbody tr th {\n",
              "        vertical-align: top;\n",
              "    }\n",
              "\n",
              "    .dataframe thead th {\n",
              "        text-align: right;\n",
              "    }\n",
              "</style>\n",
              "<table border=\"1\" class=\"dataframe\">\n",
              "  <thead>\n",
              "    <tr style=\"text-align: right;\">\n",
              "      <th></th>\n",
              "      <th>age</th>\n",
              "      <th>fnlwgt</th>\n",
              "      <th>education-num</th>\n",
              "      <th>capital-gain</th>\n",
              "      <th>capital-loss</th>\n",
              "      <th>hours-per-week</th>\n",
              "    </tr>\n",
              "  </thead>\n",
              "  <tbody>\n",
              "    <tr>\n",
              "      <th>count</th>\n",
              "      <td>32561.000000</td>\n",
              "      <td>3.256100e+04</td>\n",
              "      <td>32561.000000</td>\n",
              "      <td>32561.000000</td>\n",
              "      <td>32561.000000</td>\n",
              "      <td>32561.000000</td>\n",
              "    </tr>\n",
              "    <tr>\n",
              "      <th>mean</th>\n",
              "      <td>38.581647</td>\n",
              "      <td>1.897784e+05</td>\n",
              "      <td>10.080679</td>\n",
              "      <td>1077.648844</td>\n",
              "      <td>87.303830</td>\n",
              "      <td>40.437456</td>\n",
              "    </tr>\n",
              "    <tr>\n",
              "      <th>std</th>\n",
              "      <td>13.640433</td>\n",
              "      <td>1.055500e+05</td>\n",
              "      <td>2.572720</td>\n",
              "      <td>7385.292085</td>\n",
              "      <td>402.960219</td>\n",
              "      <td>12.347429</td>\n",
              "    </tr>\n",
              "    <tr>\n",
              "      <th>min</th>\n",
              "      <td>17.000000</td>\n",
              "      <td>1.228500e+04</td>\n",
              "      <td>1.000000</td>\n",
              "      <td>0.000000</td>\n",
              "      <td>0.000000</td>\n",
              "      <td>1.000000</td>\n",
              "    </tr>\n",
              "    <tr>\n",
              "      <th>25%</th>\n",
              "      <td>28.000000</td>\n",
              "      <td>1.178270e+05</td>\n",
              "      <td>9.000000</td>\n",
              "      <td>0.000000</td>\n",
              "      <td>0.000000</td>\n",
              "      <td>40.000000</td>\n",
              "    </tr>\n",
              "    <tr>\n",
              "      <th>50%</th>\n",
              "      <td>37.000000</td>\n",
              "      <td>1.783560e+05</td>\n",
              "      <td>10.000000</td>\n",
              "      <td>0.000000</td>\n",
              "      <td>0.000000</td>\n",
              "      <td>40.000000</td>\n",
              "    </tr>\n",
              "    <tr>\n",
              "      <th>75%</th>\n",
              "      <td>48.000000</td>\n",
              "      <td>2.370510e+05</td>\n",
              "      <td>12.000000</td>\n",
              "      <td>0.000000</td>\n",
              "      <td>0.000000</td>\n",
              "      <td>45.000000</td>\n",
              "    </tr>\n",
              "    <tr>\n",
              "      <th>max</th>\n",
              "      <td>90.000000</td>\n",
              "      <td>1.484705e+06</td>\n",
              "      <td>16.000000</td>\n",
              "      <td>99999.000000</td>\n",
              "      <td>4356.000000</td>\n",
              "      <td>99.000000</td>\n",
              "    </tr>\n",
              "  </tbody>\n",
              "</table>\n",
              "</div>"
            ],
            "text/plain": [
              "                age        fnlwgt  ...  capital-loss  hours-per-week\n",
              "count  32561.000000  3.256100e+04  ...  32561.000000    32561.000000\n",
              "mean      38.581647  1.897784e+05  ...     87.303830       40.437456\n",
              "std       13.640433  1.055500e+05  ...    402.960219       12.347429\n",
              "min       17.000000  1.228500e+04  ...      0.000000        1.000000\n",
              "25%       28.000000  1.178270e+05  ...      0.000000       40.000000\n",
              "50%       37.000000  1.783560e+05  ...      0.000000       40.000000\n",
              "75%       48.000000  2.370510e+05  ...      0.000000       45.000000\n",
              "max       90.000000  1.484705e+06  ...   4356.000000       99.000000\n",
              "\n",
              "[8 rows x 6 columns]"
            ]
          },
          "metadata": {
            "tags": []
          },
          "execution_count": 5
        }
      ]
    },
    {
      "cell_type": "markdown",
      "metadata": {
        "id": "lb2Y3Elknpuw",
        "colab_type": "text"
      },
      "source": [
        "# Data Preparation"
      ]
    },
    {
      "cell_type": "markdown",
      "metadata": {
        "id": "xX_A4LZc6yuV",
        "colab_type": "text"
      },
      "source": [
        "First, strip every data in the dataframe because every data start with a space."
      ]
    },
    {
      "cell_type": "code",
      "metadata": {
        "id": "5c90Qidv59G6",
        "colab_type": "code",
        "outputId": "2a191e6b-63c1-49d0-88b9-133454fad932",
        "colab": {
          "base_uri": "https://localhost:8080/",
          "height": 0
        }
      },
      "source": [
        "df_obj = data.select_dtypes(['object'])\n",
        "data[df_obj.columns] = df_obj.apply(lambda x: x.str.strip())\n",
        "data['sex'][0]"
      ],
      "execution_count": 6,
      "outputs": [
        {
          "output_type": "execute_result",
          "data": {
            "text/plain": [
              "'Male'"
            ]
          },
          "metadata": {
            "tags": []
          },
          "execution_count": 6
        }
      ]
    },
    {
      "cell_type": "markdown",
      "metadata": {
        "id": "Yr6O2AcYCDTs",
        "colab_type": "text"
      },
      "source": [
        "Set '?' value to null so we can deal with NaN easily later."
      ]
    },
    {
      "cell_type": "code",
      "metadata": {
        "id": "OrxXkRiiC5ls",
        "colab_type": "code",
        "colab": {}
      },
      "source": [
        "def CheckQuestionValue():\n",
        "  for c in data.columns:\n",
        "    if len(data.loc[data[c] == '?']):\n",
        "      print(c)"
      ],
      "execution_count": 0,
      "outputs": []
    },
    {
      "cell_type": "code",
      "metadata": {
        "id": "QE1hkHFVC_jm",
        "colab_type": "code",
        "outputId": "e19014be-81e7-46d6-fbda-258444c592e6",
        "colab": {
          "base_uri": "https://localhost:8080/",
          "height": 0
        }
      },
      "source": [
        "CheckQuestionValue()"
      ],
      "execution_count": 8,
      "outputs": [
        {
          "output_type": "stream",
          "text": [
            "workclass\n",
            "occupation\n",
            "native-country\n"
          ],
          "name": "stdout"
        },
        {
          "output_type": "stream",
          "text": [
            "/usr/local/lib/python3.6/dist-packages/pandas/core/ops/__init__.py:1115: FutureWarning: elementwise comparison failed; returning scalar instead, but in the future will perform elementwise comparison\n",
            "  result = method(y)\n"
          ],
          "name": "stderr"
        }
      ]
    },
    {
      "cell_type": "code",
      "metadata": {
        "id": "sEwGslzWCM9G",
        "colab_type": "code",
        "outputId": "ecf1b69e-e589-4260-ca48-64edb3a064d4",
        "colab": {
          "base_uri": "https://localhost:8080/",
          "height": 0
        }
      },
      "source": [
        "mapping_dict ={'?':np.nan}\n",
        "data = data.replace(mapping_dict)\n",
        "CheckQuestionValue()"
      ],
      "execution_count": 9,
      "outputs": [
        {
          "output_type": "stream",
          "text": [
            "/usr/local/lib/python3.6/dist-packages/pandas/core/ops/__init__.py:1115: FutureWarning: elementwise comparison failed; returning scalar instead, but in the future will perform elementwise comparison\n",
            "  result = method(y)\n"
          ],
          "name": "stderr"
        }
      ]
    },
    {
      "cell_type": "markdown",
      "metadata": {
        "id": "IBD207H-65N4",
        "colab_type": "text"
      },
      "source": [
        "Change sex data to (0 for Male) and (1 for Female)"
      ]
    },
    {
      "cell_type": "code",
      "metadata": {
        "id": "dqtUf87lmz5h",
        "colab_type": "code",
        "outputId": "6280d637-6358-4d27-b2bc-e156b131b42a",
        "colab": {
          "base_uri": "https://localhost:8080/",
          "height": 0
        }
      },
      "source": [
        "mapping_dict = { 'sex': {'Male':0, 'Female':1}}\n",
        "cleaned_data = data.replace(mapping_dict)\n",
        "cleaned_data.info()"
      ],
      "execution_count": 10,
      "outputs": [
        {
          "output_type": "stream",
          "text": [
            "<class 'pandas.core.frame.DataFrame'>\n",
            "RangeIndex: 32561 entries, 0 to 32560\n",
            "Data columns (total 15 columns):\n",
            "age                32561 non-null int64\n",
            "workclass          30725 non-null object\n",
            "fnlwgt             32561 non-null int64\n",
            "education          32561 non-null object\n",
            "education-num      32561 non-null int64\n",
            "maritial-status    32561 non-null object\n",
            "occupation         30718 non-null object\n",
            "relationship       32561 non-null object\n",
            "race               32561 non-null object\n",
            "sex                32561 non-null int64\n",
            "capital-gain       32561 non-null int64\n",
            "capital-loss       32561 non-null int64\n",
            "hours-per-week     32561 non-null int64\n",
            "native-country     31978 non-null object\n",
            "salary             32561 non-null object\n",
            "dtypes: int64(7), object(8)\n",
            "memory usage: 3.7+ MB\n"
          ],
          "name": "stdout"
        }
      ]
    },
    {
      "cell_type": "markdown",
      "metadata": {
        "id": "IBLe8cRBEDJO",
        "colab_type": "text"
      },
      "source": [
        "Change target value to 0 (>50K) and 1 (<=50K)"
      ]
    },
    {
      "cell_type": "code",
      "metadata": {
        "id": "wHFZkkZfEIxS",
        "colab_type": "code",
        "outputId": "ac6f3ccb-dd52-4ab3-f88c-85eca9760d89",
        "colab": {
          "base_uri": "https://localhost:8080/",
          "height": 0
        }
      },
      "source": [
        "mapping_dict = { 'salary': {'>50K':0, '<=50K':1}}\n",
        "cleaned_data = cleaned_data.replace(mapping_dict)\n",
        "cleaned_data.info()"
      ],
      "execution_count": 11,
      "outputs": [
        {
          "output_type": "stream",
          "text": [
            "<class 'pandas.core.frame.DataFrame'>\n",
            "RangeIndex: 32561 entries, 0 to 32560\n",
            "Data columns (total 15 columns):\n",
            "age                32561 non-null int64\n",
            "workclass          30725 non-null object\n",
            "fnlwgt             32561 non-null int64\n",
            "education          32561 non-null object\n",
            "education-num      32561 non-null int64\n",
            "maritial-status    32561 non-null object\n",
            "occupation         30718 non-null object\n",
            "relationship       32561 non-null object\n",
            "race               32561 non-null object\n",
            "sex                32561 non-null int64\n",
            "capital-gain       32561 non-null int64\n",
            "capital-loss       32561 non-null int64\n",
            "hours-per-week     32561 non-null int64\n",
            "native-country     31978 non-null object\n",
            "salary             32561 non-null int64\n",
            "dtypes: int64(8), object(7)\n",
            "memory usage: 3.7+ MB\n"
          ],
          "name": "stdout"
        }
      ]
    },
    {
      "cell_type": "markdown",
      "metadata": {
        "id": "g2Oy24uiUcoD",
        "colab_type": "text"
      },
      "source": [
        "Deal with cat data and make them numeric"
      ]
    },
    {
      "cell_type": "code",
      "metadata": {
        "id": "YmaCHHAXUcSv",
        "colab_type": "code",
        "colab": {
          "base_uri": "https://localhost:8080/",
          "height": 0
        },
        "outputId": "b8a8e71d-859d-4532-ecf7-551ff548a5ec"
      },
      "source": [
        "cleaned_data['workclass'].value_counts()"
      ],
      "execution_count": 12,
      "outputs": [
        {
          "output_type": "execute_result",
          "data": {
            "text/plain": [
              "Private             22696\n",
              "Self-emp-not-inc     2541\n",
              "Local-gov            2093\n",
              "State-gov            1298\n",
              "Self-emp-inc         1116\n",
              "Federal-gov           960\n",
              "Without-pay            14\n",
              "Never-worked            7\n",
              "Name: workclass, dtype: int64"
            ]
          },
          "metadata": {
            "tags": []
          },
          "execution_count": 12
        }
      ]
    },
    {
      "cell_type": "code",
      "metadata": {
        "id": "kjNisjS3np7I",
        "colab_type": "code",
        "colab": {
          "base_uri": "https://localhost:8080/",
          "height": 0
        },
        "outputId": "6af014ab-27b9-42f3-d99b-cfbcea4e1c7b"
      },
      "source": [
        "dummy = pd.get_dummies(cleaned_data['workclass'], drop_first=True)\n",
        "dummy.head(5)"
      ],
      "execution_count": 13,
      "outputs": [
        {
          "output_type": "execute_result",
          "data": {
            "text/html": [
              "<div>\n",
              "<style scoped>\n",
              "    .dataframe tbody tr th:only-of-type {\n",
              "        vertical-align: middle;\n",
              "    }\n",
              "\n",
              "    .dataframe tbody tr th {\n",
              "        vertical-align: top;\n",
              "    }\n",
              "\n",
              "    .dataframe thead th {\n",
              "        text-align: right;\n",
              "    }\n",
              "</style>\n",
              "<table border=\"1\" class=\"dataframe\">\n",
              "  <thead>\n",
              "    <tr style=\"text-align: right;\">\n",
              "      <th></th>\n",
              "      <th>Local-gov</th>\n",
              "      <th>Never-worked</th>\n",
              "      <th>Private</th>\n",
              "      <th>Self-emp-inc</th>\n",
              "      <th>Self-emp-not-inc</th>\n",
              "      <th>State-gov</th>\n",
              "      <th>Without-pay</th>\n",
              "    </tr>\n",
              "  </thead>\n",
              "  <tbody>\n",
              "    <tr>\n",
              "      <th>0</th>\n",
              "      <td>0</td>\n",
              "      <td>0</td>\n",
              "      <td>0</td>\n",
              "      <td>0</td>\n",
              "      <td>0</td>\n",
              "      <td>1</td>\n",
              "      <td>0</td>\n",
              "    </tr>\n",
              "    <tr>\n",
              "      <th>1</th>\n",
              "      <td>0</td>\n",
              "      <td>0</td>\n",
              "      <td>0</td>\n",
              "      <td>0</td>\n",
              "      <td>1</td>\n",
              "      <td>0</td>\n",
              "      <td>0</td>\n",
              "    </tr>\n",
              "    <tr>\n",
              "      <th>2</th>\n",
              "      <td>0</td>\n",
              "      <td>0</td>\n",
              "      <td>1</td>\n",
              "      <td>0</td>\n",
              "      <td>0</td>\n",
              "      <td>0</td>\n",
              "      <td>0</td>\n",
              "    </tr>\n",
              "    <tr>\n",
              "      <th>3</th>\n",
              "      <td>0</td>\n",
              "      <td>0</td>\n",
              "      <td>1</td>\n",
              "      <td>0</td>\n",
              "      <td>0</td>\n",
              "      <td>0</td>\n",
              "      <td>0</td>\n",
              "    </tr>\n",
              "    <tr>\n",
              "      <th>4</th>\n",
              "      <td>0</td>\n",
              "      <td>0</td>\n",
              "      <td>1</td>\n",
              "      <td>0</td>\n",
              "      <td>0</td>\n",
              "      <td>0</td>\n",
              "      <td>0</td>\n",
              "    </tr>\n",
              "  </tbody>\n",
              "</table>\n",
              "</div>"
            ],
            "text/plain": [
              "   Local-gov  Never-worked  Private  ...  Self-emp-not-inc  State-gov  Without-pay\n",
              "0          0             0        0  ...                 0          1            0\n",
              "1          0             0        0  ...                 1          0            0\n",
              "2          0             0        1  ...                 0          0            0\n",
              "3          0             0        1  ...                 0          0            0\n",
              "4          0             0        1  ...                 0          0            0\n",
              "\n",
              "[5 rows x 7 columns]"
            ]
          },
          "metadata": {
            "tags": []
          },
          "execution_count": 13
        }
      ]
    },
    {
      "cell_type": "code",
      "metadata": {
        "id": "8eaOApQ5qCoT",
        "colab_type": "code",
        "colab": {
          "base_uri": "https://localhost:8080/",
          "height": 0
        },
        "outputId": "d688c4f2-761b-47e3-c274-b2767f648f4b"
      },
      "source": [
        "cleaned_data = pd.concat([cleaned_data, dummy], axis=1)\n",
        "cleaned_data = cleaned_data.drop(['workclass'], axis=1)\n",
        "cleaned_data.info()"
      ],
      "execution_count": 14,
      "outputs": [
        {
          "output_type": "stream",
          "text": [
            "<class 'pandas.core.frame.DataFrame'>\n",
            "RangeIndex: 32561 entries, 0 to 32560\n",
            "Data columns (total 21 columns):\n",
            "age                 32561 non-null int64\n",
            "fnlwgt              32561 non-null int64\n",
            "education           32561 non-null object\n",
            "education-num       32561 non-null int64\n",
            "maritial-status     32561 non-null object\n",
            "occupation          30718 non-null object\n",
            "relationship        32561 non-null object\n",
            "race                32561 non-null object\n",
            "sex                 32561 non-null int64\n",
            "capital-gain        32561 non-null int64\n",
            "capital-loss        32561 non-null int64\n",
            "hours-per-week      32561 non-null int64\n",
            "native-country      31978 non-null object\n",
            "salary              32561 non-null int64\n",
            "Local-gov           32561 non-null uint8\n",
            "Never-worked        32561 non-null uint8\n",
            "Private             32561 non-null uint8\n",
            "Self-emp-inc        32561 non-null uint8\n",
            "Self-emp-not-inc    32561 non-null uint8\n",
            "State-gov           32561 non-null uint8\n",
            "Without-pay         32561 non-null uint8\n",
            "dtypes: int64(8), object(6), uint8(7)\n",
            "memory usage: 3.7+ MB\n"
          ],
          "name": "stdout"
        }
      ]
    },
    {
      "cell_type": "code",
      "metadata": {
        "id": "4Lom1i-_1hiA",
        "colab_type": "code",
        "colab": {
          "base_uri": "https://localhost:8080/",
          "height": 0
        },
        "outputId": "1c56fa52-c125-4aa7-98fb-7d191357b760"
      },
      "source": [
        "cleaned_data['education'].value_counts()"
      ],
      "execution_count": 15,
      "outputs": [
        {
          "output_type": "execute_result",
          "data": {
            "text/plain": [
              "HS-grad         10501\n",
              "Some-college     7291\n",
              "Bachelors        5355\n",
              "Masters          1723\n",
              "Assoc-voc        1382\n",
              "11th             1175\n",
              "Assoc-acdm       1067\n",
              "10th              933\n",
              "7th-8th           646\n",
              "Prof-school       576\n",
              "9th               514\n",
              "12th              433\n",
              "Doctorate         413\n",
              "5th-6th           333\n",
              "1st-4th           168\n",
              "Preschool          51\n",
              "Name: education, dtype: int64"
            ]
          },
          "metadata": {
            "tags": []
          },
          "execution_count": 15
        }
      ]
    },
    {
      "cell_type": "code",
      "metadata": {
        "id": "1lkGJziCqds1",
        "colab_type": "code",
        "colab": {}
      },
      "source": [
        "dummy = pd.get_dummies(cleaned_data['education'], drop_first=True)\n",
        "cleaned_data = pd.concat([cleaned_data, dummy], axis=1)\n",
        "cleaned_data = cleaned_data.drop(['education'], axis=1)"
      ],
      "execution_count": 0,
      "outputs": []
    },
    {
      "cell_type": "code",
      "metadata": {
        "id": "YWlccDpH1rcv",
        "colab_type": "code",
        "colab": {
          "base_uri": "https://localhost:8080/",
          "height": 0
        },
        "outputId": "0d8107c8-76de-4468-9f50-97afc94f473c"
      },
      "source": [
        "cleaned_data['maritial-status'].value_counts()"
      ],
      "execution_count": 17,
      "outputs": [
        {
          "output_type": "execute_result",
          "data": {
            "text/plain": [
              "Married-civ-spouse       14976\n",
              "Never-married            10683\n",
              "Divorced                  4443\n",
              "Separated                 1025\n",
              "Widowed                    993\n",
              "Married-spouse-absent      418\n",
              "Married-AF-spouse           23\n",
              "Name: maritial-status, dtype: int64"
            ]
          },
          "metadata": {
            "tags": []
          },
          "execution_count": 17
        }
      ]
    },
    {
      "cell_type": "code",
      "metadata": {
        "id": "E4J4uBcrrMjl",
        "colab_type": "code",
        "colab": {}
      },
      "source": [
        "dummy = pd.get_dummies(cleaned_data['maritial-status'], drop_first=True)\n",
        "cleaned_data = pd.concat([cleaned_data, dummy], axis=1)\n",
        "cleaned_data = cleaned_data.drop(['maritial-status'], axis=1)"
      ],
      "execution_count": 0,
      "outputs": []
    },
    {
      "cell_type": "code",
      "metadata": {
        "id": "rfTuTxVV1u7d",
        "colab_type": "code",
        "colab": {
          "base_uri": "https://localhost:8080/",
          "height": 0
        },
        "outputId": "446df173-104a-46e6-c444-8529aeaa730b"
      },
      "source": [
        "cleaned_data['occupation'].value_counts()"
      ],
      "execution_count": 19,
      "outputs": [
        {
          "output_type": "execute_result",
          "data": {
            "text/plain": [
              "Prof-specialty       4140\n",
              "Craft-repair         4099\n",
              "Exec-managerial      4066\n",
              "Adm-clerical         3770\n",
              "Sales                3650\n",
              "Other-service        3295\n",
              "Machine-op-inspct    2002\n",
              "Transport-moving     1597\n",
              "Handlers-cleaners    1370\n",
              "Farming-fishing       994\n",
              "Tech-support          928\n",
              "Protective-serv       649\n",
              "Priv-house-serv       149\n",
              "Armed-Forces            9\n",
              "Name: occupation, dtype: int64"
            ]
          },
          "metadata": {
            "tags": []
          },
          "execution_count": 19
        }
      ]
    },
    {
      "cell_type": "code",
      "metadata": {
        "id": "t1Sgu7nGrZOj",
        "colab_type": "code",
        "colab": {}
      },
      "source": [
        "dummy = pd.get_dummies(cleaned_data['occupation'], drop_first=True)\n",
        "cleaned_data = pd.concat([cleaned_data, dummy], axis=1)\n",
        "cleaned_data = cleaned_data.drop(['occupation'], axis=1)"
      ],
      "execution_count": 0,
      "outputs": []
    },
    {
      "cell_type": "code",
      "metadata": {
        "id": "gRCA7K-z1xnL",
        "colab_type": "code",
        "colab": {
          "base_uri": "https://localhost:8080/",
          "height": 0
        },
        "outputId": "c58a0e85-eb8e-4c4d-9b44-908418bb2d49"
      },
      "source": [
        "cleaned_data['relationship'].value_counts()"
      ],
      "execution_count": 21,
      "outputs": [
        {
          "output_type": "execute_result",
          "data": {
            "text/plain": [
              "Husband           13193\n",
              "Not-in-family      8305\n",
              "Own-child          5068\n",
              "Unmarried          3446\n",
              "Wife               1568\n",
              "Other-relative      981\n",
              "Name: relationship, dtype: int64"
            ]
          },
          "metadata": {
            "tags": []
          },
          "execution_count": 21
        }
      ]
    },
    {
      "cell_type": "code",
      "metadata": {
        "id": "8Bt5YgLBrbWN",
        "colab_type": "code",
        "colab": {}
      },
      "source": [
        "dummy = pd.get_dummies(cleaned_data['relationship'], drop_first=True)\n",
        "cleaned_data = pd.concat([cleaned_data, dummy], axis=1)\n",
        "cleaned_data = cleaned_data.drop(['relationship'], axis=1)"
      ],
      "execution_count": 0,
      "outputs": []
    },
    {
      "cell_type": "code",
      "metadata": {
        "id": "7eAY-yal10W_",
        "colab_type": "code",
        "colab": {
          "base_uri": "https://localhost:8080/",
          "height": 0
        },
        "outputId": "38d57061-1170-4f3b-9177-86344a044b62"
      },
      "source": [
        "cleaned_data['race'].value_counts()"
      ],
      "execution_count": 23,
      "outputs": [
        {
          "output_type": "execute_result",
          "data": {
            "text/plain": [
              "White                 27816\n",
              "Black                  3124\n",
              "Asian-Pac-Islander     1039\n",
              "Amer-Indian-Eskimo      311\n",
              "Other                   271\n",
              "Name: race, dtype: int64"
            ]
          },
          "metadata": {
            "tags": []
          },
          "execution_count": 23
        }
      ]
    },
    {
      "cell_type": "code",
      "metadata": {
        "id": "RtVmmNshrgj0",
        "colab_type": "code",
        "colab": {}
      },
      "source": [
        "dummy = pd.get_dummies(cleaned_data['race'], drop_first=True)\n",
        "cleaned_data = pd.concat([cleaned_data, dummy], axis=1)\n",
        "cleaned_data = cleaned_data.drop(['race'], axis=1)"
      ],
      "execution_count": 0,
      "outputs": []
    },
    {
      "cell_type": "code",
      "metadata": {
        "id": "6sEPaHGc12wc",
        "colab_type": "code",
        "colab": {
          "base_uri": "https://localhost:8080/",
          "height": 0
        },
        "outputId": "889d60a2-d54f-4d23-be80-8e3ba59238c6"
      },
      "source": [
        "cleaned_data['native-country'].value_counts()"
      ],
      "execution_count": 25,
      "outputs": [
        {
          "output_type": "execute_result",
          "data": {
            "text/plain": [
              "United-States                 29170\n",
              "Mexico                          643\n",
              "Philippines                     198\n",
              "Germany                         137\n",
              "Canada                          121\n",
              "Puerto-Rico                     114\n",
              "El-Salvador                     106\n",
              "India                           100\n",
              "Cuba                             95\n",
              "England                          90\n",
              "Jamaica                          81\n",
              "South                            80\n",
              "China                            75\n",
              "Italy                            73\n",
              "Dominican-Republic               70\n",
              "Vietnam                          67\n",
              "Guatemala                        64\n",
              "Japan                            62\n",
              "Poland                           60\n",
              "Columbia                         59\n",
              "Taiwan                           51\n",
              "Haiti                            44\n",
              "Iran                             43\n",
              "Portugal                         37\n",
              "Nicaragua                        34\n",
              "Peru                             31\n",
              "France                           29\n",
              "Greece                           29\n",
              "Ecuador                          28\n",
              "Ireland                          24\n",
              "Hong                             20\n",
              "Cambodia                         19\n",
              "Trinadad&Tobago                  19\n",
              "Laos                             18\n",
              "Thailand                         18\n",
              "Yugoslavia                       16\n",
              "Outlying-US(Guam-USVI-etc)       14\n",
              "Honduras                         13\n",
              "Hungary                          13\n",
              "Scotland                         12\n",
              "Holand-Netherlands                1\n",
              "Name: native-country, dtype: int64"
            ]
          },
          "metadata": {
            "tags": []
          },
          "execution_count": 25
        }
      ]
    },
    {
      "cell_type": "code",
      "metadata": {
        "id": "-NTGAbWWrjqp",
        "colab_type": "code",
        "colab": {}
      },
      "source": [
        "#drop native-country because there are too many value\n",
        "cleaned_data = cleaned_data.drop(['native-country'], axis=1)"
      ],
      "execution_count": 0,
      "outputs": []
    },
    {
      "cell_type": "code",
      "metadata": {
        "id": "x3UrVzokrub8",
        "colab_type": "code",
        "colab": {
          "base_uri": "https://localhost:8080/",
          "height": 0
        },
        "outputId": "f5fce321-ab41-4d69-b57d-e4b636563b82"
      },
      "source": [
        "cleaned_data.info()"
      ],
      "execution_count": 27,
      "outputs": [
        {
          "output_type": "stream",
          "text": [
            "<class 'pandas.core.frame.DataFrame'>\n",
            "RangeIndex: 32561 entries, 0 to 32560\n",
            "Data columns (total 58 columns):\n",
            "age                      32561 non-null int64\n",
            "fnlwgt                   32561 non-null int64\n",
            "education-num            32561 non-null int64\n",
            "sex                      32561 non-null int64\n",
            "capital-gain             32561 non-null int64\n",
            "capital-loss             32561 non-null int64\n",
            "hours-per-week           32561 non-null int64\n",
            "salary                   32561 non-null int64\n",
            "Local-gov                32561 non-null uint8\n",
            "Never-worked             32561 non-null uint8\n",
            "Private                  32561 non-null uint8\n",
            "Self-emp-inc             32561 non-null uint8\n",
            "Self-emp-not-inc         32561 non-null uint8\n",
            "State-gov                32561 non-null uint8\n",
            "Without-pay              32561 non-null uint8\n",
            "11th                     32561 non-null uint8\n",
            "12th                     32561 non-null uint8\n",
            "1st-4th                  32561 non-null uint8\n",
            "5th-6th                  32561 non-null uint8\n",
            "7th-8th                  32561 non-null uint8\n",
            "9th                      32561 non-null uint8\n",
            "Assoc-acdm               32561 non-null uint8\n",
            "Assoc-voc                32561 non-null uint8\n",
            "Bachelors                32561 non-null uint8\n",
            "Doctorate                32561 non-null uint8\n",
            "HS-grad                  32561 non-null uint8\n",
            "Masters                  32561 non-null uint8\n",
            "Preschool                32561 non-null uint8\n",
            "Prof-school              32561 non-null uint8\n",
            "Some-college             32561 non-null uint8\n",
            "Married-AF-spouse        32561 non-null uint8\n",
            "Married-civ-spouse       32561 non-null uint8\n",
            "Married-spouse-absent    32561 non-null uint8\n",
            "Never-married            32561 non-null uint8\n",
            "Separated                32561 non-null uint8\n",
            "Widowed                  32561 non-null uint8\n",
            "Armed-Forces             32561 non-null uint8\n",
            "Craft-repair             32561 non-null uint8\n",
            "Exec-managerial          32561 non-null uint8\n",
            "Farming-fishing          32561 non-null uint8\n",
            "Handlers-cleaners        32561 non-null uint8\n",
            "Machine-op-inspct        32561 non-null uint8\n",
            "Other-service            32561 non-null uint8\n",
            "Priv-house-serv          32561 non-null uint8\n",
            "Prof-specialty           32561 non-null uint8\n",
            "Protective-serv          32561 non-null uint8\n",
            "Sales                    32561 non-null uint8\n",
            "Tech-support             32561 non-null uint8\n",
            "Transport-moving         32561 non-null uint8\n",
            "Not-in-family            32561 non-null uint8\n",
            "Other-relative           32561 non-null uint8\n",
            "Own-child                32561 non-null uint8\n",
            "Unmarried                32561 non-null uint8\n",
            "Wife                     32561 non-null uint8\n",
            "Asian-Pac-Islander       32561 non-null uint8\n",
            "Black                    32561 non-null uint8\n",
            "Other                    32561 non-null uint8\n",
            "White                    32561 non-null uint8\n",
            "dtypes: int64(8), uint8(50)\n",
            "memory usage: 3.5 MB\n"
          ],
          "name": "stdout"
        }
      ]
    },
    {
      "cell_type": "code",
      "metadata": {
        "id": "0wNiOlkyB41B",
        "colab_type": "code",
        "outputId": "3b6813e7-2859-4172-fd3f-f32aad469685",
        "colab": {
          "base_uri": "https://localhost:8080/",
          "height": 0
        }
      },
      "source": [
        "cleaned_data.isnull().sum()"
      ],
      "execution_count": 28,
      "outputs": [
        {
          "output_type": "execute_result",
          "data": {
            "text/plain": [
              "age                      0\n",
              "fnlwgt                   0\n",
              "education-num            0\n",
              "sex                      0\n",
              "capital-gain             0\n",
              "capital-loss             0\n",
              "hours-per-week           0\n",
              "salary                   0\n",
              "Local-gov                0\n",
              "Never-worked             0\n",
              "Private                  0\n",
              "Self-emp-inc             0\n",
              "Self-emp-not-inc         0\n",
              "State-gov                0\n",
              "Without-pay              0\n",
              "11th                     0\n",
              "12th                     0\n",
              "1st-4th                  0\n",
              "5th-6th                  0\n",
              "7th-8th                  0\n",
              "9th                      0\n",
              "Assoc-acdm               0\n",
              "Assoc-voc                0\n",
              "Bachelors                0\n",
              "Doctorate                0\n",
              "HS-grad                  0\n",
              "Masters                  0\n",
              "Preschool                0\n",
              "Prof-school              0\n",
              "Some-college             0\n",
              "Married-AF-spouse        0\n",
              "Married-civ-spouse       0\n",
              "Married-spouse-absent    0\n",
              "Never-married            0\n",
              "Separated                0\n",
              "Widowed                  0\n",
              "Armed-Forces             0\n",
              "Craft-repair             0\n",
              "Exec-managerial          0\n",
              "Farming-fishing          0\n",
              "Handlers-cleaners        0\n",
              "Machine-op-inspct        0\n",
              "Other-service            0\n",
              "Priv-house-serv          0\n",
              "Prof-specialty           0\n",
              "Protective-serv          0\n",
              "Sales                    0\n",
              "Tech-support             0\n",
              "Transport-moving         0\n",
              "Not-in-family            0\n",
              "Other-relative           0\n",
              "Own-child                0\n",
              "Unmarried                0\n",
              "Wife                     0\n",
              "Asian-Pac-Islander       0\n",
              "Black                    0\n",
              "Other                    0\n",
              "White                    0\n",
              "dtype: int64"
            ]
          },
          "metadata": {
            "tags": []
          },
          "execution_count": 28
        }
      ]
    },
    {
      "cell_type": "code",
      "metadata": {
        "id": "Fit3O8KGH5j3",
        "colab_type": "code",
        "outputId": "67773f8a-3158-42ea-c2f5-c1a2033ee39a",
        "colab": {
          "base_uri": "https://localhost:8080/",
          "height": 0
        }
      },
      "source": [
        "nonnull_data = cleaned_data.dropna()\n",
        "nonnull_data.isnull().sum()"
      ],
      "execution_count": 29,
      "outputs": [
        {
          "output_type": "execute_result",
          "data": {
            "text/plain": [
              "age                      0\n",
              "fnlwgt                   0\n",
              "education-num            0\n",
              "sex                      0\n",
              "capital-gain             0\n",
              "capital-loss             0\n",
              "hours-per-week           0\n",
              "salary                   0\n",
              "Local-gov                0\n",
              "Never-worked             0\n",
              "Private                  0\n",
              "Self-emp-inc             0\n",
              "Self-emp-not-inc         0\n",
              "State-gov                0\n",
              "Without-pay              0\n",
              "11th                     0\n",
              "12th                     0\n",
              "1st-4th                  0\n",
              "5th-6th                  0\n",
              "7th-8th                  0\n",
              "9th                      0\n",
              "Assoc-acdm               0\n",
              "Assoc-voc                0\n",
              "Bachelors                0\n",
              "Doctorate                0\n",
              "HS-grad                  0\n",
              "Masters                  0\n",
              "Preschool                0\n",
              "Prof-school              0\n",
              "Some-college             0\n",
              "Married-AF-spouse        0\n",
              "Married-civ-spouse       0\n",
              "Married-spouse-absent    0\n",
              "Never-married            0\n",
              "Separated                0\n",
              "Widowed                  0\n",
              "Armed-Forces             0\n",
              "Craft-repair             0\n",
              "Exec-managerial          0\n",
              "Farming-fishing          0\n",
              "Handlers-cleaners        0\n",
              "Machine-op-inspct        0\n",
              "Other-service            0\n",
              "Priv-house-serv          0\n",
              "Prof-specialty           0\n",
              "Protective-serv          0\n",
              "Sales                    0\n",
              "Tech-support             0\n",
              "Transport-moving         0\n",
              "Not-in-family            0\n",
              "Other-relative           0\n",
              "Own-child                0\n",
              "Unmarried                0\n",
              "Wife                     0\n",
              "Asian-Pac-Islander       0\n",
              "Black                    0\n",
              "Other                    0\n",
              "White                    0\n",
              "dtype: int64"
            ]
          },
          "metadata": {
            "tags": []
          },
          "execution_count": 29
        }
      ]
    },
    {
      "cell_type": "code",
      "metadata": {
        "id": "cO-4UXVJITfF",
        "colab_type": "code",
        "outputId": "54c8b20c-043f-4649-a867-06828b857e11",
        "colab": {
          "base_uri": "https://localhost:8080/",
          "height": 0
        }
      },
      "source": [
        "nonnull_data.shape"
      ],
      "execution_count": 30,
      "outputs": [
        {
          "output_type": "execute_result",
          "data": {
            "text/plain": [
              "(32561, 58)"
            ]
          },
          "metadata": {
            "tags": []
          },
          "execution_count": 30
        }
      ]
    },
    {
      "cell_type": "code",
      "metadata": {
        "id": "zUs_4LQSKRaF",
        "colab_type": "code",
        "colab": {}
      },
      "source": [
        "data = nonnull_data"
      ],
      "execution_count": 0,
      "outputs": []
    },
    {
      "cell_type": "markdown",
      "metadata": {
        "id": "l71uitgrIbmz",
        "colab_type": "text"
      },
      "source": [
        "# Divide data into train/test data"
      ]
    },
    {
      "cell_type": "code",
      "metadata": {
        "id": "GkeK1G9tIWRX",
        "colab_type": "code",
        "colab": {}
      },
      "source": [
        "X_train, X_test, y_train, y_test = train_test_split(data.drop('salary', axis=1), data['salary'], test_size=0.3, stratify=data['salary'], random_state=1234)"
      ],
      "execution_count": 0,
      "outputs": []
    },
    {
      "cell_type": "markdown",
      "metadata": {
        "id": "kJStZqgtPDRE",
        "colab_type": "text"
      },
      "source": [
        "# Start training"
      ]
    },
    {
      "cell_type": "markdown",
      "metadata": {
        "id": "WAuDYzK_BonH",
        "colab_type": "text"
      },
      "source": [
        "## RandomForest"
      ]
    },
    {
      "cell_type": "code",
      "metadata": {
        "id": "3RZnkDJ8QP6z",
        "colab_type": "code",
        "colab": {}
      },
      "source": [
        "parameters = {'min_samples_leaf':[1,2,3,4,5,6,7,8,9,10], 'max_depth':[None, 1,2,3,4,5,6,7,8,9,10], 'criterion':['gini','entropy'], 'min_samples_split':[2,3,4,5,6,7,8,9,10]}"
      ],
      "execution_count": 0,
      "outputs": []
    },
    {
      "cell_type": "code",
      "metadata": {
        "id": "JR4nj5Misozo",
        "colab_type": "code",
        "colab": {}
      },
      "source": [
        "clf = RandomizedSearchCV(RandomForestClassifier(random_state=1234), parameters, random_state=1234)\n",
        "clf.fit(X_train, y_train)\n",
        "clf.best_params_"
      ],
      "execution_count": 0,
      "outputs": []
    },
    {
      "cell_type": "code",
      "metadata": {
        "id": "GLg8zJln3wFf",
        "colab_type": "code",
        "colab": {}
      },
      "source": [
        "# clf = GridSearchCV(RandomForestClassifier(), parameters)\n",
        "# clf.fit(X_train, y_train)\n",
        "# clf.best_params_"
      ],
      "execution_count": 0,
      "outputs": []
    },
    {
      "cell_type": "markdown",
      "metadata": {
        "id": "ol1wWBzLHJZ2",
        "colab_type": "text"
      },
      "source": [
        "## kNN"
      ]
    },
    {
      "cell_type": "code",
      "metadata": {
        "id": "sPhkpFWu9x6S",
        "colab_type": "code",
        "colab": {}
      },
      "source": [
        "parameters = {'n_neighbors'=[3,5,10], weights=['uniform','distanct'], }"
      ],
      "execution_count": 0,
      "outputs": []
    },
    {
      "cell_type": "code",
      "metadata": {
        "id": "ryXkKi7lHM5g",
        "colab_type": "code",
        "colab": {}
      },
      "source": [
        "clf = RandomizedSearchCV(KNeighborsClassifier(algorithm='auto'), parameters, random_state=1234)\n",
        "clf.fit(X_train, y_train)\n",
        "clf.best_params_"
      ],
      "execution_count": 0,
      "outputs": []
    },
    {
      "cell_type": "code",
      "metadata": {
        "id": "IZcmquI8HOb6",
        "colab_type": "code",
        "colab": {}
      },
      "source": [
        "# clf = GridSearchCV(KNeighborsClassifier(algorithm='auto'), parameters, random_state=1234)\n",
        "# clf.fit(X_train, y_train)\n",
        "# clf.best_params_"
      ],
      "execution_count": 0,
      "outputs": []
    },
    {
      "cell_type": "markdown",
      "metadata": {
        "colab_type": "text",
        "id": "npGX1eSQII0t"
      },
      "source": [
        "## MLPClassifier"
      ]
    },
    {
      "cell_type": "code",
      "metadata": {
        "colab_type": "code",
        "id": "NxTY_nAsII0x",
        "colab": {}
      },
      "source": [
        "parameters = {'hidden_layer_sizes':[(100,),(100,2),(100,5),(100,20),(100,50)], 'activation'=['identity', 'logistic', 'tanh', 'relu'],'solver'=['lbfgs', 'sgd', 'adam']}"
      ],
      "execution_count": 0,
      "outputs": []
    },
    {
      "cell_type": "code",
      "metadata": {
        "colab_type": "code",
        "id": "HYRf_-OEII02",
        "colab": {}
      },
      "source": [
        "clf = RandomizedSearchCV(MLPClassifier(random_state=1234), parameters, random_state=1234)\n",
        "clf.fit(X_train, y_train)\n",
        "clf.best_params_"
      ],
      "execution_count": 0,
      "outputs": []
    },
    {
      "cell_type": "code",
      "metadata": {
        "colab_type": "code",
        "id": "4Rr9LLa5II05",
        "colab": {}
      },
      "source": [
        "# clf = GridSearchCV(MLPClassfier(random_state=1234), parameters, random_state=1234)\n",
        "# clf.fit(X_train, y_train)\n",
        "# clf.best_params_"
      ],
      "execution_count": 0,
      "outputs": []
    }
  ]
}
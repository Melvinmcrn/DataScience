{
  "nbformat": 4,
  "nbformat_minor": 0,
  "metadata": {
    "kernelspec": {
      "display_name": "Python 2",
      "language": "python",
      "name": "python2"
    },
    "language_info": {
      "codemirror_mode": {
        "name": "ipython",
        "version": 2
      },
      "file_extension": ".py",
      "mimetype": "text/x-python",
      "name": "python",
      "nbconvert_exporter": "python",
      "pygments_lexer": "ipython2",
      "version": "2.7.5"
    },
    "colab": {
      "name": "2_Pyspark_Basic_RDD.ipynb",
      "provenance": [],
      "collapsed_sections": [],
      "toc_visible": true,
      "include_colab_link": true
    }
  },
  "cells": [
    {
      "cell_type": "markdown",
      "metadata": {
        "id": "view-in-github",
        "colab_type": "text"
      },
      "source": [
        "<a href=\"https://colab.research.google.com/github/Melvinmcrn/DataScience/blob/master/PySpark/2_Pyspark_Basic_RDD.ipynb\" target=\"_parent\"><img src=\"https://colab.research.google.com/assets/colab-badge.svg\" alt=\"Open In Colab\"/></a>"
      ]
    },
    {
      "cell_type": "code",
      "metadata": {
        "id": "JK6PZEMjROK9",
        "colab_type": "code",
        "colab": {}
      },
      "source": [
        "!apt-get install openjdk-8-jdk-headless -qq > /dev/null\n",
        "!wget -q https://downloads.apache.org/spark/spark-2.4.5/spark-2.4.5-bin-hadoop2.7.tgz\n",
        "!tar xf spark-2.4.5-bin-hadoop2.7.tgz\n",
        "!pip install -q findspark"
      ],
      "execution_count": 0,
      "outputs": []
    },
    {
      "cell_type": "code",
      "metadata": {
        "id": "5HagJi7NRO3B",
        "colab_type": "code",
        "colab": {}
      },
      "source": [
        "import os\n",
        "os.environ[\"JAVA_HOME\"] = \"/usr/lib/jvm/java-8-openjdk-amd64\"\n",
        "os.environ[\"SPARK_HOME\"] = \"/content/spark-2.4.5-bin-hadoop2.7\"\n",
        "import findspark\n",
        "findspark.init()\n",
        "from pyspark.sql import SparkSession\n",
        "spark = SparkSession.builder.master(\"local[*]\").getOrCreate()"
      ],
      "execution_count": 0,
      "outputs": []
    },
    {
      "cell_type": "markdown",
      "metadata": {
        "id": "_92TFSplRMHq",
        "colab_type": "text"
      },
      "source": [
        "# Pyspark_Basic_RDD"
      ]
    },
    {
      "cell_type": "code",
      "metadata": {
        "id": "jNHCZPHYRMHs",
        "colab_type": "code",
        "colab": {}
      },
      "source": [
        "#1 - import module\n",
        "from pyspark import SparkContext"
      ],
      "execution_count": 0,
      "outputs": []
    },
    {
      "cell_type": "code",
      "metadata": {
        "id": "WFGEa6z_RMHy",
        "colab_type": "code",
        "outputId": "2ccb888a-3144-4028-b37b-0a0f0843ca33",
        "colab": {
          "base_uri": "https://localhost:8080/",
          "height": 191
        }
      },
      "source": [
        "#2 - Create SparkContext\n",
        "sc = SparkContext.getOrCreate()\n",
        "sc"
      ],
      "execution_count": 5,
      "outputs": [
        {
          "output_type": "execute_result",
          "data": {
            "text/html": [
              "\n",
              "        <div>\n",
              "            <p><b>SparkContext</b></p>\n",
              "\n",
              "            <p><a href=\"http://262a1c6ebf24:4040\">Spark UI</a></p>\n",
              "\n",
              "            <dl>\n",
              "              <dt>Version</dt>\n",
              "                <dd><code>v2.4.5</code></dd>\n",
              "              <dt>Master</dt>\n",
              "                <dd><code>local[*]</code></dd>\n",
              "              <dt>AppName</dt>\n",
              "                <dd><code>pyspark-shell</code></dd>\n",
              "            </dl>\n",
              "        </div>\n",
              "        "
            ],
            "text/plain": [
              "<SparkContext master=local[*] appName=pyspark-shell>"
            ]
          },
          "metadata": {
            "tags": []
          },
          "execution_count": 5
        }
      ]
    },
    {
      "cell_type": "code",
      "metadata": {
        "id": "mWzSaEXS8WSW",
        "colab_type": "code",
        "outputId": "61855d9d-c65d-444e-bd01-9fe9e926f1c0",
        "colab": {
          "base_uri": "https://localhost:8080/",
          "height": 34
        }
      },
      "source": [
        "import multiprocessing\n",
        "\n",
        "multiprocessing.cpu_count()"
      ],
      "execution_count": 6,
      "outputs": [
        {
          "output_type": "execute_result",
          "data": {
            "text/plain": [
              "2"
            ]
          },
          "metadata": {
            "tags": []
          },
          "execution_count": 6
        }
      ]
    },
    {
      "cell_type": "code",
      "metadata": {
        "id": "cA_ajGnk9RED",
        "colab_type": "code",
        "colab": {}
      },
      "source": [
        "#rdd.getNumPartitions"
      ],
      "execution_count": 0,
      "outputs": []
    },
    {
      "cell_type": "code",
      "metadata": {
        "id": "VzLxhL6bRMIg",
        "colab_type": "code",
        "colab": {}
      },
      "source": [
        "#3 - Print top 5 rows\n",
        "def printRDD(data,num):\n",
        "    for line in data.take(num):\n",
        "        print(line)"
      ],
      "execution_count": 0,
      "outputs": []
    },
    {
      "cell_type": "code",
      "metadata": {
        "id": "vqSOV55WRMIm",
        "colab_type": "code",
        "outputId": "64c6da5c-f214-465f-ca69-f2f3c04b332d",
        "colab": {
          "base_uri": "https://localhost:8080/",
          "height": 101
        }
      },
      "source": [
        "#4 - Read file to spark RDD\n",
        "rdd = sc.textFile(\"iris.csv\")\n",
        "rdd.cache()\n",
        "\n",
        "# Attribute Information:\n",
        "# 1. sepal length in cm \n",
        "# 2. sepal width in cm \n",
        "# 3. petal length in cm \n",
        "# 4. petal width in cm \n",
        "# 5. class: \n",
        "# -- Iris Setosa \n",
        "# -- Iris Versicolour \n",
        "# -- Iris Virginica\n",
        "\n",
        "\n",
        "printRDD(rdd,5)"
      ],
      "execution_count": 9,
      "outputs": [
        {
          "output_type": "stream",
          "text": [
            "5.1,3.5,1.4,0.2,Iris-setosa\n",
            "4.9,3.0,1.4,0.2,Iris-setosa\n",
            "4.7,3.2,1.3,0.2,Iris-setosa\n",
            "4.6,3.1,1.5,0.2,Iris-setosa\n",
            "5.0,3.6,1.4,0.2,Iris-setosa\n"
          ],
          "name": "stdout"
        }
      ]
    },
    {
      "cell_type": "code",
      "metadata": {
        "id": "MzrieK0FRMIu",
        "colab_type": "code",
        "outputId": "08e45794-77fc-4d77-a507-e73b0365c4d5",
        "colab": {
          "base_uri": "https://localhost:8080/",
          "height": 101
        }
      },
      "source": [
        "#5 - map\n",
        "mapped_rdd = rdd.map(lambda line : line.split(\",\"))\n",
        "\n",
        "printRDD(mapped_rdd,5)"
      ],
      "execution_count": 10,
      "outputs": [
        {
          "output_type": "stream",
          "text": [
            "[u'5.1', u'3.5', u'1.4', u'0.2', u'Iris-setosa']\n",
            "[u'4.9', u'3.0', u'1.4', u'0.2', u'Iris-setosa']\n",
            "[u'4.7', u'3.2', u'1.3', u'0.2', u'Iris-setosa']\n",
            "[u'4.6', u'3.1', u'1.5', u'0.2', u'Iris-setosa']\n",
            "[u'5.0', u'3.6', u'1.4', u'0.2', u'Iris-setosa']\n"
          ],
          "name": "stdout"
        }
      ]
    },
    {
      "cell_type": "code",
      "metadata": {
        "id": "EqMwUNOyRMI0",
        "colab_type": "code",
        "outputId": "857afb04-6768-422b-aaeb-4101a845d5b6",
        "colab": {
          "base_uri": "https://localhost:8080/",
          "height": 437
        }
      },
      "source": [
        "#6 - flatMap\n",
        "flatMaped_rdd = rdd.flatMap(lambda line : line.split(\",\"))\n",
        "\n",
        "printRDD(flatMaped_rdd,25)"
      ],
      "execution_count": 11,
      "outputs": [
        {
          "output_type": "stream",
          "text": [
            "5.1\n",
            "3.5\n",
            "1.4\n",
            "0.2\n",
            "Iris-setosa\n",
            "4.9\n",
            "3.0\n",
            "1.4\n",
            "0.2\n",
            "Iris-setosa\n",
            "4.7\n",
            "3.2\n",
            "1.3\n",
            "0.2\n",
            "Iris-setosa\n",
            "4.6\n",
            "3.1\n",
            "1.5\n",
            "0.2\n",
            "Iris-setosa\n",
            "5.0\n",
            "3.6\n",
            "1.4\n",
            "0.2\n",
            "Iris-setosa\n"
          ],
          "name": "stdout"
        }
      ]
    },
    {
      "cell_type": "code",
      "metadata": {
        "id": "bICuISWBRMI5",
        "colab_type": "code",
        "outputId": "09f99909-b817-46d1-dab0-0f864bd6860d",
        "colab": {
          "base_uri": "https://localhost:8080/",
          "height": 118
        }
      },
      "source": [
        "#7 - create unique id\n",
        "zipedWithUniqueId_rdd = rdd.zipWithUniqueId()\n",
        "\n",
        "print(\"zipedWithUniqueId_rdd count : \" + str(zipedWithUniqueId_rdd.count()))\n",
        "printRDD(zipedWithUniqueId_rdd,5)"
      ],
      "execution_count": 12,
      "outputs": [
        {
          "output_type": "stream",
          "text": [
            "zipedWithUniqueId_rdd count : 150\n",
            "(u'5.1,3.5,1.4,0.2,Iris-setosa', 0)\n",
            "(u'4.9,3.0,1.4,0.2,Iris-setosa', 2)\n",
            "(u'4.7,3.2,1.3,0.2,Iris-setosa', 4)\n",
            "(u'4.6,3.1,1.5,0.2,Iris-setosa', 6)\n",
            "(u'5.0,3.6,1.4,0.2,Iris-setosa', 8)\n"
          ],
          "name": "stdout"
        }
      ]
    },
    {
      "cell_type": "code",
      "metadata": {
        "id": "TVMCXtehRMI_",
        "colab_type": "code",
        "outputId": "b9be4e71-a5b1-497b-e06a-90f559594c44",
        "colab": {
          "base_uri": "https://localhost:8080/",
          "height": 134
        }
      },
      "source": [
        "#8 - sample data\n",
        "sampled_rdd = zipedWithUniqueId_rdd.sample(withReplacement=False, fraction=0.5, seed=50)\n",
        "\n",
        "print(\"rdd count : \" + str(zipedWithUniqueId_rdd.count()))\n",
        "print(\"sampled_rdd count : \" + str(sampled_rdd.count()))\n",
        "printRDD(sampled_rdd,5)"
      ],
      "execution_count": 13,
      "outputs": [
        {
          "output_type": "stream",
          "text": [
            "rdd count : 150\n",
            "sampled_rdd count : 64\n",
            "(u'5.1,3.5,1.4,0.2,Iris-setosa', 0)\n",
            "(u'4.6,3.1,1.5,0.2,Iris-setosa', 6)\n",
            "(u'5.0,3.6,1.4,0.2,Iris-setosa', 8)\n",
            "(u'4.6,3.4,1.4,0.3,Iris-setosa', 12)\n",
            "(u'5.4,3.9,1.3,0.4,Iris-setosa', 32)\n"
          ],
          "name": "stdout"
        }
      ]
    },
    {
      "cell_type": "code",
      "metadata": {
        "id": "qmLwYn8jRMJD",
        "colab_type": "code",
        "outputId": "60e0efce-958b-47e4-8812-52cebc514053",
        "colab": {
          "base_uri": "https://localhost:8080/",
          "height": 84
        }
      },
      "source": [
        "#9 - union and intersect\n",
        "sampled1_rdd = zipedWithUniqueId_rdd.sample(withReplacement=False, fraction=0.5, seed=25)\n",
        "sampled2_rdd = zipedWithUniqueId_rdd.sample(withReplacement=False, fraction=0.5, seed=50)\n",
        "unioned_rdd = sampled1_rdd.union(sampled2_rdd)\n",
        "intersected_rdd = sampled1_rdd.intersection(sampled2_rdd)\n",
        "\n",
        "print(\"sampled1_rdd count : \" + str(sampled1_rdd.count()))\n",
        "print(\"sampled2_rdd count : \" + str(sampled2_rdd.count()))\n",
        "print(\"unioned_rdd count : \" + str(unioned_rdd.count()))\n",
        "print(\"intersected_rdd count : \" + str(intersected_rdd.count()))"
      ],
      "execution_count": 14,
      "outputs": [
        {
          "output_type": "stream",
          "text": [
            "sampled1_rdd count : 78\n",
            "sampled2_rdd count : 64\n",
            "unioned_rdd count : 142\n",
            "intersected_rdd count : 36\n"
          ],
          "name": "stdout"
        }
      ]
    },
    {
      "cell_type": "code",
      "metadata": {
        "id": "vwR5gBeuRMJJ",
        "colab_type": "code",
        "outputId": "7c4d1f8a-bc8b-4fef-fade-1251cc8fc5cd",
        "colab": {
          "base_uri": "https://localhost:8080/",
          "height": 151
        }
      },
      "source": [
        "#10 - distinct\n",
        "label_rdd = mapped_rdd.map(lambda line : line[-1])\n",
        "printRDD(label_rdd,5)\n",
        "\n",
        "print(\"\\n\")\n",
        "\n",
        "label_list = label_rdd.distinct().collect()\n",
        "print(label_list)"
      ],
      "execution_count": 15,
      "outputs": [
        {
          "output_type": "stream",
          "text": [
            "Iris-setosa\n",
            "Iris-setosa\n",
            "Iris-setosa\n",
            "Iris-setosa\n",
            "Iris-setosa\n",
            "\n",
            "\n",
            "[u'Iris-virginica', u'Iris-setosa', u'Iris-versicolor']\n"
          ],
          "name": "stdout"
        }
      ]
    },
    {
      "cell_type": "code",
      "metadata": {
        "id": "3VCbyo8mRMJQ",
        "colab_type": "code",
        "outputId": "a106abf7-7a58-42d4-a693-adea375adc43",
        "colab": {
          "base_uri": "https://localhost:8080/",
          "height": 336
        }
      },
      "source": [
        "#11 - zip 2 rdd together\n",
        "feature_rdd = mapped_rdd.map(lambda line : line[0:-1])\n",
        "printRDD(feature_rdd,5)\n",
        "\n",
        "print(\"\\n\")\n",
        "\n",
        "zip_rdd = feature_rdd.zip(label_rdd)\n",
        "printRDD(zip_rdd,5)\n",
        "\n",
        "print(\"\\n\")\n",
        "\n",
        "zip_rdd = zip_rdd.map(lambda (features,label) : features + [label])\n",
        "printRDD(zip_rdd,5)"
      ],
      "execution_count": 16,
      "outputs": [
        {
          "output_type": "stream",
          "text": [
            "[u'5.1', u'3.5', u'1.4', u'0.2']\n",
            "[u'4.9', u'3.0', u'1.4', u'0.2']\n",
            "[u'4.7', u'3.2', u'1.3', u'0.2']\n",
            "[u'4.6', u'3.1', u'1.5', u'0.2']\n",
            "[u'5.0', u'3.6', u'1.4', u'0.2']\n",
            "\n",
            "\n",
            "([u'5.1', u'3.5', u'1.4', u'0.2'], u'Iris-setosa')\n",
            "([u'4.9', u'3.0', u'1.4', u'0.2'], u'Iris-setosa')\n",
            "([u'4.7', u'3.2', u'1.3', u'0.2'], u'Iris-setosa')\n",
            "([u'4.6', u'3.1', u'1.5', u'0.2'], u'Iris-setosa')\n",
            "([u'5.0', u'3.6', u'1.4', u'0.2'], u'Iris-setosa')\n",
            "\n",
            "\n",
            "[u'5.1', u'3.5', u'1.4', u'0.2', u'Iris-setosa']\n",
            "[u'4.9', u'3.0', u'1.4', u'0.2', u'Iris-setosa']\n",
            "[u'4.7', u'3.2', u'1.3', u'0.2', u'Iris-setosa']\n",
            "[u'4.6', u'3.1', u'1.5', u'0.2', u'Iris-setosa']\n",
            "[u'5.0', u'3.6', u'1.4', u'0.2', u'Iris-setosa']\n"
          ],
          "name": "stdout"
        }
      ]
    },
    {
      "cell_type": "code",
      "metadata": {
        "scrolled": false,
        "id": "GCbbwyzFRMJV",
        "colab_type": "code",
        "outputId": "5cbd9db5-3c7d-4750-a119-9bd57758df01",
        "colab": {
          "base_uri": "https://localhost:8080/",
          "height": 1000
        }
      },
      "source": [
        "#12 - collect\n",
        "data_list = rdd.collect()\n",
        "#Too many result => not a good method when deal with big data\n",
        "print(\"data_list size : \" + str(len(data_list)))\n",
        "for data in data_list:\n",
        "    print(data)"
      ],
      "execution_count": 17,
      "outputs": [
        {
          "output_type": "stream",
          "text": [
            "data_list size : 150\n",
            "5.1,3.5,1.4,0.2,Iris-setosa\n",
            "4.9,3.0,1.4,0.2,Iris-setosa\n",
            "4.7,3.2,1.3,0.2,Iris-setosa\n",
            "4.6,3.1,1.5,0.2,Iris-setosa\n",
            "5.0,3.6,1.4,0.2,Iris-setosa\n",
            "5.4,3.9,1.7,0.4,Iris-setosa\n",
            "4.6,3.4,1.4,0.3,Iris-setosa\n",
            "5.0,3.4,1.5,0.2,Iris-setosa\n",
            "4.4,2.9,1.4,0.2,Iris-setosa\n",
            "4.9,3.1,1.5,0.1,Iris-setosa\n",
            "5.4,3.7,1.5,0.2,Iris-setosa\n",
            "4.8,3.4,1.6,0.2,Iris-setosa\n",
            "4.8,3.0,1.4,0.1,Iris-setosa\n",
            "4.3,3.0,1.1,0.1,Iris-setosa\n",
            "5.8,4.0,1.2,0.2,Iris-setosa\n",
            "5.7,4.4,1.5,0.4,Iris-setosa\n",
            "5.4,3.9,1.3,0.4,Iris-setosa\n",
            "5.1,3.5,1.4,0.3,Iris-setosa\n",
            "5.7,3.8,1.7,0.3,Iris-setosa\n",
            "5.1,3.8,1.5,0.3,Iris-setosa\n",
            "5.4,3.4,1.7,0.2,Iris-setosa\n",
            "5.1,3.7,1.5,0.4,Iris-setosa\n",
            "4.6,3.6,1.0,0.2,Iris-setosa\n",
            "5.1,3.3,1.7,0.5,Iris-setosa\n",
            "4.8,3.4,1.9,0.2,Iris-setosa\n",
            "5.0,3.0,1.6,0.2,Iris-setosa\n",
            "5.0,3.4,1.6,0.4,Iris-setosa\n",
            "5.2,3.5,1.5,0.2,Iris-setosa\n",
            "5.2,3.4,1.4,0.2,Iris-setosa\n",
            "4.7,3.2,1.6,0.2,Iris-setosa\n",
            "4.8,3.1,1.6,0.2,Iris-setosa\n",
            "5.4,3.4,1.5,0.4,Iris-setosa\n",
            "5.2,4.1,1.5,0.1,Iris-setosa\n",
            "5.5,4.2,1.4,0.2,Iris-setosa\n",
            "4.9,3.1,1.5,0.1,Iris-setosa\n",
            "5.0,3.2,1.2,0.2,Iris-setosa\n",
            "5.5,3.5,1.3,0.2,Iris-setosa\n",
            "4.9,3.1,1.5,0.1,Iris-setosa\n",
            "4.4,3.0,1.3,0.2,Iris-setosa\n",
            "5.1,3.4,1.5,0.2,Iris-setosa\n",
            "5.0,3.5,1.3,0.3,Iris-setosa\n",
            "4.5,2.3,1.3,0.3,Iris-setosa\n",
            "4.4,3.2,1.3,0.2,Iris-setosa\n",
            "5.0,3.5,1.6,0.6,Iris-setosa\n",
            "5.1,3.8,1.9,0.4,Iris-setosa\n",
            "4.8,3.0,1.4,0.3,Iris-setosa\n",
            "5.1,3.8,1.6,0.2,Iris-setosa\n",
            "4.6,3.2,1.4,0.2,Iris-setosa\n",
            "5.3,3.7,1.5,0.2,Iris-setosa\n",
            "5.0,3.3,1.4,0.2,Iris-setosa\n",
            "7.0,3.2,4.7,1.4,Iris-versicolor\n",
            "6.4,3.2,4.5,1.5,Iris-versicolor\n",
            "6.9,3.1,4.9,1.5,Iris-versicolor\n",
            "5.5,2.3,4.0,1.3,Iris-versicolor\n",
            "6.5,2.8,4.6,1.5,Iris-versicolor\n",
            "5.7,2.8,4.5,1.3,Iris-versicolor\n",
            "6.3,3.3,4.7,1.6,Iris-versicolor\n",
            "4.9,2.4,3.3,1.0,Iris-versicolor\n",
            "6.6,2.9,4.6,1.3,Iris-versicolor\n",
            "5.2,2.7,3.9,1.4,Iris-versicolor\n",
            "5.0,2.0,3.5,1.0,Iris-versicolor\n",
            "5.9,3.0,4.2,1.5,Iris-versicolor\n",
            "6.0,2.2,4.0,1.0,Iris-versicolor\n",
            "6.1,2.9,4.7,1.4,Iris-versicolor\n",
            "5.6,2.9,3.6,1.3,Iris-versicolor\n",
            "6.7,3.1,4.4,1.4,Iris-versicolor\n",
            "5.6,3.0,4.5,1.5,Iris-versicolor\n",
            "5.8,2.7,4.1,1.0,Iris-versicolor\n",
            "6.2,2.2,4.5,1.5,Iris-versicolor\n",
            "5.6,2.5,3.9,1.1,Iris-versicolor\n",
            "5.9,3.2,4.8,1.8,Iris-versicolor\n",
            "6.1,2.8,4.0,1.3,Iris-versicolor\n",
            "6.3,2.5,4.9,1.5,Iris-versicolor\n",
            "6.1,2.8,4.7,1.2,Iris-versicolor\n",
            "6.4,2.9,4.3,1.3,Iris-versicolor\n",
            "6.6,3.0,4.4,1.4,Iris-versicolor\n",
            "6.8,2.8,4.8,1.4,Iris-versicolor\n",
            "6.7,3.0,5.0,1.7,Iris-versicolor\n",
            "6.0,2.9,4.5,1.5,Iris-versicolor\n",
            "5.7,2.6,3.5,1.0,Iris-versicolor\n",
            "5.5,2.4,3.8,1.1,Iris-versicolor\n",
            "5.5,2.4,3.7,1.0,Iris-versicolor\n",
            "5.8,2.7,3.9,1.2,Iris-versicolor\n",
            "6.0,2.7,5.1,1.6,Iris-versicolor\n",
            "5.4,3.0,4.5,1.5,Iris-versicolor\n",
            "6.0,3.4,4.5,1.6,Iris-versicolor\n",
            "6.7,3.1,4.7,1.5,Iris-versicolor\n",
            "6.3,2.3,4.4,1.3,Iris-versicolor\n",
            "5.6,3.0,4.1,1.3,Iris-versicolor\n",
            "5.5,2.5,4.0,1.3,Iris-versicolor\n",
            "5.5,2.6,4.4,1.2,Iris-versicolor\n",
            "6.1,3.0,4.6,1.4,Iris-versicolor\n",
            "5.8,2.6,4.0,1.2,Iris-versicolor\n",
            "5.0,2.3,3.3,1.0,Iris-versicolor\n",
            "5.6,2.7,4.2,1.3,Iris-versicolor\n",
            "5.7,3.0,4.2,1.2,Iris-versicolor\n",
            "5.7,2.9,4.2,1.3,Iris-versicolor\n",
            "6.2,2.9,4.3,1.3,Iris-versicolor\n",
            "5.1,2.5,3.0,1.1,Iris-versicolor\n",
            "5.7,2.8,4.1,1.3,Iris-versicolor\n",
            "6.3,3.3,6.0,2.5,Iris-virginica\n",
            "5.8,2.7,5.1,1.9,Iris-virginica\n",
            "7.1,3.0,5.9,2.1,Iris-virginica\n",
            "6.3,2.9,5.6,1.8,Iris-virginica\n",
            "6.5,3.0,5.8,2.2,Iris-virginica\n",
            "7.6,3.0,6.6,2.1,Iris-virginica\n",
            "4.9,2.5,4.5,1.7,Iris-virginica\n",
            "7.3,2.9,6.3,1.8,Iris-virginica\n",
            "6.7,2.5,5.8,1.8,Iris-virginica\n",
            "7.2,3.6,6.1,2.5,Iris-virginica\n",
            "6.5,3.2,5.1,2.0,Iris-virginica\n",
            "6.4,2.7,5.3,1.9,Iris-virginica\n",
            "6.8,3.0,5.5,2.1,Iris-virginica\n",
            "5.7,2.5,5.0,2.0,Iris-virginica\n",
            "5.8,2.8,5.1,2.4,Iris-virginica\n",
            "6.4,3.2,5.3,2.3,Iris-virginica\n",
            "6.5,3.0,5.5,1.8,Iris-virginica\n",
            "7.7,3.8,6.7,2.2,Iris-virginica\n",
            "7.7,2.6,6.9,2.3,Iris-virginica\n",
            "6.0,2.2,5.0,1.5,Iris-virginica\n",
            "6.9,3.2,5.7,2.3,Iris-virginica\n",
            "5.6,2.8,4.9,2.0,Iris-virginica\n",
            "7.7,2.8,6.7,2.0,Iris-virginica\n",
            "6.3,2.7,4.9,1.8,Iris-virginica\n",
            "6.7,3.3,5.7,2.1,Iris-virginica\n",
            "7.2,3.2,6.0,1.8,Iris-virginica\n",
            "6.2,2.8,4.8,1.8,Iris-virginica\n",
            "6.1,3.0,4.9,1.8,Iris-virginica\n",
            "6.4,2.8,5.6,2.1,Iris-virginica\n",
            "7.2,3.0,5.8,1.6,Iris-virginica\n",
            "7.4,2.8,6.1,1.9,Iris-virginica\n",
            "7.9,3.8,6.4,2.0,Iris-virginica\n",
            "6.4,2.8,5.6,2.2,Iris-virginica\n",
            "6.3,2.8,5.1,1.5,Iris-virginica\n",
            "6.1,2.6,5.6,1.4,Iris-virginica\n",
            "7.7,3.0,6.1,2.3,Iris-virginica\n",
            "6.3,3.4,5.6,2.4,Iris-virginica\n",
            "6.4,3.1,5.5,1.8,Iris-virginica\n",
            "6.0,3.0,4.8,1.8,Iris-virginica\n",
            "6.9,3.1,5.4,2.1,Iris-virginica\n",
            "6.7,3.1,5.6,2.4,Iris-virginica\n",
            "6.9,3.1,5.1,2.3,Iris-virginica\n",
            "5.8,2.7,5.1,1.9,Iris-virginica\n",
            "6.8,3.2,5.9,2.3,Iris-virginica\n",
            "6.7,3.3,5.7,2.5,Iris-virginica\n",
            "6.7,3.0,5.2,2.3,Iris-virginica\n",
            "6.3,2.5,5.0,1.9,Iris-virginica\n",
            "6.5,3.0,5.2,2.0,Iris-virginica\n",
            "6.2,3.4,5.4,2.3,Iris-virginica\n",
            "5.9,3.0,5.1,1.8,Iris-virginica\n"
          ],
          "name": "stdout"
        }
      ]
    },
    {
      "cell_type": "code",
      "metadata": {
        "id": "kZKsfG3ZRMJZ",
        "colab_type": "code",
        "outputId": "1df6d174-92f1-4323-f00f-30c0ccc64459",
        "colab": {
          "base_uri": "https://localhost:8080/",
          "height": 118
        }
      },
      "source": [
        "#13 - take\n",
        "data_list = rdd.take(5)\n",
        "#Select first n rows\n",
        "print(\"data_list size : \" + str(len(data_list)))\n",
        "for data in data_list:\n",
        "    print(data)"
      ],
      "execution_count": 18,
      "outputs": [
        {
          "output_type": "stream",
          "text": [
            "data_list size : 5\n",
            "5.1,3.5,1.4,0.2,Iris-setosa\n",
            "4.9,3.0,1.4,0.2,Iris-setosa\n",
            "4.7,3.2,1.3,0.2,Iris-setosa\n",
            "4.6,3.1,1.5,0.2,Iris-setosa\n",
            "5.0,3.6,1.4,0.2,Iris-setosa\n"
          ],
          "name": "stdout"
        }
      ]
    },
    {
      "cell_type": "code",
      "metadata": {
        "id": "FYXq6DZWRMJe",
        "colab_type": "code",
        "outputId": "545c5ed2-44c5-4d3d-e908-c9657fb9142e",
        "colab": {
          "base_uri": "https://localhost:8080/",
          "height": 118
        }
      },
      "source": [
        "#14 - top\n",
        "data_list = rdd.top(5)\n",
        "#Select top n rows\n",
        "print(\"data_list size : \" + str(len(data_list)))\n",
        "for data in data_list:\n",
        "    print(data)"
      ],
      "execution_count": 19,
      "outputs": [
        {
          "output_type": "stream",
          "text": [
            "data_list size : 5\n",
            "7.9,3.8,6.4,2.0,Iris-virginica\n",
            "7.7,3.8,6.7,2.2,Iris-virginica\n",
            "7.7,3.0,6.1,2.3,Iris-virginica\n",
            "7.7,2.8,6.7,2.0,Iris-virginica\n",
            "7.7,2.6,6.9,2.3,Iris-virginica\n"
          ],
          "name": "stdout"
        }
      ]
    },
    {
      "cell_type": "code",
      "metadata": {
        "id": "XZRM-WiGRMJn",
        "colab_type": "code",
        "outputId": "3e8baf58-ac1c-405c-99c4-a49f19ae2392",
        "colab": {
          "base_uri": "https://localhost:8080/",
          "height": 151
        }
      },
      "source": [
        "#15 - countByKey\n",
        "label_features_rdd = (mapped_rdd\n",
        "                      .map(lambda line : (line[-1],line[0:-1]))\n",
        "                      .map(lambda (label,features) : (label,[float(feature) for feature in features]))\n",
        "                     )\n",
        "printRDD(label_features_rdd,5)\n",
        "\n",
        "print(\"\\n\")\n",
        "\n",
        "label_count_dict = label_features_rdd.map(lambda (label,features) : (label,1)).countByKey()\n",
        "print(label_count_dict)"
      ],
      "execution_count": 20,
      "outputs": [
        {
          "output_type": "stream",
          "text": [
            "(u'Iris-setosa', [5.1, 3.5, 1.4, 0.2])\n",
            "(u'Iris-setosa', [4.9, 3.0, 1.4, 0.2])\n",
            "(u'Iris-setosa', [4.7, 3.2, 1.3, 0.2])\n",
            "(u'Iris-setosa', [4.6, 3.1, 1.5, 0.2])\n",
            "(u'Iris-setosa', [5.0, 3.6, 1.4, 0.2])\n",
            "\n",
            "\n",
            "defaultdict(<type 'int'>, {u'Iris-virginica': 50, u'Iris-setosa': 50, u'Iris-versicolor': 50})\n"
          ],
          "name": "stdout"
        }
      ]
    },
    {
      "cell_type": "code",
      "metadata": {
        "id": "PbUItt9WRMJu",
        "colab_type": "code",
        "outputId": "7a58a5e5-0d77-48bc-a7b9-9a0d2de3bb37",
        "colab": {
          "base_uri": "https://localhost:8080/",
          "height": 67
        }
      },
      "source": [
        "#16 - find sum and then divide with count => average\n",
        "label_avg_features_rdd = (label_features_rdd\n",
        "                         .reduceByKey(lambda features1,features2 : [sum(x) for x in zip(features1, features2)])\n",
        "                         .map(lambda (label,sum_features) : (label,[feature/label_count_dict[label] for feature in sum_features]))\n",
        "                        )\n",
        "\n",
        "printRDD(label_avg_features_rdd,5)"
      ],
      "execution_count": 21,
      "outputs": [
        {
          "output_type": "stream",
          "text": [
            "(u'Iris-virginica', [6.587999999999998, 2.9739999999999998, 5.552, 2.026])\n",
            "(u'Iris-setosa', [5.005999999999999, 3.4180000000000006, 1.464, 0.2439999999999999])\n",
            "(u'Iris-versicolor', [5.936, 2.77, 4.26, 1.3260000000000003])\n"
          ],
          "name": "stdout"
        }
      ]
    },
    {
      "cell_type": "code",
      "metadata": {
        "id": "hVCYtT2sRMJz",
        "colab_type": "code",
        "outputId": "cc756aa8-7f77-4d0e-8b52-e491cf7eeefc",
        "colab": {
          "base_uri": "https://localhost:8080/",
          "height": 34
        }
      },
      "source": [
        "#17 - filter\n",
        "iris_virginica_rdd = label_avg_features_rdd.filter(lambda (label,avg_features) : label == \"Iris-virginica\")\n",
        "printRDD(iris_virginica_rdd,5)"
      ],
      "execution_count": 22,
      "outputs": [
        {
          "output_type": "stream",
          "text": [
            "(u'Iris-virginica', [6.587999999999998, 2.9739999999999998, 5.552, 2.026])\n"
          ],
          "name": "stdout"
        }
      ]
    },
    {
      "cell_type": "code",
      "metadata": {
        "id": "uFAooCnlRMJ3",
        "colab_type": "code",
        "colab": {}
      },
      "source": [
        ""
      ],
      "execution_count": 0,
      "outputs": []
    },
    {
      "cell_type": "code",
      "metadata": {
        "id": "J9Oa8C9PRMJ5",
        "colab_type": "code",
        "colab": {}
      },
      "source": [
        ""
      ],
      "execution_count": 0,
      "outputs": []
    }
  ]
}
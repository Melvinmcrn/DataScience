{
  "nbformat": 4,
  "nbformat_minor": 0,
  "metadata": {
    "kernelspec": {
      "display_name": "Python 3",
      "language": "python",
      "name": "python3"
    },
    "language_info": {
      "codemirror_mode": {
        "name": "ipython",
        "version": 3
      },
      "file_extension": ".py",
      "mimetype": "text/x-python",
      "name": "python",
      "nbconvert_exporter": "python",
      "pygments_lexer": "ipython3",
      "version": "3.6.8"
    },
    "colab": {
      "name": "grid_search.ipynb",
      "provenance": [],
      "include_colab_link": true
    }
  },
  "cells": [
    {
      "cell_type": "markdown",
      "metadata": {
        "id": "view-in-github",
        "colab_type": "text"
      },
      "source": [
        "<a href=\"https://colab.research.google.com/github/Melvinmcrn/DataScience/blob/master/ML_1/7_Grid_Search.ipynb\" target=\"_parent\"><img src=\"https://colab.research.google.com/assets/colab-badge.svg\" alt=\"Open In Colab\"/></a>"
      ]
    },
    {
      "cell_type": "markdown",
      "metadata": {
        "id": "C3hiM5fnjWTU",
        "colab_type": "text"
      },
      "source": [
        "# Efficiently searching for optimal tuning parameters\n",
        "*From the video series: [Introduction to machine learning with scikit-learn](https://github.com/justmarkham/scikit-learn-videos)*"
      ]
    },
    {
      "cell_type": "markdown",
      "metadata": {
        "id": "dDv8SH40jWTY",
        "colab_type": "text"
      },
      "source": [
        "## Agenda\n",
        "\n",
        "- How can K-fold cross-validation be used to search for an **optimal tuning parameter**?\n",
        "- How can this process be made **more efficient**?\n",
        "- How do you search for **multiple tuning parameters** at once?\n",
        "- What do you do with those tuning parameters before making **real predictions**?\n",
        "- How can the **computational expense** of this process be reduced?"
      ]
    },
    {
      "cell_type": "markdown",
      "metadata": {
        "id": "h1rmSXLajWTZ",
        "colab_type": "text"
      },
      "source": [
        "## Review of K-fold cross-validation"
      ]
    },
    {
      "cell_type": "markdown",
      "metadata": {
        "id": "2Y9uJXO4jWTb",
        "colab_type": "text"
      },
      "source": [
        "Steps for cross-validation:\n",
        "\n",
        "- Dataset is split into K \"folds\" of **equal size**\n",
        "- Each fold acts as the **testing set** 1 time, and acts as the **training set** K-1 times\n",
        "- **Average testing performance** is used as the estimate of out-of-sample performance\n",
        "\n",
        "Benefits of cross-validation:\n",
        "\n",
        "- More **reliable** estimate of out-of-sample performance than train/test split\n",
        "- Can be used for selecting **tuning parameters**, choosing between **models**, and selecting **features**\n",
        "\n",
        "Drawbacks of cross-validation:\n",
        "\n",
        "- Can be computationally **expensive**"
      ]
    },
    {
      "cell_type": "markdown",
      "metadata": {
        "id": "7jWiFSHhjWTc",
        "colab_type": "text"
      },
      "source": [
        "## Review of parameter tuning using `cross_val_score`"
      ]
    },
    {
      "cell_type": "markdown",
      "metadata": {
        "id": "8lK4eHHVjWTf",
        "colab_type": "text"
      },
      "source": [
        "**Goal:** Select the best tuning parameters (aka \"hyperparameters\") for KNN on the iris dataset"
      ]
    },
    {
      "cell_type": "code",
      "metadata": {
        "id": "-HL__dYWjWTh",
        "colab_type": "code",
        "colab": {}
      },
      "source": [
        "from sklearn.datasets import load_iris\n",
        "from sklearn.neighbors import KNeighborsClassifier\n",
        "from sklearn.model_selection import cross_val_score\n",
        "import matplotlib.pyplot as plt\n",
        "import warnings\n",
        "warnings.filterwarnings('ignore')\n",
        "%matplotlib inline"
      ],
      "execution_count": 0,
      "outputs": []
    },
    {
      "cell_type": "code",
      "metadata": {
        "id": "wlBl3JO3jWTm",
        "colab_type": "code",
        "colab": {}
      },
      "source": [
        "# read in the iris data\n",
        "iris = load_iris()\n",
        "\n",
        "# create X (features) and y (response)\n",
        "X = iris.data\n",
        "y = iris.target"
      ],
      "execution_count": 0,
      "outputs": []
    },
    {
      "cell_type": "code",
      "metadata": {
        "id": "W3ctEOCOjWTs",
        "colab_type": "code",
        "outputId": "7a013c52-58c7-4101-da1f-b0c2ec290008",
        "colab": {
          "base_uri": "https://localhost:8080/",
          "height": 50
        }
      },
      "source": [
        "# 10-fold cross-validation with K=5 for KNN (the n_neighbors parameter)\n",
        "knn = KNeighborsClassifier(n_neighbors=5)\n",
        "scores = cross_val_score(knn, X, y, cv=10, scoring='accuracy')\n",
        "print(scores)"
      ],
      "execution_count": 3,
      "outputs": [
        {
          "output_type": "stream",
          "text": [
            "[1.         0.93333333 1.         1.         0.86666667 0.93333333\n",
            " 0.93333333 1.         1.         1.        ]\n"
          ],
          "name": "stdout"
        }
      ]
    },
    {
      "cell_type": "code",
      "metadata": {
        "id": "TusTFMtdjWTz",
        "colab_type": "code",
        "outputId": "25c3b396-f739-4d64-ace2-76259539c24f",
        "colab": {
          "base_uri": "https://localhost:8080/",
          "height": 34
        }
      },
      "source": [
        "# use average accuracy as an estimate of out-of-sample accuracy\n",
        "print(scores.mean())"
      ],
      "execution_count": 4,
      "outputs": [
        {
          "output_type": "stream",
          "text": [
            "0.9666666666666668\n"
          ],
          "name": "stdout"
        }
      ]
    },
    {
      "cell_type": "code",
      "metadata": {
        "id": "Z0z2qs5MjWT4",
        "colab_type": "code",
        "outputId": "5bc24b32-3801-4bf5-eed4-1b4104baf81c",
        "colab": {
          "base_uri": "https://localhost:8080/",
          "height": 54
        }
      },
      "source": [
        "# search for an optimal value of K for KNN\n",
        "k_range = list(range(1, 31))\n",
        "k_scores = []\n",
        "for k in k_range:\n",
        "    knn = KNeighborsClassifier(n_neighbors=k)\n",
        "    scores = cross_val_score(knn, X, y, cv=10, scoring='accuracy')\n",
        "    k_scores.append(scores.mean())\n",
        "print(k_scores)"
      ],
      "execution_count": 5,
      "outputs": [
        {
          "output_type": "stream",
          "text": [
            "[0.96, 0.9533333333333334, 0.9666666666666666, 0.9666666666666666, 0.9666666666666668, 0.9666666666666668, 0.9666666666666668, 0.9666666666666668, 0.9733333333333334, 0.9666666666666668, 0.9666666666666668, 0.9733333333333334, 0.9800000000000001, 0.9733333333333334, 0.9733333333333334, 0.9733333333333334, 0.9733333333333334, 0.9800000000000001, 0.9733333333333334, 0.9800000000000001, 0.9666666666666666, 0.9666666666666666, 0.9733333333333334, 0.96, 0.9666666666666666, 0.96, 0.9666666666666666, 0.9533333333333334, 0.9533333333333334, 0.9533333333333334]\n"
          ],
          "name": "stdout"
        }
      ]
    },
    {
      "cell_type": "code",
      "metadata": {
        "id": "3td-BEjFjWT9",
        "colab_type": "code",
        "outputId": "dd233cab-6a40-46c8-80b0-bf0ae22308b4",
        "colab": {
          "base_uri": "https://localhost:8080/",
          "height": 296
        }
      },
      "source": [
        "# plot the value of K for KNN (x-axis) versus the cross-validated accuracy (y-axis)\n",
        "plt.plot(k_range, k_scores)\n",
        "plt.xlabel('Value of K for KNN')\n",
        "plt.ylabel('Cross-Validated Accuracy')"
      ],
      "execution_count": 6,
      "outputs": [
        {
          "output_type": "execute_result",
          "data": {
            "text/plain": [
              "Text(0, 0.5, 'Cross-Validated Accuracy')"
            ]
          },
          "metadata": {
            "tags": []
          },
          "execution_count": 6
        },
        {
          "output_type": "display_data",
          "data": {
            "image/png": "[encoded data removed]",
            "text/plain": [
              "<Figure size 432x288 with 1 Axes>"
            ]
          },
          "metadata": {
            "tags": []
          }
        }
      ]
    },
    {
      "cell_type": "markdown",
      "metadata": {
        "id": "qVgWYDZHjWUD",
        "colab_type": "text"
      },
      "source": [
        "## More efficient parameter tuning using `GridSearchCV`"
      ]
    },
    {
      "cell_type": "markdown",
      "metadata": {
        "id": "jjAO_qckjWUG",
        "colab_type": "text"
      },
      "source": [
        "Allows you to define a **grid of parameters** that will be **searched** using K-fold cross-validation"
      ]
    },
    {
      "cell_type": "code",
      "metadata": {
        "id": "qoe5vbwsjWUH",
        "colab_type": "code",
        "colab": {}
      },
      "source": [
        "from sklearn.model_selection import GridSearchCV"
      ],
      "execution_count": 0,
      "outputs": []
    },
    {
      "cell_type": "code",
      "metadata": {
        "id": "QGfqtRDmjWUM",
        "colab_type": "code",
        "outputId": "b2b8e5bf-9b6b-4aac-a259-99518643cf66",
        "colab": {
          "base_uri": "https://localhost:8080/",
          "height": 34
        }
      },
      "source": [
        "# define the parameter values that should be searched\n",
        "k_range = list(range(1, 31))\n",
        "print(k_range)"
      ],
      "execution_count": 8,
      "outputs": [
        {
          "output_type": "stream",
          "text": [
            "[1, 2, 3, 4, 5, 6, 7, 8, 9, 10, 11, 12, 13, 14, 15, 16, 17, 18, 19, 20, 21, 22, 23, 24, 25, 26, 27, 28, 29, 30]\n"
          ],
          "name": "stdout"
        }
      ]
    },
    {
      "cell_type": "code",
      "metadata": {
        "id": "X9uzdWsOjWUQ",
        "colab_type": "code",
        "outputId": "09d3af8a-0deb-49a4-b53a-03816d360a3f",
        "colab": {
          "base_uri": "https://localhost:8080/",
          "height": 34
        }
      },
      "source": [
        "# create a parameter grid: map the parameter names to the values that should be searched\n",
        "param_grid = dict(n_neighbors=k_range)\n",
        "print(param_grid)"
      ],
      "execution_count": 9,
      "outputs": [
        {
          "output_type": "stream",
          "text": [
            "{'n_neighbors': [1, 2, 3, 4, 5, 6, 7, 8, 9, 10, 11, 12, 13, 14, 15, 16, 17, 18, 19, 20, 21, 22, 23, 24, 25, 26, 27, 28, 29, 30]}\n"
          ],
          "name": "stdout"
        }
      ]
    },
    {
      "cell_type": "code",
      "metadata": {
        "id": "BCRMDNnCjWUX",
        "colab_type": "code",
        "colab": {}
      },
      "source": [
        "# instantiate the grid\n",
        "grid = GridSearchCV(knn, param_grid, cv=10, scoring='accuracy')"
      ],
      "execution_count": 0,
      "outputs": []
    },
    {
      "cell_type": "markdown",
      "metadata": {
        "id": "wuysBqIsjWUb",
        "colab_type": "text"
      },
      "source": [
        "- You can set **`n_jobs = -1`** to run computations in parallel (if supported by your computer and OS)"
      ]
    },
    {
      "cell_type": "code",
      "metadata": {
        "id": "LpPob5SQjWUd",
        "colab_type": "code",
        "outputId": "52757871-fada-492d-d3bf-fde7093cc87e",
        "colab": {
          "base_uri": "https://localhost:8080/",
          "height": 218
        }
      },
      "source": [
        "# fit the grid with data\n",
        "grid.fit(X, y)"
      ],
      "execution_count": 11,
      "outputs": [
        {
          "output_type": "execute_result",
          "data": {
            "text/plain": [
              "GridSearchCV(cv=10, error_score=nan,\n",
              "             estimator=KNeighborsClassifier(algorithm='auto', leaf_size=30,\n",
              "                                            metric='minkowski',\n",
              "                                            metric_params=None, n_jobs=None,\n",
              "                                            n_neighbors=30, p=2,\n",
              "                                            weights='uniform'),\n",
              "             iid='deprecated', n_jobs=None,\n",
              "             param_grid={'n_neighbors': [1, 2, 3, 4, 5, 6, 7, 8, 9, 10, 11, 12,\n",
              "                                         13, 14, 15, 16, 17, 18, 19, 20, 21, 22,\n",
              "                                         23, 24, 25, 26, 27, 28, 29, 30]},\n",
              "             pre_dispatch='2*n_jobs', refit=True, return_train_score=False,\n",
              "             scoring='accuracy', verbose=0)"
            ]
          },
          "metadata": {
            "tags": []
          },
          "execution_count": 11
        }
      ]
    },
    {
      "cell_type": "code",
      "metadata": {
        "id": "sLocFIORjWUh",
        "colab_type": "code",
        "outputId": "ba5701b6-d77c-4610-9ba5-8dd33d0833b9",
        "colab": {
          "base_uri": "https://localhost:8080/",
          "height": 138
        }
      },
      "source": [
        "# view the complete results (list of named tuples)\n",
        "#grid.grid_scores_\n",
        "print(grid.cv_results_['mean_test_score'])\n",
        "print(grid.cv_results_['params'])"
      ],
      "execution_count": 12,
      "outputs": [
        {
          "output_type": "stream",
          "text": [
            "[0.96       0.95333333 0.96666667 0.96666667 0.96666667 0.96666667\n",
            " 0.96666667 0.96666667 0.97333333 0.96666667 0.96666667 0.97333333\n",
            " 0.98       0.97333333 0.97333333 0.97333333 0.97333333 0.98\n",
            " 0.97333333 0.98       0.96666667 0.96666667 0.97333333 0.96\n",
            " 0.96666667 0.96       0.96666667 0.95333333 0.95333333 0.95333333]\n",
            "[{'n_neighbors': 1}, {'n_neighbors': 2}, {'n_neighbors': 3}, {'n_neighbors': 4}, {'n_neighbors': 5}, {'n_neighbors': 6}, {'n_neighbors': 7}, {'n_neighbors': 8}, {'n_neighbors': 9}, {'n_neighbors': 10}, {'n_neighbors': 11}, {'n_neighbors': 12}, {'n_neighbors': 13}, {'n_neighbors': 14}, {'n_neighbors': 15}, {'n_neighbors': 16}, {'n_neighbors': 17}, {'n_neighbors': 18}, {'n_neighbors': 19}, {'n_neighbors': 20}, {'n_neighbors': 21}, {'n_neighbors': 22}, {'n_neighbors': 23}, {'n_neighbors': 24}, {'n_neighbors': 25}, {'n_neighbors': 26}, {'n_neighbors': 27}, {'n_neighbors': 28}, {'n_neighbors': 29}, {'n_neighbors': 30}]\n"
          ],
          "name": "stdout"
        }
      ]
    },
    {
      "cell_type": "code",
      "metadata": {
        "id": "VmKG4Z6fjWUq",
        "colab_type": "code",
        "outputId": "cd5bf130-c1f2-4a6c-8c56-5222cedc5694",
        "colab": {
          "base_uri": "https://localhost:8080/",
          "height": 50
        }
      },
      "source": [
        "# examine the first tuple\n",
        "print(grid.cv_results_['mean_test_score'][0])\n",
        "print(grid.cv_results_['params'][0])"
      ],
      "execution_count": 13,
      "outputs": [
        {
          "output_type": "stream",
          "text": [
            "0.96\n",
            "{'n_neighbors': 1}\n"
          ],
          "name": "stdout"
        }
      ]
    },
    {
      "cell_type": "code",
      "metadata": {
        "id": "HsLAr_LQjWUw",
        "colab_type": "code",
        "outputId": "629774a4-b643-4010-af8f-a0bc68f74dc0",
        "colab": {
          "base_uri": "https://localhost:8080/",
          "height": 54
        }
      },
      "source": [
        "# create a list of the mean scores only\n",
        "grid_mean_scores = [result for result in grid.cv_results_['mean_test_score']]\n",
        "print(grid_mean_scores)"
      ],
      "execution_count": 14,
      "outputs": [
        {
          "output_type": "stream",
          "text": [
            "[0.96, 0.9533333333333334, 0.9666666666666666, 0.9666666666666666, 0.9666666666666668, 0.9666666666666668, 0.9666666666666668, 0.9666666666666668, 0.9733333333333334, 0.9666666666666668, 0.9666666666666668, 0.9733333333333334, 0.9800000000000001, 0.9733333333333334, 0.9733333333333334, 0.9733333333333334, 0.9733333333333334, 0.9800000000000001, 0.9733333333333334, 0.9800000000000001, 0.9666666666666666, 0.9666666666666666, 0.9733333333333334, 0.96, 0.9666666666666666, 0.96, 0.9666666666666666, 0.9533333333333334, 0.9533333333333334, 0.9533333333333334]\n"
          ],
          "name": "stdout"
        }
      ]
    },
    {
      "cell_type": "code",
      "metadata": {
        "id": "kwvRxI5QjWU2",
        "colab_type": "code",
        "outputId": "51f8e7d2-5cdd-4f02-f9b3-7ae8d935d536",
        "colab": {
          "base_uri": "https://localhost:8080/",
          "height": 296
        }
      },
      "source": [
        "# plot the results\n",
        "plt.plot(k_range, grid_mean_scores)\n",
        "plt.xlabel('Value of K for KNN')\n",
        "plt.ylabel('Cross-Validated Accuracy')"
      ],
      "execution_count": 15,
      "outputs": [
        {
          "output_type": "execute_result",
          "data": {
            "text/plain": [
              "Text(0, 0.5, 'Cross-Validated Accuracy')"
            ]
          },
          "metadata": {
            "tags": []
          },
          "execution_count": 15
        },
        {
          "output_type": "display_data",
          "data": {
            "image/png": "[encoded data removed]",
            "text/plain": [
              "<Figure size 432x288 with 1 Axes>"
            ]
          },
          "metadata": {
            "tags": []
          }
        }
      ]
    },
    {
      "cell_type": "code",
      "metadata": {
        "id": "R7Qp4YhJjWU6",
        "colab_type": "code",
        "outputId": "5aa31af3-86f5-42fd-dc47-6cf4cc7c7e85",
        "colab": {
          "base_uri": "https://localhost:8080/",
          "height": 101
        }
      },
      "source": [
        "# examine the best model\n",
        "print(grid.best_score_)\n",
        "print(grid.best_params_)\n",
        "print(grid.best_estimator_)"
      ],
      "execution_count": 16,
      "outputs": [
        {
          "output_type": "stream",
          "text": [
            "0.9800000000000001\n",
            "{'n_neighbors': 13}\n",
            "KNeighborsClassifier(algorithm='auto', leaf_size=30, metric='minkowski',\n",
            "                     metric_params=None, n_jobs=None, n_neighbors=13, p=2,\n",
            "                     weights='uniform')\n"
          ],
          "name": "stdout"
        }
      ]
    },
    {
      "cell_type": "markdown",
      "metadata": {
        "id": "98f6sfdpjWU9",
        "colab_type": "text"
      },
      "source": [
        "## Searching multiple parameters simultaneously"
      ]
    },
    {
      "cell_type": "markdown",
      "metadata": {
        "id": "4PUBBUPejWU-",
        "colab_type": "text"
      },
      "source": [
        "- **Example:** tuning `max_depth` and `min_samples_leaf` for a `DecisionTreeClassifier`\n",
        "- Could tune parameters **independently**: change `max_depth` while leaving `min_samples_leaf` at its default value, and vice versa\n",
        "- But, best performance might be achieved when **neither parameter** is at its default value"
      ]
    },
    {
      "cell_type": "code",
      "metadata": {
        "id": "nSLfNIlEjWU_",
        "colab_type": "code",
        "colab": {}
      },
      "source": [
        "# define the parameter values that should be searched\n",
        "k_range = list(range(1, 31))\n",
        "weight_options = ['uniform', 'distance']"
      ],
      "execution_count": 0,
      "outputs": []
    },
    {
      "cell_type": "code",
      "metadata": {
        "id": "C2mXUqt4jWVJ",
        "colab_type": "code",
        "outputId": "6bb7263d-fec1-4894-a4ff-e2fec43313c4",
        "colab": {
          "base_uri": "https://localhost:8080/",
          "height": 34
        }
      },
      "source": [
        "# create a parameter grid: map the parameter names to the values that should be searched\n",
        "param_grid = dict(n_neighbors=k_range, weights=weight_options)\n",
        "print(param_grid)"
      ],
      "execution_count": 18,
      "outputs": [
        {
          "output_type": "stream",
          "text": [
            "{'n_neighbors': [1, 2, 3, 4, 5, 6, 7, 8, 9, 10, 11, 12, 13, 14, 15, 16, 17, 18, 19, 20, 21, 22, 23, 24, 25, 26, 27, 28, 29, 30], 'weights': ['uniform', 'distance']}\n"
          ],
          "name": "stdout"
        }
      ]
    },
    {
      "cell_type": "code",
      "metadata": {
        "id": "EhSpDAjMjWVN",
        "colab_type": "code",
        "outputId": "babeb0ac-02db-4fdf-8c1c-4a6b30d9e35c",
        "colab": {
          "base_uri": "https://localhost:8080/",
          "height": 235
        }
      },
      "source": [
        "# instantiate and fit the grid\n",
        "grid = GridSearchCV(knn, param_grid, cv=10, scoring='accuracy')\n",
        "grid.fit(X, y)"
      ],
      "execution_count": 19,
      "outputs": [
        {
          "output_type": "execute_result",
          "data": {
            "text/plain": [
              "GridSearchCV(cv=10, error_score=nan,\n",
              "             estimator=KNeighborsClassifier(algorithm='auto', leaf_size=30,\n",
              "                                            metric='minkowski',\n",
              "                                            metric_params=None, n_jobs=None,\n",
              "                                            n_neighbors=30, p=2,\n",
              "                                            weights='uniform'),\n",
              "             iid='deprecated', n_jobs=None,\n",
              "             param_grid={'n_neighbors': [1, 2, 3, 4, 5, 6, 7, 8, 9, 10, 11, 12,\n",
              "                                         13, 14, 15, 16, 17, 18, 19, 20, 21, 22,\n",
              "                                         23, 24, 25, 26, 27, 28, 29, 30],\n",
              "                         'weights': ['uniform', 'distance']},\n",
              "             pre_dispatch='2*n_jobs', refit=True, return_train_score=False,\n",
              "             scoring='accuracy', verbose=0)"
            ]
          },
          "metadata": {
            "tags": []
          },
          "execution_count": 19
        }
      ]
    },
    {
      "cell_type": "code",
      "metadata": {
        "id": "WgFndhgkjWVQ",
        "colab_type": "code",
        "outputId": "6a35c2cb-0716-4212-874b-999d4b0b2303",
        "colab": {
          "base_uri": "https://localhost:8080/",
          "height": 1000
        }
      },
      "source": [
        "# view the complete results\n",
        "grid.cv_results_"
      ],
      "execution_count": 20,
      "outputs": [
        {
          "output_type": "execute_result",
          "data": {
            "text/plain": [
              "{'mean_fit_time': array([0.00082281, 0.000459  , 0.00051506, 0.00050516, 0.000527  ,\n",
              "        0.0004425 , 0.00043271, 0.00048959, 0.00045743, 0.00049386,\n",
              "        0.00041897, 0.0004118 , 0.00046279, 0.00044849, 0.00050862,\n",
              "        0.00044684, 0.0004508 , 0.00042436, 0.00042014, 0.00043197,\n",
              "        0.00042944, 0.00063615, 0.0004787 , 0.0004679 , 0.00042005,\n",
              "        0.00043795, 0.00046065, 0.00043571, 0.0004437 , 0.00041616,\n",
              "        0.00041454, 0.00041983, 0.00042057, 0.00042548, 0.00042615,\n",
              "        0.00043533, 0.00044093, 0.00044234, 0.0004436 , 0.00046513,\n",
              "        0.00051894, 0.00048478, 0.00048671, 0.00049608, 0.00052199,\n",
              "        0.00046637, 0.00048056, 0.00047443, 0.0004514 , 0.00049369,\n",
              "        0.00045276, 0.00043108, 0.00056856, 0.00044127, 0.00052598,\n",
              "        0.00043926, 0.00045643, 0.00044327, 0.00044844, 0.00043979]),\n",
              " 'mean_score_time': array([0.00189559, 0.00086842, 0.00146227, 0.0009372 , 0.00135815,\n",
              "        0.00083268, 0.00114937, 0.00083218, 0.00126522, 0.00085924,\n",
              "        0.00113416, 0.00081446, 0.00116758, 0.00080769, 0.0014081 ,\n",
              "        0.00089452, 0.00116403, 0.00083122, 0.00115492, 0.00078182,\n",
              "        0.00118997, 0.00125799, 0.00125306, 0.00092657, 0.00134456,\n",
              "        0.00096354, 0.00132194, 0.00084658, 0.00115848, 0.00079794,\n",
              "        0.0011682 , 0.00079329, 0.00116315, 0.00082717, 0.00118945,\n",
              "        0.00081921, 0.00130088, 0.00089662, 0.00127325, 0.00096586,\n",
              "        0.00139201, 0.00091946, 0.00138791, 0.00090499, 0.00125299,\n",
              "        0.00087919, 0.00140336, 0.00086672, 0.0013602 , 0.00091658,\n",
              "        0.00134139, 0.00091813, 0.00158403, 0.00089164, 0.00141029,\n",
              "        0.00086179, 0.00129292, 0.00091159, 0.00128481, 0.00086315]),\n",
              " 'mean_test_score': array([0.96      , 0.96      , 0.95333333, 0.96      , 0.96666667,\n",
              "        0.96666667, 0.96666667, 0.96666667, 0.96666667, 0.96666667,\n",
              "        0.96666667, 0.96666667, 0.96666667, 0.96666667, 0.96666667,\n",
              "        0.96666667, 0.97333333, 0.97333333, 0.96666667, 0.97333333,\n",
              "        0.96666667, 0.97333333, 0.97333333, 0.97333333, 0.98      ,\n",
              "        0.97333333, 0.97333333, 0.97333333, 0.97333333, 0.98      ,\n",
              "        0.97333333, 0.97333333, 0.97333333, 0.98      , 0.98      ,\n",
              "        0.97333333, 0.97333333, 0.98      , 0.98      , 0.96666667,\n",
              "        0.96666667, 0.96666667, 0.96666667, 0.96666667, 0.97333333,\n",
              "        0.97333333, 0.96      , 0.97333333, 0.96666667, 0.97333333,\n",
              "        0.96      , 0.96666667, 0.96666667, 0.98      , 0.95333333,\n",
              "        0.97333333, 0.95333333, 0.97333333, 0.95333333, 0.96666667]),\n",
              " 'param_n_neighbors': masked_array(data=[1, 1, 2, 2, 3, 3, 4, 4, 5, 5, 6, 6, 7, 7, 8, 8, 9, 9,\n",
              "                    10, 10, 11, 11, 12, 12, 13, 13, 14, 14, 15, 15, 16, 16,\n",
              "                    17, 17, 18, 18, 19, 19, 20, 20, 21, 21, 22, 22, 23, 23,\n",
              "                    24, 24, 25, 25, 26, 26, 27, 27, 28, 28, 29, 29, 30, 30],\n",
              "              mask=[False, False, False, False, False, False, False, False,\n",
              "                    False, False, False, False, False, False, False, False,\n",
              "                    False, False, False, False, False, False, False, False,\n",
              "                    False, False, False, False, False, False, False, False,\n",
              "                    False, False, False, False, False, False, False, False,\n",
              "                    False, False, False, False, False, False, False, False,\n",
              "                    False, False, False, False, False, False, False, False,\n",
              "                    False, False, False, False],\n",
              "        fill_value='?',\n",
              "             dtype=object),\n",
              " 'param_weights': masked_array(data=['uniform', 'distance', 'uniform', 'distance',\n",
              "                    'uniform', 'distance', 'uniform', 'distance',\n",
              "                    'uniform', 'distance', 'uniform', 'distance',\n",
              "                    'uniform', 'distance', 'uniform', 'distance',\n",
              "                    'uniform', 'distance', 'uniform', 'distance',\n",
              "                    'uniform', 'distance', 'uniform', 'distance',\n",
              "                    'uniform', 'distance', 'uniform', 'distance',\n",
              "                    'uniform', 'distance', 'uniform', 'distance',\n",
              "                    'uniform', 'distance', 'uniform', 'distance',\n",
              "                    'uniform', 'distance', 'uniform', 'distance',\n",
              "                    'uniform', 'distance', 'uniform', 'distance',\n",
              "                    'uniform', 'distance', 'uniform', 'distance',\n",
              "                    'uniform', 'distance', 'uniform', 'distance',\n",
              "                    'uniform', 'distance', 'uniform', 'distance',\n",
              "                    'uniform', 'distance', 'uniform', 'distance'],\n",
              "              mask=[False, False, False, False, False, False, False, False,\n",
              "                    False, False, False, False, False, False, False, False,\n",
              "                    False, False, False, False, False, False, False, False,\n",
              "                    False, False, False, False, False, False, False, False,\n",
              "                    False, False, False, False, False, False, False, False,\n",
              "                    False, False, False, False, False, False, False, False,\n",
              "                    False, False, False, False, False, False, False, False,\n",
              "                    False, False, False, False],\n",
              "        fill_value='?',\n",
              "             dtype=object),\n",
              " 'params': [{'n_neighbors': 1, 'weights': 'uniform'},\n",
              "  {'n_neighbors': 1, 'weights': 'distance'},\n",
              "  {'n_neighbors': 2, 'weights': 'uniform'},\n",
              "  {'n_neighbors': 2, 'weights': 'distance'},\n",
              "  {'n_neighbors': 3, 'weights': 'uniform'},\n",
              "  {'n_neighbors': 3, 'weights': 'distance'},\n",
              "  {'n_neighbors': 4, 'weights': 'uniform'},\n",
              "  {'n_neighbors': 4, 'weights': 'distance'},\n",
              "  {'n_neighbors': 5, 'weights': 'uniform'},\n",
              "  {'n_neighbors': 5, 'weights': 'distance'},\n",
              "  {'n_neighbors': 6, 'weights': 'uniform'},\n",
              "  {'n_neighbors': 6, 'weights': 'distance'},\n",
              "  {'n_neighbors': 7, 'weights': 'uniform'},\n",
              "  {'n_neighbors': 7, 'weights': 'distance'},\n",
              "  {'n_neighbors': 8, 'weights': 'uniform'},\n",
              "  {'n_neighbors': 8, 'weights': 'distance'},\n",
              "  {'n_neighbors': 9, 'weights': 'uniform'},\n",
              "  {'n_neighbors': 9, 'weights': 'distance'},\n",
              "  {'n_neighbors': 10, 'weights': 'uniform'},\n",
              "  {'n_neighbors': 10, 'weights': 'distance'},\n",
              "  {'n_neighbors': 11, 'weights': 'uniform'},\n",
              "  {'n_neighbors': 11, 'weights': 'distance'},\n",
              "  {'n_neighbors': 12, 'weights': 'uniform'},\n",
              "  {'n_neighbors': 12, 'weights': 'distance'},\n",
              "  {'n_neighbors': 13, 'weights': 'uniform'},\n",
              "  {'n_neighbors': 13, 'weights': 'distance'},\n",
              "  {'n_neighbors': 14, 'weights': 'uniform'},\n",
              "  {'n_neighbors': 14, 'weights': 'distance'},\n",
              "  {'n_neighbors': 15, 'weights': 'uniform'},\n",
              "  {'n_neighbors': 15, 'weights': 'distance'},\n",
              "  {'n_neighbors': 16, 'weights': 'uniform'},\n",
              "  {'n_neighbors': 16, 'weights': 'distance'},\n",
              "  {'n_neighbors': 17, 'weights': 'uniform'},\n",
              "  {'n_neighbors': 17, 'weights': 'distance'},\n",
              "  {'n_neighbors': 18, 'weights': 'uniform'},\n",
              "  {'n_neighbors': 18, 'weights': 'distance'},\n",
              "  {'n_neighbors': 19, 'weights': 'uniform'},\n",
              "  {'n_neighbors': 19, 'weights': 'distance'},\n",
              "  {'n_neighbors': 20, 'weights': 'uniform'},\n",
              "  {'n_neighbors': 20, 'weights': 'distance'},\n",
              "  {'n_neighbors': 21, 'weights': 'uniform'},\n",
              "  {'n_neighbors': 21, 'weights': 'distance'},\n",
              "  {'n_neighbors': 22, 'weights': 'uniform'},\n",
              "  {'n_neighbors': 22, 'weights': 'distance'},\n",
              "  {'n_neighbors': 23, 'weights': 'uniform'},\n",
              "  {'n_neighbors': 23, 'weights': 'distance'},\n",
              "  {'n_neighbors': 24, 'weights': 'uniform'},\n",
              "  {'n_neighbors': 24, 'weights': 'distance'},\n",
              "  {'n_neighbors': 25, 'weights': 'uniform'},\n",
              "  {'n_neighbors': 25, 'weights': 'distance'},\n",
              "  {'n_neighbors': 26, 'weights': 'uniform'},\n",
              "  {'n_neighbors': 26, 'weights': 'distance'},\n",
              "  {'n_neighbors': 27, 'weights': 'uniform'},\n",
              "  {'n_neighbors': 27, 'weights': 'distance'},\n",
              "  {'n_neighbors': 28, 'weights': 'uniform'},\n",
              "  {'n_neighbors': 28, 'weights': 'distance'},\n",
              "  {'n_neighbors': 29, 'weights': 'uniform'},\n",
              "  {'n_neighbors': 29, 'weights': 'distance'},\n",
              "  {'n_neighbors': 30, 'weights': 'uniform'},\n",
              "  {'n_neighbors': 30, 'weights': 'distance'}],\n",
              " 'rank_test_score': array([52, 52, 57, 52, 43, 43, 43, 43, 29, 29, 29, 29, 29, 29, 29, 29,  8,\n",
              "         8, 29,  8, 29,  8,  8,  8,  1,  8,  8,  8,  8,  1,  8,  8,  8,  1,\n",
              "         1,  8,  8,  1,  1, 29, 43, 29, 43, 29,  8,  8, 52,  8, 43,  8, 52,\n",
              "        29, 43,  1, 57,  8, 57,  8, 57, 43], dtype=int32),\n",
              " 'split0_test_score': array([1.        , 1.        , 1.        , 1.        , 1.        ,\n",
              "        1.        , 1.        , 1.        , 1.        , 1.        ,\n",
              "        1.        , 1.        , 1.        , 1.        , 1.        ,\n",
              "        1.        , 1.        , 1.        , 1.        , 1.        ,\n",
              "        1.        , 1.        , 1.        , 1.        , 1.        ,\n",
              "        1.        , 1.        , 1.        , 0.93333333, 1.        ,\n",
              "        1.        , 1.        , 0.93333333, 1.        , 1.        ,\n",
              "        1.        , 0.93333333, 1.        , 1.        , 1.        ,\n",
              "        0.93333333, 1.        , 0.93333333, 1.        , 0.93333333,\n",
              "        1.        , 0.93333333, 1.        , 0.93333333, 1.        ,\n",
              "        0.93333333, 1.        , 0.93333333, 1.        , 0.93333333,\n",
              "        1.        , 0.93333333, 1.        , 0.93333333, 1.        ]),\n",
              " 'split1_test_score': array([0.93333333, 0.93333333, 0.93333333, 0.93333333, 0.93333333,\n",
              "        0.93333333, 0.93333333, 0.93333333, 0.93333333, 0.93333333,\n",
              "        0.93333333, 0.93333333, 0.93333333, 0.93333333, 0.93333333,\n",
              "        0.93333333, 0.93333333, 0.93333333, 0.93333333, 0.93333333,\n",
              "        0.93333333, 0.93333333, 0.93333333, 0.93333333, 0.93333333,\n",
              "        0.93333333, 0.93333333, 0.93333333, 0.93333333, 0.93333333,\n",
              "        0.93333333, 0.93333333, 0.93333333, 0.93333333, 0.93333333,\n",
              "        0.93333333, 0.93333333, 0.93333333, 0.93333333, 0.93333333,\n",
              "        0.93333333, 0.93333333, 0.93333333, 0.93333333, 0.93333333,\n",
              "        0.93333333, 0.93333333, 0.93333333, 0.93333333, 0.93333333,\n",
              "        0.93333333, 0.93333333, 0.93333333, 0.93333333, 0.93333333,\n",
              "        0.93333333, 0.93333333, 0.93333333, 0.93333333, 0.93333333]),\n",
              " 'split2_test_score': array([1., 1., 1., 1., 1., 1., 1., 1., 1., 1., 1., 1., 1., 1., 1., 1., 1.,\n",
              "        1., 1., 1., 1., 1., 1., 1., 1., 1., 1., 1., 1., 1., 1., 1., 1., 1.,\n",
              "        1., 1., 1., 1., 1., 1., 1., 1., 1., 1., 1., 1., 1., 1., 1., 1., 1.,\n",
              "        1., 1., 1., 1., 1., 1., 1., 1., 1.]),\n",
              " 'split3_test_score': array([0.93333333, 0.93333333, 0.93333333, 0.93333333, 0.93333333,\n",
              "        0.93333333, 0.93333333, 0.93333333, 1.        , 1.        ,\n",
              "        1.        , 1.        , 1.        , 1.        , 1.        ,\n",
              "        1.        , 1.        , 1.        , 1.        , 1.        ,\n",
              "        1.        , 1.        , 1.        , 1.        , 1.        ,\n",
              "        1.        , 1.        , 1.        , 1.        , 1.        ,\n",
              "        1.        , 1.        , 1.        , 1.        , 1.        ,\n",
              "        1.        , 1.        , 1.        , 1.        , 1.        ,\n",
              "        1.        , 1.        , 1.        , 1.        , 1.        ,\n",
              "        1.        , 1.        , 1.        , 1.        , 1.        ,\n",
              "        1.        , 1.        , 1.        , 1.        , 0.93333333,\n",
              "        1.        , 0.93333333, 0.93333333, 0.93333333, 0.93333333]),\n",
              " 'split4_test_score': array([0.86666667, 0.86666667, 0.86666667, 0.86666667, 0.86666667,\n",
              "        0.86666667, 0.86666667, 0.86666667, 0.86666667, 0.86666667,\n",
              "        0.86666667, 0.86666667, 0.86666667, 0.86666667, 1.        ,\n",
              "        0.86666667, 1.        , 0.93333333, 1.        , 0.93333333,\n",
              "        1.        , 0.93333333, 1.        , 0.86666667, 1.        ,\n",
              "        0.93333333, 1.        , 0.93333333, 1.        , 1.        ,\n",
              "        1.        , 0.93333333, 1.        , 1.        , 1.        ,\n",
              "        0.93333333, 1.        , 1.        , 1.        , 0.86666667,\n",
              "        0.93333333, 0.86666667, 1.        , 0.86666667, 1.        ,\n",
              "        0.93333333, 1.        , 0.93333333, 1.        , 0.93333333,\n",
              "        1.        , 0.86666667, 1.        , 1.        , 1.        ,\n",
              "        0.93333333, 1.        , 1.        , 1.        , 0.93333333]),\n",
              " 'split5_test_score': array([1.        , 1.        , 1.        , 1.        , 1.        ,\n",
              "        1.        , 1.        , 1.        , 0.93333333, 0.93333333,\n",
              "        0.93333333, 0.93333333, 0.93333333, 0.93333333, 0.86666667,\n",
              "        0.93333333, 0.93333333, 0.93333333, 0.86666667, 0.93333333,\n",
              "        0.86666667, 0.93333333, 0.93333333, 1.        , 0.93333333,\n",
              "        0.93333333, 0.86666667, 0.93333333, 0.93333333, 0.93333333,\n",
              "        0.93333333, 0.93333333, 0.93333333, 0.93333333, 0.93333333,\n",
              "        0.93333333, 0.93333333, 0.93333333, 0.93333333, 0.93333333,\n",
              "        0.93333333, 0.93333333, 0.93333333, 0.93333333, 0.93333333,\n",
              "        0.93333333, 0.86666667, 0.93333333, 0.93333333, 0.93333333,\n",
              "        0.86666667, 0.93333333, 0.86666667, 0.93333333, 0.86666667,\n",
              "        0.93333333, 0.86666667, 0.93333333, 0.86666667, 0.93333333]),\n",
              " 'split6_test_score': array([0.86666667, 0.86666667, 0.86666667, 0.86666667, 0.93333333,\n",
              "        0.93333333, 0.93333333, 0.93333333, 0.93333333, 0.93333333,\n",
              "        0.93333333, 0.93333333, 0.93333333, 0.93333333, 0.93333333,\n",
              "        0.93333333, 0.93333333, 0.93333333, 0.93333333, 0.93333333,\n",
              "        0.93333333, 0.93333333, 0.93333333, 0.93333333, 0.93333333,\n",
              "        0.93333333, 0.93333333, 0.93333333, 0.93333333, 0.93333333,\n",
              "        0.93333333, 0.93333333, 0.93333333, 0.93333333, 0.93333333,\n",
              "        0.93333333, 0.93333333, 0.93333333, 0.93333333, 0.93333333,\n",
              "        0.93333333, 0.93333333, 0.93333333, 0.93333333, 0.93333333,\n",
              "        0.93333333, 0.93333333, 0.93333333, 0.93333333, 0.93333333,\n",
              "        0.93333333, 0.93333333, 0.93333333, 0.93333333, 0.93333333,\n",
              "        0.93333333, 0.93333333, 0.93333333, 0.93333333, 0.93333333]),\n",
              " 'split7_test_score': array([1.        , 1.        , 0.93333333, 1.        , 1.        ,\n",
              "        1.        , 1.        , 1.        , 1.        , 1.        ,\n",
              "        1.        , 1.        , 1.        , 1.        , 0.93333333,\n",
              "        1.        , 0.93333333, 1.        , 0.93333333, 1.        ,\n",
              "        0.93333333, 1.        , 0.93333333, 1.        , 1.        ,\n",
              "        1.        , 1.        , 1.        , 1.        , 1.        ,\n",
              "        0.93333333, 1.        , 1.        , 1.        , 1.        ,\n",
              "        1.        , 1.        , 1.        , 1.        , 1.        ,\n",
              "        1.        , 1.        , 0.93333333, 1.        , 1.        ,\n",
              "        1.        , 0.93333333, 1.        , 0.93333333, 1.        ,\n",
              "        0.93333333, 1.        , 1.        , 1.        , 0.93333333,\n",
              "        1.        , 0.93333333, 1.        , 0.93333333, 1.        ]),\n",
              " 'split8_test_score': array([1., 1., 1., 1., 1., 1., 1., 1., 1., 1., 1., 1., 1., 1., 1., 1., 1.,\n",
              "        1., 1., 1., 1., 1., 1., 1., 1., 1., 1., 1., 1., 1., 1., 1., 1., 1.,\n",
              "        1., 1., 1., 1., 1., 1., 1., 1., 1., 1., 1., 1., 1., 1., 1., 1., 1.,\n",
              "        1., 1., 1., 1., 1., 1., 1., 1., 1.]),\n",
              " 'split9_test_score': array([1., 1., 1., 1., 1., 1., 1., 1., 1., 1., 1., 1., 1., 1., 1., 1., 1.,\n",
              "        1., 1., 1., 1., 1., 1., 1., 1., 1., 1., 1., 1., 1., 1., 1., 1., 1.,\n",
              "        1., 1., 1., 1., 1., 1., 1., 1., 1., 1., 1., 1., 1., 1., 1., 1., 1.,\n",
              "        1., 1., 1., 1., 1., 1., 1., 1., 1.]),\n",
              " 'std_fit_time': array([4.61363551e-04, 6.58126666e-05, 6.34651315e-05, 3.51263962e-05,\n",
              "        1.56919277e-05, 3.96718772e-05, 2.99525195e-05, 1.21854579e-04,\n",
              "        2.52472104e-05, 1.05939664e-04, 8.69495920e-06, 1.01370242e-05,\n",
              "        6.54465253e-05, 7.36618074e-05, 1.29902951e-04, 2.56956833e-05,\n",
              "        6.42669475e-05, 2.25424609e-05, 1.18221963e-05, 3.79173700e-05,\n",
              "        2.34543300e-05, 2.84217823e-04, 1.14218018e-04, 6.80550580e-05,\n",
              "        2.00041002e-05, 3.19125651e-05, 3.50662509e-05, 4.82898866e-05,\n",
              "        4.73100806e-05, 1.92589239e-05, 1.36857456e-05, 1.53895268e-05,\n",
              "        2.27576747e-05, 2.06388982e-05, 1.55923563e-05, 4.15705817e-05,\n",
              "        2.43831696e-05, 2.40193081e-05, 2.64988495e-05, 2.69685982e-05,\n",
              "        8.07451748e-05, 6.85407637e-05, 8.29018255e-05, 7.41953906e-05,\n",
              "        8.92340068e-05, 1.00799724e-04, 7.84884826e-05, 6.60592833e-05,\n",
              "        3.23835365e-05, 1.15487757e-04, 2.35668052e-05, 2.21258222e-05,\n",
              "        1.84014606e-04, 3.01894413e-05, 8.88789448e-05, 5.48017642e-05,\n",
              "        3.56422938e-05, 2.80410658e-05, 3.03334497e-05, 3.03289050e-05]),\n",
              " 'std_score_time': array([7.87107863e-04, 1.40813945e-04, 1.30283431e-04, 4.44318402e-05,\n",
              "        3.73680719e-05, 1.54264973e-04, 5.33336340e-05, 1.26341386e-04,\n",
              "        2.84311293e-04, 1.50150958e-04, 3.47072273e-05, 7.41122495e-05,\n",
              "        6.21308753e-05, 1.04015283e-04, 2.37402372e-04, 8.85813068e-05,\n",
              "        3.22145852e-05, 8.10940204e-05, 3.83390790e-05, 2.26178195e-05,\n",
              "        7.06926526e-05, 6.55631838e-04, 1.23689300e-04, 1.15824867e-04,\n",
              "        6.88917694e-05, 1.26950673e-05, 9.03619751e-05, 5.14315684e-05,\n",
              "        3.56981966e-05, 2.19015205e-05, 7.75919557e-05, 4.22532681e-05,\n",
              "        2.96424775e-05, 7.28936645e-05, 5.46443161e-05, 3.96209788e-05,\n",
              "        1.85383134e-04, 1.34506290e-04, 1.38371053e-04, 1.16674046e-04,\n",
              "        1.48028881e-04, 7.58205007e-05, 1.26362749e-04, 4.16933770e-05,\n",
              "        8.11558212e-05, 7.28892194e-05, 1.95197426e-04, 3.27596237e-05,\n",
              "        1.85080842e-04, 9.11494028e-05, 1.12242129e-04, 1.11896647e-04,\n",
              "        3.75078764e-04, 9.77310182e-05, 1.81191149e-04, 5.82522704e-05,\n",
              "        5.11004438e-05, 7.28182995e-05, 2.76831487e-05, 4.39094339e-05]),\n",
              " 'std_test_score': array([0.05333333, 0.05333333, 0.05206833, 0.05333333, 0.04472136,\n",
              "        0.04472136, 0.04472136, 0.04472136, 0.04472136, 0.04472136,\n",
              "        0.04472136, 0.04472136, 0.04472136, 0.04472136, 0.04472136,\n",
              "        0.04472136, 0.03265986, 0.03265986, 0.04472136, 0.03265986,\n",
              "        0.04472136, 0.03265986, 0.03265986, 0.04422166, 0.0305505 ,\n",
              "        0.03265986, 0.04422166, 0.03265986, 0.03265986, 0.0305505 ,\n",
              "        0.03265986, 0.03265986, 0.03265986, 0.0305505 , 0.0305505 ,\n",
              "        0.03265986, 0.03265986, 0.0305505 , 0.0305505 , 0.04472136,\n",
              "        0.03333333, 0.04472136, 0.03333333, 0.04472136, 0.03265986,\n",
              "        0.03265986, 0.04422166, 0.03265986, 0.03333333, 0.03265986,\n",
              "        0.04422166, 0.04472136, 0.04472136, 0.0305505 , 0.04268749,\n",
              "        0.03265986, 0.04268749, 0.03265986, 0.04268749, 0.03333333])}"
            ]
          },
          "metadata": {
            "tags": []
          },
          "execution_count": 20
        }
      ]
    },
    {
      "cell_type": "code",
      "metadata": {
        "id": "2dUV-RvJjWVU",
        "colab_type": "code",
        "outputId": "5e31bd98-3d2c-4b93-8ce9-2b0d3be0fa94",
        "colab": {
          "base_uri": "https://localhost:8080/",
          "height": 50
        }
      },
      "source": [
        "# examine the best model\n",
        "print(grid.best_score_)\n",
        "print(grid.best_params_)"
      ],
      "execution_count": 21,
      "outputs": [
        {
          "output_type": "stream",
          "text": [
            "0.9800000000000001\n",
            "{'n_neighbors': 13, 'weights': 'uniform'}\n"
          ],
          "name": "stdout"
        }
      ]
    },
    {
      "cell_type": "markdown",
      "metadata": {
        "id": "QBF2QpySjWVZ",
        "colab_type": "text"
      },
      "source": [
        "## Using the best parameters to make predictions"
      ]
    },
    {
      "cell_type": "code",
      "metadata": {
        "id": "lVGrulx8jWVa",
        "colab_type": "code",
        "outputId": "29c215aa-2693-436f-dddb-4cf309dc7cbd",
        "colab": {
          "base_uri": "https://localhost:8080/",
          "height": 34
        }
      },
      "source": [
        "# train your model using all data and the best known parameters\n",
        "knn = KNeighborsClassifier(n_neighbors=grid.best_params_[\"n_neighbors\"], weights=grid.best_params_[\"weights\"])\n",
        "knn.fit(X, y)\n",
        "\n",
        "# make a prediction on out-of-sample data\n",
        "knn.predict([[3, 5, 4, 2]])"
      ],
      "execution_count": 22,
      "outputs": [
        {
          "output_type": "execute_result",
          "data": {
            "text/plain": [
              "array([1])"
            ]
          },
          "metadata": {
            "tags": []
          },
          "execution_count": 22
        }
      ]
    },
    {
      "cell_type": "code",
      "metadata": {
        "id": "2drqfW5WjWVe",
        "colab_type": "code",
        "outputId": "4a60e6ae-4e67-486f-abe6-e7ca90665606",
        "colab": {
          "base_uri": "https://localhost:8080/",
          "height": 34
        }
      },
      "source": [
        "# shortcut: GridSearchCV automatically refits the best model using all of the data\n",
        "grid.predict([[3, 5, 4, 2]])"
      ],
      "execution_count": 23,
      "outputs": [
        {
          "output_type": "execute_result",
          "data": {
            "text/plain": [
              "array([1])"
            ]
          },
          "metadata": {
            "tags": []
          },
          "execution_count": 23
        }
      ]
    },
    {
      "cell_type": "markdown",
      "metadata": {
        "id": "_E2FUPeCjWVh",
        "colab_type": "text"
      },
      "source": [
        "## Reducing computational expense using `RandomizedSearchCV`"
      ]
    },
    {
      "cell_type": "markdown",
      "metadata": {
        "id": "R9yWQ9SEjWVj",
        "colab_type": "text"
      },
      "source": [
        "- Searching many different parameters at once may be computationally infeasible\n",
        "- `RandomizedSearchCV` searches a subset of the parameters, and you control the computational \"budget\""
      ]
    },
    {
      "cell_type": "code",
      "metadata": {
        "id": "nWRUwtS6jWVl",
        "colab_type": "code",
        "colab": {}
      },
      "source": [
        "from sklearn.model_selection import RandomizedSearchCV"
      ],
      "execution_count": 0,
      "outputs": []
    },
    {
      "cell_type": "code",
      "metadata": {
        "id": "0259sCJtjWVr",
        "colab_type": "code",
        "colab": {}
      },
      "source": [
        "# specify \"parameter distributions\" rather than a \"parameter grid\"\n",
        "param_dist = dict(n_neighbors=k_range, weights=weight_options)"
      ],
      "execution_count": 0,
      "outputs": []
    },
    {
      "cell_type": "markdown",
      "metadata": {
        "id": "5vB7Ka5pjWVw",
        "colab_type": "text"
      },
      "source": [
        "- **Important:** Specify a continuous distribution (rather than a list of values) for any continous parameters"
      ]
    },
    {
      "cell_type": "code",
      "metadata": {
        "id": "YkiUOv4rjWVx",
        "colab_type": "code",
        "outputId": "6b80444d-6606-41e4-fd7b-e28cf0607404",
        "colab": {
          "base_uri": "https://localhost:8080/",
          "height": 924
        }
      },
      "source": [
        "# n_iter controls the number of searches\n",
        "rand = RandomizedSearchCV(knn, param_dist, cv=10, scoring='accuracy', n_iter=10, random_state=5)\n",
        "rand.fit(X, y)\n",
        "rand.cv_results_"
      ],
      "execution_count": 26,
      "outputs": [
        {
          "output_type": "execute_result",
          "data": {
            "text/plain": [
              "{'mean_fit_time': array([0.00063915, 0.00041931, 0.0004735 , 0.00046825, 0.00049782,\n",
              "        0.00044358, 0.00048335, 0.00049653, 0.00044808, 0.000441  ]),\n",
              " 'mean_score_time': array([0.00139675, 0.00117209, 0.0011766 , 0.00120437, 0.00134799,\n",
              "        0.00085456, 0.00086462, 0.00151656, 0.00084932, 0.00124485]),\n",
              " 'mean_test_score': array([0.97333333, 0.96666667, 0.98      , 0.96666667, 0.95333333,\n",
              "        0.97333333, 0.96666667, 0.97333333, 0.97333333, 0.97333333]),\n",
              " 'param_n_neighbors': masked_array(data=[16, 22, 18, 27, 29, 10, 22, 14, 12, 15],\n",
              "              mask=[False, False, False, False, False, False, False, False,\n",
              "                    False, False],\n",
              "        fill_value='?',\n",
              "             dtype=object),\n",
              " 'param_weights': masked_array(data=['distance', 'uniform', 'uniform', 'uniform', 'uniform',\n",
              "                    'distance', 'distance', 'uniform', 'distance',\n",
              "                    'uniform'],\n",
              "              mask=[False, False, False, False, False, False, False, False,\n",
              "                    False, False],\n",
              "        fill_value='?',\n",
              "             dtype=object),\n",
              " 'params': [{'n_neighbors': 16, 'weights': 'distance'},\n",
              "  {'n_neighbors': 22, 'weights': 'uniform'},\n",
              "  {'n_neighbors': 18, 'weights': 'uniform'},\n",
              "  {'n_neighbors': 27, 'weights': 'uniform'},\n",
              "  {'n_neighbors': 29, 'weights': 'uniform'},\n",
              "  {'n_neighbors': 10, 'weights': 'distance'},\n",
              "  {'n_neighbors': 22, 'weights': 'distance'},\n",
              "  {'n_neighbors': 14, 'weights': 'uniform'},\n",
              "  {'n_neighbors': 12, 'weights': 'distance'},\n",
              "  {'n_neighbors': 15, 'weights': 'uniform'}],\n",
              " 'rank_test_score': array([ 2,  8,  1,  8, 10,  2,  7,  2,  2,  2], dtype=int32),\n",
              " 'split0_test_score': array([1.        , 0.93333333, 1.        , 0.93333333, 0.93333333,\n",
              "        1.        , 1.        , 1.        , 1.        , 0.93333333]),\n",
              " 'split1_test_score': array([0.93333333, 0.93333333, 0.93333333, 0.93333333, 0.93333333,\n",
              "        0.93333333, 0.93333333, 0.93333333, 0.93333333, 0.93333333]),\n",
              " 'split2_test_score': array([1., 1., 1., 1., 1., 1., 1., 1., 1., 1.]),\n",
              " 'split3_test_score': array([1.        , 1.        , 1.        , 1.        , 0.93333333,\n",
              "        1.        , 1.        , 1.        , 1.        , 1.        ]),\n",
              " 'split4_test_score': array([0.93333333, 1.        , 1.        , 1.        , 1.        ,\n",
              "        0.93333333, 0.86666667, 1.        , 0.86666667, 1.        ]),\n",
              " 'split5_test_score': array([0.93333333, 0.93333333, 0.93333333, 0.86666667, 0.86666667,\n",
              "        0.93333333, 0.93333333, 0.86666667, 1.        , 0.93333333]),\n",
              " 'split6_test_score': array([0.93333333, 0.93333333, 0.93333333, 0.93333333, 0.93333333,\n",
              "        0.93333333, 0.93333333, 0.93333333, 0.93333333, 0.93333333]),\n",
              " 'split7_test_score': array([1.        , 0.93333333, 1.        , 1.        , 0.93333333,\n",
              "        1.        , 1.        , 1.        , 1.        , 1.        ]),\n",
              " 'split8_test_score': array([1., 1., 1., 1., 1., 1., 1., 1., 1., 1.]),\n",
              " 'split9_test_score': array([1., 1., 1., 1., 1., 1., 1., 1., 1., 1.]),\n",
              " 'std_fit_time': array([2.95622787e-04, 2.07626994e-05, 1.73792950e-04, 9.42877208e-05,\n",
              "        1.22579151e-04, 1.50045622e-05, 1.16066712e-04, 1.43918831e-04,\n",
              "        5.16353438e-05, 6.08516940e-05]),\n",
              " 'std_score_time': array([7.95577829e-04, 2.75852357e-05, 3.71792351e-05, 4.58334837e-05,\n",
              "        9.66854481e-05, 3.82927330e-05, 5.67428455e-05, 7.14810475e-04,\n",
              "        8.17886969e-05, 1.83264409e-04]),\n",
              " 'std_test_score': array([0.03265986, 0.03333333, 0.0305505 , 0.04472136, 0.04268749,\n",
              "        0.03265986, 0.04472136, 0.04422166, 0.04422166, 0.03265986])}"
            ]
          },
          "metadata": {
            "tags": []
          },
          "execution_count": 26
        }
      ]
    },
    {
      "cell_type": "code",
      "metadata": {
        "id": "parGdDIijWV1",
        "colab_type": "code",
        "outputId": "f00f439b-7a0f-4901-d8d1-447434540c03",
        "colab": {
          "base_uri": "https://localhost:8080/",
          "height": 50
        }
      },
      "source": [
        "# examine the best model\n",
        "print(rand.best_score_)\n",
        "print(rand.best_params_)"
      ],
      "execution_count": 27,
      "outputs": [
        {
          "output_type": "stream",
          "text": [
            "0.9800000000000001\n",
            "{'weights': 'uniform', 'n_neighbors': 18}\n"
          ],
          "name": "stdout"
        }
      ]
    },
    {
      "cell_type": "code",
      "metadata": {
        "id": "m8UCQb9qjWV9",
        "colab_type": "code",
        "outputId": "fe96cfe4-6871-468c-e920-bf181f737e9b",
        "colab": {
          "base_uri": "https://localhost:8080/",
          "height": 34
        }
      },
      "source": [
        "# run RandomizedSearchCV 20 times (with n_iter=10) and record the best score\n",
        "best_scores = []\n",
        "for _ in range(20):\n",
        "    rand = RandomizedSearchCV(knn, param_dist, cv=10, scoring='accuracy', n_iter=10)\n",
        "    rand.fit(X, y)\n",
        "    best_scores.append(round(rand.best_score_, 3))\n",
        "print(best_scores)"
      ],
      "execution_count": 28,
      "outputs": [
        {
          "output_type": "stream",
          "text": [
            "[0.98, 0.973, 0.973, 0.98, 0.98, 0.98, 0.98, 0.973, 0.98, 0.98, 0.98, 0.98, 0.98, 0.98, 0.98, 0.973, 0.98, 0.98, 0.973, 0.98]\n"
          ],
          "name": "stdout"
        }
      ]
    },
    {
      "cell_type": "code",
      "metadata": {
        "id": "UylZfQeMjWWB",
        "colab_type": "code",
        "colab": {}
      },
      "source": [
        ""
      ],
      "execution_count": 0,
      "outputs": []
    },
    {
      "cell_type": "code",
      "metadata": {
        "id": "-61YCqa4jWWG",
        "colab_type": "code",
        "colab": {}
      },
      "source": [
        ""
      ],
      "execution_count": 0,
      "outputs": []
    }
  ]
}
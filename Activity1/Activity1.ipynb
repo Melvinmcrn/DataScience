{
  "nbformat": 4,
  "nbformat_minor": 0,
  "metadata": {
    "colab": {
      "name": "Activity1.ipynb",
      "provenance": [],
      "authorship_tag": "ABX9TyOeHDokpSngUcpcYdhHeEdR",
      "include_colab_link": true
    },
    "kernelspec": {
      "name": "python3",
      "display_name": "Python 3"
    }
  },
  "cells": [
    {
      "cell_type": "markdown",
      "metadata": {
        "id": "view-in-github",
        "colab_type": "text"
      },
      "source": [
        "<a href=\"https://colab.research.google.com/github/Melvinmcrn/DataScience/blob/master/Activity1/Activity1.ipynb\" target=\"_parent\"><img src=\"https://colab.research.google.com/assets/colab-badge.svg\" alt=\"Open In Colab\"/></a>"
      ]
    },
    {
      "cell_type": "code",
      "metadata": {
        "id": "57l87avxNqPL",
        "colab_type": "code",
        "colab": {}
      },
      "source": [
        "import pandas as pd\n",
        "import numpy as np"
      ],
      "execution_count": 0,
      "outputs": []
    },
    {
      "cell_type": "code",
      "metadata": {
        "id": "L166edp2Ou42",
        "colab_type": "code",
        "colab": {
          "base_uri": "https://localhost:8080/",
          "height": 195
        },
        "outputId": "e1f23418-ce51-4130-d4e6-579ea04e8a2f"
      },
      "source": [
        "cat_id = pd.read_csv('https://raw.githubusercontent.com/Melvinmcrn/DataScience/master/Activity1/cat_id.csv')\n",
        "cat_id.head()"
      ],
      "execution_count": 2,
      "outputs": [
        {
          "output_type": "execute_result",
          "data": {
            "text/html": [
              "<div>\n",
              "<style scoped>\n",
              "    .dataframe tbody tr th:only-of-type {\n",
              "        vertical-align: middle;\n",
              "    }\n",
              "\n",
              "    .dataframe tbody tr th {\n",
              "        vertical-align: top;\n",
              "    }\n",
              "\n",
              "    .dataframe thead th {\n",
              "        text-align: right;\n",
              "    }\n",
              "</style>\n",
              "<table border=\"1\" class=\"dataframe\">\n",
              "  <thead>\n",
              "    <tr style=\"text-align: right;\">\n",
              "      <th></th>\n",
              "      <th>cat_id</th>\n",
              "      <th>cat_name</th>\n",
              "    </tr>\n",
              "  </thead>\n",
              "  <tbody>\n",
              "    <tr>\n",
              "      <th>0</th>\n",
              "      <td>2</td>\n",
              "      <td>Japanese</td>\n",
              "    </tr>\n",
              "    <tr>\n",
              "      <th>1</th>\n",
              "      <td>3</td>\n",
              "      <td>Thai</td>\n",
              "    </tr>\n",
              "    <tr>\n",
              "      <th>2</th>\n",
              "      <td>4</td>\n",
              "      <td>Chinese</td>\n",
              "    </tr>\n",
              "    <tr>\n",
              "      <th>3</th>\n",
              "      <td>5</td>\n",
              "      <td>Italian</td>\n",
              "    </tr>\n",
              "    <tr>\n",
              "      <th>4</th>\n",
              "      <td>6</td>\n",
              "      <td>Korean</td>\n",
              "    </tr>\n",
              "  </tbody>\n",
              "</table>\n",
              "</div>"
            ],
            "text/plain": [
              "   cat_id  cat_name\n",
              "0       2  Japanese\n",
              "1       3      Thai\n",
              "2       4   Chinese\n",
              "3       5   Italian\n",
              "4       6    Korean"
            ]
          },
          "metadata": {
            "tags": []
          },
          "execution_count": 2
        }
      ]
    },
    {
      "cell_type": "code",
      "metadata": {
        "id": "5Z6DI2MOYQTA",
        "colab_type": "code",
        "colab": {
          "base_uri": "https://localhost:8080/",
          "height": 134
        },
        "outputId": "7d8670c7-eddd-4f18-fa79-dabef68c57b8"
      },
      "source": [
        "cat_id.info()"
      ],
      "execution_count": 3,
      "outputs": [
        {
          "output_type": "stream",
          "text": [
            "<class 'pandas.core.frame.DataFrame'>\n",
            "RangeIndex: 14 entries, 0 to 13\n",
            "Data columns (total 2 columns):\n",
            "cat_id      14 non-null int64\n",
            "cat_name    14 non-null object\n",
            "dtypes: int64(1), object(1)\n",
            "memory usage: 352.0+ bytes\n"
          ],
          "name": "stdout"
        }
      ]
    },
    {
      "cell_type": "code",
      "metadata": {
        "id": "XxiFIOeoO-eS",
        "colab_type": "code",
        "colab": {
          "base_uri": "https://localhost:8080/",
          "height": 121
        },
        "outputId": "616a5f20-9c29-4d9f-97ac-70bb0fb16433"
      },
      "source": [
        "from google.colab import drive\n",
        "drive.mount('/content/drive')"
      ],
      "execution_count": 4,
      "outputs": [
        {
          "output_type": "stream",
          "text": [
            "Go to this URL in a browser: https://accounts.google.com/o/oauth2/auth?client_id=947318989803-6bn6qk8qdgf4n4g3pfee6491hc0brc4i.apps.googleusercontent.com&redirect_uri=urn%3aietf%3awg%3aoauth%3a2.0%3aoob&response_type=code&scope=email%20https%3a%2f%2fwww.googleapis.com%2fauth%2fdocs.test%20https%3a%2f%2fwww.googleapis.com%2fauth%2fdrive%20https%3a%2f%2fwww.googleapis.com%2fauth%2fdrive.photos.readonly%20https%3a%2f%2fwww.googleapis.com%2fauth%2fpeopleapi.readonly\n",
            "\n",
            "Enter your authorization code:\n",
            "··········\n",
            "Mounted at /content/drive\n"
          ],
          "name": "stdout"
        }
      ]
    },
    {
      "cell_type": "code",
      "metadata": {
        "id": "c_aNz3-VO5Bi",
        "colab_type": "code",
        "colab": {
          "base_uri": "https://localhost:8080/",
          "height": 383
        },
        "outputId": "f1054751-ad0c-4570-cf4a-9f6ddf2abb44"
      },
      "source": [
        "wongnai = pd.read_csv('/content/drive/My Drive/wongnai.csv')\n",
        "wongnai.head()"
      ],
      "execution_count": 5,
      "outputs": [
        {
          "output_type": "execute_result",
          "data": {
            "text/html": [
              "<div>\n",
              "<style scoped>\n",
              "    .dataframe tbody tr th:only-of-type {\n",
              "        vertical-align: middle;\n",
              "    }\n",
              "\n",
              "    .dataframe tbody tr th {\n",
              "        vertical-align: top;\n",
              "    }\n",
              "\n",
              "    .dataframe thead th {\n",
              "        text-align: right;\n",
              "    }\n",
              "</style>\n",
              "<table border=\"1\" class=\"dataframe\">\n",
              "  <thead>\n",
              "    <tr style=\"text-align: right;\">\n",
              "      <th></th>\n",
              "      <th>Unnamed: 0</th>\n",
              "      <th>id</th>\n",
              "      <th>name</th>\n",
              "      <th>category_id</th>\n",
              "      <th>city_id</th>\n",
              "      <th>latitude</th>\n",
              "      <th>longitude</th>\n",
              "      <th>price_range</th>\n",
              "      <th>avg_price</th>\n",
              "      <th>number_of_bookmarks</th>\n",
              "      <th>number_of_favorite_bookmarks</th>\n",
              "      <th>top</th>\n",
              "      <th>best_of_wongnai</th>\n",
              "      <th>number_of_checkins</th>\n",
              "      <th>all_time_score</th>\n",
              "    </tr>\n",
              "  </thead>\n",
              "  <tbody>\n",
              "    <tr>\n",
              "      <th>0</th>\n",
              "      <td>0</td>\n",
              "      <td>2</td>\n",
              "      <td>บ้านกลมกิ๊ก</td>\n",
              "      <td>3.0</td>\n",
              "      <td>1.0</td>\n",
              "      <td>13.738962</td>\n",
              "      <td>100.550248</td>\n",
              "      <td>2.0</td>\n",
              "      <td>175.0</td>\n",
              "      <td>294</td>\n",
              "      <td>84</td>\n",
              "      <td>1</td>\n",
              "      <td>NaN</td>\n",
              "      <td>32</td>\n",
              "      <td>22487.872358</td>\n",
              "    </tr>\n",
              "    <tr>\n",
              "      <th>1</th>\n",
              "      <td>1</td>\n",
              "      <td>3</td>\n",
              "      <td>โรงเบียร์เยอรมันตะวันแดง</td>\n",
              "      <td>33.0</td>\n",
              "      <td>1.0</td>\n",
              "      <td>13.842320</td>\n",
              "      <td>100.634959</td>\n",
              "      <td>3.0</td>\n",
              "      <td>NaN</td>\n",
              "      <td>2</td>\n",
              "      <td>2</td>\n",
              "      <td>0</td>\n",
              "      <td>NaN</td>\n",
              "      <td>0</td>\n",
              "      <td>92.900000</td>\n",
              "    </tr>\n",
              "    <tr>\n",
              "      <th>2</th>\n",
              "      <td>2</td>\n",
              "      <td>4</td>\n",
              "      <td>Kosirae</td>\n",
              "      <td>43.0</td>\n",
              "      <td>1.0</td>\n",
              "      <td>13.724999</td>\n",
              "      <td>100.579715</td>\n",
              "      <td>3.0</td>\n",
              "      <td>375.0</td>\n",
              "      <td>3405</td>\n",
              "      <td>989</td>\n",
              "      <td>1</td>\n",
              "      <td>66.0</td>\n",
              "      <td>173</td>\n",
              "      <td>239274.950390</td>\n",
              "    </tr>\n",
              "    <tr>\n",
              "      <th>3</th>\n",
              "      <td>3</td>\n",
              "      <td>5</td>\n",
              "      <td>Ho Kitchen Seafood Rama 3</td>\n",
              "      <td>29.0</td>\n",
              "      <td>1.0</td>\n",
              "      <td>13.687333</td>\n",
              "      <td>100.550817</td>\n",
              "      <td>3.0</td>\n",
              "      <td>NaN</td>\n",
              "      <td>94</td>\n",
              "      <td>24</td>\n",
              "      <td>0</td>\n",
              "      <td>NaN</td>\n",
              "      <td>21</td>\n",
              "      <td>13307.512755</td>\n",
              "    </tr>\n",
              "    <tr>\n",
              "      <th>4</th>\n",
              "      <td>4</td>\n",
              "      <td>6</td>\n",
              "      <td>Barley Bistro &amp; Bar</td>\n",
              "      <td>3.0</td>\n",
              "      <td>1.0</td>\n",
              "      <td>13.726499</td>\n",
              "      <td>100.529425</td>\n",
              "      <td>3.0</td>\n",
              "      <td>375.0</td>\n",
              "      <td>249</td>\n",
              "      <td>146</td>\n",
              "      <td>1</td>\n",
              "      <td>NaN</td>\n",
              "      <td>14</td>\n",
              "      <td>19606.094680</td>\n",
              "    </tr>\n",
              "  </tbody>\n",
              "</table>\n",
              "</div>"
            ],
            "text/plain": [
              "   Unnamed: 0  id  ... number_of_checkins  all_time_score\n",
              "0           0   2  ...                 32    22487.872358\n",
              "1           1   3  ...                  0       92.900000\n",
              "2           2   4  ...                173   239274.950390\n",
              "3           3   5  ...                 21    13307.512755\n",
              "4           4   6  ...                 14    19606.094680\n",
              "\n",
              "[5 rows x 15 columns]"
            ]
          },
          "metadata": {
            "tags": []
          },
          "execution_count": 5
        }
      ]
    },
    {
      "cell_type": "code",
      "metadata": {
        "id": "vAtLm62YPVkm",
        "colab_type": "code",
        "colab": {
          "base_uri": "https://localhost:8080/",
          "height": 353
        },
        "outputId": "f285071f-3290-446d-ee98-527d7206aaff"
      },
      "source": [
        "wongnai.info()"
      ],
      "execution_count": 6,
      "outputs": [
        {
          "output_type": "stream",
          "text": [
            "<class 'pandas.core.frame.DataFrame'>\n",
            "RangeIndex: 283508 entries, 0 to 283507\n",
            "Data columns (total 15 columns):\n",
            "Unnamed: 0                      283508 non-null int64\n",
            "id                              283508 non-null int64\n",
            "name                            283507 non-null object\n",
            "category_id                     283448 non-null float64\n",
            "city_id                         283302 non-null float64\n",
            "latitude                        283508 non-null float64\n",
            "longitude                       283508 non-null float64\n",
            "price_range                     183312 non-null float64\n",
            "avg_price                       5012 non-null float64\n",
            "number_of_bookmarks             283508 non-null int64\n",
            "number_of_favorite_bookmarks    283508 non-null int64\n",
            "top                             283508 non-null int64\n",
            "best_of_wongnai                 380 non-null float64\n",
            "number_of_checkins              283508 non-null int64\n",
            "all_time_score                  283508 non-null float64\n",
            "dtypes: float64(8), int64(6), object(1)\n",
            "memory usage: 32.4+ MB\n"
          ],
          "name": "stdout"
        }
      ]
    },
    {
      "cell_type": "code",
      "metadata": {
        "id": "PwlpbxesPmOW",
        "colab_type": "code",
        "colab": {
          "base_uri": "https://localhost:8080/",
          "height": 286
        },
        "outputId": "84e44d02-9fc4-4825-d500-c0b770783106"
      },
      "source": [
        "wongnai.isnull().sum()"
      ],
      "execution_count": 7,
      "outputs": [
        {
          "output_type": "execute_result",
          "data": {
            "text/plain": [
              "Unnamed: 0                           0\n",
              "id                                   0\n",
              "name                                 1\n",
              "category_id                         60\n",
              "city_id                            206\n",
              "latitude                             0\n",
              "longitude                            0\n",
              "price_range                     100196\n",
              "avg_price                       278496\n",
              "number_of_bookmarks                  0\n",
              "number_of_favorite_bookmarks         0\n",
              "top                                  0\n",
              "best_of_wongnai                 283128\n",
              "number_of_checkins                   0\n",
              "all_time_score                       0\n",
              "dtype: int64"
            ]
          },
          "metadata": {
            "tags": []
          },
          "execution_count": 7
        }
      ]
    },
    {
      "cell_type": "code",
      "metadata": {
        "id": "2MWGjVYwPuNK",
        "colab_type": "code",
        "colab": {
          "base_uri": "https://localhost:8080/",
          "height": 118
        },
        "outputId": "df3b58ed-2574-4276-fb2c-c949826bf655"
      },
      "source": [
        "wongnai.sort_values(by='best_of_wongnai').head(5)['name']"
      ],
      "execution_count": 8,
      "outputs": [
        {
          "output_type": "execute_result",
          "data": {
            "text/plain": [
              "141447    Water Library Brasserie\n",
              "135966          Caturday cat cafe\n",
              "129258                   Chef Man\n",
              "141406               Din Tai Fung\n",
              "118873                 Eat Am Are\n",
              "Name: name, dtype: object"
            ]
          },
          "metadata": {
            "tags": []
          },
          "execution_count": 8
        }
      ]
    },
    {
      "cell_type": "markdown",
      "metadata": {
        "id": "xQwIxz0FRxGV",
        "colab_type": "text"
      },
      "source": [
        "# 2. จงแสดงชื่อร้านอาหาร 5 อันดับแรกในกลุ่ม Best of Wongnai<br>\n",
        "1. Water Library Brasserie\n",
        "2. Caturday cat cafe\n",
        "3. Chef Man\n",
        "4. Din Tai Fung\n",
        "5. Eat Am Are"
      ]
    },
    {
      "cell_type": "code",
      "metadata": {
        "id": "xMA_XRiWRWJK",
        "colab_type": "code",
        "colab": {
          "base_uri": "https://localhost:8080/",
          "height": 462
        },
        "outputId": "42279f2e-d4ec-4107-b9da-638ba333d390"
      },
      "source": [
        "wongnai3 = wongnai[np.isfinite(wongnai['best_of_wongnai'])][['category_id','name','best_of_wongnai']].reset_index().groupby('category_id')\n",
        "wongnai33 = pd.DataFrame(wongnai3.size()).reset_index()\n",
        "wongnai33.columns = ['cat_id','amount']\n",
        "cat_wongnai = pd.merge(cat_id,\n",
        "                       wongnai33,\n",
        "                       left_on='cat_id',\n",
        "                       right_on='cat_id',\n",
        "                       how='inner')\n",
        "total = cat_wongnai['amount'].sum()\n",
        "cat_wongnai['percent'] = cat_wongnai['amount'] / total * 100\n",
        "cat_wongnai"
      ],
      "execution_count": 18,
      "outputs": [
        {
          "output_type": "execute_result",
          "data": {
            "text/html": [
              "<div>\n",
              "<style scoped>\n",
              "    .dataframe tbody tr th:only-of-type {\n",
              "        vertical-align: middle;\n",
              "    }\n",
              "\n",
              "    .dataframe tbody tr th {\n",
              "        vertical-align: top;\n",
              "    }\n",
              "\n",
              "    .dataframe thead th {\n",
              "        text-align: right;\n",
              "    }\n",
              "</style>\n",
              "<table border=\"1\" class=\"dataframe\">\n",
              "  <thead>\n",
              "    <tr style=\"text-align: right;\">\n",
              "      <th></th>\n",
              "      <th>cat_id</th>\n",
              "      <th>cat_name</th>\n",
              "      <th>amount</th>\n",
              "      <th>percent</th>\n",
              "    </tr>\n",
              "  </thead>\n",
              "  <tbody>\n",
              "    <tr>\n",
              "      <th>0</th>\n",
              "      <td>2</td>\n",
              "      <td>Japanese</td>\n",
              "      <td>14</td>\n",
              "      <td>9.655172</td>\n",
              "    </tr>\n",
              "    <tr>\n",
              "      <th>1</th>\n",
              "      <td>3</td>\n",
              "      <td>Thai</td>\n",
              "      <td>36</td>\n",
              "      <td>24.827586</td>\n",
              "    </tr>\n",
              "    <tr>\n",
              "      <th>2</th>\n",
              "      <td>4</td>\n",
              "      <td>Chinese</td>\n",
              "      <td>18</td>\n",
              "      <td>12.413793</td>\n",
              "    </tr>\n",
              "    <tr>\n",
              "      <th>3</th>\n",
              "      <td>5</td>\n",
              "      <td>Italian</td>\n",
              "      <td>10</td>\n",
              "      <td>6.896552</td>\n",
              "    </tr>\n",
              "    <tr>\n",
              "      <th>4</th>\n",
              "      <td>6</td>\n",
              "      <td>Korean</td>\n",
              "      <td>4</td>\n",
              "      <td>2.758621</td>\n",
              "    </tr>\n",
              "    <tr>\n",
              "      <th>5</th>\n",
              "      <td>7</td>\n",
              "      <td>Vietnam</td>\n",
              "      <td>8</td>\n",
              "      <td>5.517241</td>\n",
              "    </tr>\n",
              "    <tr>\n",
              "      <th>6</th>\n",
              "      <td>8</td>\n",
              "      <td>American</td>\n",
              "      <td>2</td>\n",
              "      <td>1.379310</td>\n",
              "    </tr>\n",
              "    <tr>\n",
              "      <th>7</th>\n",
              "      <td>9</td>\n",
              "      <td>French</td>\n",
              "      <td>6</td>\n",
              "      <td>4.137931</td>\n",
              "    </tr>\n",
              "    <tr>\n",
              "      <th>8</th>\n",
              "      <td>10</td>\n",
              "      <td>Indian</td>\n",
              "      <td>3</td>\n",
              "      <td>2.068966</td>\n",
              "    </tr>\n",
              "    <tr>\n",
              "      <th>9</th>\n",
              "      <td>11</td>\n",
              "      <td>Buffet</td>\n",
              "      <td>1</td>\n",
              "      <td>0.689655</td>\n",
              "    </tr>\n",
              "    <tr>\n",
              "      <th>10</th>\n",
              "      <td>12</td>\n",
              "      <td>Street Food</td>\n",
              "      <td>1</td>\n",
              "      <td>0.689655</td>\n",
              "    </tr>\n",
              "    <tr>\n",
              "      <th>11</th>\n",
              "      <td>13</td>\n",
              "      <td>Fusion Food</td>\n",
              "      <td>4</td>\n",
              "      <td>2.758621</td>\n",
              "    </tr>\n",
              "    <tr>\n",
              "      <th>12</th>\n",
              "      <td>14</td>\n",
              "      <td>Coffee Shop</td>\n",
              "      <td>30</td>\n",
              "      <td>20.689655</td>\n",
              "    </tr>\n",
              "    <tr>\n",
              "      <th>13</th>\n",
              "      <td>15</td>\n",
              "      <td>Others</td>\n",
              "      <td>8</td>\n",
              "      <td>5.517241</td>\n",
              "    </tr>\n",
              "  </tbody>\n",
              "</table>\n",
              "</div>"
            ],
            "text/plain": [
              "    cat_id     cat_name  amount    percent\n",
              "0        2     Japanese      14   9.655172\n",
              "1        3         Thai      36  24.827586\n",
              "2        4      Chinese      18  12.413793\n",
              "3        5      Italian      10   6.896552\n",
              "4        6       Korean       4   2.758621\n",
              "5        7      Vietnam       8   5.517241\n",
              "6        8     American       2   1.379310\n",
              "7        9       French       6   4.137931\n",
              "8       10       Indian       3   2.068966\n",
              "9       11       Buffet       1   0.689655\n",
              "10      12  Street Food       1   0.689655\n",
              "11      13  Fusion Food       4   2.758621\n",
              "12      14  Coffee Shop      30  20.689655\n",
              "13      15       Others       8   5.517241"
            ]
          },
          "metadata": {
            "tags": []
          },
          "execution_count": 18
        }
      ]
    },
    {
      "cell_type": "markdown",
      "metadata": {
        "id": "6SYlZCFhWvIK",
        "colab_type": "text"
      },
      "source": [
        "#3. จงระบุสัดส่วนของร้านอาหารประเภทต่างๆ ในกลุ่ม Best of Wongnai"
      ]
    },
    {
      "cell_type": "code",
      "metadata": {
        "id": "kS34q0_dSeAp",
        "colab_type": "code",
        "colab": {
          "base_uri": "https://localhost:8080/",
          "height": 462
        },
        "outputId": "890ead61-cbbc-4aa5-e32f-efc519ab1c8a"
      },
      "source": [
        "cat_wongnai[['cat_name','percent']]"
      ],
      "execution_count": 19,
      "outputs": [
        {
          "output_type": "execute_result",
          "data": {
            "text/html": [
              "<div>\n",
              "<style scoped>\n",
              "    .dataframe tbody tr th:only-of-type {\n",
              "        vertical-align: middle;\n",
              "    }\n",
              "\n",
              "    .dataframe tbody tr th {\n",
              "        vertical-align: top;\n",
              "    }\n",
              "\n",
              "    .dataframe thead th {\n",
              "        text-align: right;\n",
              "    }\n",
              "</style>\n",
              "<table border=\"1\" class=\"dataframe\">\n",
              "  <thead>\n",
              "    <tr style=\"text-align: right;\">\n",
              "      <th></th>\n",
              "      <th>cat_name</th>\n",
              "      <th>percent</th>\n",
              "    </tr>\n",
              "  </thead>\n",
              "  <tbody>\n",
              "    <tr>\n",
              "      <th>0</th>\n",
              "      <td>Japanese</td>\n",
              "      <td>9.655172</td>\n",
              "    </tr>\n",
              "    <tr>\n",
              "      <th>1</th>\n",
              "      <td>Thai</td>\n",
              "      <td>24.827586</td>\n",
              "    </tr>\n",
              "    <tr>\n",
              "      <th>2</th>\n",
              "      <td>Chinese</td>\n",
              "      <td>12.413793</td>\n",
              "    </tr>\n",
              "    <tr>\n",
              "      <th>3</th>\n",
              "      <td>Italian</td>\n",
              "      <td>6.896552</td>\n",
              "    </tr>\n",
              "    <tr>\n",
              "      <th>4</th>\n",
              "      <td>Korean</td>\n",
              "      <td>2.758621</td>\n",
              "    </tr>\n",
              "    <tr>\n",
              "      <th>5</th>\n",
              "      <td>Vietnam</td>\n",
              "      <td>5.517241</td>\n",
              "    </tr>\n",
              "    <tr>\n",
              "      <th>6</th>\n",
              "      <td>American</td>\n",
              "      <td>1.379310</td>\n",
              "    </tr>\n",
              "    <tr>\n",
              "      <th>7</th>\n",
              "      <td>French</td>\n",
              "      <td>4.137931</td>\n",
              "    </tr>\n",
              "    <tr>\n",
              "      <th>8</th>\n",
              "      <td>Indian</td>\n",
              "      <td>2.068966</td>\n",
              "    </tr>\n",
              "    <tr>\n",
              "      <th>9</th>\n",
              "      <td>Buffet</td>\n",
              "      <td>0.689655</td>\n",
              "    </tr>\n",
              "    <tr>\n",
              "      <th>10</th>\n",
              "      <td>Street Food</td>\n",
              "      <td>0.689655</td>\n",
              "    </tr>\n",
              "    <tr>\n",
              "      <th>11</th>\n",
              "      <td>Fusion Food</td>\n",
              "      <td>2.758621</td>\n",
              "    </tr>\n",
              "    <tr>\n",
              "      <th>12</th>\n",
              "      <td>Coffee Shop</td>\n",
              "      <td>20.689655</td>\n",
              "    </tr>\n",
              "    <tr>\n",
              "      <th>13</th>\n",
              "      <td>Others</td>\n",
              "      <td>5.517241</td>\n",
              "    </tr>\n",
              "  </tbody>\n",
              "</table>\n",
              "</div>"
            ],
            "text/plain": [
              "       cat_name    percent\n",
              "0      Japanese   9.655172\n",
              "1          Thai  24.827586\n",
              "2       Chinese  12.413793\n",
              "3       Italian   6.896552\n",
              "4        Korean   2.758621\n",
              "5       Vietnam   5.517241\n",
              "6      American   1.379310\n",
              "7        French   4.137931\n",
              "8        Indian   2.068966\n",
              "9        Buffet   0.689655\n",
              "10  Street Food   0.689655\n",
              "11  Fusion Food   2.758621\n",
              "12  Coffee Shop  20.689655\n",
              "13       Others   5.517241"
            ]
          },
          "metadata": {
            "tags": []
          },
          "execution_count": 19
        }
      ]
    },
    {
      "cell_type": "code",
      "metadata": {
        "id": "rcmEfIJquiP_",
        "colab_type": "code",
        "colab": {}
      },
      "source": [
        ""
      ],
      "execution_count": 0,
      "outputs": []
    }
  ]
}
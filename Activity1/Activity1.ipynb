{
  "nbformat": 4,
  "nbformat_minor": 0,
  "metadata": {
    "colab": {
      "name": "Activity1.ipynb",
      "provenance": [],
      "authorship_tag": "ABX9TyOEMJoBiM6wp4e2U5JM/ssi",
      "include_colab_link": true
    },
    "kernelspec": {
      "name": "python3",
      "display_name": "Python 3"
    }
  },
  "cells": [
    {
      "cell_type": "markdown",
      "metadata": {
        "id": "view-in-github",
        "colab_type": "text"
      },
      "source": [
        "<a href=\"https://colab.research.google.com/github/Melvinmcrn/DataScience/blob/master/Activity1/Activity1.ipynb\" target=\"_parent\"><img src=\"https://colab.research.google.com/assets/colab-badge.svg\" alt=\"Open In Colab\"/></a>"
      ]
    },
    {
      "cell_type": "code",
      "metadata": {
        "id": "57l87avxNqPL",
        "colab_type": "code",
        "colab": {}
      },
      "source": [
        "import pandas as pd\n",
        "import numpy as np"
      ],
      "execution_count": 0,
      "outputs": []
    },
    {
      "cell_type": "code",
      "metadata": {
        "id": "L166edp2Ou42",
        "colab_type": "code",
        "colab": {
          "base_uri": "https://localhost:8080/",
          "height": 195
        },
        "outputId": "dd1fbbb6-e667-4c1f-892d-1fe4b6599aa7"
      },
      "source": [
        "cat_id = pd.read_csv('https://raw.githubusercontent.com/Melvinmcrn/DataScience/master/Activity1/cat_id.csv')\n",
        "cat_id.head()"
      ],
      "execution_count": 21,
      "outputs": [
        {
          "output_type": "execute_result",
          "data": {
            "text/html": [
              "<div>\n",
              "<style scoped>\n",
              "    .dataframe tbody tr th:only-of-type {\n",
              "        vertical-align: middle;\n",
              "    }\n",
              "\n",
              "    .dataframe tbody tr th {\n",
              "        vertical-align: top;\n",
              "    }\n",
              "\n",
              "    .dataframe thead th {\n",
              "        text-align: right;\n",
              "    }\n",
              "</style>\n",
              "<table border=\"1\" class=\"dataframe\">\n",
              "  <thead>\n",
              "    <tr style=\"text-align: right;\">\n",
              "      <th></th>\n",
              "      <th>cat_id</th>\n",
              "      <th>cat_name</th>\n",
              "    </tr>\n",
              "  </thead>\n",
              "  <tbody>\n",
              "    <tr>\n",
              "      <th>0</th>\n",
              "      <td>2</td>\n",
              "      <td>Japanese</td>\n",
              "    </tr>\n",
              "    <tr>\n",
              "      <th>1</th>\n",
              "      <td>3</td>\n",
              "      <td>Thai</td>\n",
              "    </tr>\n",
              "    <tr>\n",
              "      <th>2</th>\n",
              "      <td>4</td>\n",
              "      <td>Chinese</td>\n",
              "    </tr>\n",
              "    <tr>\n",
              "      <th>3</th>\n",
              "      <td>5</td>\n",
              "      <td>Italian</td>\n",
              "    </tr>\n",
              "    <tr>\n",
              "      <th>4</th>\n",
              "      <td>6</td>\n",
              "      <td>Korean</td>\n",
              "    </tr>\n",
              "  </tbody>\n",
              "</table>\n",
              "</div>"
            ],
            "text/plain": [
              "   cat_id  cat_name\n",
              "0       2  Japanese\n",
              "1       3      Thai\n",
              "2       4   Chinese\n",
              "3       5   Italian\n",
              "4       6    Korean"
            ]
          },
          "metadata": {
            "tags": []
          },
          "execution_count": 21
        }
      ]
    },
    {
      "cell_type": "code",
      "metadata": {
        "id": "5Z6DI2MOYQTA",
        "colab_type": "code",
        "colab": {
          "base_uri": "https://localhost:8080/",
          "height": 134
        },
        "outputId": "82a0b171-6d2c-4d72-8ec2-34633f44be67"
      },
      "source": [
        "cat_id.info()"
      ],
      "execution_count": 22,
      "outputs": [
        {
          "output_type": "stream",
          "text": [
            "<class 'pandas.core.frame.DataFrame'>\n",
            "RangeIndex: 14 entries, 0 to 13\n",
            "Data columns (total 2 columns):\n",
            "cat_id      14 non-null int64\n",
            "cat_name    14 non-null object\n",
            "dtypes: int64(1), object(1)\n",
            "memory usage: 352.0+ bytes\n"
          ],
          "name": "stdout"
        }
      ]
    },
    {
      "cell_type": "code",
      "metadata": {
        "id": "XxiFIOeoO-eS",
        "colab_type": "code",
        "colab": {
          "base_uri": "https://localhost:8080/",
          "height": 34
        },
        "outputId": "618b3634-e1e1-4ca7-8d35-ca4f9e585957"
      },
      "source": [
        "from google.colab import drive\n",
        "drive.mount('/content/drive')"
      ],
      "execution_count": 3,
      "outputs": [
        {
          "output_type": "stream",
          "text": [
            "Drive already mounted at /content/drive; to attempt to forcibly remount, call drive.mount(\"/content/drive\", force_remount=True).\n"
          ],
          "name": "stdout"
        }
      ]
    },
    {
      "cell_type": "code",
      "metadata": {
        "id": "c_aNz3-VO5Bi",
        "colab_type": "code",
        "colab": {
          "base_uri": "https://localhost:8080/",
          "height": 383
        },
        "outputId": "fe02a94e-4cfe-43a9-ba41-a341bd6d8626"
      },
      "source": [
        "wongnai = pd.read_csv('/content/drive/My Drive/wongnai.csv')\n",
        "wongnai.head()"
      ],
      "execution_count": 4,
      "outputs": [
        {
          "output_type": "execute_result",
          "data": {
            "text/html": [
              "<div>\n",
              "<style scoped>\n",
              "    .dataframe tbody tr th:only-of-type {\n",
              "        vertical-align: middle;\n",
              "    }\n",
              "\n",
              "    .dataframe tbody tr th {\n",
              "        vertical-align: top;\n",
              "    }\n",
              "\n",
              "    .dataframe thead th {\n",
              "        text-align: right;\n",
              "    }\n",
              "</style>\n",
              "<table border=\"1\" class=\"dataframe\">\n",
              "  <thead>\n",
              "    <tr style=\"text-align: right;\">\n",
              "      <th></th>\n",
              "      <th>Unnamed: 0</th>\n",
              "      <th>id</th>\n",
              "      <th>name</th>\n",
              "      <th>category_id</th>\n",
              "      <th>city_id</th>\n",
              "      <th>latitude</th>\n",
              "      <th>longitude</th>\n",
              "      <th>price_range</th>\n",
              "      <th>avg_price</th>\n",
              "      <th>number_of_bookmarks</th>\n",
              "      <th>number_of_favorite_bookmarks</th>\n",
              "      <th>top</th>\n",
              "      <th>best_of_wongnai</th>\n",
              "      <th>number_of_checkins</th>\n",
              "      <th>all_time_score</th>\n",
              "    </tr>\n",
              "  </thead>\n",
              "  <tbody>\n",
              "    <tr>\n",
              "      <th>0</th>\n",
              "      <td>0</td>\n",
              "      <td>2</td>\n",
              "      <td>บ้านกลมกิ๊ก</td>\n",
              "      <td>3.0</td>\n",
              "      <td>1.0</td>\n",
              "      <td>13.738962</td>\n",
              "      <td>100.550248</td>\n",
              "      <td>2.0</td>\n",
              "      <td>175.0</td>\n",
              "      <td>294</td>\n",
              "      <td>84</td>\n",
              "      <td>1</td>\n",
              "      <td>NaN</td>\n",
              "      <td>32</td>\n",
              "      <td>22487.872358</td>\n",
              "    </tr>\n",
              "    <tr>\n",
              "      <th>1</th>\n",
              "      <td>1</td>\n",
              "      <td>3</td>\n",
              "      <td>โรงเบียร์เยอรมันตะวันแดง</td>\n",
              "      <td>33.0</td>\n",
              "      <td>1.0</td>\n",
              "      <td>13.842320</td>\n",
              "      <td>100.634959</td>\n",
              "      <td>3.0</td>\n",
              "      <td>NaN</td>\n",
              "      <td>2</td>\n",
              "      <td>2</td>\n",
              "      <td>0</td>\n",
              "      <td>NaN</td>\n",
              "      <td>0</td>\n",
              "      <td>92.900000</td>\n",
              "    </tr>\n",
              "    <tr>\n",
              "      <th>2</th>\n",
              "      <td>2</td>\n",
              "      <td>4</td>\n",
              "      <td>Kosirae</td>\n",
              "      <td>43.0</td>\n",
              "      <td>1.0</td>\n",
              "      <td>13.724999</td>\n",
              "      <td>100.579715</td>\n",
              "      <td>3.0</td>\n",
              "      <td>375.0</td>\n",
              "      <td>3405</td>\n",
              "      <td>989</td>\n",
              "      <td>1</td>\n",
              "      <td>66.0</td>\n",
              "      <td>173</td>\n",
              "      <td>239274.950390</td>\n",
              "    </tr>\n",
              "    <tr>\n",
              "      <th>3</th>\n",
              "      <td>3</td>\n",
              "      <td>5</td>\n",
              "      <td>Ho Kitchen Seafood Rama 3</td>\n",
              "      <td>29.0</td>\n",
              "      <td>1.0</td>\n",
              "      <td>13.687333</td>\n",
              "      <td>100.550817</td>\n",
              "      <td>3.0</td>\n",
              "      <td>NaN</td>\n",
              "      <td>94</td>\n",
              "      <td>24</td>\n",
              "      <td>0</td>\n",
              "      <td>NaN</td>\n",
              "      <td>21</td>\n",
              "      <td>13307.512755</td>\n",
              "    </tr>\n",
              "    <tr>\n",
              "      <th>4</th>\n",
              "      <td>4</td>\n",
              "      <td>6</td>\n",
              "      <td>Barley Bistro &amp; Bar</td>\n",
              "      <td>3.0</td>\n",
              "      <td>1.0</td>\n",
              "      <td>13.726499</td>\n",
              "      <td>100.529425</td>\n",
              "      <td>3.0</td>\n",
              "      <td>375.0</td>\n",
              "      <td>249</td>\n",
              "      <td>146</td>\n",
              "      <td>1</td>\n",
              "      <td>NaN</td>\n",
              "      <td>14</td>\n",
              "      <td>19606.094680</td>\n",
              "    </tr>\n",
              "  </tbody>\n",
              "</table>\n",
              "</div>"
            ],
            "text/plain": [
              "   Unnamed: 0  id  ... number_of_checkins  all_time_score\n",
              "0           0   2  ...                 32    22487.872358\n",
              "1           1   3  ...                  0       92.900000\n",
              "2           2   4  ...                173   239274.950390\n",
              "3           3   5  ...                 21    13307.512755\n",
              "4           4   6  ...                 14    19606.094680\n",
              "\n",
              "[5 rows x 15 columns]"
            ]
          },
          "metadata": {
            "tags": []
          },
          "execution_count": 4
        }
      ]
    },
    {
      "cell_type": "code",
      "metadata": {
        "id": "vAtLm62YPVkm",
        "colab_type": "code",
        "colab": {
          "base_uri": "https://localhost:8080/",
          "height": 353
        },
        "outputId": "a27c8b6c-2d4e-4803-ebde-9b0ceccbc7c0"
      },
      "source": [
        "wongnai.info()"
      ],
      "execution_count": 5,
      "outputs": [
        {
          "output_type": "stream",
          "text": [
            "<class 'pandas.core.frame.DataFrame'>\n",
            "RangeIndex: 283508 entries, 0 to 283507\n",
            "Data columns (total 15 columns):\n",
            "Unnamed: 0                      283508 non-null int64\n",
            "id                              283508 non-null int64\n",
            "name                            283507 non-null object\n",
            "category_id                     283448 non-null float64\n",
            "city_id                         283302 non-null float64\n",
            "latitude                        283508 non-null float64\n",
            "longitude                       283508 non-null float64\n",
            "price_range                     183312 non-null float64\n",
            "avg_price                       5012 non-null float64\n",
            "number_of_bookmarks             283508 non-null int64\n",
            "number_of_favorite_bookmarks    283508 non-null int64\n",
            "top                             283508 non-null int64\n",
            "best_of_wongnai                 380 non-null float64\n",
            "number_of_checkins              283508 non-null int64\n",
            "all_time_score                  283508 non-null float64\n",
            "dtypes: float64(8), int64(6), object(1)\n",
            "memory usage: 32.4+ MB\n"
          ],
          "name": "stdout"
        }
      ]
    },
    {
      "cell_type": "code",
      "metadata": {
        "id": "PwlpbxesPmOW",
        "colab_type": "code",
        "colab": {
          "base_uri": "https://localhost:8080/",
          "height": 286
        },
        "outputId": "00e2274e-e6b1-420b-e8dc-3606cfa18ddc"
      },
      "source": [
        "wongnai.isnull().sum()"
      ],
      "execution_count": 6,
      "outputs": [
        {
          "output_type": "execute_result",
          "data": {
            "text/plain": [
              "Unnamed: 0                           0\n",
              "id                                   0\n",
              "name                                 1\n",
              "category_id                         60\n",
              "city_id                            206\n",
              "latitude                             0\n",
              "longitude                            0\n",
              "price_range                     100196\n",
              "avg_price                       278496\n",
              "number_of_bookmarks                  0\n",
              "number_of_favorite_bookmarks         0\n",
              "top                                  0\n",
              "best_of_wongnai                 283128\n",
              "number_of_checkins                   0\n",
              "all_time_score                       0\n",
              "dtype: int64"
            ]
          },
          "metadata": {
            "tags": []
          },
          "execution_count": 6
        }
      ]
    },
    {
      "cell_type": "code",
      "metadata": {
        "id": "2MWGjVYwPuNK",
        "colab_type": "code",
        "colab": {
          "base_uri": "https://localhost:8080/",
          "height": 118
        },
        "outputId": "4d4d9ba0-dbc8-4719-f16d-c4f679a57d5b"
      },
      "source": [
        "wongnai.sort_values(by='best_of_wongnai').head(5)['name']"
      ],
      "execution_count": 7,
      "outputs": [
        {
          "output_type": "execute_result",
          "data": {
            "text/plain": [
              "141447    Water Library Brasserie\n",
              "135966          Caturday cat cafe\n",
              "129258                   Chef Man\n",
              "141406               Din Tai Fung\n",
              "118873                 Eat Am Are\n",
              "Name: name, dtype: object"
            ]
          },
          "metadata": {
            "tags": []
          },
          "execution_count": 7
        }
      ]
    },
    {
      "cell_type": "markdown",
      "metadata": {
        "id": "xQwIxz0FRxGV",
        "colab_type": "text"
      },
      "source": [
        "# 2. จงแสดงชื่อร้านอาหาร 5 อันดับแรกในกลุ่ม Best of Wongnai<br>\n",
        "1. Water Library Brasserie\n",
        "2. Caturday cat cafe\n",
        "3. Chef Man\n",
        "4. Din Tai Fung\n",
        "5. Eat Am Are"
      ]
    },
    {
      "cell_type": "code",
      "metadata": {
        "id": "xMA_XRiWRWJK",
        "colab_type": "code",
        "colab": {
          "base_uri": "https://localhost:8080/",
          "height": 370
        },
        "outputId": "afe9c057-3f36-466e-8577-3902acc184a2"
      },
      "source": [
        "wongnai3 = wongnai[np.isfinite(wongnai['best_of_wongnai'])][['category_id','name','best_of_wongnai']].reset_index().groupby('category_id')\n",
        "wongnai33 = pd.DataFrame(wongnai3.size()).reset_index().rename(column={'0':'amount'})\n",
        "wongnai33.info()\n",
        "# cat_wongnai = pd.merge(cat_id,\n",
        "#                        wongnai3.size(),\n",
        "#                        left_on='cat_id',\n",
        "#                        right_on='category_id',\n",
        "#                        how='inner')\n",
        "# cat_wongnai"
      ],
      "execution_count": 32,
      "outputs": [
        {
          "output_type": "error",
          "ename": "TypeError",
          "evalue": "ignored",
          "traceback": [
            "\u001b[0;31m---------------------------------------------------------------------------\u001b[0m",
            "\u001b[0;31mTypeError\u001b[0m                                 Traceback (most recent call last)",
            "\u001b[0;32m<ipython-input-32-424254751d2a>\u001b[0m in \u001b[0;36m<module>\u001b[0;34m()\u001b[0m\n\u001b[1;32m      1\u001b[0m \u001b[0mwongnai3\u001b[0m \u001b[0;34m=\u001b[0m \u001b[0mwongnai\u001b[0m\u001b[0;34m[\u001b[0m\u001b[0mnp\u001b[0m\u001b[0;34m.\u001b[0m\u001b[0misfinite\u001b[0m\u001b[0;34m(\u001b[0m\u001b[0mwongnai\u001b[0m\u001b[0;34m[\u001b[0m\u001b[0;34m'best_of_wongnai'\u001b[0m\u001b[0;34m]\u001b[0m\u001b[0;34m)\u001b[0m\u001b[0;34m]\u001b[0m\u001b[0;34m[\u001b[0m\u001b[0;34m[\u001b[0m\u001b[0;34m'category_id'\u001b[0m\u001b[0;34m,\u001b[0m\u001b[0;34m'name'\u001b[0m\u001b[0;34m,\u001b[0m\u001b[0;34m'best_of_wongnai'\u001b[0m\u001b[0;34m]\u001b[0m\u001b[0;34m]\u001b[0m\u001b[0;34m.\u001b[0m\u001b[0mreset_index\u001b[0m\u001b[0;34m(\u001b[0m\u001b[0;34m)\u001b[0m\u001b[0;34m.\u001b[0m\u001b[0mgroupby\u001b[0m\u001b[0;34m(\u001b[0m\u001b[0;34m'category_id'\u001b[0m\u001b[0;34m)\u001b[0m\u001b[0;34m\u001b[0m\u001b[0;34m\u001b[0m\u001b[0m\n\u001b[0;32m----> 2\u001b[0;31m \u001b[0mwongnai33\u001b[0m \u001b[0;34m=\u001b[0m \u001b[0mpd\u001b[0m\u001b[0;34m.\u001b[0m\u001b[0mDataFrame\u001b[0m\u001b[0;34m(\u001b[0m\u001b[0mwongnai3\u001b[0m\u001b[0;34m.\u001b[0m\u001b[0msize\u001b[0m\u001b[0;34m(\u001b[0m\u001b[0;34m)\u001b[0m\u001b[0;34m)\u001b[0m\u001b[0;34m.\u001b[0m\u001b[0mreset_index\u001b[0m\u001b[0;34m(\u001b[0m\u001b[0;34m)\u001b[0m\u001b[0;34m.\u001b[0m\u001b[0mrename\u001b[0m\u001b[0;34m(\u001b[0m\u001b[0mcolumn\u001b[0m\u001b[0;34m=\u001b[0m\u001b[0;34m{\u001b[0m\u001b[0;34m'0'\u001b[0m\u001b[0;34m:\u001b[0m\u001b[0;34m'amount'\u001b[0m\u001b[0;34m}\u001b[0m\u001b[0;34m)\u001b[0m\u001b[0;34m\u001b[0m\u001b[0;34m\u001b[0m\u001b[0m\n\u001b[0m\u001b[1;32m      3\u001b[0m \u001b[0mwongnai33\u001b[0m\u001b[0;34m.\u001b[0m\u001b[0minfo\u001b[0m\u001b[0;34m(\u001b[0m\u001b[0;34m)\u001b[0m\u001b[0;34m\u001b[0m\u001b[0;34m\u001b[0m\u001b[0m\n\u001b[1;32m      4\u001b[0m \u001b[0;31m# cat_wongnai = pd.merge(cat_id,\u001b[0m\u001b[0;34m\u001b[0m\u001b[0;34m\u001b[0m\u001b[0;34m\u001b[0m\u001b[0m\n\u001b[1;32m      5\u001b[0m \u001b[0;31m#                        wongnai3.size(),\u001b[0m\u001b[0;34m\u001b[0m\u001b[0;34m\u001b[0m\u001b[0;34m\u001b[0m\u001b[0m\n",
            "\u001b[0;32m/usr/local/lib/python3.6/dist-packages/pandas/util/_decorators.py\u001b[0m in \u001b[0;36mwrapper\u001b[0;34m(*args, **kwargs)\u001b[0m\n\u001b[1;32m    219\u001b[0m         \u001b[0;34m@\u001b[0m\u001b[0mwraps\u001b[0m\u001b[0;34m(\u001b[0m\u001b[0mfunc\u001b[0m\u001b[0;34m)\u001b[0m\u001b[0;34m\u001b[0m\u001b[0;34m\u001b[0m\u001b[0m\n\u001b[1;32m    220\u001b[0m         \u001b[0;32mdef\u001b[0m \u001b[0mwrapper\u001b[0m\u001b[0;34m(\u001b[0m\u001b[0;34m*\u001b[0m\u001b[0margs\u001b[0m\u001b[0;34m,\u001b[0m \u001b[0;34m**\u001b[0m\u001b[0mkwargs\u001b[0m\u001b[0;34m)\u001b[0m\u001b[0;34m:\u001b[0m\u001b[0;34m\u001b[0m\u001b[0;34m\u001b[0m\u001b[0m\n\u001b[0;32m--> 221\u001b[0;31m             \u001b[0;32mreturn\u001b[0m \u001b[0mfunc\u001b[0m\u001b[0;34m(\u001b[0m\u001b[0;34m*\u001b[0m\u001b[0margs\u001b[0m\u001b[0;34m,\u001b[0m \u001b[0;34m**\u001b[0m\u001b[0mkwargs\u001b[0m\u001b[0;34m)\u001b[0m\u001b[0;34m\u001b[0m\u001b[0;34m\u001b[0m\u001b[0m\n\u001b[0m\u001b[1;32m    222\u001b[0m \u001b[0;34m\u001b[0m\u001b[0m\n\u001b[1;32m    223\u001b[0m         \u001b[0mkind\u001b[0m \u001b[0;34m=\u001b[0m \u001b[0minspect\u001b[0m\u001b[0;34m.\u001b[0m\u001b[0mParameter\u001b[0m\u001b[0;34m.\u001b[0m\u001b[0mPOSITIONAL_OR_KEYWORD\u001b[0m\u001b[0;34m\u001b[0m\u001b[0;34m\u001b[0m\u001b[0m\n",
            "\u001b[0;32m/usr/local/lib/python3.6/dist-packages/pandas/core/frame.py\u001b[0m in \u001b[0;36mrename\u001b[0;34m(self, *args, **kwargs)\u001b[0m\n\u001b[1;32m   4236\u001b[0m         \u001b[0mkwargs\u001b[0m\u001b[0;34m.\u001b[0m\u001b[0mpop\u001b[0m\u001b[0;34m(\u001b[0m\u001b[0;34m\"axis\"\u001b[0m\u001b[0;34m,\u001b[0m \u001b[0;32mNone\u001b[0m\u001b[0;34m)\u001b[0m\u001b[0;34m\u001b[0m\u001b[0;34m\u001b[0m\u001b[0m\n\u001b[1;32m   4237\u001b[0m         \u001b[0mkwargs\u001b[0m\u001b[0;34m.\u001b[0m\u001b[0mpop\u001b[0m\u001b[0;34m(\u001b[0m\u001b[0;34m\"mapper\"\u001b[0m\u001b[0;34m,\u001b[0m \u001b[0;32mNone\u001b[0m\u001b[0;34m)\u001b[0m\u001b[0;34m\u001b[0m\u001b[0;34m\u001b[0m\u001b[0m\n\u001b[0;32m-> 4238\u001b[0;31m         \u001b[0;32mreturn\u001b[0m \u001b[0msuper\u001b[0m\u001b[0;34m(\u001b[0m\u001b[0;34m)\u001b[0m\u001b[0;34m.\u001b[0m\u001b[0mrename\u001b[0m\u001b[0;34m(\u001b[0m\u001b[0;34m**\u001b[0m\u001b[0mkwargs\u001b[0m\u001b[0;34m)\u001b[0m\u001b[0;34m\u001b[0m\u001b[0;34m\u001b[0m\u001b[0m\n\u001b[0m\u001b[1;32m   4239\u001b[0m \u001b[0;34m\u001b[0m\u001b[0m\n\u001b[1;32m   4240\u001b[0m     \u001b[0;34m@\u001b[0m\u001b[0mSubstitution\u001b[0m\u001b[0;34m(\u001b[0m\u001b[0;34m**\u001b[0m\u001b[0m_shared_doc_kwargs\u001b[0m\u001b[0;34m)\u001b[0m\u001b[0;34m\u001b[0m\u001b[0;34m\u001b[0m\u001b[0m\n",
            "\u001b[0;32m/usr/local/lib/python3.6/dist-packages/pandas/core/generic.py\u001b[0m in \u001b[0;36mrename\u001b[0;34m(self, *args, **kwargs)\u001b[0m\n\u001b[1;32m   1138\u001b[0m             raise TypeError(\n\u001b[1;32m   1139\u001b[0m                 \u001b[0;34m\"rename() got an unexpected keyword \"\u001b[0m\u001b[0;34m\u001b[0m\u001b[0;34m\u001b[0m\u001b[0m\n\u001b[0;32m-> 1140\u001b[0;31m                 \u001b[0;34m'argument \"{0}\"'\u001b[0m\u001b[0;34m.\u001b[0m\u001b[0mformat\u001b[0m\u001b[0;34m(\u001b[0m\u001b[0mlist\u001b[0m\u001b[0;34m(\u001b[0m\u001b[0mkwargs\u001b[0m\u001b[0;34m.\u001b[0m\u001b[0mkeys\u001b[0m\u001b[0;34m(\u001b[0m\u001b[0;34m)\u001b[0m\u001b[0;34m)\u001b[0m\u001b[0;34m[\u001b[0m\u001b[0;36m0\u001b[0m\u001b[0;34m]\u001b[0m\u001b[0;34m)\u001b[0m\u001b[0;34m\u001b[0m\u001b[0;34m\u001b[0m\u001b[0m\n\u001b[0m\u001b[1;32m   1141\u001b[0m             )\n\u001b[1;32m   1142\u001b[0m \u001b[0;34m\u001b[0m\u001b[0m\n",
            "\u001b[0;31mTypeError\u001b[0m: rename() got an unexpected keyword argument \"column\""
          ]
        }
      ]
    },
    {
      "cell_type": "markdown",
      "metadata": {
        "id": "6SYlZCFhWvIK",
        "colab_type": "text"
      },
      "source": [
        "#3. จงระบุสัดส่วนของร้านอาหารประเภทต่างๆ ในกลุ่ม Best of Wongnai\n",
        "category_id        จำนวน<br>\n",
        "2.0                 14<br>\n",
        "3.0                 36<br>\n",
        "4.0                 18<br>\n",
        "5.0                 10<br>\n",
        "6.0                  4<br>\n",
        "7.0                  8<br>\n",
        "8.0                  2<br>\n",
        "9.0                  6<br>\n",
        "10.0                 3<br>\n",
        "11.0                 1<br>\n",
        "12.0                 1<br>\n",
        "13.0                 4<br>\n",
        "14.0                30<br>\n",
        "15.0                 8<br>\n",
        "18.0                 1<br>\n",
        "20.0                24<br>\n",
        "21.0                 1<br>\n",
        "23.0                16<br>\n",
        "24.0                13<br>\n",
        "25.0                 5<br>\n",
        "29.0                36<br>\n",
        "30.0                21<br>\n",
        "32.0                 2<br>\n",
        "33.0                 3<br>\n",
        "34.0                 3<br>\n",
        "35.0                 9<br>\n",
        "36.0                21<br>\n",
        "39.0                 4<br>\n",
        "40.0                 2<br>\n",
        "42.0                 6<br>\n",
        "43.0                 6<br>\n",
        "44.0                 3<br>\n",
        "45.0                10<br>\n",
        "49.0                10<br>\n",
        "50.0                 2<br>\n",
        "53.0                 4<br>\n",
        "54.0                 2<br>\n",
        "55.0                 1<br>\n",
        "56.0                 4<br>\n",
        "57.0                 5<br>\n",
        "58.0                 1<br>\n",
        "59.0                18<br>\n",
        "60.0                 2<br>"
      ]
    },
    {
      "cell_type": "markdown",
      "metadata": {
        "id": "QR-ILhndWu-J",
        "colab_type": "text"
      },
      "source": [
        ""
      ]
    },
    {
      "cell_type": "code",
      "metadata": {
        "id": "kS34q0_dSeAp",
        "colab_type": "code",
        "colab": {}
      },
      "source": [
        ""
      ],
      "execution_count": 0,
      "outputs": []
    }
  ]
}
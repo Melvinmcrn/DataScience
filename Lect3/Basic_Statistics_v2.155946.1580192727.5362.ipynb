{
  "nbformat": 4,
  "nbformat_minor": 0,
  "metadata": {
    "colab": {
      "name": "Basic_Statistics_v2.ipynb",
      "provenance": [],
      "collapsed_sections": [],
      "include_colab_link": true
    },
    "kernelspec": {
      "name": "python3",
      "display_name": "Python 3"
    }
  },
  "cells": [
    {
      "cell_type": "markdown",
      "metadata": {
        "id": "view-in-github",
        "colab_type": "text"
      },
      "source": [
        "<a href=\"https://colab.research.google.com/github/Melvinmcrn/DataScience/blob/master/Lect3/Basic_Statistics_v2.155946.1580192727.5362.ipynb\" target=\"_parent\"><img src=\"https://colab.research.google.com/assets/colab-badge.svg\" alt=\"Open In Colab\"/></a>"
      ]
    },
    {
      "cell_type": "markdown",
      "metadata": {
        "id": "c5iTN0-9OiHU",
        "colab_type": "text"
      },
      "source": [
        "# OUTLINES\n",
        "\n",
        "## Part1: Statistical Analysis\n",
        "\n",
        "## Part2: Inferential Statistics\n",
        "\n",
        "## Part3: A/B Testing\n",
        "\n",
        "\n"
      ]
    },
    {
      "cell_type": "markdown",
      "metadata": {
        "id": "gM2uPpV2O-UV",
        "colab_type": "text"
      },
      "source": [
        "# Part1: Statistical Analysis"
      ]
    },
    {
      "cell_type": "markdown",
      "metadata": {
        "id": "mJEZ0HipOvv-",
        "colab_type": "text"
      },
      "source": [
        "## Introduction to Statistics\n"
      ]
    },
    {
      "cell_type": "code",
      "metadata": {
        "id": "24Kv63BWOwqe",
        "colab_type": "code",
        "colab": {}
      },
      "source": [
        "import pandas\n",
        "import matplotlib.pyplot as plt\n",
        "import seaborn as sns\n",
        "import scipy\n",
        "\n",
        "%matplotlib inline\n",
        "plt.rcParams['figure.figsize'] = (15,12)"
      ],
      "execution_count": 0,
      "outputs": []
    },
    {
      "cell_type": "code",
      "metadata": {
        "id": "tkhjGwmGOyB-",
        "colab_type": "code",
        "colab": {}
      },
      "source": [
        "#Data\n",
        "url = \"https://raw.githubusercontent.com/jbrownlee/Datasets/master/pima-indians-diabetes.data.csv\"\n",
        "names = ['preg','plas','pres','skin','test','mass','pedi','age','class']\n",
        "data = pandas.read_csv(url, names=names)"
      ],
      "execution_count": 0,
      "outputs": []
    },
    {
      "cell_type": "code",
      "metadata": {
        "id": "O30iDNuPOoZQ",
        "colab_type": "code",
        "outputId": "e350d4f3-f9ac-484c-fafd-bcd43697f3da",
        "colab": {
          "base_uri": "https://localhost:8080/",
          "height": 343
        }
      },
      "source": [
        "# Take a peek at your raw data.\n",
        "data.head(10)"
      ],
      "execution_count": 3,
      "outputs": [
        {
          "output_type": "execute_result",
          "data": {
            "text/html": [
              "<div>\n",
              "<style scoped>\n",
              "    .dataframe tbody tr th:only-of-type {\n",
              "        vertical-align: middle;\n",
              "    }\n",
              "\n",
              "    .dataframe tbody tr th {\n",
              "        vertical-align: top;\n",
              "    }\n",
              "\n",
              "    .dataframe thead th {\n",
              "        text-align: right;\n",
              "    }\n",
              "</style>\n",
              "<table border=\"1\" class=\"dataframe\">\n",
              "  <thead>\n",
              "    <tr style=\"text-align: right;\">\n",
              "      <th></th>\n",
              "      <th>preg</th>\n",
              "      <th>plas</th>\n",
              "      <th>pres</th>\n",
              "      <th>skin</th>\n",
              "      <th>test</th>\n",
              "      <th>mass</th>\n",
              "      <th>pedi</th>\n",
              "      <th>age</th>\n",
              "      <th>class</th>\n",
              "    </tr>\n",
              "  </thead>\n",
              "  <tbody>\n",
              "    <tr>\n",
              "      <th>0</th>\n",
              "      <td>6</td>\n",
              "      <td>148</td>\n",
              "      <td>72</td>\n",
              "      <td>35</td>\n",
              "      <td>0</td>\n",
              "      <td>33.6</td>\n",
              "      <td>0.627</td>\n",
              "      <td>50</td>\n",
              "      <td>1</td>\n",
              "    </tr>\n",
              "    <tr>\n",
              "      <th>1</th>\n",
              "      <td>1</td>\n",
              "      <td>85</td>\n",
              "      <td>66</td>\n",
              "      <td>29</td>\n",
              "      <td>0</td>\n",
              "      <td>26.6</td>\n",
              "      <td>0.351</td>\n",
              "      <td>31</td>\n",
              "      <td>0</td>\n",
              "    </tr>\n",
              "    <tr>\n",
              "      <th>2</th>\n",
              "      <td>8</td>\n",
              "      <td>183</td>\n",
              "      <td>64</td>\n",
              "      <td>0</td>\n",
              "      <td>0</td>\n",
              "      <td>23.3</td>\n",
              "      <td>0.672</td>\n",
              "      <td>32</td>\n",
              "      <td>1</td>\n",
              "    </tr>\n",
              "    <tr>\n",
              "      <th>3</th>\n",
              "      <td>1</td>\n",
              "      <td>89</td>\n",
              "      <td>66</td>\n",
              "      <td>23</td>\n",
              "      <td>94</td>\n",
              "      <td>28.1</td>\n",
              "      <td>0.167</td>\n",
              "      <td>21</td>\n",
              "      <td>0</td>\n",
              "    </tr>\n",
              "    <tr>\n",
              "      <th>4</th>\n",
              "      <td>0</td>\n",
              "      <td>137</td>\n",
              "      <td>40</td>\n",
              "      <td>35</td>\n",
              "      <td>168</td>\n",
              "      <td>43.1</td>\n",
              "      <td>2.288</td>\n",
              "      <td>33</td>\n",
              "      <td>1</td>\n",
              "    </tr>\n",
              "    <tr>\n",
              "      <th>5</th>\n",
              "      <td>5</td>\n",
              "      <td>116</td>\n",
              "      <td>74</td>\n",
              "      <td>0</td>\n",
              "      <td>0</td>\n",
              "      <td>25.6</td>\n",
              "      <td>0.201</td>\n",
              "      <td>30</td>\n",
              "      <td>0</td>\n",
              "    </tr>\n",
              "    <tr>\n",
              "      <th>6</th>\n",
              "      <td>3</td>\n",
              "      <td>78</td>\n",
              "      <td>50</td>\n",
              "      <td>32</td>\n",
              "      <td>88</td>\n",
              "      <td>31.0</td>\n",
              "      <td>0.248</td>\n",
              "      <td>26</td>\n",
              "      <td>1</td>\n",
              "    </tr>\n",
              "    <tr>\n",
              "      <th>7</th>\n",
              "      <td>10</td>\n",
              "      <td>115</td>\n",
              "      <td>0</td>\n",
              "      <td>0</td>\n",
              "      <td>0</td>\n",
              "      <td>35.3</td>\n",
              "      <td>0.134</td>\n",
              "      <td>29</td>\n",
              "      <td>0</td>\n",
              "    </tr>\n",
              "    <tr>\n",
              "      <th>8</th>\n",
              "      <td>2</td>\n",
              "      <td>197</td>\n",
              "      <td>70</td>\n",
              "      <td>45</td>\n",
              "      <td>543</td>\n",
              "      <td>30.5</td>\n",
              "      <td>0.158</td>\n",
              "      <td>53</td>\n",
              "      <td>1</td>\n",
              "    </tr>\n",
              "    <tr>\n",
              "      <th>9</th>\n",
              "      <td>8</td>\n",
              "      <td>125</td>\n",
              "      <td>96</td>\n",
              "      <td>0</td>\n",
              "      <td>0</td>\n",
              "      <td>0.0</td>\n",
              "      <td>0.232</td>\n",
              "      <td>54</td>\n",
              "      <td>1</td>\n",
              "    </tr>\n",
              "  </tbody>\n",
              "</table>\n",
              "</div>"
            ],
            "text/plain": [
              "   preg  plas  pres  skin  test  mass   pedi  age  class\n",
              "0     6   148    72    35     0  33.6  0.627   50      1\n",
              "1     1    85    66    29     0  26.6  0.351   31      0\n",
              "2     8   183    64     0     0  23.3  0.672   32      1\n",
              "3     1    89    66    23    94  28.1  0.167   21      0\n",
              "4     0   137    40    35   168  43.1  2.288   33      1\n",
              "5     5   116    74     0     0  25.6  0.201   30      0\n",
              "6     3    78    50    32    88  31.0  0.248   26      1\n",
              "7    10   115     0     0     0  35.3  0.134   29      0\n",
              "8     2   197    70    45   543  30.5  0.158   53      1\n",
              "9     8   125    96     0     0   0.0  0.232   54      1"
            ]
          },
          "metadata": {
            "tags": []
          },
          "execution_count": 3
        }
      ]
    },
    {
      "cell_type": "code",
      "metadata": {
        "id": "3oSrLuecQ97C",
        "colab_type": "code",
        "outputId": "edddfcf7-6ccf-451c-d098-b35b1e782bd7",
        "colab": {
          "base_uri": "https://localhost:8080/",
          "height": 34
        }
      },
      "source": [
        "# Review the dimensions of your dataset.\n",
        "data.shape"
      ],
      "execution_count": 4,
      "outputs": [
        {
          "output_type": "execute_result",
          "data": {
            "text/plain": [
              "(768, 9)"
            ]
          },
          "metadata": {
            "tags": []
          },
          "execution_count": 4
        }
      ]
    },
    {
      "cell_type": "code",
      "metadata": {
        "id": "EoCXgdY7RA8H",
        "colab_type": "code",
        "outputId": "e636d599-ab7c-4511-9761-1858a3a22f1e",
        "colab": {
          "base_uri": "https://localhost:8080/",
          "height": 185
        }
      },
      "source": [
        "# Review the data types of attributes in your data.\n",
        "data.dtypes"
      ],
      "execution_count": 5,
      "outputs": [
        {
          "output_type": "execute_result",
          "data": {
            "text/plain": [
              "preg       int64\n",
              "plas       int64\n",
              "pres       int64\n",
              "skin       int64\n",
              "test       int64\n",
              "mass     float64\n",
              "pedi     float64\n",
              "age        int64\n",
              "class      int64\n",
              "dtype: object"
            ]
          },
          "metadata": {
            "tags": []
          },
          "execution_count": 5
        }
      ]
    },
    {
      "cell_type": "markdown",
      "metadata": {
        "id": "MCgpzOhQRdHM",
        "colab_type": "text"
      },
      "source": [
        "## Descriptive Statistics"
      ]
    },
    {
      "cell_type": "code",
      "metadata": {
        "id": "lkO4zz1b2oc_",
        "colab_type": "code",
        "outputId": "753421c9-7fb5-4094-a1a2-454e344e5a06",
        "colab": {
          "base_uri": "https://localhost:8080/",
          "height": 252
        }
      },
      "source": [
        "data.info()"
      ],
      "execution_count": 6,
      "outputs": [
        {
          "output_type": "stream",
          "text": [
            "<class 'pandas.core.frame.DataFrame'>\n",
            "RangeIndex: 768 entries, 0 to 767\n",
            "Data columns (total 9 columns):\n",
            "preg     768 non-null int64\n",
            "plas     768 non-null int64\n",
            "pres     768 non-null int64\n",
            "skin     768 non-null int64\n",
            "test     768 non-null int64\n",
            "mass     768 non-null float64\n",
            "pedi     768 non-null float64\n",
            "age      768 non-null int64\n",
            "class    768 non-null int64\n",
            "dtypes: float64(2), int64(7)\n",
            "memory usage: 54.1 KB\n"
          ],
          "name": "stdout"
        }
      ]
    },
    {
      "cell_type": "code",
      "metadata": {
        "id": "DnXLTnAiRCre",
        "colab_type": "code",
        "outputId": "5f98bff1-725e-4b30-bb2b-8d3459f219e8",
        "colab": {
          "base_uri": "https://localhost:8080/",
          "height": 284
        }
      },
      "source": [
        "# Summarize the distribution of instances across classes in your dataset.\n",
        "data.describe(include=\"all\")"
      ],
      "execution_count": 7,
      "outputs": [
        {
          "output_type": "execute_result",
          "data": {
            "text/html": [
              "<div>\n",
              "<style scoped>\n",
              "    .dataframe tbody tr th:only-of-type {\n",
              "        vertical-align: middle;\n",
              "    }\n",
              "\n",
              "    .dataframe tbody tr th {\n",
              "        vertical-align: top;\n",
              "    }\n",
              "\n",
              "    .dataframe thead th {\n",
              "        text-align: right;\n",
              "    }\n",
              "</style>\n",
              "<table border=\"1\" class=\"dataframe\">\n",
              "  <thead>\n",
              "    <tr style=\"text-align: right;\">\n",
              "      <th></th>\n",
              "      <th>preg</th>\n",
              "      <th>plas</th>\n",
              "      <th>pres</th>\n",
              "      <th>skin</th>\n",
              "      <th>test</th>\n",
              "      <th>mass</th>\n",
              "      <th>pedi</th>\n",
              "      <th>age</th>\n",
              "      <th>class</th>\n",
              "    </tr>\n",
              "  </thead>\n",
              "  <tbody>\n",
              "    <tr>\n",
              "      <th>count</th>\n",
              "      <td>768.000000</td>\n",
              "      <td>768.000000</td>\n",
              "      <td>768.000000</td>\n",
              "      <td>768.000000</td>\n",
              "      <td>768.000000</td>\n",
              "      <td>768.000000</td>\n",
              "      <td>768.000000</td>\n",
              "      <td>768.000000</td>\n",
              "      <td>768.000000</td>\n",
              "    </tr>\n",
              "    <tr>\n",
              "      <th>mean</th>\n",
              "      <td>3.845052</td>\n",
              "      <td>120.894531</td>\n",
              "      <td>69.105469</td>\n",
              "      <td>20.536458</td>\n",
              "      <td>79.799479</td>\n",
              "      <td>31.992578</td>\n",
              "      <td>0.471876</td>\n",
              "      <td>33.240885</td>\n",
              "      <td>0.348958</td>\n",
              "    </tr>\n",
              "    <tr>\n",
              "      <th>std</th>\n",
              "      <td>3.369578</td>\n",
              "      <td>31.972618</td>\n",
              "      <td>19.355807</td>\n",
              "      <td>15.952218</td>\n",
              "      <td>115.244002</td>\n",
              "      <td>7.884160</td>\n",
              "      <td>0.331329</td>\n",
              "      <td>11.760232</td>\n",
              "      <td>0.476951</td>\n",
              "    </tr>\n",
              "    <tr>\n",
              "      <th>min</th>\n",
              "      <td>0.000000</td>\n",
              "      <td>0.000000</td>\n",
              "      <td>0.000000</td>\n",
              "      <td>0.000000</td>\n",
              "      <td>0.000000</td>\n",
              "      <td>0.000000</td>\n",
              "      <td>0.078000</td>\n",
              "      <td>21.000000</td>\n",
              "      <td>0.000000</td>\n",
              "    </tr>\n",
              "    <tr>\n",
              "      <th>25%</th>\n",
              "      <td>1.000000</td>\n",
              "      <td>99.000000</td>\n",
              "      <td>62.000000</td>\n",
              "      <td>0.000000</td>\n",
              "      <td>0.000000</td>\n",
              "      <td>27.300000</td>\n",
              "      <td>0.243750</td>\n",
              "      <td>24.000000</td>\n",
              "      <td>0.000000</td>\n",
              "    </tr>\n",
              "    <tr>\n",
              "      <th>50%</th>\n",
              "      <td>3.000000</td>\n",
              "      <td>117.000000</td>\n",
              "      <td>72.000000</td>\n",
              "      <td>23.000000</td>\n",
              "      <td>30.500000</td>\n",
              "      <td>32.000000</td>\n",
              "      <td>0.372500</td>\n",
              "      <td>29.000000</td>\n",
              "      <td>0.000000</td>\n",
              "    </tr>\n",
              "    <tr>\n",
              "      <th>75%</th>\n",
              "      <td>6.000000</td>\n",
              "      <td>140.250000</td>\n",
              "      <td>80.000000</td>\n",
              "      <td>32.000000</td>\n",
              "      <td>127.250000</td>\n",
              "      <td>36.600000</td>\n",
              "      <td>0.626250</td>\n",
              "      <td>41.000000</td>\n",
              "      <td>1.000000</td>\n",
              "    </tr>\n",
              "    <tr>\n",
              "      <th>max</th>\n",
              "      <td>17.000000</td>\n",
              "      <td>199.000000</td>\n",
              "      <td>122.000000</td>\n",
              "      <td>99.000000</td>\n",
              "      <td>846.000000</td>\n",
              "      <td>67.100000</td>\n",
              "      <td>2.420000</td>\n",
              "      <td>81.000000</td>\n",
              "      <td>1.000000</td>\n",
              "    </tr>\n",
              "  </tbody>\n",
              "</table>\n",
              "</div>"
            ],
            "text/plain": [
              "             preg        plas        pres  ...        pedi         age       class\n",
              "count  768.000000  768.000000  768.000000  ...  768.000000  768.000000  768.000000\n",
              "mean     3.845052  120.894531   69.105469  ...    0.471876   33.240885    0.348958\n",
              "std      3.369578   31.972618   19.355807  ...    0.331329   11.760232    0.476951\n",
              "min      0.000000    0.000000    0.000000  ...    0.078000   21.000000    0.000000\n",
              "25%      1.000000   99.000000   62.000000  ...    0.243750   24.000000    0.000000\n",
              "50%      3.000000  117.000000   72.000000  ...    0.372500   29.000000    0.000000\n",
              "75%      6.000000  140.250000   80.000000  ...    0.626250   41.000000    1.000000\n",
              "max     17.000000  199.000000  122.000000  ...    2.420000   81.000000    1.000000\n",
              "\n",
              "[8 rows x 9 columns]"
            ]
          },
          "metadata": {
            "tags": []
          },
          "execution_count": 7
        }
      ]
    },
    {
      "cell_type": "code",
      "metadata": {
        "id": "LNKqyP9E6NuJ",
        "colab_type": "code",
        "outputId": "d0fa961f-271c-408b-9a4b-30b28de51163",
        "colab": {
          "base_uri": "https://localhost:8080/",
          "height": 34
        }
      },
      "source": [
        "# mean\n",
        "data[\"age\"].mean()"
      ],
      "execution_count": 8,
      "outputs": [
        {
          "output_type": "execute_result",
          "data": {
            "text/plain": [
              "33.240885416666664"
            ]
          },
          "metadata": {
            "tags": []
          },
          "execution_count": 8
        }
      ]
    },
    {
      "cell_type": "code",
      "metadata": {
        "id": "Gic8VCe_6Tvq",
        "colab_type": "code",
        "outputId": "62740559-b6f2-4647-f643-defd7c173a0c",
        "colab": {
          "base_uri": "https://localhost:8080/",
          "height": 34
        }
      },
      "source": [
        "# std\n",
        "data[\"age\"].std()"
      ],
      "execution_count": 9,
      "outputs": [
        {
          "output_type": "execute_result",
          "data": {
            "text/plain": [
              "11.76023154067868"
            ]
          },
          "metadata": {
            "tags": []
          },
          "execution_count": 9
        }
      ]
    },
    {
      "cell_type": "code",
      "metadata": {
        "id": "XFa3uaa36Ts2",
        "colab_type": "code",
        "outputId": "fd9347ed-aebc-4af4-efc4-21f776ff90e7",
        "colab": {
          "base_uri": "https://localhost:8080/",
          "height": 34
        }
      },
      "source": [
        "# variance\n",
        "data[\"age\"].var()"
      ],
      "execution_count": 10,
      "outputs": [
        {
          "output_type": "execute_result",
          "data": {
            "text/plain": [
              "138.30304589037365"
            ]
          },
          "metadata": {
            "tags": []
          },
          "execution_count": 10
        }
      ]
    },
    {
      "cell_type": "code",
      "metadata": {
        "id": "EGkoD_lZ6Tp3",
        "colab_type": "code",
        "outputId": "42e8c356-87c9-485d-a13e-cbf90d42216d",
        "colab": {
          "base_uri": "https://localhost:8080/",
          "height": 50
        }
      },
      "source": [
        "# mode\n",
        "data[\"age\"].mode()"
      ],
      "execution_count": 11,
      "outputs": [
        {
          "output_type": "execute_result",
          "data": {
            "text/plain": [
              "0    22\n",
              "dtype: int64"
            ]
          },
          "metadata": {
            "tags": []
          },
          "execution_count": 11
        }
      ]
    },
    {
      "cell_type": "code",
      "metadata": {
        "id": "aiK2gXtJ6TnD",
        "colab_type": "code",
        "outputId": "8f793383-c479-4089-de90-f3a643b6202a",
        "colab": {
          "base_uri": "https://localhost:8080/",
          "height": 34
        }
      },
      "source": [
        "# median\n",
        "data[\"age\"].median()"
      ],
      "execution_count": 12,
      "outputs": [
        {
          "output_type": "execute_result",
          "data": {
            "text/plain": [
              "29.0"
            ]
          },
          "metadata": {
            "tags": []
          },
          "execution_count": 12
        }
      ]
    },
    {
      "cell_type": "code",
      "metadata": {
        "id": "r4KrXJMH6TkB",
        "colab_type": "code",
        "outputId": "859b35d9-499d-4eb9-9770-badb4b47b6d3",
        "colab": {
          "base_uri": "https://localhost:8080/",
          "height": 34
        }
      },
      "source": [
        "# interquartile range (IQR)\n",
        "from scipy.stats import iqr\n",
        "iqr(data[\"age\"])"
      ],
      "execution_count": 13,
      "outputs": [
        {
          "output_type": "execute_result",
          "data": {
            "text/plain": [
              "17.0"
            ]
          },
          "metadata": {
            "tags": []
          },
          "execution_count": 13
        }
      ]
    },
    {
      "cell_type": "code",
      "metadata": {
        "id": "rINKA1xJZMHi",
        "colab_type": "code",
        "outputId": "67fd15a4-b006-4111-b15c-0341a82b0afa",
        "colab": {
          "base_uri": "https://localhost:8080/",
          "height": 34
        }
      },
      "source": [
        "# 10th percentile\n",
        "data[\"age\"].quantile(0.1)"
      ],
      "execution_count": 14,
      "outputs": [
        {
          "output_type": "execute_result",
          "data": {
            "text/plain": [
              "22.0"
            ]
          },
          "metadata": {
            "tags": []
          },
          "execution_count": 14
        }
      ]
    },
    {
      "cell_type": "code",
      "metadata": {
        "id": "_lrq-aRxnPdT",
        "colab_type": "code",
        "outputId": "adbcd768-4f8a-422f-f8cb-dd677e23544a",
        "colab": {
          "base_uri": "https://localhost:8080/",
          "height": 34
        }
      },
      "source": [
        "# 50th percentile same as median\n",
        "data[\"age\"].quantile(0.5)"
      ],
      "execution_count": 15,
      "outputs": [
        {
          "output_type": "execute_result",
          "data": {
            "text/plain": [
              "29.0"
            ]
          },
          "metadata": {
            "tags": []
          },
          "execution_count": 15
        }
      ]
    },
    {
      "cell_type": "code",
      "metadata": {
        "id": "POf3_f__nPpm",
        "colab_type": "code",
        "outputId": "f12722d7-2793-470a-e9a4-475b0f5d33f5",
        "colab": {
          "base_uri": "https://localhost:8080/",
          "height": 34
        }
      },
      "source": [
        "# 90th percentile\n",
        "data[\"age\"].quantile(0.9)"
      ],
      "execution_count": 16,
      "outputs": [
        {
          "output_type": "execute_result",
          "data": {
            "text/plain": [
              "51.0"
            ]
          },
          "metadata": {
            "tags": []
          },
          "execution_count": 16
        }
      ]
    },
    {
      "cell_type": "code",
      "metadata": {
        "id": "TC0yBBfGRD41",
        "colab_type": "code",
        "outputId": "48b52530-329f-4969-b187-5c90c00ef422",
        "colab": {
          "base_uri": "https://localhost:8080/",
          "height": 84
        }
      },
      "source": [
        "# Class Distribution \n",
        "data.groupby('class').size()"
      ],
      "execution_count": 17,
      "outputs": [
        {
          "output_type": "execute_result",
          "data": {
            "text/plain": [
              "class\n",
              "0    500\n",
              "1    268\n",
              "dtype: int64"
            ]
          },
          "metadata": {
            "tags": []
          },
          "execution_count": 17
        }
      ]
    },
    {
      "cell_type": "code",
      "metadata": {
        "id": "NbiawuWERH02",
        "colab_type": "code",
        "outputId": "5590a79a-f91d-4d4e-cca0-0b527b398742",
        "colab": {
          "base_uri": "https://localhost:8080/",
          "height": 716
        }
      },
      "source": [
        "# Histograms\n",
        "data.hist(bins=20) # adjust bin, range \n",
        "plt.show()"
      ],
      "execution_count": 18,
      "outputs": [
        {
          "output_type": "display_data",
          "data": {
            "image/png": "[encoded data removed]",
            "text/plain": [
              "<Figure size 1080x864 with 9 Axes>"
            ]
          },
          "metadata": {
            "tags": []
          }
        }
      ]
    },
    {
      "cell_type": "code",
      "metadata": {
        "id": "X_tn7xwLRJvo",
        "colab_type": "code",
        "outputId": "2f42366c-8383-4bda-efb8-f8f1b11a1c05",
        "colab": {
          "base_uri": "https://localhost:8080/",
          "height": 702
        }
      },
      "source": [
        "# Density distribution\n",
        "data.plot(kind= 'density' , subplots=True, layout=(3,3), sharex=False)\n",
        "plt.show()"
      ],
      "execution_count": 19,
      "outputs": [
        {
          "output_type": "display_data",
          "data": {
            "image/png": "[encoded data removed]",
            "text/plain": [
              "<Figure size 1080x864 with 9 Axes>"
            ]
          },
          "metadata": {
            "tags": []
          }
        }
      ]
    },
    {
      "cell_type": "code",
      "metadata": {
        "id": "XdaGzJ6nY8LQ",
        "colab_type": "code",
        "outputId": "286f1216-caee-4de7-f7d1-4985590ad840",
        "colab": {
          "base_uri": "https://localhost:8080/",
          "height": 701
        }
      },
      "source": [
        "# Box plot\n",
        "data.plot(kind= 'box' , subplots=True, layout=(3,3), sharex=False, sharey=False)\n",
        "plt.show()"
      ],
      "execution_count": 20,
      "outputs": [
        {
          "output_type": "display_data",
          "data": {
            "image/png": "[encoded data removed]",
            "text/plain": [
              "<Figure size 1080x864 with 9 Axes>"
            ]
          },
          "metadata": {
            "tags": []
          }
        }
      ]
    },
    {
      "cell_type": "code",
      "metadata": {
        "id": "IpGw9eDxRTMT",
        "colab_type": "code",
        "outputId": "c7d3560d-8bb6-4fad-adb4-7e44f946629e",
        "colab": {
          "base_uri": "https://localhost:8080/",
          "height": 700
        }
      },
      "source": [
        "# Box plot with points representing data that extend beyond the whiskers (outliers)\n",
        "data.plot(kind= 'box' , subplots=True, layout=(3,3), sharex=False, sharey=False,showfliers=False)\n",
        "plt.show()"
      ],
      "execution_count": 21,
      "outputs": [
        {
          "output_type": "display_data",
          "data": {
            "image/png": "[encoded data removed]",
            "text/plain": [
              "<Figure size 1080x864 with 9 Axes>"
            ]
          },
          "metadata": {
            "tags": []
          }
        }
      ]
    },
    {
      "cell_type": "code",
      "metadata": {
        "id": "n1zPq2jnnmwa",
        "colab_type": "code",
        "outputId": "88738358-cb6f-4995-e887-5a8d4520acb6",
        "colab": {
          "base_uri": "https://localhost:8080/",
          "height": 34
        }
      },
      "source": [
        "# X% Truncated (Trimmed) Mean\n",
        "# x% of observations from each end are removed before the mean is computed\n",
        "from scipy import stats\n",
        "# scipy.stats.trim_mean(a, proportiontocut, axis=0)[source]\n",
        "# If proportiontocut = 0.1, slices off ‘leftmost’ and ‘rightmost’ 10% of scores.\n",
        "stats.trim_mean(data[\"age\"], 0.1)"
      ],
      "execution_count": 22,
      "outputs": [
        {
          "output_type": "execute_result",
          "data": {
            "text/plain": [
              "31.54383116883117"
            ]
          },
          "metadata": {
            "tags": []
          },
          "execution_count": 22
        }
      ]
    },
    {
      "cell_type": "code",
      "metadata": {
        "id": "0VJ7OpGen6Ll",
        "colab_type": "code",
        "outputId": "f2395ef1-6563-4dca-ec83-b91e7dc5bf58",
        "colab": {
          "base_uri": "https://localhost:8080/",
          "height": 168
        }
      },
      "source": [
        "# X% Winsorized Mean\n",
        "# x% of observations from each end are replaced with the most extreme remaining values (on both ends) before the mean is computed\n",
        "\n",
        "# https://docs.scipy.org/doc/scipy-0.14.0/reference/generated/scipy.stats.mstats.winsorize.html\n",
        "\n",
        "age = data[\"age\"]\n",
        "age.describe()"
      ],
      "execution_count": 23,
      "outputs": [
        {
          "output_type": "execute_result",
          "data": {
            "text/plain": [
              "count    768.000000\n",
              "mean      33.240885\n",
              "std       11.760232\n",
              "min       21.000000\n",
              "25%       24.000000\n",
              "50%       29.000000\n",
              "75%       41.000000\n",
              "max       81.000000\n",
              "Name: age, dtype: float64"
            ]
          },
          "metadata": {
            "tags": []
          },
          "execution_count": 23
        }
      ]
    },
    {
      "cell_type": "code",
      "metadata": {
        "id": "dEq5LZE9EHhH",
        "colab_type": "code",
        "outputId": "71f014fd-ac2b-456b-f6aa-5a2eb181e370",
        "colab": {
          "base_uri": "https://localhost:8080/",
          "height": 168
        }
      },
      "source": [
        "stats.mstats.winsorize(age, limits=0.25, inplace=True)\n",
        "age.describe()"
      ],
      "execution_count": 24,
      "outputs": [
        {
          "output_type": "execute_result",
          "data": {
            "text/plain": [
              "count    768.000000\n",
              "mean      31.381510\n",
              "std        7.001138\n",
              "min       24.000000\n",
              "25%       24.000000\n",
              "50%       29.000000\n",
              "75%       41.000000\n",
              "max       41.000000\n",
              "Name: age, dtype: float64"
            ]
          },
          "metadata": {
            "tags": []
          },
          "execution_count": 24
        }
      ]
    },
    {
      "cell_type": "markdown",
      "metadata": {
        "id": "g_TPgz5lV5JI",
        "colab_type": "text"
      },
      "source": [
        "# Part2: Inferential Statistics\n"
      ]
    },
    {
      "cell_type": "code",
      "metadata": {
        "id": "vm6uQ3gxohKJ",
        "colab_type": "code",
        "colab": {}
      },
      "source": [
        "import pandas as pd\n",
        "import numpy as np\n",
        "\n",
        "import matplotlib.pyplot as plt\n",
        "% matplotlib inline\n",
        "\n",
        "np.random.seed(42)"
      ],
      "execution_count": 0,
      "outputs": []
    },
    {
      "cell_type": "code",
      "metadata": {
        "id": "9UrNfQOPrmaF",
        "colab_type": "code",
        "outputId": "0acc255e-b60b-4bf9-fda8-3de5bf6555f4",
        "colab": {
          "base_uri": "https://localhost:8080/",
          "height": 34
        }
      },
      "source": [
        "coffee_full = pd.read_csv('https://github.com/devanshmalik/Inferential-Stats-in-Python/raw/master/confidence%20intervals%20%26%20hypothesis%20testing/coffee_dataset.csv')\n",
        "print(coffee_full.shape)"
      ],
      "execution_count": 26,
      "outputs": [
        {
          "output_type": "stream",
          "text": [
            "(2974, 4)\n"
          ],
          "name": "stdout"
        }
      ]
    },
    {
      "cell_type": "code",
      "metadata": {
        "id": "7QY8RVtFer8b",
        "colab_type": "code",
        "outputId": "901f72b8-6e28-416a-a1c9-5cc1dfd5f494",
        "colab": {
          "base_uri": "https://localhost:8080/",
          "height": 168
        }
      },
      "source": [
        "coffee_full.info()"
      ],
      "execution_count": 27,
      "outputs": [
        {
          "output_type": "stream",
          "text": [
            "<class 'pandas.core.frame.DataFrame'>\n",
            "RangeIndex: 2974 entries, 0 to 2973\n",
            "Data columns (total 4 columns):\n",
            "user_id          2974 non-null int64\n",
            "age              2974 non-null object\n",
            "drinks_coffee    2974 non-null bool\n",
            "height           2974 non-null float64\n",
            "dtypes: bool(1), float64(1), int64(1), object(1)\n",
            "memory usage: 72.7+ KB\n"
          ],
          "name": "stdout"
        }
      ]
    },
    {
      "cell_type": "code",
      "metadata": {
        "id": "94En1WZEer6g",
        "colab_type": "code",
        "outputId": "b31373cb-50c2-46d0-dafe-ef1b58ed120b",
        "colab": {
          "base_uri": "https://localhost:8080/",
          "height": 34
        }
      },
      "source": [
        "# population\n",
        "coffee_full[\"drinks_coffee\"].mean()"
      ],
      "execution_count": 28,
      "outputs": [
        {
          "output_type": "execute_result",
          "data": {
            "text/plain": [
              "0.589778076664425"
            ]
          },
          "metadata": {
            "tags": []
          },
          "execution_count": 28
        }
      ]
    },
    {
      "cell_type": "code",
      "metadata": {
        "id": "bZWIz2h4fHgw",
        "colab_type": "code",
        "outputId": "0a4f9b63-74d8-4aa8-e782-664b2f417998",
        "colab": {
          "base_uri": "https://localhost:8080/",
          "height": 34
        }
      },
      "source": [
        "# sample1\n",
        "coffee_sample = coffee_full.sample(200, random_state=1) #random_state คือวิธีการ random ถ้าใช้เลขเดียวกันต้องได้คำตอบเหมือนกัน\n",
        "coffee_sample[\"drinks_coffee\"].mean()"
      ],
      "execution_count": 63,
      "outputs": [
        {
          "output_type": "execute_result",
          "data": {
            "text/plain": [
              "0.57"
            ]
          },
          "metadata": {
            "tags": []
          },
          "execution_count": 63
        }
      ]
    },
    {
      "cell_type": "code",
      "metadata": {
        "id": "0JGO7gw4fHeS",
        "colab_type": "code",
        "outputId": "54666f4b-c8b8-484b-87d7-55ac8893898a",
        "colab": {
          "base_uri": "https://localhost:8080/",
          "height": 34
        }
      },
      "source": [
        "# sample2\n",
        "coffee_sample = coffee_full.sample(200, random_state=200)\n",
        "coffee_sample[\"drinks_coffee\"].mean()"
      ],
      "execution_count": 64,
      "outputs": [
        {
          "output_type": "execute_result",
          "data": {
            "text/plain": [
              "0.595"
            ]
          },
          "metadata": {
            "tags": []
          },
          "execution_count": 64
        }
      ]
    },
    {
      "cell_type": "code",
      "metadata": {
        "id": "XMlKVfS6gBRx",
        "colab_type": "code",
        "outputId": "137aaff8-2c5b-4cb9-ede9-2e0d0cde2c87",
        "colab": {
          "base_uri": "https://localhost:8080/",
          "height": 34
        }
      },
      "source": [
        "# sample3\n",
        "coffee_sample = coffee_full.sample(200, random_state=12345)\n",
        "coffee_sample[\"drinks_coffee\"].mean()"
      ],
      "execution_count": 65,
      "outputs": [
        {
          "output_type": "execute_result",
          "data": {
            "text/plain": [
              "0.655"
            ]
          },
          "metadata": {
            "tags": []
          },
          "execution_count": 65
        }
      ]
    },
    {
      "cell_type": "code",
      "metadata": {
        "id": "Yyn6S5X0gBPW",
        "colab_type": "code",
        "outputId": "12c97e63-cb8b-4cd5-9891-517dcc176bfd",
        "colab": {
          "base_uri": "https://localhost:8080/",
          "height": 265
        }
      },
      "source": [
        "# central limit theorem; is it normal distribution?\n",
        "# population mean = 0.589778076664425\n",
        "sample_means = []\n",
        "for _ in range(10000):\n",
        "  coffee_sample = coffee_full.sample(200)\n",
        "  m = coffee_sample[\"drinks_coffee\"].mean()\n",
        "  sample_means.append(m)\n",
        "    \n",
        "plt.hist(sample_means, bins=30)\n",
        "plt.show()"
      ],
      "execution_count": 66,
      "outputs": [
        {
          "output_type": "display_data",
          "data": {
            "image/png": "[encoded data removed]",
            "text/plain": [
              "<Figure size 432x288 with 1 Axes>"
            ]
          },
          "metadata": {
            "tags": []
          }
        }
      ]
    },
    {
      "cell_type": "code",
      "metadata": {
        "id": "C7sqCt9LgREw",
        "colab_type": "code",
        "outputId": "f82e50f5-8e24-4de5-ab8b-ebd12d58902a",
        "colab": {
          "base_uri": "https://localhost:8080/",
          "height": 34
        }
      },
      "source": [
        "# confidence interval\n",
        "# population mean = 0.589778076664425\n",
        "\n",
        "def mean_confidence_interval(data, confidence=0.95):\n",
        "  a = 1.0 * np.array(data)\n",
        "  n = len(a)\n",
        "  m, se = np.mean(a), scipy.stats.sem(a)\n",
        "  h = se * scipy.stats.t.ppf((1 + confidence) / 2., n-1)\n",
        "  return m, h, m-h, m+h\n",
        "\n",
        "coffee_sample = coffee_full.sample(200, random_state=1)\n",
        "data = coffee_sample[\"drinks_coffee\"]\n",
        "m, bound, lower1, upper1 = mean_confidence_interval(data)\n",
        "print(m, lower1, upper1)"
      ],
      "execution_count": 67,
      "outputs": [
        {
          "output_type": "stream",
          "text": [
            "0.57 0.5007942056881238 0.6392057943118761\n"
          ],
          "name": "stdout"
        }
      ]
    },
    {
      "cell_type": "code",
      "metadata": {
        "id": "swwFNq0ciF1W",
        "colab_type": "code",
        "outputId": "18053c5f-0949-42dc-f610-1dced8f86175",
        "colab": {
          "base_uri": "https://localhost:8080/",
          "height": 34
        }
      },
      "source": [
        "# confidence interval with function\n",
        "import numpy as np, scipy.stats as st\n",
        "st.t.interval(0.95, len(data)-1, loc=np.mean(data), scale=st.sem(data))"
      ],
      "execution_count": 34,
      "outputs": [
        {
          "output_type": "execute_result",
          "data": {
            "text/plain": [
              "(0.5161232282746694, 0.6538767717253305)"
            ]
          },
          "metadata": {
            "tags": []
          },
          "execution_count": 34
        }
      ]
    },
    {
      "cell_type": "markdown",
      "metadata": {
        "id": "nDw5YpTI9J5r",
        "colab_type": "text"
      },
      "source": [
        "## Central Limit Theorem (optional)\n",
        "\n",
        "\n",
        "*   Vary number of samplings\n",
        "*   Vary sampling size\n",
        "\n"
      ]
    },
    {
      "cell_type": "code",
      "metadata": {
        "id": "Ar3ldAzS9LYR",
        "colab_type": "code",
        "outputId": "3f382d9f-1284-4df2-c3e3-5a408fa15a97",
        "colab": {
          "base_uri": "https://localhost:8080/",
          "height": 592
        }
      },
      "source": [
        "import numpy as np\n",
        "import random\n",
        "import matplotlib.pyplot as plt\n",
        "import scipy.stats as stats\n",
        "%matplotlib inline\n",
        "\n",
        "## Central limit theorom\n",
        "# build gamma distribution as population\n",
        "shape, scale = 2., 2.  # mean=4, std=2*sqrt(2)\n",
        "s = np.random.gamma(shape, scale, 1000000)\n",
        "# plot\n",
        "plt.figure(figsize=(20,10))\n",
        "plt.hist(s, 200, density=True)\n",
        "plt.show()"
      ],
      "execution_count": 35,
      "outputs": [
        {
          "output_type": "display_data",
          "data": {
            "image/png": "[encoded data removed]",
            "text/plain": [
              "<Figure size 1440x720 with 1 Axes>"
            ]
          },
          "metadata": {
            "tags": []
          }
        }
      ]
    },
    {
      "cell_type": "code",
      "metadata": {
        "id": "Stqcojqc9LVi",
        "colab_type": "code",
        "outputId": "b74dee55-b4ae-4a52-bd6b-983fa0da6b07",
        "colab": {
          "base_uri": "https://localhost:8080/",
          "height": 879
        }
      },
      "source": [
        "# sample from population with different number of sampling\n",
        "# a list of sample mean\n",
        "meansample = []\n",
        "# number of sample\n",
        "numofsample = [1000,2500,5000,10000,25000,50000]\n",
        "# sample size\n",
        "samplesize = 500\n",
        "# for each number of sampling (1000 to 50000)\n",
        "for i in numofsample:\n",
        "    # collect mean of each sample\n",
        "    eachmeansample = []\n",
        "    # for each sampling\n",
        "    for j in range(0,i):\n",
        "        # sampling 500 sample from population\n",
        "        rc = random.choices(s, k=samplesize)\n",
        "        # collect mean of each sample\n",
        "        eachmeansample.append(sum(rc)/len(rc))\n",
        "    # add mean of each sampling to the list\n",
        "    meansample.append(eachmeansample)\n",
        "    \n",
        "# plot\n",
        "cols = 2\n",
        "rows = 3\n",
        "fig, ax = plt.subplots(rows, cols, figsize=(20,15))\n",
        "n = 0\n",
        "for i in range(0, rows):\n",
        "    for j in range(0, cols):\n",
        "        ax[i, j].hist(meansample[n], 200, density=True)\n",
        "        ax[i, j].set_title(label=\"number of sampling :\" + str(numofsample[n]))\n",
        "        n += 1"
      ],
      "execution_count": 36,
      "outputs": [
        {
          "output_type": "display_data",
          "data": {
            "image/png": "[encoded data removed]",
            "text/plain": [
              "<Figure size 1440x1080 with 6 Axes>"
            ]
          },
          "metadata": {
            "tags": []
          }
        }
      ]
    },
    {
      "cell_type": "code",
      "metadata": {
        "id": "AcPz_RXW9LTd",
        "colab_type": "code",
        "outputId": "3af946e4-5994-4393-8c81-69acc3850298",
        "colab": {
          "base_uri": "https://localhost:8080/",
          "height": 592
        }
      },
      "source": [
        "# use last sampling\n",
        "sm = meansample[len(meansample)-1]\n",
        "# calculate start deviation\n",
        "std = np.std(sm)\n",
        "# set population mean\n",
        "mean = np.mean(sm)\n",
        "# list of standarded sample\n",
        "zn = []\n",
        "# for each sample subtract with mean and devided by standard deviation\n",
        "for i in sm:\n",
        "    zn.append((i-mean)/std)\n",
        "    \n",
        "# plot hist\n",
        "plt.figure(figsize=(20,10))\n",
        "plt.hist(zn, 200, density=True)\n",
        "# compare with standard normal disrtibution line\n",
        "mu = 0\n",
        "sigma = 1\n",
        "x = np.linspace(mu - 3*sigma, mu + 3*sigma, 100)\n",
        "# draw standard normal disrtibution line\n",
        "plt.plot(x, stats.norm.pdf(x, mu, sigma),linewidth = 5, color='red')\n",
        "plt.show()"
      ],
      "execution_count": 37,
      "outputs": [
        {
          "output_type": "display_data",
          "data": {
            "image/png": "[encoded data removed]",
            "text/plain": [
              "<Figure size 1440x720 with 1 Axes>"
            ]
          },
          "metadata": {
            "tags": []
          }
        }
      ]
    },
    {
      "cell_type": "code",
      "metadata": {
        "id": "zhNZTN7f9LPV",
        "colab_type": "code",
        "outputId": "01eb4f1b-794d-486a-ad00-82e4d99b1479",
        "colab": {
          "base_uri": "https://localhost:8080/",
          "height": 879
        }
      },
      "source": [
        "## sample with different sample size\n",
        "# list of sample mean\n",
        "meansample = []\n",
        "# number of sampling\n",
        "numofsample = 25000\n",
        "# sample size\n",
        "samplesize = [1,5,10,30,100,1000]\n",
        "# for each sample size (1 to 1000)\n",
        "for i in samplesize:\n",
        "    # collect mean of each sample\n",
        "    eachmeansample = []\n",
        "    # for each sampling\n",
        "    for j in range(0,numofsample):\n",
        "        # sampling i sample from population\n",
        "        rc = random.choices(s, k=i)\n",
        "        # collect mean of each sample\n",
        "        eachmeansample.append(sum(rc)/len(rc))\n",
        "    # add mean of each sampling to the list\n",
        "    meansample.append(eachmeansample)\n",
        "    \n",
        "# plot\n",
        "cols = 2\n",
        "rows = 3\n",
        "fig, ax = plt.subplots(rows, cols, figsize=(20,15))\n",
        "n = 0\n",
        "for i in range(0, rows):\n",
        "    for j in range(0, cols):\n",
        "        ax[i, j].hist(meansample[n], 200, density=True)\n",
        "        ax[i, j].set_title(label=\"sample size :\" + str(samplesize[n]))\n",
        "        n += 1"
      ],
      "execution_count": 38,
      "outputs": [
        {
          "output_type": "display_data",
          "data": {
            "image/png": "[encoded data removed]",
            "text/plain": [
              "<Figure size 1440x1080 with 6 Axes>"
            ]
          },
          "metadata": {
            "tags": []
          }
        }
      ]
    },
    {
      "cell_type": "code",
      "metadata": {
        "id": "DYczmp5i9Wkk",
        "colab_type": "code",
        "outputId": "fa58fa36-f1b5-41e3-84e4-bcfc1cd167bb",
        "colab": {
          "base_uri": "https://localhost:8080/",
          "height": 101
        }
      },
      "source": [
        "## expect value of sample\n",
        "# use last sampling\n",
        "sample = meansample[5]\n",
        "# expected value of sample equal to expect value of population\n",
        "print(\"expected value of sample:\", np.mean(sample))\n",
        "print(\"expected value of population:\", shape*scale)\n",
        "# standard deviation of sample equl to standard deviation of population divided by squre root of n\n",
        "print(\"standard deviation of sample:\", np.std(sample))\n",
        "print(\"standard deviation of population:\", scale*np.sqrt(shape))\n",
        "print(\"standard deviation of population divided by squre root of sample size:\", scale*np.sqrt(shape)/np.sqrt(1000))"
      ],
      "execution_count": 39,
      "outputs": [
        {
          "output_type": "stream",
          "text": [
            "expected value of sample: 3.997467588159159\n",
            "expected value of population: 4.0\n",
            "standard deviation of sample: 0.08920456745733212\n",
            "standard deviation of population: 2.8284271247461903\n",
            "standard deviation of population divided by squre root of sample size: 0.0894427190999916\n"
          ],
          "name": "stdout"
        }
      ]
    },
    {
      "cell_type": "code",
      "metadata": {
        "id": "qoK-gn0h9Wai",
        "colab_type": "code",
        "outputId": "c6ed2105-3799-46ed-962f-afda957273af",
        "colab": {
          "base_uri": "https://localhost:8080/",
          "height": 592
        }
      },
      "source": [
        "## show that as the sample size increases the mean of sample is close to population mean\n",
        "# set expected values of population\n",
        "mu = shape*scale # mean\n",
        "# sample size\n",
        "samplesize = []\n",
        "# collect difference between sample mean and mu\n",
        "diflist = []\n",
        "# for each sample size\n",
        "for n in range(10,20000,20): \n",
        "    # sample 10000 sample\n",
        "    rs = random.choices(s, k=n)\n",
        "    # start count\n",
        "    c = 0\n",
        "    # calculate mean\n",
        "    mean = sum(rs)/len(rs)\n",
        "    # collect difference between sample mean and mu\n",
        "    diflist.append(mean-mu)\n",
        "    samplesize.append(n)\n",
        "\n",
        "# set figure size.\n",
        "plt.figure(figsize=(20,10))\n",
        "# plot each diference.\n",
        "plt.scatter(samplesize,diflist, marker='o')\n",
        "# show plot.\n",
        "plt.show()"
      ],
      "execution_count": 40,
      "outputs": [
        {
          "output_type": "display_data",
          "data": {
            "image/png": "[encoded data removed]",
            "text/plain": [
              "<Figure size 1440x720 with 1 Axes>"
            ]
          },
          "metadata": {
            "tags": []
          }
        }
      ]
    },
    {
      "cell_type": "code",
      "metadata": {
        "id": "oLAI0yT09Whz",
        "colab_type": "code",
        "outputId": "820b7a97-096f-4d83-d49e-a60d1332cf74",
        "colab": {
          "base_uri": "https://localhost:8080/",
          "height": 592
        }
      },
      "source": [
        "## show that as the sample size increases the probability that sample mean is further from population mean than error\n",
        "# margin of error\n",
        "epsilon = 0.05\n",
        "# list of probability of each sample size\n",
        "proberror = []\n",
        "# sample size for plotting\n",
        "samplesize = []\n",
        "\n",
        "# for each sample size\n",
        "for n in range(100,10101,500): \n",
        "    # start count\n",
        "    c = 0\n",
        "    for i in range(0,100):\n",
        "        # sample 10000 sample\n",
        "        rs = random.choices(s, k=n)\n",
        "        # calculate mean\n",
        "        mean = sum(rs)/len(rs)\n",
        "        # check if the difference is larger than error\n",
        "        if abs(mean - mu) > epsilon:\n",
        "            # if larger count the sampling\n",
        "            c += 1\n",
        "    # calculate the probability\n",
        "    proberror.append(c/100)\n",
        "    # save sample size for plotting\n",
        "    samplesize.append(n)\n",
        "\n",
        "# set figure size.\n",
        "plt.figure(figsize=(20,10))\n",
        "# plot each probability.\n",
        "plt.plot(samplesize,proberror, marker='o')\n",
        "# show plot.\n",
        "plt.show()"
      ],
      "execution_count": 41,
      "outputs": [
        {
          "output_type": "display_data",
          "data": {
            "image/png": "[encoded data removed]",
            "text/plain": [
              "<Figure size 1440x720 with 1 Axes>"
            ]
          },
          "metadata": {
            "tags": []
          }
        }
      ]
    },
    {
      "cell_type": "markdown",
      "metadata": {
        "id": "r5PKqh2A9Nxm",
        "colab_type": "text"
      },
      "source": [
        "# Part3: A/B Testing"
      ]
    },
    {
      "cell_type": "markdown",
      "metadata": {
        "id": "zTybNCz7f6pp",
        "colab_type": "text"
      },
      "source": [
        "## One sample t-test: \n",
        "\n",
        "You have 10 ages and you are checking whether avg age is 30 or not. (check code below for that using python)"
      ]
    },
    {
      "cell_type": "code",
      "metadata": {
        "id": "NK6Pk1Ppj_6V",
        "colab_type": "code",
        "colab": {}
      },
      "source": [
        "mylist = [32,34,29,29,22,39,38,37,38,36,30,26,22,22]\n",
        "df = pandas.DataFrame(data=mylist)\n",
        "df.to_csv(\"ages.csv\", sep=',',index=False,header=None)"
      ],
      "execution_count": 0,
      "outputs": []
    },
    {
      "cell_type": "code",
      "metadata": {
        "id": "NdK6h05akiU3",
        "colab_type": "code",
        "outputId": "b2b5e107-02ab-4432-a80b-dbd5b45d62f1",
        "colab": {
          "base_uri": "https://localhost:8080/",
          "height": 185
        }
      },
      "source": [
        "!head ages.csv"
      ],
      "execution_count": 43,
      "outputs": [
        {
          "output_type": "stream",
          "text": [
            "32\n",
            "34\n",
            "29\n",
            "29\n",
            "22\n",
            "39\n",
            "38\n",
            "37\n",
            "38\n",
            "36\n"
          ],
          "name": "stdout"
        }
      ]
    },
    {
      "cell_type": "code",
      "metadata": {
        "id": "g-m1agYoRlSA",
        "colab_type": "code",
        "outputId": "70ab61d9-8926-4443-85e9-1872526138b0",
        "colab": {
          "base_uri": "https://localhost:8080/",
          "height": 34
        }
      },
      "source": [
        "from scipy.stats import ttest_1samp\n",
        "import numpy as np\n",
        "ages = np.genfromtxt('ages.csv')\n",
        "print(ages)"
      ],
      "execution_count": 44,
      "outputs": [
        {
          "output_type": "stream",
          "text": [
            "[32. 34. 29. 29. 22. 39. 38. 37. 38. 36. 30. 26. 22. 22.]\n"
          ],
          "name": "stdout"
        }
      ]
    },
    {
      "cell_type": "code",
      "metadata": {
        "id": "Crpha2zokdaW",
        "colab_type": "code",
        "outputId": "40443b71-7a46-40cc-f358-13cdbda6c528",
        "colab": {
          "base_uri": "https://localhost:8080/",
          "height": 50
        }
      },
      "source": [
        "ages_mean = np.mean(ages)\n",
        "print(ages_mean)\n",
        "t, pval = ttest_1samp(ages, 30) # Calculate the T-test for the mean of ONE group of scores.\n",
        "print(\"t =\", t, \", p-value =\", pval)"
      ],
      "execution_count": 45,
      "outputs": [
        {
          "output_type": "stream",
          "text": [
            "31.0\n",
            "t = 0.5973799001456603 , p-value = 0.5605155888171379\n"
          ],
          "name": "stdout"
        }
      ]
    },
    {
      "cell_type": "code",
      "metadata": {
        "id": "ei9iVOuflQfh",
        "colab_type": "code",
        "outputId": "4dc2a8e3-fe71-4ab6-d97f-0cdae4f1b7f0",
        "colab": {
          "base_uri": "https://localhost:8080/",
          "height": 34
        }
      },
      "source": [
        "if pval < 0.05:    # alpha value is 0.05 or 5%\n",
        "   print(\"we are rejecting null hypothesis\")\n",
        "else:\n",
        "  print(\"we are accepting null hypothesis\")"
      ],
      "execution_count": 46,
      "outputs": [
        {
          "output_type": "stream",
          "text": [
            "we are accepting null hypothesis\n"
          ],
          "name": "stdout"
        }
      ]
    },
    {
      "cell_type": "markdown",
      "metadata": {
        "id": "spNITaKwlg-y",
        "colab_type": "text"
      },
      "source": [
        "## Two sample t-test: \n",
        "\n",
        "## Example: is there any association between week1 and week2 ( code is given below in python)"
      ]
    },
    {
      "cell_type": "code",
      "metadata": {
        "id": "Ua03yz_7mAQx",
        "colab_type": "code",
        "colab": {}
      },
      "source": [
        "import numpy as np\n",
        "np.random.seed(2019) #option for reproducibility\n",
        "week1_list = np.random.randint(low=0, high=100, size=50).tolist()"
      ],
      "execution_count": 0,
      "outputs": []
    },
    {
      "cell_type": "code",
      "metadata": {
        "id": "HmDCh14jmFJI",
        "colab_type": "code",
        "colab": {}
      },
      "source": [
        "np.random.seed(2020) #option for reproducibility\n",
        "week2_list = np.random.randint(low=0, high=100, size=50).tolist()"
      ],
      "execution_count": 0,
      "outputs": []
    },
    {
      "cell_type": "code",
      "metadata": {
        "id": "28XhM-aOlU0u",
        "colab_type": "code",
        "colab": {}
      },
      "source": [
        "df = pandas.DataFrame(data=week1_list)\n",
        "df.to_csv(\"week1.csv\", sep=',',index=False,header=None)\n",
        "df = pandas.DataFrame(data=week2_list)\n",
        "df.to_csv(\"week2.csv\", sep=',',index=False,header=None)"
      ],
      "execution_count": 0,
      "outputs": []
    },
    {
      "cell_type": "code",
      "metadata": {
        "id": "BxSbt1rimZu1",
        "colab_type": "code",
        "colab": {}
      },
      "source": [
        "from scipy.stats import ttest_ind\n",
        "import numpy as np"
      ],
      "execution_count": 0,
      "outputs": []
    },
    {
      "cell_type": "code",
      "metadata": {
        "id": "SjRvO_eqmdnV",
        "colab_type": "code",
        "outputId": "b026f8d8-6378-4eb8-de5e-c964e9bb741e",
        "colab": {
          "base_uri": "https://localhost:8080/",
          "height": 218
        }
      },
      "source": [
        "week1 = np.genfromtxt(\"week1.csv\",  delimiter=\",\")\n",
        "week2 = np.genfromtxt(\"week2.csv\",  delimiter=\",\")\n",
        "print(\"week1 data :-\\n\")\n",
        "print(week1)\n",
        "print(\"\\n\")\n",
        "print(\"week2 data :-\\n\")\n",
        "print(week2)"
      ],
      "execution_count": 51,
      "outputs": [
        {
          "output_type": "stream",
          "text": [
            "week1 data :-\n",
            "\n",
            "[72. 31. 37. 88. 62. 24. 29. 15. 12. 16. 48. 71. 83. 12. 80. 50. 95.  5.\n",
            " 24. 28. 21. 48. 91. 15. 65. 54. 10. 96. 11. 82. 79. 86. 86. 51. 61. 33.\n",
            " 99. 53. 80. 70. 97. 88. 58. 82. 57.  8. 55. 71.  7. 80.]\n",
            "\n",
            "\n",
            "week2 data :-\n",
            "\n",
            "[96.  8. 67. 67. 91.  3. 71. 56. 29. 48. 32. 24. 74.  9. 51. 11. 55. 62.\n",
            " 67. 69. 48. 28. 20.  8. 38. 84. 65.  1. 79. 69. 74. 73. 62. 21. 29. 90.\n",
            "  6. 38. 22. 63. 21. 68.  6. 98.  3. 20. 55.  1. 52.  9.]\n"
          ],
          "name": "stdout"
        }
      ]
    },
    {
      "cell_type": "code",
      "metadata": {
        "id": "PKdszGa52fKI",
        "colab_type": "code",
        "outputId": "544e5d26-7ff7-4d50-927a-1e06ed6c7ae2",
        "colab": {
          "base_uri": "https://localhost:8080/",
          "height": 34
        }
      },
      "source": [
        "import scipy.stats\n",
        "# https://docs.scipy.org/doc/scipy-0.14.0/reference/generated/scipy.stats.levene.html\n",
        "stats.levene(week1,week2)"
      ],
      "execution_count": 52,
      "outputs": [
        {
          "output_type": "execute_result",
          "data": {
            "text/plain": [
              "LeveneResult(statistic=0.002264718310921979, pvalue=0.9621406014510561)"
            ]
          },
          "metadata": {
            "tags": []
          },
          "execution_count": 52
        }
      ]
    },
    {
      "cell_type": "code",
      "metadata": {
        "id": "JfQhLj6tmgpK",
        "colab_type": "code",
        "outputId": "965d3e0d-42d3-4821-f724-20b4632519e2",
        "colab": {
          "base_uri": "https://localhost:8080/",
          "height": 50
        }
      },
      "source": [
        "week1_mean = np.mean(week1)\n",
        "week2_mean = np.mean(week2)\n",
        "print(\"week1 mean value:\",week1_mean)\n",
        "print(\"week2 mean value:\",week2_mean)"
      ],
      "execution_count": 53,
      "outputs": [
        {
          "output_type": "stream",
          "text": [
            "week1 mean value: 53.52\n",
            "week2 mean value: 44.82\n"
          ],
          "name": "stdout"
        }
      ]
    },
    {
      "cell_type": "code",
      "metadata": {
        "id": "mLY8xHaZmsZ5",
        "colab_type": "code",
        "outputId": "3a5077a4-6f7a-4656-dfcf-42b3666361a7",
        "colab": {
          "base_uri": "https://localhost:8080/",
          "height": 50
        }
      },
      "source": [
        "week1_std = np.std(week1)\n",
        "week2_std = np.std(week2)\n",
        "print(\"week1 std value:\",week1_std)\n",
        "print(\"week2 std value:\",week2_std)"
      ],
      "execution_count": 54,
      "outputs": [
        {
          "output_type": "stream",
          "text": [
            "week1 std value: 29.525744698483052\n",
            "week2 std value: 28.842808462422656\n"
          ],
          "name": "stdout"
        }
      ]
    },
    {
      "cell_type": "code",
      "metadata": {
        "id": "HBiBOuhumuSq",
        "colab_type": "code",
        "outputId": "21d74de5-54bf-4b66-c17d-debb06d7c422",
        "colab": {
          "base_uri": "https://localhost:8080/",
          "height": 34
        }
      },
      "source": [
        "ttest,pval = ttest_ind(week1,week2,equal_var=True) #  two independent samples of scores.\n",
        "# ref: https://docs.scipy.org/doc/scipy/reference/generated/scipy.stats.ttest_ind.html\n",
        "print(\"p-value\",pval)"
      ],
      "execution_count": 55,
      "outputs": [
        {
          "output_type": "stream",
          "text": [
            "p-value 0.14329810698879697\n"
          ],
          "name": "stdout"
        }
      ]
    },
    {
      "cell_type": "code",
      "metadata": {
        "id": "kzoBBKGjmwT6",
        "colab_type": "code",
        "outputId": "c5c074f9-065a-43bd-916e-148c98f55d27",
        "colab": {
          "base_uri": "https://localhost:8080/",
          "height": 34
        }
      },
      "source": [
        "if pval <0.05:\n",
        "  print(\"we reject null hypothesis\")\n",
        "else:\n",
        "  print(\"we accept null hypothesis\")"
      ],
      "execution_count": 56,
      "outputs": [
        {
          "output_type": "stream",
          "text": [
            "we accept null hypothesis\n"
          ],
          "name": "stdout"
        }
      ]
    },
    {
      "cell_type": "markdown",
      "metadata": {
        "id": "G-ZEYd0xm6Ws",
        "colab_type": "text"
      },
      "source": [
        "## Paired t-test\n",
        "\n",
        "## H0 :- mean difference between two sample is 0\n",
        "## H1:- mean difference between two sample is not 0\n",
        "\n",
        "check the code below for same"
      ]
    },
    {
      "cell_type": "code",
      "metadata": {
        "id": "rDSYt2G8mytK",
        "colab_type": "code",
        "colab": {}
      },
      "source": [
        "import pandas as pd\n",
        "from scipy import stats\n",
        "from statsmodels.stats import weightstats as stests"
      ],
      "execution_count": 0,
      "outputs": []
    },
    {
      "cell_type": "code",
      "metadata": {
        "id": "Akcg2e-3nEqX",
        "colab_type": "code",
        "colab": {}
      },
      "source": [
        "df = pd.read_csv(\"https://github.com/yug95/MachineLearning/raw/master/Hypothesis%20testing/blood_pressure.csv\")"
      ],
      "execution_count": 0,
      "outputs": []
    },
    {
      "cell_type": "code",
      "metadata": {
        "id": "yn2toi27oV6c",
        "colab_type": "code",
        "outputId": "7aafcbcd-3a49-43cd-a299-c85e4b6dcf8c",
        "colab": {
          "base_uri": "https://localhost:8080/",
          "height": 195
        }
      },
      "source": [
        "df.head()"
      ],
      "execution_count": 59,
      "outputs": [
        {
          "output_type": "execute_result",
          "data": {
            "text/html": [
              "<div>\n",
              "<style scoped>\n",
              "    .dataframe tbody tr th:only-of-type {\n",
              "        vertical-align: middle;\n",
              "    }\n",
              "\n",
              "    .dataframe tbody tr th {\n",
              "        vertical-align: top;\n",
              "    }\n",
              "\n",
              "    .dataframe thead th {\n",
              "        text-align: right;\n",
              "    }\n",
              "</style>\n",
              "<table border=\"1\" class=\"dataframe\">\n",
              "  <thead>\n",
              "    <tr style=\"text-align: right;\">\n",
              "      <th></th>\n",
              "      <th>patient</th>\n",
              "      <th>sex</th>\n",
              "      <th>agegrp</th>\n",
              "      <th>bp_before</th>\n",
              "      <th>bp_after</th>\n",
              "    </tr>\n",
              "  </thead>\n",
              "  <tbody>\n",
              "    <tr>\n",
              "      <th>0</th>\n",
              "      <td>1</td>\n",
              "      <td>Male</td>\n",
              "      <td>30-45</td>\n",
              "      <td>143</td>\n",
              "      <td>153</td>\n",
              "    </tr>\n",
              "    <tr>\n",
              "      <th>1</th>\n",
              "      <td>2</td>\n",
              "      <td>Male</td>\n",
              "      <td>30-45</td>\n",
              "      <td>163</td>\n",
              "      <td>170</td>\n",
              "    </tr>\n",
              "    <tr>\n",
              "      <th>2</th>\n",
              "      <td>3</td>\n",
              "      <td>Male</td>\n",
              "      <td>30-45</td>\n",
              "      <td>153</td>\n",
              "      <td>168</td>\n",
              "    </tr>\n",
              "    <tr>\n",
              "      <th>3</th>\n",
              "      <td>4</td>\n",
              "      <td>Male</td>\n",
              "      <td>30-45</td>\n",
              "      <td>153</td>\n",
              "      <td>142</td>\n",
              "    </tr>\n",
              "    <tr>\n",
              "      <th>4</th>\n",
              "      <td>5</td>\n",
              "      <td>Male</td>\n",
              "      <td>30-45</td>\n",
              "      <td>146</td>\n",
              "      <td>141</td>\n",
              "    </tr>\n",
              "  </tbody>\n",
              "</table>\n",
              "</div>"
            ],
            "text/plain": [
              "   patient   sex agegrp  bp_before  bp_after\n",
              "0        1  Male  30-45        143       153\n",
              "1        2  Male  30-45        163       170\n",
              "2        3  Male  30-45        153       168\n",
              "3        4  Male  30-45        153       142\n",
              "4        5  Male  30-45        146       141"
            ]
          },
          "metadata": {
            "tags": []
          },
          "execution_count": 59
        }
      ]
    },
    {
      "cell_type": "code",
      "metadata": {
        "id": "yAUFYKTFoYiZ",
        "colab_type": "code",
        "outputId": "b2f3545d-e999-4f2d-d1fd-b136027bbbf8",
        "colab": {
          "base_uri": "https://localhost:8080/",
          "height": 284
        }
      },
      "source": [
        "df[['bp_before','bp_after']].describe()"
      ],
      "execution_count": 60,
      "outputs": [
        {
          "output_type": "execute_result",
          "data": {
            "text/html": [
              "<div>\n",
              "<style scoped>\n",
              "    .dataframe tbody tr th:only-of-type {\n",
              "        vertical-align: middle;\n",
              "    }\n",
              "\n",
              "    .dataframe tbody tr th {\n",
              "        vertical-align: top;\n",
              "    }\n",
              "\n",
              "    .dataframe thead th {\n",
              "        text-align: right;\n",
              "    }\n",
              "</style>\n",
              "<table border=\"1\" class=\"dataframe\">\n",
              "  <thead>\n",
              "    <tr style=\"text-align: right;\">\n",
              "      <th></th>\n",
              "      <th>bp_before</th>\n",
              "      <th>bp_after</th>\n",
              "    </tr>\n",
              "  </thead>\n",
              "  <tbody>\n",
              "    <tr>\n",
              "      <th>count</th>\n",
              "      <td>120.000000</td>\n",
              "      <td>120.000000</td>\n",
              "    </tr>\n",
              "    <tr>\n",
              "      <th>mean</th>\n",
              "      <td>156.450000</td>\n",
              "      <td>151.358333</td>\n",
              "    </tr>\n",
              "    <tr>\n",
              "      <th>std</th>\n",
              "      <td>11.389845</td>\n",
              "      <td>14.177622</td>\n",
              "    </tr>\n",
              "    <tr>\n",
              "      <th>min</th>\n",
              "      <td>138.000000</td>\n",
              "      <td>125.000000</td>\n",
              "    </tr>\n",
              "    <tr>\n",
              "      <th>25%</th>\n",
              "      <td>147.000000</td>\n",
              "      <td>140.750000</td>\n",
              "    </tr>\n",
              "    <tr>\n",
              "      <th>50%</th>\n",
              "      <td>154.500000</td>\n",
              "      <td>149.500000</td>\n",
              "    </tr>\n",
              "    <tr>\n",
              "      <th>75%</th>\n",
              "      <td>164.000000</td>\n",
              "      <td>161.000000</td>\n",
              "    </tr>\n",
              "    <tr>\n",
              "      <th>max</th>\n",
              "      <td>185.000000</td>\n",
              "      <td>185.000000</td>\n",
              "    </tr>\n",
              "  </tbody>\n",
              "</table>\n",
              "</div>"
            ],
            "text/plain": [
              "        bp_before    bp_after\n",
              "count  120.000000  120.000000\n",
              "mean   156.450000  151.358333\n",
              "std     11.389845   14.177622\n",
              "min    138.000000  125.000000\n",
              "25%    147.000000  140.750000\n",
              "50%    154.500000  149.500000\n",
              "75%    164.000000  161.000000\n",
              "max    185.000000  185.000000"
            ]
          },
          "metadata": {
            "tags": []
          },
          "execution_count": 60
        }
      ]
    },
    {
      "cell_type": "code",
      "metadata": {
        "id": "WZF45KNfoZVi",
        "colab_type": "code",
        "outputId": "bdbf7ad1-5f2b-4174-a0f4-8951e229b0d9",
        "colab": {
          "base_uri": "https://localhost:8080/",
          "height": 34
        }
      },
      "source": [
        "ttest,pval = stats.ttest_rel(df['bp_before'], df['bp_after']) # return t-statistic and p-value\n",
        "print(pval)"
      ],
      "execution_count": 61,
      "outputs": [
        {
          "output_type": "stream",
          "text": [
            "0.0011297914644840823\n"
          ],
          "name": "stdout"
        }
      ]
    },
    {
      "cell_type": "code",
      "metadata": {
        "id": "W6vcGg1nocdh",
        "colab_type": "code",
        "outputId": "d5f7c189-01d0-4156-8f87-dbd2508f1c91",
        "colab": {
          "base_uri": "https://localhost:8080/",
          "height": 34
        }
      },
      "source": [
        "if pval<0.05:\n",
        "    print(\"reject null hypothesis\")\n",
        "else:\n",
        "    print(\"accept null hypothesis\")"
      ],
      "execution_count": 62,
      "outputs": [
        {
          "output_type": "stream",
          "text": [
            "reject null hypothesis\n"
          ],
          "name": "stdout"
        }
      ]
    },
    {
      "cell_type": "markdown",
      "metadata": {
        "id": "iy7NX7Ds7Pbu",
        "colab_type": "text"
      },
      "source": [
        "# Reference:\n",
        "1. https://reneshbedre.github.io/blog/anova.html\n",
        "2. https://medium.com/analytics-vidhya/illustration-with-python-central-limit-theorem-aa4d81f7b570"
      ]
    },
    {
      "cell_type": "code",
      "metadata": {
        "id": "Mp8Boy3WBM4m",
        "colab_type": "code",
        "colab": {}
      },
      "source": [
        ""
      ],
      "execution_count": 0,
      "outputs": []
    }
  ]
}
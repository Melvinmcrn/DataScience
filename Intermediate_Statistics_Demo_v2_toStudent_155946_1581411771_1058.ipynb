{
  "nbformat": 4,
  "nbformat_minor": 0,
  "metadata": {
    "colab": {
      "name": "Intermediate_Statistics_Demo_v2_toStudent.155946.1581411771.1058.ipynb",
      "provenance": [],
      "collapsed_sections": [],
      "toc_visible": true,
      "include_colab_link": true
    },
    "kernelspec": {
      "name": "python3",
      "display_name": "Python 3"
    }
  },
  "cells": [
    {
      "cell_type": "markdown",
      "metadata": {
        "id": "view-in-github",
        "colab_type": "text"
      },
      "source": [
        "<a href=\"https://colab.research.google.com/github/Melvinmcrn/DataScience/blob/master/Intermediate_Statistics_Demo_v2_toStudent_155946_1581411771_1058.ipynb\" target=\"_parent\"><img src=\"https://colab.research.google.com/assets/colab-badge.svg\" alt=\"Open In Colab\"/></a>"
      ]
    },
    {
      "cell_type": "markdown",
      "metadata": {
        "id": "TDO7dS5jIUdW",
        "colab_type": "text"
      },
      "source": [
        "# Intermediate-Statistics (Demo)\n",
        "## 1.One -Way ANOVA\n",
        "## 2.F-Test\n",
        "## 3.Correlation\n",
        "## 4.Chi-Squared Test (Contingency; Confusion Table)\n",
        "## 5.Linear Regression\n",
        "* ### 5.1.Student Alcohol Consumption prediction \n",
        "* ### 5.2.Forward, Backward, Stepwise\n",
        "\n",
        "## 6.Logistic Regression (only numeric inputs)\n",
        "* ### 6.1.Direct Target Marketing : Purchase(Yes/No)\n",
        "\n",
        "## 7.MonteCarlo (Optimization)"
      ]
    },
    {
      "cell_type": "markdown",
      "metadata": {
        "id": "xxtuHGmGx8r4",
        "colab_type": "text"
      },
      "source": [
        "![](https://media0.giphy.com/media/9ADoZQgs0tyww/giphy.gif)"
      ]
    },
    {
      "cell_type": "code",
      "metadata": {
        "id": "fFPemWmqN3XW",
        "colab_type": "code",
        "outputId": "183d16f3-5fb1-4860-94ff-5dde07e0a0f0",
        "colab": {
          "base_uri": "https://localhost:8080/",
          "height": 34
        }
      },
      "source": [
        "#Importing required libraries\n",
        "#Importing the required libraries and data set \n",
        "import numpy as np\n",
        "import seaborn as sns\n",
        "import pandas as pd\n",
        "from matplotlib import pyplot\n",
        "import matplotlib.pyplot as plt\n",
        "%matplotlib inline\n",
        "\n",
        "import statsmodels.api as sm\n",
        "from statsmodels.formula.api import ols\n",
        "\n",
        "print(\"Important libraries loaded successfully\")"
      ],
      "execution_count": 0,
      "outputs": [
        {
          "output_type": "stream",
          "text": [
            "Important libraries loaded successfully\n"
          ],
          "name": "stdout"
        }
      ]
    },
    {
      "cell_type": "markdown",
      "metadata": {
        "id": "mbMpq-hvI39o",
        "colab_type": "text"
      },
      "source": [
        "# 1.One -Way ANOVA"
      ]
    },
    {
      "cell_type": "code",
      "metadata": {
        "id": "VYzg5jjMIR4T",
        "colab_type": "code",
        "colab": {}
      },
      "source": [
        "A = [12.6, 12, 11.8, 11.9, 13, 12.5, 14]\n",
        "B = [10, 10.2, 10, 12, 14, 13]\n",
        "C = [10.1, 13, 13.4, 12.9, 8.9, 10.7, 13.6, 12]"
      ],
      "execution_count": 0,
      "outputs": []
    },
    {
      "cell_type": "code",
      "metadata": {
        "id": "xXrBOeBg5bS_",
        "colab_type": "code",
        "colab": {}
      },
      "source": [
        "all_salaryK = A + B + C\n",
        "company_names = (['A'] * len(A)) +  (['B'] * len(B)) +  (['C'] * len(C))"
      ],
      "execution_count": 0,
      "outputs": []
    },
    {
      "cell_type": "code",
      "metadata": {
        "id": "g3DkYTZm5bbN",
        "colab_type": "code",
        "colab": {}
      },
      "source": [
        "data = pd.DataFrame({'company': company_names, 'salaryK': all_salaryK})"
      ],
      "execution_count": 0,
      "outputs": []
    },
    {
      "cell_type": "code",
      "metadata": {
        "id": "A7vhVjYo5bhg",
        "colab_type": "code",
        "outputId": "cd631cb0-8a53-44aa-8969-b37b37a48126",
        "colab": {
          "base_uri": "https://localhost:8080/",
          "height": 647
        }
      },
      "source": [
        "data.head(20)"
      ],
      "execution_count": 0,
      "outputs": [
        {
          "output_type": "execute_result",
          "data": {
            "text/html": [
              "<div>\n",
              "<style scoped>\n",
              "    .dataframe tbody tr th:only-of-type {\n",
              "        vertical-align: middle;\n",
              "    }\n",
              "\n",
              "    .dataframe tbody tr th {\n",
              "        vertical-align: top;\n",
              "    }\n",
              "\n",
              "    .dataframe thead th {\n",
              "        text-align: right;\n",
              "    }\n",
              "</style>\n",
              "<table border=\"1\" class=\"dataframe\">\n",
              "  <thead>\n",
              "    <tr style=\"text-align: right;\">\n",
              "      <th></th>\n",
              "      <th>company</th>\n",
              "      <th>salaryK</th>\n",
              "    </tr>\n",
              "  </thead>\n",
              "  <tbody>\n",
              "    <tr>\n",
              "      <th>0</th>\n",
              "      <td>A</td>\n",
              "      <td>12.6</td>\n",
              "    </tr>\n",
              "    <tr>\n",
              "      <th>1</th>\n",
              "      <td>A</td>\n",
              "      <td>12.0</td>\n",
              "    </tr>\n",
              "    <tr>\n",
              "      <th>2</th>\n",
              "      <td>A</td>\n",
              "      <td>11.8</td>\n",
              "    </tr>\n",
              "    <tr>\n",
              "      <th>3</th>\n",
              "      <td>A</td>\n",
              "      <td>11.9</td>\n",
              "    </tr>\n",
              "    <tr>\n",
              "      <th>4</th>\n",
              "      <td>A</td>\n",
              "      <td>13.0</td>\n",
              "    </tr>\n",
              "    <tr>\n",
              "      <th>5</th>\n",
              "      <td>A</td>\n",
              "      <td>12.5</td>\n",
              "    </tr>\n",
              "    <tr>\n",
              "      <th>6</th>\n",
              "      <td>A</td>\n",
              "      <td>14.0</td>\n",
              "    </tr>\n",
              "    <tr>\n",
              "      <th>7</th>\n",
              "      <td>B</td>\n",
              "      <td>10.0</td>\n",
              "    </tr>\n",
              "    <tr>\n",
              "      <th>8</th>\n",
              "      <td>B</td>\n",
              "      <td>10.2</td>\n",
              "    </tr>\n",
              "    <tr>\n",
              "      <th>9</th>\n",
              "      <td>B</td>\n",
              "      <td>10.0</td>\n",
              "    </tr>\n",
              "    <tr>\n",
              "      <th>10</th>\n",
              "      <td>B</td>\n",
              "      <td>12.0</td>\n",
              "    </tr>\n",
              "    <tr>\n",
              "      <th>11</th>\n",
              "      <td>B</td>\n",
              "      <td>14.0</td>\n",
              "    </tr>\n",
              "    <tr>\n",
              "      <th>12</th>\n",
              "      <td>B</td>\n",
              "      <td>13.0</td>\n",
              "    </tr>\n",
              "    <tr>\n",
              "      <th>13</th>\n",
              "      <td>C</td>\n",
              "      <td>10.1</td>\n",
              "    </tr>\n",
              "    <tr>\n",
              "      <th>14</th>\n",
              "      <td>C</td>\n",
              "      <td>13.0</td>\n",
              "    </tr>\n",
              "    <tr>\n",
              "      <th>15</th>\n",
              "      <td>C</td>\n",
              "      <td>13.4</td>\n",
              "    </tr>\n",
              "    <tr>\n",
              "      <th>16</th>\n",
              "      <td>C</td>\n",
              "      <td>12.9</td>\n",
              "    </tr>\n",
              "    <tr>\n",
              "      <th>17</th>\n",
              "      <td>C</td>\n",
              "      <td>8.9</td>\n",
              "    </tr>\n",
              "    <tr>\n",
              "      <th>18</th>\n",
              "      <td>C</td>\n",
              "      <td>10.7</td>\n",
              "    </tr>\n",
              "    <tr>\n",
              "      <th>19</th>\n",
              "      <td>C</td>\n",
              "      <td>13.6</td>\n",
              "    </tr>\n",
              "  </tbody>\n",
              "</table>\n",
              "</div>"
            ],
            "text/plain": [
              "   company  salaryK\n",
              "0        A     12.6\n",
              "1        A     12.0\n",
              "2        A     11.8\n",
              "3        A     11.9\n",
              "4        A     13.0\n",
              "5        A     12.5\n",
              "6        A     14.0\n",
              "7        B     10.0\n",
              "8        B     10.2\n",
              "9        B     10.0\n",
              "10       B     12.0\n",
              "11       B     14.0\n",
              "12       B     13.0\n",
              "13       C     10.1\n",
              "14       C     13.0\n",
              "15       C     13.4\n",
              "16       C     12.9\n",
              "17       C      8.9\n",
              "18       C     10.7\n",
              "19       C     13.6"
            ]
          },
          "metadata": {
            "tags": []
          },
          "execution_count": 5
        }
      ]
    },
    {
      "cell_type": "code",
      "metadata": {
        "id": "GpHkm5S15bfr",
        "colab_type": "code",
        "outputId": "18b6ce93-7846-420c-bf5a-f8e9240790c1",
        "colab": {
          "base_uri": "https://localhost:8080/",
          "height": 167
        }
      },
      "source": [
        "data.groupby('company').mean()"
      ],
      "execution_count": 0,
      "outputs": [
        {
          "output_type": "execute_result",
          "data": {
            "text/html": [
              "<div>\n",
              "<style scoped>\n",
              "    .dataframe tbody tr th:only-of-type {\n",
              "        vertical-align: middle;\n",
              "    }\n",
              "\n",
              "    .dataframe tbody tr th {\n",
              "        vertical-align: top;\n",
              "    }\n",
              "\n",
              "    .dataframe thead th {\n",
              "        text-align: right;\n",
              "    }\n",
              "</style>\n",
              "<table border=\"1\" class=\"dataframe\">\n",
              "  <thead>\n",
              "    <tr style=\"text-align: right;\">\n",
              "      <th></th>\n",
              "      <th>salaryK</th>\n",
              "    </tr>\n",
              "    <tr>\n",
              "      <th>company</th>\n",
              "      <th></th>\n",
              "    </tr>\n",
              "  </thead>\n",
              "  <tbody>\n",
              "    <tr>\n",
              "      <th>A</th>\n",
              "      <td>12.542857</td>\n",
              "    </tr>\n",
              "    <tr>\n",
              "      <th>B</th>\n",
              "      <td>11.533333</td>\n",
              "    </tr>\n",
              "    <tr>\n",
              "      <th>C</th>\n",
              "      <td>11.825000</td>\n",
              "    </tr>\n",
              "  </tbody>\n",
              "</table>\n",
              "</div>"
            ],
            "text/plain": [
              "           salaryK\n",
              "company           \n",
              "A        12.542857\n",
              "B        11.533333\n",
              "C        11.825000"
            ]
          },
          "metadata": {
            "tags": []
          },
          "execution_count": 6
        }
      ]
    },
    {
      "cell_type": "code",
      "metadata": {
        "id": "jRsq8C1G6LX6",
        "colab_type": "code",
        "outputId": "59e78c2a-7857-422c-a25b-b28f92f9721b",
        "colab": {
          "base_uri": "https://localhost:8080/",
          "height": 70
        }
      },
      "source": [
        "lm = ols('salaryK ~ company',data=data).fit()\n",
        "table = sm.stats.anova_lm(lm)\n",
        "print(table)"
      ],
      "execution_count": 0,
      "outputs": [
        {
          "output_type": "stream",
          "text": [
            "            df     sum_sq   mean_sq         F    PR(>F)\n",
            "company    2.0   3.606905  1.803452  0.821297  0.455683\n",
            "Residual  18.0  39.525476  2.195860       NaN       NaN\n"
          ],
          "name": "stdout"
        }
      ]
    },
    {
      "cell_type": "markdown",
      "metadata": {
        "id": "IlM5uvvlI931",
        "colab_type": "text"
      },
      "source": [
        "#2.F-Test (Continue from Demo 1)\n",
        "\n",
        "We use the Mean Squares to compute the F statistic as the ratio between explained vs unexplained variation:\n",
        "\n",
        "![](https://miro.medium.com/max/221/1*IOV_eIIQHXZq4taC0lLn2A.png)\n"
      ]
    },
    {
      "cell_type": "code",
      "metadata": {
        "id": "ndBo3zbh222A",
        "colab_type": "code",
        "outputId": "8cb1eb0a-8e4f-4799-c843-e8c3d72aa2a1",
        "colab": {
          "base_uri": "https://localhost:8080/",
          "height": 647
        }
      },
      "source": [
        "data.head(20)"
      ],
      "execution_count": 0,
      "outputs": [
        {
          "output_type": "execute_result",
          "data": {
            "text/html": [
              "<div>\n",
              "<style scoped>\n",
              "    .dataframe tbody tr th:only-of-type {\n",
              "        vertical-align: middle;\n",
              "    }\n",
              "\n",
              "    .dataframe tbody tr th {\n",
              "        vertical-align: top;\n",
              "    }\n",
              "\n",
              "    .dataframe thead th {\n",
              "        text-align: right;\n",
              "    }\n",
              "</style>\n",
              "<table border=\"1\" class=\"dataframe\">\n",
              "  <thead>\n",
              "    <tr style=\"text-align: right;\">\n",
              "      <th></th>\n",
              "      <th>company</th>\n",
              "      <th>salaryK</th>\n",
              "    </tr>\n",
              "  </thead>\n",
              "  <tbody>\n",
              "    <tr>\n",
              "      <th>0</th>\n",
              "      <td>A</td>\n",
              "      <td>12.6</td>\n",
              "    </tr>\n",
              "    <tr>\n",
              "      <th>1</th>\n",
              "      <td>A</td>\n",
              "      <td>12.0</td>\n",
              "    </tr>\n",
              "    <tr>\n",
              "      <th>2</th>\n",
              "      <td>A</td>\n",
              "      <td>11.8</td>\n",
              "    </tr>\n",
              "    <tr>\n",
              "      <th>3</th>\n",
              "      <td>A</td>\n",
              "      <td>11.9</td>\n",
              "    </tr>\n",
              "    <tr>\n",
              "      <th>4</th>\n",
              "      <td>A</td>\n",
              "      <td>13.0</td>\n",
              "    </tr>\n",
              "    <tr>\n",
              "      <th>5</th>\n",
              "      <td>A</td>\n",
              "      <td>12.5</td>\n",
              "    </tr>\n",
              "    <tr>\n",
              "      <th>6</th>\n",
              "      <td>A</td>\n",
              "      <td>14.0</td>\n",
              "    </tr>\n",
              "    <tr>\n",
              "      <th>7</th>\n",
              "      <td>B</td>\n",
              "      <td>10.0</td>\n",
              "    </tr>\n",
              "    <tr>\n",
              "      <th>8</th>\n",
              "      <td>B</td>\n",
              "      <td>10.2</td>\n",
              "    </tr>\n",
              "    <tr>\n",
              "      <th>9</th>\n",
              "      <td>B</td>\n",
              "      <td>10.0</td>\n",
              "    </tr>\n",
              "    <tr>\n",
              "      <th>10</th>\n",
              "      <td>B</td>\n",
              "      <td>12.0</td>\n",
              "    </tr>\n",
              "    <tr>\n",
              "      <th>11</th>\n",
              "      <td>B</td>\n",
              "      <td>14.0</td>\n",
              "    </tr>\n",
              "    <tr>\n",
              "      <th>12</th>\n",
              "      <td>B</td>\n",
              "      <td>13.0</td>\n",
              "    </tr>\n",
              "    <tr>\n",
              "      <th>13</th>\n",
              "      <td>C</td>\n",
              "      <td>10.1</td>\n",
              "    </tr>\n",
              "    <tr>\n",
              "      <th>14</th>\n",
              "      <td>C</td>\n",
              "      <td>13.0</td>\n",
              "    </tr>\n",
              "    <tr>\n",
              "      <th>15</th>\n",
              "      <td>C</td>\n",
              "      <td>13.4</td>\n",
              "    </tr>\n",
              "    <tr>\n",
              "      <th>16</th>\n",
              "      <td>C</td>\n",
              "      <td>12.9</td>\n",
              "    </tr>\n",
              "    <tr>\n",
              "      <th>17</th>\n",
              "      <td>C</td>\n",
              "      <td>8.9</td>\n",
              "    </tr>\n",
              "    <tr>\n",
              "      <th>18</th>\n",
              "      <td>C</td>\n",
              "      <td>10.7</td>\n",
              "    </tr>\n",
              "    <tr>\n",
              "      <th>19</th>\n",
              "      <td>C</td>\n",
              "      <td>13.6</td>\n",
              "    </tr>\n",
              "  </tbody>\n",
              "</table>\n",
              "</div>"
            ],
            "text/plain": [
              "   company  salaryK\n",
              "0        A     12.6\n",
              "1        A     12.0\n",
              "2        A     11.8\n",
              "3        A     11.9\n",
              "4        A     13.0\n",
              "5        A     12.5\n",
              "6        A     14.0\n",
              "7        B     10.0\n",
              "8        B     10.2\n",
              "9        B     10.0\n",
              "10       B     12.0\n",
              "11       B     14.0\n",
              "12       B     13.0\n",
              "13       C     10.1\n",
              "14       C     13.0\n",
              "15       C     13.4\n",
              "16       C     12.9\n",
              "17       C      8.9\n",
              "18       C     10.7\n",
              "19       C     13.6"
            ]
          },
          "metadata": {
            "tags": []
          },
          "execution_count": 8
        }
      ]
    },
    {
      "cell_type": "code",
      "metadata": {
        "id": "MOzUy72x22QR",
        "colab_type": "code",
        "outputId": "99530379-6537-4300-b55f-444ec50f5c91",
        "colab": {
          "base_uri": "https://localhost:8080/",
          "height": 34
        }
      },
      "source": [
        "# compute overall mean\n",
        "overall_mean = data['salaryK'].mean()\n",
        "overall_mean"
      ],
      "execution_count": 0,
      "outputs": [
        {
          "output_type": "execute_result",
          "data": {
            "text/plain": [
              "11.980952380952381"
            ]
          },
          "metadata": {
            "tags": []
          },
          "execution_count": 9
        }
      ]
    },
    {
      "cell_type": "code",
      "metadata": {
        "id": "ll_9R87VI-4E",
        "colab_type": "code",
        "outputId": "239c9ac0-c59b-4235-96c9-81ac1b3977f8",
        "colab": {
          "base_uri": "https://localhost:8080/",
          "height": 34
        }
      },
      "source": [
        "# compute Sum of Squares Total\n",
        "data['overall_mean'] = overall_mean\n",
        "ss_total = sum((data['salaryK'] - data['overall_mean'])**2)\n",
        "ss_total"
      ],
      "execution_count": 0,
      "outputs": [
        {
          "output_type": "execute_result",
          "data": {
            "text/plain": [
              "43.132380952380956"
            ]
          },
          "metadata": {
            "tags": []
          },
          "execution_count": 10
        }
      ]
    },
    {
      "cell_type": "code",
      "metadata": {
        "id": "B-qUrLkH3AAw",
        "colab_type": "code",
        "outputId": "adf40e68-b06b-48c7-a9be-ac06568a5c97",
        "colab": {
          "base_uri": "https://localhost:8080/",
          "height": 167
        }
      },
      "source": [
        "# compute group means\n",
        "group_means = data.groupby('company').mean()\n",
        "group_means = group_means.rename(columns = {'salaryK': 'group_mean'})\n",
        "group_means"
      ],
      "execution_count": 0,
      "outputs": [
        {
          "output_type": "execute_result",
          "data": {
            "text/html": [
              "<div>\n",
              "<style scoped>\n",
              "    .dataframe tbody tr th:only-of-type {\n",
              "        vertical-align: middle;\n",
              "    }\n",
              "\n",
              "    .dataframe tbody tr th {\n",
              "        vertical-align: top;\n",
              "    }\n",
              "\n",
              "    .dataframe thead th {\n",
              "        text-align: right;\n",
              "    }\n",
              "</style>\n",
              "<table border=\"1\" class=\"dataframe\">\n",
              "  <thead>\n",
              "    <tr style=\"text-align: right;\">\n",
              "      <th></th>\n",
              "      <th>group_mean</th>\n",
              "      <th>overall_mean</th>\n",
              "    </tr>\n",
              "    <tr>\n",
              "      <th>company</th>\n",
              "      <th></th>\n",
              "      <th></th>\n",
              "    </tr>\n",
              "  </thead>\n",
              "  <tbody>\n",
              "    <tr>\n",
              "      <th>A</th>\n",
              "      <td>12.542857</td>\n",
              "      <td>11.980952</td>\n",
              "    </tr>\n",
              "    <tr>\n",
              "      <th>B</th>\n",
              "      <td>11.533333</td>\n",
              "      <td>11.980952</td>\n",
              "    </tr>\n",
              "    <tr>\n",
              "      <th>C</th>\n",
              "      <td>11.825000</td>\n",
              "      <td>11.980952</td>\n",
              "    </tr>\n",
              "  </tbody>\n",
              "</table>\n",
              "</div>"
            ],
            "text/plain": [
              "         group_mean  overall_mean\n",
              "company                          \n",
              "A         12.542857     11.980952\n",
              "B         11.533333     11.980952\n",
              "C         11.825000     11.980952"
            ]
          },
          "metadata": {
            "tags": []
          },
          "execution_count": 11
        }
      ]
    },
    {
      "cell_type": "code",
      "metadata": {
        "id": "jNVV0XXX2__E",
        "colab_type": "code",
        "outputId": "34ab6cf9-cafb-4e6d-8686-3dce3aea7b86",
        "colab": {
          "base_uri": "https://localhost:8080/",
          "height": 677
        }
      },
      "source": [
        "# add group means and overall mean to the original data frame\n",
        "data = data.merge(group_means, left_on = 'company', right_index = True)\n",
        "data"
      ],
      "execution_count": 0,
      "outputs": [
        {
          "output_type": "execute_result",
          "data": {
            "text/html": [
              "<div>\n",
              "<style scoped>\n",
              "    .dataframe tbody tr th:only-of-type {\n",
              "        vertical-align: middle;\n",
              "    }\n",
              "\n",
              "    .dataframe tbody tr th {\n",
              "        vertical-align: top;\n",
              "    }\n",
              "\n",
              "    .dataframe thead th {\n",
              "        text-align: right;\n",
              "    }\n",
              "</style>\n",
              "<table border=\"1\" class=\"dataframe\">\n",
              "  <thead>\n",
              "    <tr style=\"text-align: right;\">\n",
              "      <th></th>\n",
              "      <th>company</th>\n",
              "      <th>salaryK</th>\n",
              "      <th>overall_mean_x</th>\n",
              "      <th>group_mean</th>\n",
              "      <th>overall_mean_y</th>\n",
              "    </tr>\n",
              "  </thead>\n",
              "  <tbody>\n",
              "    <tr>\n",
              "      <th>0</th>\n",
              "      <td>A</td>\n",
              "      <td>12.6</td>\n",
              "      <td>11.980952</td>\n",
              "      <td>12.542857</td>\n",
              "      <td>11.980952</td>\n",
              "    </tr>\n",
              "    <tr>\n",
              "      <th>1</th>\n",
              "      <td>A</td>\n",
              "      <td>12.0</td>\n",
              "      <td>11.980952</td>\n",
              "      <td>12.542857</td>\n",
              "      <td>11.980952</td>\n",
              "    </tr>\n",
              "    <tr>\n",
              "      <th>2</th>\n",
              "      <td>A</td>\n",
              "      <td>11.8</td>\n",
              "      <td>11.980952</td>\n",
              "      <td>12.542857</td>\n",
              "      <td>11.980952</td>\n",
              "    </tr>\n",
              "    <tr>\n",
              "      <th>3</th>\n",
              "      <td>A</td>\n",
              "      <td>11.9</td>\n",
              "      <td>11.980952</td>\n",
              "      <td>12.542857</td>\n",
              "      <td>11.980952</td>\n",
              "    </tr>\n",
              "    <tr>\n",
              "      <th>4</th>\n",
              "      <td>A</td>\n",
              "      <td>13.0</td>\n",
              "      <td>11.980952</td>\n",
              "      <td>12.542857</td>\n",
              "      <td>11.980952</td>\n",
              "    </tr>\n",
              "    <tr>\n",
              "      <th>5</th>\n",
              "      <td>A</td>\n",
              "      <td>12.5</td>\n",
              "      <td>11.980952</td>\n",
              "      <td>12.542857</td>\n",
              "      <td>11.980952</td>\n",
              "    </tr>\n",
              "    <tr>\n",
              "      <th>6</th>\n",
              "      <td>A</td>\n",
              "      <td>14.0</td>\n",
              "      <td>11.980952</td>\n",
              "      <td>12.542857</td>\n",
              "      <td>11.980952</td>\n",
              "    </tr>\n",
              "    <tr>\n",
              "      <th>7</th>\n",
              "      <td>B</td>\n",
              "      <td>10.0</td>\n",
              "      <td>11.980952</td>\n",
              "      <td>11.533333</td>\n",
              "      <td>11.980952</td>\n",
              "    </tr>\n",
              "    <tr>\n",
              "      <th>8</th>\n",
              "      <td>B</td>\n",
              "      <td>10.2</td>\n",
              "      <td>11.980952</td>\n",
              "      <td>11.533333</td>\n",
              "      <td>11.980952</td>\n",
              "    </tr>\n",
              "    <tr>\n",
              "      <th>9</th>\n",
              "      <td>B</td>\n",
              "      <td>10.0</td>\n",
              "      <td>11.980952</td>\n",
              "      <td>11.533333</td>\n",
              "      <td>11.980952</td>\n",
              "    </tr>\n",
              "    <tr>\n",
              "      <th>10</th>\n",
              "      <td>B</td>\n",
              "      <td>12.0</td>\n",
              "      <td>11.980952</td>\n",
              "      <td>11.533333</td>\n",
              "      <td>11.980952</td>\n",
              "    </tr>\n",
              "    <tr>\n",
              "      <th>11</th>\n",
              "      <td>B</td>\n",
              "      <td>14.0</td>\n",
              "      <td>11.980952</td>\n",
              "      <td>11.533333</td>\n",
              "      <td>11.980952</td>\n",
              "    </tr>\n",
              "    <tr>\n",
              "      <th>12</th>\n",
              "      <td>B</td>\n",
              "      <td>13.0</td>\n",
              "      <td>11.980952</td>\n",
              "      <td>11.533333</td>\n",
              "      <td>11.980952</td>\n",
              "    </tr>\n",
              "    <tr>\n",
              "      <th>13</th>\n",
              "      <td>C</td>\n",
              "      <td>10.1</td>\n",
              "      <td>11.980952</td>\n",
              "      <td>11.825000</td>\n",
              "      <td>11.980952</td>\n",
              "    </tr>\n",
              "    <tr>\n",
              "      <th>14</th>\n",
              "      <td>C</td>\n",
              "      <td>13.0</td>\n",
              "      <td>11.980952</td>\n",
              "      <td>11.825000</td>\n",
              "      <td>11.980952</td>\n",
              "    </tr>\n",
              "    <tr>\n",
              "      <th>15</th>\n",
              "      <td>C</td>\n",
              "      <td>13.4</td>\n",
              "      <td>11.980952</td>\n",
              "      <td>11.825000</td>\n",
              "      <td>11.980952</td>\n",
              "    </tr>\n",
              "    <tr>\n",
              "      <th>16</th>\n",
              "      <td>C</td>\n",
              "      <td>12.9</td>\n",
              "      <td>11.980952</td>\n",
              "      <td>11.825000</td>\n",
              "      <td>11.980952</td>\n",
              "    </tr>\n",
              "    <tr>\n",
              "      <th>17</th>\n",
              "      <td>C</td>\n",
              "      <td>8.9</td>\n",
              "      <td>11.980952</td>\n",
              "      <td>11.825000</td>\n",
              "      <td>11.980952</td>\n",
              "    </tr>\n",
              "    <tr>\n",
              "      <th>18</th>\n",
              "      <td>C</td>\n",
              "      <td>10.7</td>\n",
              "      <td>11.980952</td>\n",
              "      <td>11.825000</td>\n",
              "      <td>11.980952</td>\n",
              "    </tr>\n",
              "    <tr>\n",
              "      <th>19</th>\n",
              "      <td>C</td>\n",
              "      <td>13.6</td>\n",
              "      <td>11.980952</td>\n",
              "      <td>11.825000</td>\n",
              "      <td>11.980952</td>\n",
              "    </tr>\n",
              "    <tr>\n",
              "      <th>20</th>\n",
              "      <td>C</td>\n",
              "      <td>12.0</td>\n",
              "      <td>11.980952</td>\n",
              "      <td>11.825000</td>\n",
              "      <td>11.980952</td>\n",
              "    </tr>\n",
              "  </tbody>\n",
              "</table>\n",
              "</div>"
            ],
            "text/plain": [
              "   company  salaryK  overall_mean_x  group_mean  overall_mean_y\n",
              "0        A     12.6       11.980952   12.542857       11.980952\n",
              "1        A     12.0       11.980952   12.542857       11.980952\n",
              "2        A     11.8       11.980952   12.542857       11.980952\n",
              "3        A     11.9       11.980952   12.542857       11.980952\n",
              "4        A     13.0       11.980952   12.542857       11.980952\n",
              "5        A     12.5       11.980952   12.542857       11.980952\n",
              "6        A     14.0       11.980952   12.542857       11.980952\n",
              "7        B     10.0       11.980952   11.533333       11.980952\n",
              "8        B     10.2       11.980952   11.533333       11.980952\n",
              "9        B     10.0       11.980952   11.533333       11.980952\n",
              "10       B     12.0       11.980952   11.533333       11.980952\n",
              "11       B     14.0       11.980952   11.533333       11.980952\n",
              "12       B     13.0       11.980952   11.533333       11.980952\n",
              "13       C     10.1       11.980952   11.825000       11.980952\n",
              "14       C     13.0       11.980952   11.825000       11.980952\n",
              "15       C     13.4       11.980952   11.825000       11.980952\n",
              "16       C     12.9       11.980952   11.825000       11.980952\n",
              "17       C      8.9       11.980952   11.825000       11.980952\n",
              "18       C     10.7       11.980952   11.825000       11.980952\n",
              "19       C     13.6       11.980952   11.825000       11.980952\n",
              "20       C     12.0       11.980952   11.825000       11.980952"
            ]
          },
          "metadata": {
            "tags": []
          },
          "execution_count": 12
        }
      ]
    },
    {
      "cell_type": "code",
      "metadata": {
        "id": "0HCRxclV2_7m",
        "colab_type": "code",
        "outputId": "0711c797-3002-46cc-ce49-6632c4aa542f",
        "colab": {
          "base_uri": "https://localhost:8080/",
          "height": 34
        }
      },
      "source": [
        "# compute Sum of Squares Residual\n",
        "ss_residual = sum((data['salaryK'] - data['group_mean'])**2)\n",
        "ss_residual"
      ],
      "execution_count": 0,
      "outputs": [
        {
          "output_type": "execute_result",
          "data": {
            "text/plain": [
              "39.52547619047619"
            ]
          },
          "metadata": {
            "tags": []
          },
          "execution_count": 13
        }
      ]
    },
    {
      "cell_type": "code",
      "metadata": {
        "id": "D-wE1Ity2_5D",
        "colab_type": "code",
        "outputId": "cf0228e4-4944-4658-eda2-c9ea7a25054f",
        "colab": {
          "base_uri": "https://localhost:8080/",
          "height": 34
        }
      },
      "source": [
        "# compute Sum of Squares Model\n",
        "overall_mean = data['salaryK'].mean()\n",
        "ss_explained = sum((overall_mean - data['group_mean'])**2)\n",
        "ss_explained"
      ],
      "execution_count": 0,
      "outputs": [
        {
          "output_type": "execute_result",
          "data": {
            "text/plain": [
              "3.6069047619047776"
            ]
          },
          "metadata": {
            "tags": []
          },
          "execution_count": 14
        }
      ]
    },
    {
      "cell_type": "code",
      "metadata": {
        "id": "T5Rr44Yf3FD4",
        "colab_type": "code",
        "outputId": "95ddc305-c6e9-4db4-bdb8-93e5105df29b",
        "colab": {
          "base_uri": "https://localhost:8080/",
          "height": 34
        }
      },
      "source": [
        "# compute Mean Square Residual\n",
        "n_groups = len(set(data['company']))\n",
        "n_obs = data.shape[0]\n",
        "df_residual = n_obs - n_groups\n",
        "ms_residual = ss_residual / df_residual\n",
        "ms_residual"
      ],
      "execution_count": 0,
      "outputs": [
        {
          "output_type": "execute_result",
          "data": {
            "text/plain": [
              "2.1958597883597886"
            ]
          },
          "metadata": {
            "tags": []
          },
          "execution_count": 15
        }
      ]
    },
    {
      "cell_type": "code",
      "metadata": {
        "id": "-sJ9ncAP3FH_",
        "colab_type": "code",
        "outputId": "443be9c6-0c73-4da9-c207-60ec5df84c97",
        "colab": {
          "base_uri": "https://localhost:8080/",
          "height": 34
        }
      },
      "source": [
        "# compute Mean Square Explained\n",
        "df_explained = n_groups - 1\n",
        "ms_explained = ss_explained / df_explained\n",
        "ms_explained"
      ],
      "execution_count": 0,
      "outputs": [
        {
          "output_type": "execute_result",
          "data": {
            "text/plain": [
              "1.8034523809523888"
            ]
          },
          "metadata": {
            "tags": []
          },
          "execution_count": 16
        }
      ]
    },
    {
      "cell_type": "code",
      "metadata": {
        "id": "XvNdHkMI3FBQ",
        "colab_type": "code",
        "outputId": "51316702-b3ea-4186-8778-ce6551ff4aa4",
        "colab": {
          "base_uri": "https://localhost:8080/",
          "height": 34
        }
      },
      "source": [
        "f = ms_explained / ms_residual\n",
        "f"
      ],
      "execution_count": 0,
      "outputs": [
        {
          "output_type": "execute_result",
          "data": {
            "text/plain": [
              "0.8212966923081592"
            ]
          },
          "metadata": {
            "tags": []
          },
          "execution_count": 17
        }
      ]
    },
    {
      "cell_type": "code",
      "metadata": {
        "id": "rZStm_iY3rq0",
        "colab_type": "code",
        "outputId": "9c9b3912-35ae-4f42-c230-3ae3cfa7871d",
        "colab": {
          "base_uri": "https://localhost:8080/",
          "height": 34
        }
      },
      "source": [
        "# compute p-value (Optional)\n",
        "import scipy.stats\n",
        "p_value = 1 - scipy.stats.f.cdf(f, df_explained, df_residual)\n",
        "p_value"
      ],
      "execution_count": 0,
      "outputs": [
        {
          "output_type": "execute_result",
          "data": {
            "text/plain": [
              "0.4556832940515221"
            ]
          },
          "metadata": {
            "tags": []
          },
          "execution_count": 18
        }
      ]
    },
    {
      "cell_type": "markdown",
      "metadata": {
        "id": "3h2wozquI69U",
        "colab_type": "text"
      },
      "source": [
        "#3.Correlation\n"
      ]
    },
    {
      "cell_type": "markdown",
      "metadata": {
        "id": "6kxIcuYtxvjh",
        "colab_type": "text"
      },
      "source": [
        "![](http://moziru.com/images/hosue-clipart-sold-1.png)\n",
        "\n",
        "Attribute Information:\n",
        "\n",
        "    1. CRIM      per capita crime rate by town\n",
        "    2. ZN        proportion of residential land zoned for lots over \n",
        "                 25,000 sq.ft.\n",
        "    3. INDUS     proportion of non-retail business acres per town\n",
        "    4. CHAS      Charles River dummy variable (= 1 if tract bounds \n",
        "                 river; 0 otherwise)\n",
        "    5. NOX       nitric oxides concentration (parts per 10 million)\n",
        "    6. RM        average number of rooms per dwelling\n",
        "    7. AGE       proportion of owner-occupied units built prior to 1940\n",
        "    8. DIS       weighted distances to five Boston employment centres\n",
        "    9. RAD       index of accessibility to radial highways\n",
        "    10. TAX      full-value property-tax rate per $10,000\n",
        "    11. PTRATIO  pupil-teacher ratio by town\n",
        "    12. B        1000(Bk - 0.63)^2 where Bk is the proportion of blacks \n",
        "                 by town\n",
        "    13. LSTAT    % lower status of the population\n",
        "    14. MEDV     Median value of owner-occupied homes in $1000's\n",
        "\n",
        "\n"
      ]
    },
    {
      "cell_type": "code",
      "metadata": {
        "id": "VmX6-oYtI9Mm",
        "colab_type": "code",
        "colab": {}
      },
      "source": [
        "houseprice_df = pd.read_csv('https://github.com/kaopanboonyuen/Python-Data-Science/raw/master/Dataset/MOOC/BostonHouse/boston_house.csv', sep=';')"
      ],
      "execution_count": 0,
      "outputs": []
    },
    {
      "cell_type": "code",
      "metadata": {
        "id": "3EpmX25yy219",
        "colab_type": "code",
        "outputId": "03853a65-64a8-4067-ddb3-4158a5884e42",
        "colab": {
          "base_uri": "https://localhost:8080/",
          "height": 197
        }
      },
      "source": [
        "houseprice_df.head()"
      ],
      "execution_count": 0,
      "outputs": [
        {
          "output_type": "execute_result",
          "data": {
            "text/html": [
              "<div>\n",
              "<style scoped>\n",
              "    .dataframe tbody tr th:only-of-type {\n",
              "        vertical-align: middle;\n",
              "    }\n",
              "\n",
              "    .dataframe tbody tr th {\n",
              "        vertical-align: top;\n",
              "    }\n",
              "\n",
              "    .dataframe thead th {\n",
              "        text-align: right;\n",
              "    }\n",
              "</style>\n",
              "<table border=\"1\" class=\"dataframe\">\n",
              "  <thead>\n",
              "    <tr style=\"text-align: right;\">\n",
              "      <th></th>\n",
              "      <th>CRIM</th>\n",
              "      <th>ZN</th>\n",
              "      <th>INDUS</th>\n",
              "      <th>CHAS</th>\n",
              "      <th>NOX</th>\n",
              "      <th>RM</th>\n",
              "      <th>AGE</th>\n",
              "      <th>DIS</th>\n",
              "      <th>RAD</th>\n",
              "      <th>TAX</th>\n",
              "      <th>B</th>\n",
              "      <th>PRICE</th>\n",
              "    </tr>\n",
              "  </thead>\n",
              "  <tbody>\n",
              "    <tr>\n",
              "      <th>0</th>\n",
              "      <td>0.00632</td>\n",
              "      <td>18.0</td>\n",
              "      <td>2.31</td>\n",
              "      <td>0</td>\n",
              "      <td>0.538</td>\n",
              "      <td>6.575</td>\n",
              "      <td>65.2</td>\n",
              "      <td>4.0900</td>\n",
              "      <td>1</td>\n",
              "      <td>296</td>\n",
              "      <td>396.90</td>\n",
              "      <td>24.0</td>\n",
              "    </tr>\n",
              "    <tr>\n",
              "      <th>1</th>\n",
              "      <td>0.02731</td>\n",
              "      <td>0.0</td>\n",
              "      <td>7.07</td>\n",
              "      <td>0</td>\n",
              "      <td>0.469</td>\n",
              "      <td>6.421</td>\n",
              "      <td>78.9</td>\n",
              "      <td>4.9671</td>\n",
              "      <td>2</td>\n",
              "      <td>242</td>\n",
              "      <td>396.90</td>\n",
              "      <td>21.6</td>\n",
              "    </tr>\n",
              "    <tr>\n",
              "      <th>2</th>\n",
              "      <td>0.02729</td>\n",
              "      <td>0.0</td>\n",
              "      <td>7.07</td>\n",
              "      <td>0</td>\n",
              "      <td>0.469</td>\n",
              "      <td>7.185</td>\n",
              "      <td>61.1</td>\n",
              "      <td>4.9671</td>\n",
              "      <td>2</td>\n",
              "      <td>242</td>\n",
              "      <td>392.83</td>\n",
              "      <td>34.7</td>\n",
              "    </tr>\n",
              "    <tr>\n",
              "      <th>3</th>\n",
              "      <td>0.03237</td>\n",
              "      <td>0.0</td>\n",
              "      <td>2.18</td>\n",
              "      <td>0</td>\n",
              "      <td>0.458</td>\n",
              "      <td>6.998</td>\n",
              "      <td>45.8</td>\n",
              "      <td>6.0622</td>\n",
              "      <td>3</td>\n",
              "      <td>222</td>\n",
              "      <td>394.63</td>\n",
              "      <td>33.4</td>\n",
              "    </tr>\n",
              "    <tr>\n",
              "      <th>4</th>\n",
              "      <td>0.06905</td>\n",
              "      <td>0.0</td>\n",
              "      <td>2.18</td>\n",
              "      <td>0</td>\n",
              "      <td>0.458</td>\n",
              "      <td>7.147</td>\n",
              "      <td>54.2</td>\n",
              "      <td>6.0622</td>\n",
              "      <td>3</td>\n",
              "      <td>222</td>\n",
              "      <td>396.90</td>\n",
              "      <td>36.2</td>\n",
              "    </tr>\n",
              "  </tbody>\n",
              "</table>\n",
              "</div>"
            ],
            "text/plain": [
              "      CRIM    ZN  INDUS  CHAS    NOX  ...     DIS  RAD  TAX       B  PRICE\n",
              "0  0.00632  18.0   2.31     0  0.538  ...  4.0900    1  296  396.90   24.0\n",
              "1  0.02731   0.0   7.07     0  0.469  ...  4.9671    2  242  396.90   21.6\n",
              "2  0.02729   0.0   7.07     0  0.469  ...  4.9671    2  242  392.83   34.7\n",
              "3  0.03237   0.0   2.18     0  0.458  ...  6.0622    3  222  394.63   33.4\n",
              "4  0.06905   0.0   2.18     0  0.458  ...  6.0622    3  222  396.90   36.2\n",
              "\n",
              "[5 rows x 12 columns]"
            ]
          },
          "metadata": {
            "tags": []
          },
          "execution_count": 20
        }
      ]
    },
    {
      "cell_type": "code",
      "metadata": {
        "id": "_n5-Tzwyzg2c",
        "colab_type": "code",
        "outputId": "7526b43e-a645-4a9f-9a9e-5678ba7056f8",
        "colab": {
          "base_uri": "https://localhost:8080/",
          "height": 407
        }
      },
      "source": [
        "# correlation\n",
        "houseprice_df.corr(method='pearson')"
      ],
      "execution_count": 0,
      "outputs": [
        {
          "output_type": "execute_result",
          "data": {
            "text/html": [
              "<div>\n",
              "<style scoped>\n",
              "    .dataframe tbody tr th:only-of-type {\n",
              "        vertical-align: middle;\n",
              "    }\n",
              "\n",
              "    .dataframe tbody tr th {\n",
              "        vertical-align: top;\n",
              "    }\n",
              "\n",
              "    .dataframe thead th {\n",
              "        text-align: right;\n",
              "    }\n",
              "</style>\n",
              "<table border=\"1\" class=\"dataframe\">\n",
              "  <thead>\n",
              "    <tr style=\"text-align: right;\">\n",
              "      <th></th>\n",
              "      <th>CRIM</th>\n",
              "      <th>ZN</th>\n",
              "      <th>INDUS</th>\n",
              "      <th>CHAS</th>\n",
              "      <th>NOX</th>\n",
              "      <th>RM</th>\n",
              "      <th>AGE</th>\n",
              "      <th>DIS</th>\n",
              "      <th>RAD</th>\n",
              "      <th>TAX</th>\n",
              "      <th>B</th>\n",
              "      <th>PRICE</th>\n",
              "    </tr>\n",
              "  </thead>\n",
              "  <tbody>\n",
              "    <tr>\n",
              "      <th>CRIM</th>\n",
              "      <td>1.000000</td>\n",
              "      <td>-0.288969</td>\n",
              "      <td>0.586719</td>\n",
              "      <td>0.066246</td>\n",
              "      <td>-0.139448</td>\n",
              "      <td>-0.185045</td>\n",
              "      <td>0.462470</td>\n",
              "      <td>-0.312843</td>\n",
              "      <td>-0.151996</td>\n",
              "      <td>0.754267</td>\n",
              "      <td>-0.053260</td>\n",
              "      <td>-0.286245</td>\n",
              "    </tr>\n",
              "    <tr>\n",
              "      <th>ZN</th>\n",
              "      <td>-0.288969</td>\n",
              "      <td>1.000000</td>\n",
              "      <td>-0.491587</td>\n",
              "      <td>-0.066072</td>\n",
              "      <td>0.038450</td>\n",
              "      <td>0.078721</td>\n",
              "      <td>-0.488006</td>\n",
              "      <td>0.268317</td>\n",
              "      <td>0.062767</td>\n",
              "      <td>-0.256770</td>\n",
              "      <td>0.015810</td>\n",
              "      <td>0.331570</td>\n",
              "    </tr>\n",
              "    <tr>\n",
              "      <th>INDUS</th>\n",
              "      <td>0.586719</td>\n",
              "      <td>-0.491587</td>\n",
              "      <td>1.000000</td>\n",
              "      <td>0.133738</td>\n",
              "      <td>-0.394483</td>\n",
              "      <td>-0.448809</td>\n",
              "      <td>0.700699</td>\n",
              "      <td>-0.605973</td>\n",
              "      <td>-0.427834</td>\n",
              "      <td>0.748946</td>\n",
              "      <td>0.233471</td>\n",
              "      <td>-0.411915</td>\n",
              "    </tr>\n",
              "    <tr>\n",
              "      <th>CHAS</th>\n",
              "      <td>0.066246</td>\n",
              "      <td>-0.066072</td>\n",
              "      <td>0.133738</td>\n",
              "      <td>1.000000</td>\n",
              "      <td>-0.084122</td>\n",
              "      <td>-0.091826</td>\n",
              "      <td>0.154596</td>\n",
              "      <td>-0.132448</td>\n",
              "      <td>-0.092165</td>\n",
              "      <td>0.070911</td>\n",
              "      <td>0.087542</td>\n",
              "      <td>0.154409</td>\n",
              "    </tr>\n",
              "    <tr>\n",
              "      <th>NOX</th>\n",
              "      <td>-0.139448</td>\n",
              "      <td>0.038450</td>\n",
              "      <td>-0.394483</td>\n",
              "      <td>-0.084122</td>\n",
              "      <td>1.000000</td>\n",
              "      <td>0.975767</td>\n",
              "      <td>-0.550065</td>\n",
              "      <td>0.923503</td>\n",
              "      <td>0.985957</td>\n",
              "      <td>-0.570564</td>\n",
              "      <td>-0.856608</td>\n",
              "      <td>-0.332778</td>\n",
              "    </tr>\n",
              "    <tr>\n",
              "      <th>RM</th>\n",
              "      <td>-0.185045</td>\n",
              "      <td>0.078721</td>\n",
              "      <td>-0.448809</td>\n",
              "      <td>-0.091826</td>\n",
              "      <td>0.975767</td>\n",
              "      <td>1.000000</td>\n",
              "      <td>-0.595786</td>\n",
              "      <td>0.946946</td>\n",
              "      <td>0.992620</td>\n",
              "      <td>-0.611174</td>\n",
              "      <td>-0.848289</td>\n",
              "      <td>0.740181</td>\n",
              "    </tr>\n",
              "    <tr>\n",
              "      <th>AGE</th>\n",
              "      <td>0.462470</td>\n",
              "      <td>-0.488006</td>\n",
              "      <td>0.700699</td>\n",
              "      <td>0.154596</td>\n",
              "      <td>-0.550065</td>\n",
              "      <td>-0.595786</td>\n",
              "      <td>1.000000</td>\n",
              "      <td>-0.744068</td>\n",
              "      <td>-0.585574</td>\n",
              "      <td>0.635768</td>\n",
              "      <td>0.417216</td>\n",
              "      <td>-0.299893</td>\n",
              "    </tr>\n",
              "    <tr>\n",
              "      <th>DIS</th>\n",
              "      <td>-0.312843</td>\n",
              "      <td>0.268317</td>\n",
              "      <td>-0.605973</td>\n",
              "      <td>-0.132448</td>\n",
              "      <td>0.923503</td>\n",
              "      <td>0.946946</td>\n",
              "      <td>-0.744068</td>\n",
              "      <td>1.000000</td>\n",
              "      <td>0.947606</td>\n",
              "      <td>-0.689406</td>\n",
              "      <td>-0.778075</td>\n",
              "      <td>0.138798</td>\n",
              "    </tr>\n",
              "    <tr>\n",
              "      <th>RAD</th>\n",
              "      <td>-0.151996</td>\n",
              "      <td>0.062767</td>\n",
              "      <td>-0.427834</td>\n",
              "      <td>-0.092165</td>\n",
              "      <td>0.985957</td>\n",
              "      <td>0.992620</td>\n",
              "      <td>-0.585574</td>\n",
              "      <td>0.947606</td>\n",
              "      <td>1.000000</td>\n",
              "      <td>-0.586760</td>\n",
              "      <td>-0.861694</td>\n",
              "      <td>-0.217902</td>\n",
              "    </tr>\n",
              "    <tr>\n",
              "      <th>TAX</th>\n",
              "      <td>0.754267</td>\n",
              "      <td>-0.256770</td>\n",
              "      <td>0.748946</td>\n",
              "      <td>0.070911</td>\n",
              "      <td>-0.570564</td>\n",
              "      <td>-0.611174</td>\n",
              "      <td>0.635768</td>\n",
              "      <td>-0.689406</td>\n",
              "      <td>-0.586760</td>\n",
              "      <td>1.000000</td>\n",
              "      <td>0.373021</td>\n",
              "      <td>-0.345898</td>\n",
              "    </tr>\n",
              "    <tr>\n",
              "      <th>B</th>\n",
              "      <td>-0.053260</td>\n",
              "      <td>0.015810</td>\n",
              "      <td>0.233471</td>\n",
              "      <td>0.087542</td>\n",
              "      <td>-0.856608</td>\n",
              "      <td>-0.848289</td>\n",
              "      <td>0.417216</td>\n",
              "      <td>-0.778075</td>\n",
              "      <td>-0.861694</td>\n",
              "      <td>0.373021</td>\n",
              "      <td>1.000000</td>\n",
              "      <td>0.264797</td>\n",
              "    </tr>\n",
              "    <tr>\n",
              "      <th>PRICE</th>\n",
              "      <td>-0.286245</td>\n",
              "      <td>0.331570</td>\n",
              "      <td>-0.411915</td>\n",
              "      <td>0.154409</td>\n",
              "      <td>-0.332778</td>\n",
              "      <td>0.740181</td>\n",
              "      <td>-0.299893</td>\n",
              "      <td>0.138798</td>\n",
              "      <td>-0.217902</td>\n",
              "      <td>-0.345898</td>\n",
              "      <td>0.264797</td>\n",
              "      <td>1.000000</td>\n",
              "    </tr>\n",
              "  </tbody>\n",
              "</table>\n",
              "</div>"
            ],
            "text/plain": [
              "           CRIM        ZN     INDUS  ...       TAX         B     PRICE\n",
              "CRIM   1.000000 -0.288969  0.586719  ...  0.754267 -0.053260 -0.286245\n",
              "ZN    -0.288969  1.000000 -0.491587  ... -0.256770  0.015810  0.331570\n",
              "INDUS  0.586719 -0.491587  1.000000  ...  0.748946  0.233471 -0.411915\n",
              "CHAS   0.066246 -0.066072  0.133738  ...  0.070911  0.087542  0.154409\n",
              "NOX   -0.139448  0.038450 -0.394483  ... -0.570564 -0.856608 -0.332778\n",
              "RM    -0.185045  0.078721 -0.448809  ... -0.611174 -0.848289  0.740181\n",
              "AGE    0.462470 -0.488006  0.700699  ...  0.635768  0.417216 -0.299893\n",
              "DIS   -0.312843  0.268317 -0.605973  ... -0.689406 -0.778075  0.138798\n",
              "RAD   -0.151996  0.062767 -0.427834  ... -0.586760 -0.861694 -0.217902\n",
              "TAX    0.754267 -0.256770  0.748946  ...  1.000000  0.373021 -0.345898\n",
              "B     -0.053260  0.015810  0.233471  ...  0.373021  1.000000  0.264797\n",
              "PRICE -0.286245  0.331570 -0.411915  ... -0.345898  0.264797  1.000000\n",
              "\n",
              "[12 rows x 12 columns]"
            ]
          },
          "metadata": {
            "tags": []
          },
          "execution_count": 21
        }
      ]
    },
    {
      "cell_type": "code",
      "metadata": {
        "id": "1Guq91ul16I3",
        "colab_type": "code",
        "outputId": "b52d0e7a-117d-4120-8dfb-3463eab6941d",
        "colab": {
          "base_uri": "https://localhost:8080/",
          "height": 70
        }
      },
      "source": [
        "houseprice_df.columns"
      ],
      "execution_count": 0,
      "outputs": [
        {
          "output_type": "execute_result",
          "data": {
            "text/plain": [
              "Index(['CRIM', 'ZN', 'INDUS', 'CHAS', 'NOX', 'RM', 'AGE', 'DIS', 'RAD', 'TAX',\n",
              "       'B', 'PRICE'],\n",
              "      dtype='object')"
            ]
          },
          "metadata": {
            "tags": []
          },
          "execution_count": 22
        }
      ]
    },
    {
      "cell_type": "code",
      "metadata": {
        "id": "y5DInWq11JCc",
        "colab_type": "code",
        "colab": {}
      },
      "source": [
        "names = ['CRIM', 'ZN', 'INDUS', 'CHAS', 'NOX', 'RM', 'AGE', 'DIS', 'RAD', 'TAX',\n",
        "       'B', 'PRICE']"
      ],
      "execution_count": 0,
      "outputs": []
    },
    {
      "cell_type": "code",
      "metadata": {
        "id": "KlaUKUYszhBm",
        "colab_type": "code",
        "outputId": "2841a573-12e1-4622-eccd-da71eb189c64",
        "colab": {
          "base_uri": "https://localhost:8080/",
          "height": 584
        }
      },
      "source": [
        "fig = pyplot.figure()\n",
        "ax = fig.add_subplot(111)\n",
        "cax = ax.matshow(houseprice_df.corr(), vmin=-1, vmax=1, interpolation='none')\n",
        "fig.colorbar(cax)\n",
        "ticks = np.arange(0,14,1)\n",
        "ax.set_xticks(ticks)\n",
        "ax.set_yticks(ticks)\n",
        "ax.set_xticklabels(names)\n",
        "ax.set_yticklabels(names)\n",
        "fig.set_size_inches(10,10)\n",
        "pyplot.show()"
      ],
      "execution_count": 0,
      "outputs": [
        {
          "output_type": "display_data",
          "data": {
            "image/png": "[encoded data removed]",
            "text/plain": [
              "<Figure size 720x720 with 2 Axes>"
            ]
          },
          "metadata": {
            "tags": []
          }
        }
      ]
    },
    {
      "cell_type": "markdown",
      "metadata": {
        "id": "ySm0hoUII_Uh",
        "colab_type": "text"
      },
      "source": [
        "#4.Chi-Squared Test (Contingency; Confusion Table)\n"
      ]
    },
    {
      "cell_type": "code",
      "metadata": {
        "id": "4uc0GbDCBaez",
        "colab_type": "code",
        "outputId": "d7bdc6aa-d8df-4b56-e819-408685f5d3ab",
        "colab": {
          "base_uri": "https://localhost:8080/",
          "height": 176
        }
      },
      "source": [
        "!pip install researchpy"
      ],
      "execution_count": 0,
      "outputs": [
        {
          "output_type": "stream",
          "text": [
            "Requirement already satisfied: researchpy in /usr/local/lib/python3.6/dist-packages (0.1.8)\n",
            "Requirement already satisfied: scipy in /usr/local/lib/python3.6/dist-packages (from researchpy) (1.4.1)\n",
            "Requirement already satisfied: numpy in /usr/local/lib/python3.6/dist-packages (from researchpy) (1.17.5)\n",
            "Requirement already satisfied: statsmodels in /usr/local/lib/python3.6/dist-packages (from researchpy) (0.10.2)\n",
            "Requirement already satisfied: pandas in /usr/local/lib/python3.6/dist-packages (from researchpy) (0.25.3)\n",
            "Requirement already satisfied: patsy>=0.4.0 in /usr/local/lib/python3.6/dist-packages (from statsmodels->researchpy) (0.5.1)\n",
            "Requirement already satisfied: pytz>=2017.2 in /usr/local/lib/python3.6/dist-packages (from pandas->researchpy) (2018.9)\n",
            "Requirement already satisfied: python-dateutil>=2.6.1 in /usr/local/lib/python3.6/dist-packages (from pandas->researchpy) (2.6.1)\n",
            "Requirement already satisfied: six in /usr/local/lib/python3.6/dist-packages (from patsy>=0.4.0->statsmodels->researchpy) (1.12.0)\n"
          ],
          "name": "stdout"
        }
      ]
    },
    {
      "cell_type": "code",
      "metadata": {
        "id": "uosrPqcM9kzK",
        "colab_type": "code",
        "colab": {}
      },
      "source": [
        "import researchpy as rp\n",
        "from scipy import stats\n",
        "\n",
        "df = pd.read_csv(\"https://github.com/kaopanboonyuen/Python-Data-Science/raw/master/Dataset/mental-heath-in-tech.csv\")"
      ],
      "execution_count": 0,
      "outputs": []
    },
    {
      "cell_type": "code",
      "metadata": {
        "id": "r2O6Xd4sxg9y",
        "colab_type": "code",
        "outputId": "112933e0-423b-489d-bc9b-9943acbb1c8e",
        "colab": {
          "base_uri": "https://localhost:8080/",
          "height": 901
        }
      },
      "source": [
        "df.head()"
      ],
      "execution_count": 0,
      "outputs": [
        {
          "output_type": "execute_result",
          "data": {
            "text/html": [
              "<div>\n",
              "<style scoped>\n",
              "    .dataframe tbody tr th:only-of-type {\n",
              "        vertical-align: middle;\n",
              "    }\n",
              "\n",
              "    .dataframe tbody tr th {\n",
              "        vertical-align: top;\n",
              "    }\n",
              "\n",
              "    .dataframe thead th {\n",
              "        text-align: right;\n",
              "    }\n",
              "</style>\n",
              "<table border=\"1\" class=\"dataframe\">\n",
              "  <thead>\n",
              "    <tr style=\"text-align: right;\">\n",
              "      <th></th>\n",
              "      <th>Are you self-employed?</th>\n",
              "      <th>How many employees does your company or organization have?</th>\n",
              "      <th>Is your employer primarily a tech company/organization?</th>\n",
              "      <th>Is your primary role within your company related to tech/IT?</th>\n",
              "      <th>Does your employer provide mental health benefits as part of healthcare coverage?</th>\n",
              "      <th>Do you know the options for mental health care available under your employer-provided coverage?</th>\n",
              "      <th>Has your employer ever formally discussed mental health (for example, as part of a wellness campaign or other official communication)?</th>\n",
              "      <th>Does your employer offer resources to learn more about mental health concerns and options for seeking help?</th>\n",
              "      <th>Is your anonymity protected if you choose to take advantage of mental health or substance abuse treatment resources provided by your employer?</th>\n",
              "      <th>If a mental health issue prompted you to request a medical leave from work, asking for that leave would be:</th>\n",
              "      <th>Do you think that discussing a mental health disorder with your employer would have negative consequences?</th>\n",
              "      <th>Do you think that discussing a physical health issue with your employer would have negative consequences?</th>\n",
              "      <th>Would you feel comfortable discussing a mental health disorder with your coworkers?</th>\n",
              "      <th>Would you feel comfortable discussing a mental health disorder with your direct supervisor(s)?</th>\n",
              "      <th>Do you feel that your employer takes mental health as seriously as physical health?</th>\n",
              "      <th>Have you heard of or observed negative consequences for co-workers who have been open about mental health issues in your workplace?</th>\n",
              "      <th>Do you have medical coverage (private insurance or state-provided) which includes treatment of  mental health issues?</th>\n",
              "      <th>Do you know local or online resources to seek help for a mental health disorder?</th>\n",
              "      <th>If you have been diagnosed or treated for a mental health disorder, do you ever reveal this to clients or business contacts?</th>\n",
              "      <th>If you have revealed a mental health issue to a client or business contact, do you believe this has impacted you negatively?</th>\n",
              "      <th>If you have been diagnosed or treated for a mental health disorder, do you ever reveal this to coworkers or employees?</th>\n",
              "      <th>If you have revealed a mental health issue to a coworker or employee, do you believe this has impacted you negatively?</th>\n",
              "      <th>Do you believe your productivity is ever affected by a mental health issue?</th>\n",
              "      <th>If yes, what percentage of your work time (time performing primary or secondary job functions) is affected by a mental health issue?</th>\n",
              "      <th>Do you have previous employers?</th>\n",
              "      <th>Have your previous employers provided mental health benefits?</th>\n",
              "      <th>Were you aware of the options for mental health care provided by your previous employers?</th>\n",
              "      <th>Did your previous employers ever formally discuss mental health (as part of a wellness campaign or other official communication)?</th>\n",
              "      <th>Did your previous employers provide resources to learn more about mental health issues and how to seek help?</th>\n",
              "      <th>Was your anonymity protected if you chose to take advantage of mental health or substance abuse treatment resources with previous employers?</th>\n",
              "      <th>Do you think that discussing a mental health disorder with previous employers would have negative consequences?</th>\n",
              "      <th>Do you think that discussing a physical health issue with previous employers would have negative consequences?</th>\n",
              "      <th>Would you have been willing to discuss a mental health issue with your previous co-workers?</th>\n",
              "      <th>Would you have been willing to discuss a mental health issue with your direct supervisor(s)?</th>\n",
              "      <th>Did you feel that your previous employers took mental health as seriously as physical health?</th>\n",
              "      <th>Did you hear of or observe negative consequences for co-workers with mental health issues in your previous workplaces?</th>\n",
              "      <th>Would you be willing to bring up a physical health issue with a potential employer in an interview?</th>\n",
              "      <th>Why or why not?</th>\n",
              "      <th>Would you bring up a mental health issue with a potential employer in an interview?</th>\n",
              "      <th>Why or why not?.1</th>\n",
              "      <th>Do you feel that being identified as a person with a mental health issue would hurt your career?</th>\n",
              "      <th>Do you think that team members/co-workers would view you more negatively if they knew you suffered from a mental health issue?</th>\n",
              "      <th>How willing would you be to share with friends and family that you have a mental illness?</th>\n",
              "      <th>Have you observed or experienced an unsupportive or badly handled response to a mental health issue in your current or previous workplace?</th>\n",
              "      <th>Have your observations of how another individual who discussed a mental health disorder made you less likely to reveal a mental health issue yourself in your current workplace?</th>\n",
              "      <th>Do you have a family history of mental illness?</th>\n",
              "      <th>Have you had a mental health disorder in the past?</th>\n",
              "      <th>Do you currently have a mental health disorder?</th>\n",
              "      <th>If yes, what condition(s) have you been diagnosed with?</th>\n",
              "      <th>If maybe, what condition(s) do you believe you have?</th>\n",
              "      <th>Have you been diagnosed with a mental health condition by a medical professional?</th>\n",
              "      <th>If so, what condition(s) were you diagnosed with?</th>\n",
              "      <th>Have you ever sought treatment for a mental health issue from a mental health professional?</th>\n",
              "      <th>If you have a mental health issue, do you feel that it interferes with your work when being treated effectively?</th>\n",
              "      <th>If you have a mental health issue, do you feel that it interferes with your work when NOT being treated effectively?</th>\n",
              "      <th>What is your age?</th>\n",
              "      <th>What is your gender?</th>\n",
              "      <th>What country do you live in?</th>\n",
              "      <th>What US state or territory do you live in?</th>\n",
              "      <th>What country do you work in?</th>\n",
              "      <th>What US state or territory do you work in?</th>\n",
              "      <th>Which of the following best describes your work position?</th>\n",
              "      <th>Do you work remotely?</th>\n",
              "    </tr>\n",
              "  </thead>\n",
              "  <tbody>\n",
              "    <tr>\n",
              "      <th>0</th>\n",
              "      <td>0</td>\n",
              "      <td>26-100</td>\n",
              "      <td>1.0</td>\n",
              "      <td>NaN</td>\n",
              "      <td>Not eligible for coverage / N/A</td>\n",
              "      <td>NaN</td>\n",
              "      <td>No</td>\n",
              "      <td>No</td>\n",
              "      <td>I don't know</td>\n",
              "      <td>Very easy</td>\n",
              "      <td>No</td>\n",
              "      <td>No</td>\n",
              "      <td>Maybe</td>\n",
              "      <td>Yes</td>\n",
              "      <td>I don't know</td>\n",
              "      <td>No</td>\n",
              "      <td>NaN</td>\n",
              "      <td>NaN</td>\n",
              "      <td>NaN</td>\n",
              "      <td>NaN</td>\n",
              "      <td>NaN</td>\n",
              "      <td>NaN</td>\n",
              "      <td>NaN</td>\n",
              "      <td>NaN</td>\n",
              "      <td>1</td>\n",
              "      <td>No, none did</td>\n",
              "      <td>N/A (not currently aware)</td>\n",
              "      <td>I don't know</td>\n",
              "      <td>None did</td>\n",
              "      <td>I don't know</td>\n",
              "      <td>Some of them</td>\n",
              "      <td>None of them</td>\n",
              "      <td>Some of my previous employers</td>\n",
              "      <td>Some of my previous employers</td>\n",
              "      <td>I don't know</td>\n",
              "      <td>None of them</td>\n",
              "      <td>Maybe</td>\n",
              "      <td>NaN</td>\n",
              "      <td>Maybe</td>\n",
              "      <td>NaN</td>\n",
              "      <td>Maybe</td>\n",
              "      <td>No, I don't think they would</td>\n",
              "      <td>Somewhat open</td>\n",
              "      <td>No</td>\n",
              "      <td>NaN</td>\n",
              "      <td>No</td>\n",
              "      <td>Yes</td>\n",
              "      <td>No</td>\n",
              "      <td>NaN</td>\n",
              "      <td>NaN</td>\n",
              "      <td>Yes</td>\n",
              "      <td>Anxiety Disorder (Generalized, Social, Phobia,...</td>\n",
              "      <td>0</td>\n",
              "      <td>Not applicable to me</td>\n",
              "      <td>Not applicable to me</td>\n",
              "      <td>39</td>\n",
              "      <td>Male</td>\n",
              "      <td>United Kingdom</td>\n",
              "      <td>NaN</td>\n",
              "      <td>United Kingdom</td>\n",
              "      <td>NaN</td>\n",
              "      <td>Back-end Developer</td>\n",
              "      <td>Sometimes</td>\n",
              "    </tr>\n",
              "    <tr>\n",
              "      <th>1</th>\n",
              "      <td>0</td>\n",
              "      <td>6-25</td>\n",
              "      <td>1.0</td>\n",
              "      <td>NaN</td>\n",
              "      <td>No</td>\n",
              "      <td>Yes</td>\n",
              "      <td>Yes</td>\n",
              "      <td>Yes</td>\n",
              "      <td>Yes</td>\n",
              "      <td>Somewhat easy</td>\n",
              "      <td>No</td>\n",
              "      <td>No</td>\n",
              "      <td>Maybe</td>\n",
              "      <td>Yes</td>\n",
              "      <td>Yes</td>\n",
              "      <td>No</td>\n",
              "      <td>NaN</td>\n",
              "      <td>NaN</td>\n",
              "      <td>NaN</td>\n",
              "      <td>NaN</td>\n",
              "      <td>NaN</td>\n",
              "      <td>NaN</td>\n",
              "      <td>NaN</td>\n",
              "      <td>NaN</td>\n",
              "      <td>1</td>\n",
              "      <td>Yes, they all did</td>\n",
              "      <td>I was aware of some</td>\n",
              "      <td>None did</td>\n",
              "      <td>Some did</td>\n",
              "      <td>Yes, always</td>\n",
              "      <td>None of them</td>\n",
              "      <td>None of them</td>\n",
              "      <td>No, at none of my previous employers</td>\n",
              "      <td>Some of my previous employers</td>\n",
              "      <td>Some did</td>\n",
              "      <td>None of them</td>\n",
              "      <td>Maybe</td>\n",
              "      <td>It would depend on the health issue. If there ...</td>\n",
              "      <td>No</td>\n",
              "      <td>While mental health has become a more prominen...</td>\n",
              "      <td>No, I don't think it would</td>\n",
              "      <td>No, I don't think they would</td>\n",
              "      <td>Somewhat open</td>\n",
              "      <td>No</td>\n",
              "      <td>NaN</td>\n",
              "      <td>Yes</td>\n",
              "      <td>Yes</td>\n",
              "      <td>Yes</td>\n",
              "      <td>Anxiety Disorder (Generalized, Social, Phobia,...</td>\n",
              "      <td>NaN</td>\n",
              "      <td>Yes</td>\n",
              "      <td>Anxiety Disorder (Generalized, Social, Phobia,...</td>\n",
              "      <td>1</td>\n",
              "      <td>Rarely</td>\n",
              "      <td>Sometimes</td>\n",
              "      <td>29</td>\n",
              "      <td>male</td>\n",
              "      <td>United States of America</td>\n",
              "      <td>Illinois</td>\n",
              "      <td>United States of America</td>\n",
              "      <td>Illinois</td>\n",
              "      <td>Back-end Developer|Front-end Developer</td>\n",
              "      <td>Never</td>\n",
              "    </tr>\n",
              "    <tr>\n",
              "      <th>2</th>\n",
              "      <td>0</td>\n",
              "      <td>6-25</td>\n",
              "      <td>1.0</td>\n",
              "      <td>NaN</td>\n",
              "      <td>No</td>\n",
              "      <td>NaN</td>\n",
              "      <td>No</td>\n",
              "      <td>No</td>\n",
              "      <td>I don't know</td>\n",
              "      <td>Neither easy nor difficult</td>\n",
              "      <td>Maybe</td>\n",
              "      <td>No</td>\n",
              "      <td>Maybe</td>\n",
              "      <td>Maybe</td>\n",
              "      <td>I don't know</td>\n",
              "      <td>No</td>\n",
              "      <td>NaN</td>\n",
              "      <td>NaN</td>\n",
              "      <td>NaN</td>\n",
              "      <td>NaN</td>\n",
              "      <td>NaN</td>\n",
              "      <td>NaN</td>\n",
              "      <td>NaN</td>\n",
              "      <td>NaN</td>\n",
              "      <td>1</td>\n",
              "      <td>No, none did</td>\n",
              "      <td>N/A (not currently aware)</td>\n",
              "      <td>None did</td>\n",
              "      <td>Some did</td>\n",
              "      <td>I don't know</td>\n",
              "      <td>I don't know</td>\n",
              "      <td>Some of them</td>\n",
              "      <td>Some of my previous employers</td>\n",
              "      <td>I don't know</td>\n",
              "      <td>I don't know</td>\n",
              "      <td>Some of them</td>\n",
              "      <td>Yes</td>\n",
              "      <td>They would provable need to know, to Judge if ...</td>\n",
              "      <td>Yes</td>\n",
              "      <td>Stigma, mainly.</td>\n",
              "      <td>Maybe</td>\n",
              "      <td>Maybe</td>\n",
              "      <td>Somewhat open</td>\n",
              "      <td>Maybe/Not sure</td>\n",
              "      <td>Yes</td>\n",
              "      <td>No</td>\n",
              "      <td>Maybe</td>\n",
              "      <td>No</td>\n",
              "      <td>NaN</td>\n",
              "      <td>NaN</td>\n",
              "      <td>No</td>\n",
              "      <td>NaN</td>\n",
              "      <td>1</td>\n",
              "      <td>Not applicable to me</td>\n",
              "      <td>Not applicable to me</td>\n",
              "      <td>38</td>\n",
              "      <td>Male</td>\n",
              "      <td>United Kingdom</td>\n",
              "      <td>NaN</td>\n",
              "      <td>United Kingdom</td>\n",
              "      <td>NaN</td>\n",
              "      <td>Back-end Developer</td>\n",
              "      <td>Always</td>\n",
              "    </tr>\n",
              "    <tr>\n",
              "      <th>3</th>\n",
              "      <td>1</td>\n",
              "      <td>NaN</td>\n",
              "      <td>NaN</td>\n",
              "      <td>NaN</td>\n",
              "      <td>NaN</td>\n",
              "      <td>NaN</td>\n",
              "      <td>NaN</td>\n",
              "      <td>NaN</td>\n",
              "      <td>NaN</td>\n",
              "      <td>NaN</td>\n",
              "      <td>NaN</td>\n",
              "      <td>NaN</td>\n",
              "      <td>NaN</td>\n",
              "      <td>NaN</td>\n",
              "      <td>NaN</td>\n",
              "      <td>NaN</td>\n",
              "      <td>1.0</td>\n",
              "      <td>Yes, I know several</td>\n",
              "      <td>Sometimes, if it comes up</td>\n",
              "      <td>I'm not sure</td>\n",
              "      <td>Sometimes, if it comes up</td>\n",
              "      <td>I'm not sure</td>\n",
              "      <td>Yes</td>\n",
              "      <td>1-25%</td>\n",
              "      <td>1</td>\n",
              "      <td>Some did</td>\n",
              "      <td>N/A (not currently aware)</td>\n",
              "      <td>None did</td>\n",
              "      <td>None did</td>\n",
              "      <td>I don't know</td>\n",
              "      <td>Some of them</td>\n",
              "      <td>Some of them</td>\n",
              "      <td>Some of my previous employers</td>\n",
              "      <td>Some of my previous employers</td>\n",
              "      <td>I don't know</td>\n",
              "      <td>Some of them</td>\n",
              "      <td>Yes</td>\n",
              "      <td>old back injury, doesn't cause me many issues ...</td>\n",
              "      <td>Maybe</td>\n",
              "      <td>would not if I was not 100% sure that the disc...</td>\n",
              "      <td>Yes, I think it would</td>\n",
              "      <td>Maybe</td>\n",
              "      <td>Neutral</td>\n",
              "      <td>No</td>\n",
              "      <td>NaN</td>\n",
              "      <td>No</td>\n",
              "      <td>Yes</td>\n",
              "      <td>Yes</td>\n",
              "      <td>Anxiety Disorder (Generalized, Social, Phobia,...</td>\n",
              "      <td>NaN</td>\n",
              "      <td>Yes</td>\n",
              "      <td>Anxiety Disorder (Generalized, Social, Phobia,...</td>\n",
              "      <td>1</td>\n",
              "      <td>Sometimes</td>\n",
              "      <td>Sometimes</td>\n",
              "      <td>43</td>\n",
              "      <td>male</td>\n",
              "      <td>United Kingdom</td>\n",
              "      <td>NaN</td>\n",
              "      <td>United Kingdom</td>\n",
              "      <td>NaN</td>\n",
              "      <td>Supervisor/Team Lead</td>\n",
              "      <td>Sometimes</td>\n",
              "    </tr>\n",
              "    <tr>\n",
              "      <th>4</th>\n",
              "      <td>0</td>\n",
              "      <td>6-25</td>\n",
              "      <td>0.0</td>\n",
              "      <td>1.0</td>\n",
              "      <td>Yes</td>\n",
              "      <td>Yes</td>\n",
              "      <td>No</td>\n",
              "      <td>No</td>\n",
              "      <td>No</td>\n",
              "      <td>Neither easy nor difficult</td>\n",
              "      <td>Yes</td>\n",
              "      <td>Maybe</td>\n",
              "      <td>Maybe</td>\n",
              "      <td>No</td>\n",
              "      <td>No</td>\n",
              "      <td>No</td>\n",
              "      <td>NaN</td>\n",
              "      <td>NaN</td>\n",
              "      <td>NaN</td>\n",
              "      <td>NaN</td>\n",
              "      <td>NaN</td>\n",
              "      <td>NaN</td>\n",
              "      <td>NaN</td>\n",
              "      <td>NaN</td>\n",
              "      <td>1</td>\n",
              "      <td>I don't know</td>\n",
              "      <td>N/A (not currently aware)</td>\n",
              "      <td>Some did</td>\n",
              "      <td>None did</td>\n",
              "      <td>I don't know</td>\n",
              "      <td>Some of them</td>\n",
              "      <td>Some of them</td>\n",
              "      <td>No, at none of my previous employers</td>\n",
              "      <td>Some of my previous employers</td>\n",
              "      <td>Some did</td>\n",
              "      <td>Some of them</td>\n",
              "      <td>Maybe</td>\n",
              "      <td>Depending on the interview stage and whether I...</td>\n",
              "      <td>No</td>\n",
              "      <td>I don't know</td>\n",
              "      <td>Yes, I think it would</td>\n",
              "      <td>Maybe</td>\n",
              "      <td>Somewhat open</td>\n",
              "      <td>Yes, I experienced</td>\n",
              "      <td>Yes</td>\n",
              "      <td>Yes</td>\n",
              "      <td>Yes</td>\n",
              "      <td>Yes</td>\n",
              "      <td>Anxiety Disorder (Generalized, Social, Phobia,...</td>\n",
              "      <td>NaN</td>\n",
              "      <td>Yes</td>\n",
              "      <td>Anxiety Disorder (Generalized, Social, Phobia,...</td>\n",
              "      <td>1</td>\n",
              "      <td>Sometimes</td>\n",
              "      <td>Sometimes</td>\n",
              "      <td>43</td>\n",
              "      <td>Female</td>\n",
              "      <td>United States of America</td>\n",
              "      <td>Illinois</td>\n",
              "      <td>United States of America</td>\n",
              "      <td>Illinois</td>\n",
              "      <td>Executive Leadership|Supervisor/Team Lead|Dev ...</td>\n",
              "      <td>Sometimes</td>\n",
              "    </tr>\n",
              "  </tbody>\n",
              "</table>\n",
              "</div>"
            ],
            "text/plain": [
              "   Are you self-employed?  ... Do you work remotely?\n",
              "0                       0  ...             Sometimes\n",
              "1                       0  ...                 Never\n",
              "2                       0  ...                Always\n",
              "3                       1  ...             Sometimes\n",
              "4                       0  ...             Sometimes\n",
              "\n",
              "[5 rows x 63 columns]"
            ]
          },
          "metadata": {
            "tags": []
          },
          "execution_count": 27
        }
      ]
    },
    {
      "cell_type": "code",
      "metadata": {
        "id": "p2FYgFwU9kv6",
        "colab_type": "code",
        "outputId": "e8f6bb8f-e13e-459b-a255-c5567c5ca2da",
        "colab": {
          "base_uri": "https://localhost:8080/",
          "height": 257
        }
      },
      "source": [
        "rp.summary_cat(df[['Do you currently have a mental health disorder?', 'Would you have been willing to discuss a mental health issue with your direct supervisor(s)?' ]])"
      ],
      "execution_count": 0,
      "outputs": [
        {
          "output_type": "execute_result",
          "data": {
            "text/html": [
              "<div>\n",
              "<style scoped>\n",
              "    .dataframe tbody tr th:only-of-type {\n",
              "        vertical-align: middle;\n",
              "    }\n",
              "\n",
              "    .dataframe tbody tr th {\n",
              "        vertical-align: top;\n",
              "    }\n",
              "\n",
              "    .dataframe thead th {\n",
              "        text-align: right;\n",
              "    }\n",
              "</style>\n",
              "<table border=\"1\" class=\"dataframe\">\n",
              "  <thead>\n",
              "    <tr style=\"text-align: right;\">\n",
              "      <th></th>\n",
              "      <th>Variable</th>\n",
              "      <th>Outcome</th>\n",
              "      <th>Count</th>\n",
              "      <th>Percent</th>\n",
              "    </tr>\n",
              "  </thead>\n",
              "  <tbody>\n",
              "    <tr>\n",
              "      <th>0</th>\n",
              "      <td>Do you currently have a mental health disorder?</td>\n",
              "      <td>Yes</td>\n",
              "      <td>575</td>\n",
              "      <td>40.13</td>\n",
              "    </tr>\n",
              "    <tr>\n",
              "      <th>1</th>\n",
              "      <td></td>\n",
              "      <td>No</td>\n",
              "      <td>531</td>\n",
              "      <td>37.06</td>\n",
              "    </tr>\n",
              "    <tr>\n",
              "      <th>2</th>\n",
              "      <td></td>\n",
              "      <td>Maybe</td>\n",
              "      <td>327</td>\n",
              "      <td>22.82</td>\n",
              "    </tr>\n",
              "    <tr>\n",
              "      <th>3</th>\n",
              "      <td>Would you have been willing to discuss a menta...</td>\n",
              "      <td>Some of my previous employers</td>\n",
              "      <td>654</td>\n",
              "      <td>51.74</td>\n",
              "    </tr>\n",
              "    <tr>\n",
              "      <th>4</th>\n",
              "      <td></td>\n",
              "      <td>No, at none of my previous employers</td>\n",
              "      <td>416</td>\n",
              "      <td>32.91</td>\n",
              "    </tr>\n",
              "    <tr>\n",
              "      <th>5</th>\n",
              "      <td></td>\n",
              "      <td>I don't know</td>\n",
              "      <td>101</td>\n",
              "      <td>7.99</td>\n",
              "    </tr>\n",
              "    <tr>\n",
              "      <th>6</th>\n",
              "      <td></td>\n",
              "      <td>Yes, at all of my previous employers</td>\n",
              "      <td>93</td>\n",
              "      <td>7.36</td>\n",
              "    </tr>\n",
              "  </tbody>\n",
              "</table>\n",
              "</div>"
            ],
            "text/plain": [
              "                                            Variable  ... Percent\n",
              "0    Do you currently have a mental health disorder?  ...   40.13\n",
              "1                                                     ...   37.06\n",
              "2                                                     ...   22.82\n",
              "3  Would you have been willing to discuss a menta...  ...   51.74\n",
              "4                                                     ...   32.91\n",
              "5                                                     ...    7.99\n",
              "6                                                     ...    7.36\n",
              "\n",
              "[7 rows x 4 columns]"
            ]
          },
          "metadata": {
            "tags": []
          },
          "execution_count": 28
        }
      ]
    },
    {
      "cell_type": "code",
      "metadata": {
        "id": "k6MHGjRZ9ktB",
        "colab_type": "code",
        "colab": {}
      },
      "source": [
        "def drop_maybe(series):\n",
        "    if series.lower() == 'yes' or series.lower() == 'no':\n",
        "        return series\n",
        "    else:\n",
        "        return"
      ],
      "execution_count": 0,
      "outputs": []
    },
    {
      "cell_type": "code",
      "metadata": {
        "id": "6rPxIsTJB9eu",
        "colab_type": "code",
        "outputId": "754087f7-1384-4d41-e6fb-6d904cdc2cfc",
        "colab": {
          "base_uri": "https://localhost:8080/",
          "height": 227
        }
      },
      "source": [
        "df['current_mental_disorder'] = df['Do you currently have a mental health disorder?'].apply(drop_maybe)\n",
        "df['willing_discuss_mh_supervisor'] = df['Would you have been willing to discuss a mental health issue with your direct supervisor(s)?']\n",
        "rp.summary_cat(df[['current_mental_disorder', 'willing_discuss_mh_supervisor']])"
      ],
      "execution_count": 0,
      "outputs": [
        {
          "output_type": "execute_result",
          "data": {
            "text/html": [
              "<div>\n",
              "<style scoped>\n",
              "    .dataframe tbody tr th:only-of-type {\n",
              "        vertical-align: middle;\n",
              "    }\n",
              "\n",
              "    .dataframe tbody tr th {\n",
              "        vertical-align: top;\n",
              "    }\n",
              "\n",
              "    .dataframe thead th {\n",
              "        text-align: right;\n",
              "    }\n",
              "</style>\n",
              "<table border=\"1\" class=\"dataframe\">\n",
              "  <thead>\n",
              "    <tr style=\"text-align: right;\">\n",
              "      <th></th>\n",
              "      <th>Variable</th>\n",
              "      <th>Outcome</th>\n",
              "      <th>Count</th>\n",
              "      <th>Percent</th>\n",
              "    </tr>\n",
              "  </thead>\n",
              "  <tbody>\n",
              "    <tr>\n",
              "      <th>0</th>\n",
              "      <td>current_mental_disorder</td>\n",
              "      <td>Yes</td>\n",
              "      <td>575</td>\n",
              "      <td>51.99</td>\n",
              "    </tr>\n",
              "    <tr>\n",
              "      <th>1</th>\n",
              "      <td></td>\n",
              "      <td>No</td>\n",
              "      <td>531</td>\n",
              "      <td>48.01</td>\n",
              "    </tr>\n",
              "    <tr>\n",
              "      <th>2</th>\n",
              "      <td>willing_discuss_mh_supervisor</td>\n",
              "      <td>Some of my previous employers</td>\n",
              "      <td>654</td>\n",
              "      <td>51.74</td>\n",
              "    </tr>\n",
              "    <tr>\n",
              "      <th>3</th>\n",
              "      <td></td>\n",
              "      <td>No, at none of my previous employers</td>\n",
              "      <td>416</td>\n",
              "      <td>32.91</td>\n",
              "    </tr>\n",
              "    <tr>\n",
              "      <th>4</th>\n",
              "      <td></td>\n",
              "      <td>I don't know</td>\n",
              "      <td>101</td>\n",
              "      <td>7.99</td>\n",
              "    </tr>\n",
              "    <tr>\n",
              "      <th>5</th>\n",
              "      <td></td>\n",
              "      <td>Yes, at all of my previous employers</td>\n",
              "      <td>93</td>\n",
              "      <td>7.36</td>\n",
              "    </tr>\n",
              "  </tbody>\n",
              "</table>\n",
              "</div>"
            ],
            "text/plain": [
              "                        Variable  ... Percent\n",
              "0        current_mental_disorder  ...   51.99\n",
              "1                                 ...   48.01\n",
              "2  willing_discuss_mh_supervisor  ...   51.74\n",
              "3                                 ...   32.91\n",
              "4                                 ...    7.99\n",
              "5                                 ...    7.36\n",
              "\n",
              "[6 rows x 4 columns]"
            ]
          },
          "metadata": {
            "tags": []
          },
          "execution_count": 30
        }
      ]
    },
    {
      "cell_type": "code",
      "metadata": {
        "id": "_XRfMUrMB9sd",
        "colab_type": "code",
        "outputId": "9e5d8c31-5e02-45a6-a66b-e85acd6b54b8",
        "colab": {
          "base_uri": "https://localhost:8080/",
          "height": 197
        }
      },
      "source": [
        "pd.crosstab(df['willing_discuss_mh_supervisor'], df['current_mental_disorder'])"
      ],
      "execution_count": 0,
      "outputs": [
        {
          "output_type": "execute_result",
          "data": {
            "text/html": [
              "<div>\n",
              "<style scoped>\n",
              "    .dataframe tbody tr th:only-of-type {\n",
              "        vertical-align: middle;\n",
              "    }\n",
              "\n",
              "    .dataframe tbody tr th {\n",
              "        vertical-align: top;\n",
              "    }\n",
              "\n",
              "    .dataframe thead th {\n",
              "        text-align: right;\n",
              "    }\n",
              "</style>\n",
              "<table border=\"1\" class=\"dataframe\">\n",
              "  <thead>\n",
              "    <tr style=\"text-align: right;\">\n",
              "      <th>current_mental_disorder</th>\n",
              "      <th>No</th>\n",
              "      <th>Yes</th>\n",
              "    </tr>\n",
              "    <tr>\n",
              "      <th>willing_discuss_mh_supervisor</th>\n",
              "      <th></th>\n",
              "      <th></th>\n",
              "    </tr>\n",
              "  </thead>\n",
              "  <tbody>\n",
              "    <tr>\n",
              "      <th>I don't know</th>\n",
              "      <td>51</td>\n",
              "      <td>29</td>\n",
              "    </tr>\n",
              "    <tr>\n",
              "      <th>No, at none of my previous employers</th>\n",
              "      <td>119</td>\n",
              "      <td>194</td>\n",
              "    </tr>\n",
              "    <tr>\n",
              "      <th>Some of my previous employers</th>\n",
              "      <td>237</td>\n",
              "      <td>267</td>\n",
              "    </tr>\n",
              "    <tr>\n",
              "      <th>Yes, at all of my previous employers</th>\n",
              "      <td>51</td>\n",
              "      <td>24</td>\n",
              "    </tr>\n",
              "  </tbody>\n",
              "</table>\n",
              "</div>"
            ],
            "text/plain": [
              "current_mental_disorder                No  Yes\n",
              "willing_discuss_mh_supervisor                 \n",
              "I don't know                           51   29\n",
              "No, at none of my previous employers  119  194\n",
              "Some of my previous employers         237  267\n",
              "Yes, at all of my previous employers   51   24"
            ]
          },
          "metadata": {
            "tags": []
          },
          "execution_count": 31
        }
      ]
    },
    {
      "cell_type": "code",
      "metadata": {
        "id": "wVGcFcvYB9pX",
        "colab_type": "code",
        "outputId": "5deff11b-9daf-49b3-fe24-07eef479a571",
        "colab": {
          "base_uri": "https://localhost:8080/",
          "height": 197
        }
      },
      "source": [
        "crosstab = pd.crosstab(df['willing_discuss_mh_supervisor'], df['current_mental_disorder'])\n",
        "crosstab"
      ],
      "execution_count": 0,
      "outputs": [
        {
          "output_type": "execute_result",
          "data": {
            "text/html": [
              "<div>\n",
              "<style scoped>\n",
              "    .dataframe tbody tr th:only-of-type {\n",
              "        vertical-align: middle;\n",
              "    }\n",
              "\n",
              "    .dataframe tbody tr th {\n",
              "        vertical-align: top;\n",
              "    }\n",
              "\n",
              "    .dataframe thead th {\n",
              "        text-align: right;\n",
              "    }\n",
              "</style>\n",
              "<table border=\"1\" class=\"dataframe\">\n",
              "  <thead>\n",
              "    <tr style=\"text-align: right;\">\n",
              "      <th>current_mental_disorder</th>\n",
              "      <th>No</th>\n",
              "      <th>Yes</th>\n",
              "    </tr>\n",
              "    <tr>\n",
              "      <th>willing_discuss_mh_supervisor</th>\n",
              "      <th></th>\n",
              "      <th></th>\n",
              "    </tr>\n",
              "  </thead>\n",
              "  <tbody>\n",
              "    <tr>\n",
              "      <th>I don't know</th>\n",
              "      <td>51</td>\n",
              "      <td>29</td>\n",
              "    </tr>\n",
              "    <tr>\n",
              "      <th>No, at none of my previous employers</th>\n",
              "      <td>119</td>\n",
              "      <td>194</td>\n",
              "    </tr>\n",
              "    <tr>\n",
              "      <th>Some of my previous employers</th>\n",
              "      <td>237</td>\n",
              "      <td>267</td>\n",
              "    </tr>\n",
              "    <tr>\n",
              "      <th>Yes, at all of my previous employers</th>\n",
              "      <td>51</td>\n",
              "      <td>24</td>\n",
              "    </tr>\n",
              "  </tbody>\n",
              "</table>\n",
              "</div>"
            ],
            "text/plain": [
              "current_mental_disorder                No  Yes\n",
              "willing_discuss_mh_supervisor                 \n",
              "I don't know                           51   29\n",
              "No, at none of my previous employers  119  194\n",
              "Some of my previous employers         237  267\n",
              "Yes, at all of my previous employers   51   24"
            ]
          },
          "metadata": {
            "tags": []
          },
          "execution_count": 32
        }
      ]
    },
    {
      "cell_type": "code",
      "metadata": {
        "id": "24ItelnoB9nb",
        "colab_type": "code",
        "outputId": "60754574-5943-479c-f353-ac4b3129f6a1",
        "colab": {
          "base_uri": "https://localhost:8080/",
          "height": 141
        }
      },
      "source": [
        "stats.chi2_contingency(crosstab)"
      ],
      "execution_count": 0,
      "outputs": [
        {
          "output_type": "execute_result",
          "data": {
            "text/plain": [
              "(32.408194625396376,\n",
              " 4.292859793048239e-07,\n",
              " 3,\n",
              " array([[ 37.69547325,  42.30452675],\n",
              "        [147.48353909, 165.51646091],\n",
              "        [237.48148148, 266.51851852],\n",
              "        [ 35.33950617,  39.66049383]]))"
            ]
          },
          "metadata": {
            "tags": []
          },
          "execution_count": 33
        }
      ]
    },
    {
      "cell_type": "code",
      "metadata": {
        "id": "feTTlOWkB9lQ",
        "colab_type": "code",
        "outputId": "567e6415-2a35-45cb-f68e-dc47c9cef710",
        "colab": {
          "base_uri": "https://localhost:8080/",
          "height": 257
        }
      },
      "source": [
        "table, results = rp.crosstab(df['willing_discuss_mh_supervisor'], df['current_mental_disorder'], prop= 'col', test= 'chi-square')\n",
        "table"
      ],
      "execution_count": 0,
      "outputs": [
        {
          "output_type": "execute_result",
          "data": {
            "text/html": [
              "<div>\n",
              "<style scoped>\n",
              "    .dataframe tbody tr th:only-of-type {\n",
              "        vertical-align: middle;\n",
              "    }\n",
              "\n",
              "    .dataframe tbody tr th {\n",
              "        vertical-align: top;\n",
              "    }\n",
              "\n",
              "    .dataframe thead tr th {\n",
              "        text-align: left;\n",
              "    }\n",
              "\n",
              "    .dataframe thead tr:last-of-type th {\n",
              "        text-align: right;\n",
              "    }\n",
              "</style>\n",
              "<table border=\"1\" class=\"dataframe\">\n",
              "  <thead>\n",
              "    <tr>\n",
              "      <th></th>\n",
              "      <th colspan=\"3\" halign=\"left\">current_mental_disorder</th>\n",
              "    </tr>\n",
              "    <tr>\n",
              "      <th></th>\n",
              "      <th>No</th>\n",
              "      <th>Yes</th>\n",
              "      <th>All</th>\n",
              "    </tr>\n",
              "    <tr>\n",
              "      <th>willing_discuss_mh_supervisor</th>\n",
              "      <th></th>\n",
              "      <th></th>\n",
              "      <th></th>\n",
              "    </tr>\n",
              "  </thead>\n",
              "  <tbody>\n",
              "    <tr>\n",
              "      <th>I don't know</th>\n",
              "      <td>11.14</td>\n",
              "      <td>5.64</td>\n",
              "      <td>8.23</td>\n",
              "    </tr>\n",
              "    <tr>\n",
              "      <th>No, at none of my previous employers</th>\n",
              "      <td>25.98</td>\n",
              "      <td>37.74</td>\n",
              "      <td>32.20</td>\n",
              "    </tr>\n",
              "    <tr>\n",
              "      <th>Some of my previous employers</th>\n",
              "      <td>51.75</td>\n",
              "      <td>51.95</td>\n",
              "      <td>51.85</td>\n",
              "    </tr>\n",
              "    <tr>\n",
              "      <th>Yes, at all of my previous employers</th>\n",
              "      <td>11.14</td>\n",
              "      <td>4.67</td>\n",
              "      <td>7.72</td>\n",
              "    </tr>\n",
              "    <tr>\n",
              "      <th>All</th>\n",
              "      <td>100.00</td>\n",
              "      <td>100.00</td>\n",
              "      <td>100.00</td>\n",
              "    </tr>\n",
              "  </tbody>\n",
              "</table>\n",
              "</div>"
            ],
            "text/plain": [
              "                                     current_mental_disorder                \n",
              "                                                          No     Yes     All\n",
              "willing_discuss_mh_supervisor                                               \n",
              "I don't know                                           11.14    5.64    8.23\n",
              "No, at none of my previous employers                   25.98   37.74   32.20\n",
              "Some of my previous employers                          51.75   51.95   51.85\n",
              "Yes, at all of my previous employers                   11.14    4.67    7.72\n",
              "All                                                   100.00  100.00  100.00"
            ]
          },
          "metadata": {
            "tags": []
          },
          "execution_count": 34
        }
      ]
    },
    {
      "cell_type": "code",
      "metadata": {
        "id": "ZdSbga-KCHL2",
        "colab_type": "code",
        "outputId": "f0b1bbec-c4f5-4a18-8f29-e13e03149893",
        "colab": {
          "base_uri": "https://localhost:8080/",
          "height": 137
        }
      },
      "source": [
        "results"
      ],
      "execution_count": 0,
      "outputs": [
        {
          "output_type": "execute_result",
          "data": {
            "text/html": [
              "<div>\n",
              "<style scoped>\n",
              "    .dataframe tbody tr th:only-of-type {\n",
              "        vertical-align: middle;\n",
              "    }\n",
              "\n",
              "    .dataframe tbody tr th {\n",
              "        vertical-align: top;\n",
              "    }\n",
              "\n",
              "    .dataframe thead th {\n",
              "        text-align: right;\n",
              "    }\n",
              "</style>\n",
              "<table border=\"1\" class=\"dataframe\">\n",
              "  <thead>\n",
              "    <tr style=\"text-align: right;\">\n",
              "      <th></th>\n",
              "      <th>Chi-square test</th>\n",
              "      <th>results</th>\n",
              "    </tr>\n",
              "  </thead>\n",
              "  <tbody>\n",
              "    <tr>\n",
              "      <th>0</th>\n",
              "      <td>Pearson Chi-square ( 3.0) =</td>\n",
              "      <td>32.4082</td>\n",
              "    </tr>\n",
              "    <tr>\n",
              "      <th>1</th>\n",
              "      <td>p-value =</td>\n",
              "      <td>0.0000</td>\n",
              "    </tr>\n",
              "    <tr>\n",
              "      <th>2</th>\n",
              "      <td>Cramer's V =</td>\n",
              "      <td>0.1826</td>\n",
              "    </tr>\n",
              "  </tbody>\n",
              "</table>\n",
              "</div>"
            ],
            "text/plain": [
              "                Chi-square test  results\n",
              "0  Pearson Chi-square ( 3.0) =   32.4082\n",
              "1                    p-value =    0.0000\n",
              "2                 Cramer's V =    0.1826"
            ]
          },
          "metadata": {
            "tags": []
          },
          "execution_count": 35
        }
      ]
    },
    {
      "cell_type": "markdown",
      "metadata": {
        "id": "MLcGd7zSJAy3",
        "colab_type": "text"
      },
      "source": [
        "#5.Linear Regression (Play with Student Alcohol Consumption Corpus)\n"
      ]
    },
    {
      "cell_type": "markdown",
      "metadata": {
        "id": "EGZJQDQBDZXn",
        "colab_type": "text"
      },
      "source": [
        "Reference of Data Set: https://www.kaggle.com/uciml/student-alcohol-consumption\n",
        "\n",
        " ![](https://scontent-yyz1-1.cdninstagram.com/v/t51.2885-15/sh0.08/e35/c180.0.1079.1079a/s640x640/70199188_954316201572050_3255215538695518813_n.jpg?_nc_ht=scontent-yyz1-1.cdninstagram.com&_nc_cat=102&_nc_ohc=L2qCNIf88XQAX_ULy7_&oh=dc15ac7019db6a0f10b050e09cb163c7&oe=5ECB96C9)"
      ]
    },
    {
      "cell_type": "code",
      "metadata": {
        "id": "WuecEMOyJB3S",
        "colab_type": "code",
        "outputId": "922a6fdf-5b01-43f7-978d-cede1b74cc98",
        "colab": {
          "base_uri": "https://localhost:8080/",
          "height": 217
        }
      },
      "source": [
        "# Importing and combining datasets\n",
        "df1 = pd.read_csv(\"https://github.com/kaopanboonyuen/Python-Data-Science/raw/master/Dataset/student-alcohol-consumption/student-mat.csv\")\n",
        "df2 = pd.read_csv(\"https://github.com/kaopanboonyuen/Python-Data-Science/raw/master/Dataset/student-alcohol-consumption/student-por.csv\")\n",
        "df3 = pd.concat([df1,df2])\n",
        "df3.head()"
      ],
      "execution_count": 0,
      "outputs": [
        {
          "output_type": "execute_result",
          "data": {
            "text/html": [
              "<div>\n",
              "<style scoped>\n",
              "    .dataframe tbody tr th:only-of-type {\n",
              "        vertical-align: middle;\n",
              "    }\n",
              "\n",
              "    .dataframe tbody tr th {\n",
              "        vertical-align: top;\n",
              "    }\n",
              "\n",
              "    .dataframe thead th {\n",
              "        text-align: right;\n",
              "    }\n",
              "</style>\n",
              "<table border=\"1\" class=\"dataframe\">\n",
              "  <thead>\n",
              "    <tr style=\"text-align: right;\">\n",
              "      <th></th>\n",
              "      <th>school</th>\n",
              "      <th>sex</th>\n",
              "      <th>age</th>\n",
              "      <th>address</th>\n",
              "      <th>famsize</th>\n",
              "      <th>Pstatus</th>\n",
              "      <th>Medu</th>\n",
              "      <th>Fedu</th>\n",
              "      <th>Mjob</th>\n",
              "      <th>Fjob</th>\n",
              "      <th>reason</th>\n",
              "      <th>guardian</th>\n",
              "      <th>traveltime</th>\n",
              "      <th>studytime</th>\n",
              "      <th>failures</th>\n",
              "      <th>schoolsup</th>\n",
              "      <th>famsup</th>\n",
              "      <th>paid</th>\n",
              "      <th>activities</th>\n",
              "      <th>nursery</th>\n",
              "      <th>higher</th>\n",
              "      <th>internet</th>\n",
              "      <th>romantic</th>\n",
              "      <th>famrel</th>\n",
              "      <th>freetime</th>\n",
              "      <th>goout</th>\n",
              "      <th>Dalc</th>\n",
              "      <th>Walc</th>\n",
              "      <th>health</th>\n",
              "      <th>absences</th>\n",
              "      <th>G1</th>\n",
              "      <th>G2</th>\n",
              "      <th>G3</th>\n",
              "    </tr>\n",
              "  </thead>\n",
              "  <tbody>\n",
              "    <tr>\n",
              "      <th>0</th>\n",
              "      <td>GP</td>\n",
              "      <td>F</td>\n",
              "      <td>18</td>\n",
              "      <td>U</td>\n",
              "      <td>GT3</td>\n",
              "      <td>A</td>\n",
              "      <td>4</td>\n",
              "      <td>4</td>\n",
              "      <td>at_home</td>\n",
              "      <td>teacher</td>\n",
              "      <td>course</td>\n",
              "      <td>mother</td>\n",
              "      <td>2</td>\n",
              "      <td>2</td>\n",
              "      <td>0</td>\n",
              "      <td>yes</td>\n",
              "      <td>no</td>\n",
              "      <td>no</td>\n",
              "      <td>no</td>\n",
              "      <td>yes</td>\n",
              "      <td>yes</td>\n",
              "      <td>no</td>\n",
              "      <td>no</td>\n",
              "      <td>4</td>\n",
              "      <td>3</td>\n",
              "      <td>4</td>\n",
              "      <td>1</td>\n",
              "      <td>1</td>\n",
              "      <td>3</td>\n",
              "      <td>6</td>\n",
              "      <td>5</td>\n",
              "      <td>6</td>\n",
              "      <td>6</td>\n",
              "    </tr>\n",
              "    <tr>\n",
              "      <th>1</th>\n",
              "      <td>GP</td>\n",
              "      <td>F</td>\n",
              "      <td>17</td>\n",
              "      <td>U</td>\n",
              "      <td>GT3</td>\n",
              "      <td>T</td>\n",
              "      <td>1</td>\n",
              "      <td>1</td>\n",
              "      <td>at_home</td>\n",
              "      <td>other</td>\n",
              "      <td>course</td>\n",
              "      <td>father</td>\n",
              "      <td>1</td>\n",
              "      <td>2</td>\n",
              "      <td>0</td>\n",
              "      <td>no</td>\n",
              "      <td>yes</td>\n",
              "      <td>no</td>\n",
              "      <td>no</td>\n",
              "      <td>no</td>\n",
              "      <td>yes</td>\n",
              "      <td>yes</td>\n",
              "      <td>no</td>\n",
              "      <td>5</td>\n",
              "      <td>3</td>\n",
              "      <td>3</td>\n",
              "      <td>1</td>\n",
              "      <td>1</td>\n",
              "      <td>3</td>\n",
              "      <td>4</td>\n",
              "      <td>5</td>\n",
              "      <td>5</td>\n",
              "      <td>6</td>\n",
              "    </tr>\n",
              "    <tr>\n",
              "      <th>2</th>\n",
              "      <td>GP</td>\n",
              "      <td>F</td>\n",
              "      <td>15</td>\n",
              "      <td>U</td>\n",
              "      <td>LE3</td>\n",
              "      <td>T</td>\n",
              "      <td>1</td>\n",
              "      <td>1</td>\n",
              "      <td>at_home</td>\n",
              "      <td>other</td>\n",
              "      <td>other</td>\n",
              "      <td>mother</td>\n",
              "      <td>1</td>\n",
              "      <td>2</td>\n",
              "      <td>3</td>\n",
              "      <td>yes</td>\n",
              "      <td>no</td>\n",
              "      <td>yes</td>\n",
              "      <td>no</td>\n",
              "      <td>yes</td>\n",
              "      <td>yes</td>\n",
              "      <td>yes</td>\n",
              "      <td>no</td>\n",
              "      <td>4</td>\n",
              "      <td>3</td>\n",
              "      <td>2</td>\n",
              "      <td>2</td>\n",
              "      <td>3</td>\n",
              "      <td>3</td>\n",
              "      <td>10</td>\n",
              "      <td>7</td>\n",
              "      <td>8</td>\n",
              "      <td>10</td>\n",
              "    </tr>\n",
              "    <tr>\n",
              "      <th>3</th>\n",
              "      <td>GP</td>\n",
              "      <td>F</td>\n",
              "      <td>15</td>\n",
              "      <td>U</td>\n",
              "      <td>GT3</td>\n",
              "      <td>T</td>\n",
              "      <td>4</td>\n",
              "      <td>2</td>\n",
              "      <td>health</td>\n",
              "      <td>services</td>\n",
              "      <td>home</td>\n",
              "      <td>mother</td>\n",
              "      <td>1</td>\n",
              "      <td>3</td>\n",
              "      <td>0</td>\n",
              "      <td>no</td>\n",
              "      <td>yes</td>\n",
              "      <td>yes</td>\n",
              "      <td>yes</td>\n",
              "      <td>yes</td>\n",
              "      <td>yes</td>\n",
              "      <td>yes</td>\n",
              "      <td>yes</td>\n",
              "      <td>3</td>\n",
              "      <td>2</td>\n",
              "      <td>2</td>\n",
              "      <td>1</td>\n",
              "      <td>1</td>\n",
              "      <td>5</td>\n",
              "      <td>2</td>\n",
              "      <td>15</td>\n",
              "      <td>14</td>\n",
              "      <td>15</td>\n",
              "    </tr>\n",
              "    <tr>\n",
              "      <th>4</th>\n",
              "      <td>GP</td>\n",
              "      <td>F</td>\n",
              "      <td>16</td>\n",
              "      <td>U</td>\n",
              "      <td>GT3</td>\n",
              "      <td>T</td>\n",
              "      <td>3</td>\n",
              "      <td>3</td>\n",
              "      <td>other</td>\n",
              "      <td>other</td>\n",
              "      <td>home</td>\n",
              "      <td>father</td>\n",
              "      <td>1</td>\n",
              "      <td>2</td>\n",
              "      <td>0</td>\n",
              "      <td>no</td>\n",
              "      <td>yes</td>\n",
              "      <td>yes</td>\n",
              "      <td>no</td>\n",
              "      <td>yes</td>\n",
              "      <td>yes</td>\n",
              "      <td>no</td>\n",
              "      <td>no</td>\n",
              "      <td>4</td>\n",
              "      <td>3</td>\n",
              "      <td>2</td>\n",
              "      <td>1</td>\n",
              "      <td>2</td>\n",
              "      <td>5</td>\n",
              "      <td>4</td>\n",
              "      <td>6</td>\n",
              "      <td>10</td>\n",
              "      <td>10</td>\n",
              "    </tr>\n",
              "  </tbody>\n",
              "</table>\n",
              "</div>"
            ],
            "text/plain": [
              "  school sex  age address famsize Pstatus  ...  Walc  health absences  G1  G2  G3\n",
              "0     GP   F   18       U     GT3       A  ...     1       3        6   5   6   6\n",
              "1     GP   F   17       U     GT3       T  ...     1       3        4   5   5   6\n",
              "2     GP   F   15       U     LE3       T  ...     3       3       10   7   8  10\n",
              "3     GP   F   15       U     GT3       T  ...     1       5        2  15  14  15\n",
              "4     GP   F   16       U     GT3       T  ...     2       5        4   6  10  10\n",
              "\n",
              "[5 rows x 33 columns]"
            ]
          },
          "metadata": {
            "tags": []
          },
          "execution_count": 36
        }
      ]
    },
    {
      "cell_type": "code",
      "metadata": {
        "id": "9ndNw8vtEuFx",
        "colab_type": "code",
        "outputId": "8d5f981a-a51c-4172-d331-796ec59524c1",
        "colab": {
          "base_uri": "https://localhost:8080/",
          "height": 123
        }
      },
      "source": [
        "df3=df3.drop_duplicates([\"school\",\"sex\",\"age\",\"address\",\"famsize\",\"Pstatus\",\"Medu\",\"Fedu\",\"Mjob\",\"Fjob\",\"reason\",\"nursery\",\"internet\"])\n",
        "df3.columns"
      ],
      "execution_count": 0,
      "outputs": [
        {
          "output_type": "execute_result",
          "data": {
            "text/plain": [
              "Index(['school', 'sex', 'age', 'address', 'famsize', 'Pstatus', 'Medu', 'Fedu',\n",
              "       'Mjob', 'Fjob', 'reason', 'guardian', 'traveltime', 'studytime',\n",
              "       'failures', 'schoolsup', 'famsup', 'paid', 'activities', 'nursery',\n",
              "       'higher', 'internet', 'romantic', 'famrel', 'freetime', 'goout', 'Dalc',\n",
              "       'Walc', 'health', 'absences', 'G1', 'G2', 'G3'],\n",
              "      dtype='object')"
            ]
          },
          "metadata": {
            "tags": []
          },
          "execution_count": 37
        }
      ]
    },
    {
      "cell_type": "code",
      "metadata": {
        "id": "HZHKFP1BGOUJ",
        "colab_type": "code",
        "outputId": "48859265-b7e1-4ce6-d9ac-980421ac0476",
        "colab": {
          "base_uri": "https://localhost:8080/",
          "height": 763
        }
      },
      "source": [
        "df3.info()\n",
        "#Drop the columns which is not essentials for grade prediction\n",
        "df3 = df3.drop(['famsize', 'Pstatus', 'Fjob', 'Mjob'],axis=1)\n",
        "df3 = df3.drop(['reason','traveltime', 'studytime', 'failures'],axis=1)\n",
        "df3 = df3.drop(['schoolsup','famsup', 'paid', 'nursery', 'internet', 'freetime'],axis=1)\n",
        "df3 = df3.drop(['higher', 'health'],axis=1)\n",
        "df3.columns"
      ],
      "execution_count": 0,
      "outputs": [
        {
          "output_type": "stream",
          "text": [
            "<class 'pandas.core.frame.DataFrame'>\n",
            "Int64Index: 662 entries, 0 to 642\n",
            "Data columns (total 33 columns):\n",
            "school        662 non-null object\n",
            "sex           662 non-null object\n",
            "age           662 non-null int64\n",
            "address       662 non-null object\n",
            "famsize       662 non-null object\n",
            "Pstatus       662 non-null object\n",
            "Medu          662 non-null int64\n",
            "Fedu          662 non-null int64\n",
            "Mjob          662 non-null object\n",
            "Fjob          662 non-null object\n",
            "reason        662 non-null object\n",
            "guardian      662 non-null object\n",
            "traveltime    662 non-null int64\n",
            "studytime     662 non-null int64\n",
            "failures      662 non-null int64\n",
            "schoolsup     662 non-null object\n",
            "famsup        662 non-null object\n",
            "paid          662 non-null object\n",
            "activities    662 non-null object\n",
            "nursery       662 non-null object\n",
            "higher        662 non-null object\n",
            "internet      662 non-null object\n",
            "romantic      662 non-null object\n",
            "famrel        662 non-null int64\n",
            "freetime      662 non-null int64\n",
            "goout         662 non-null int64\n",
            "Dalc          662 non-null int64\n",
            "Walc          662 non-null int64\n",
            "health        662 non-null int64\n",
            "absences      662 non-null int64\n",
            "G1            662 non-null int64\n",
            "G2            662 non-null int64\n",
            "G3            662 non-null int64\n",
            "dtypes: int64(16), object(17)\n",
            "memory usage: 175.8+ KB\n"
          ],
          "name": "stdout"
        },
        {
          "output_type": "execute_result",
          "data": {
            "text/plain": [
              "Index(['school', 'sex', 'age', 'address', 'Medu', 'Fedu', 'guardian',\n",
              "       'activities', 'romantic', 'famrel', 'goout', 'Dalc', 'Walc', 'absences',\n",
              "       'G1', 'G2', 'G3'],\n",
              "      dtype='object')"
            ]
          },
          "metadata": {
            "tags": []
          },
          "execution_count": 38
        }
      ]
    },
    {
      "cell_type": "code",
      "metadata": {
        "id": "rLpeKKj1EuOf",
        "colab_type": "code",
        "outputId": "2b4a5ed0-c1a8-4869-caa3-af2e779e7d69",
        "colab": {
          "base_uri": "https://localhost:8080/",
          "height": 287
        }
      },
      "source": [
        "df3.describe()"
      ],
      "execution_count": 0,
      "outputs": [
        {
          "output_type": "execute_result",
          "data": {
            "text/html": [
              "<div>\n",
              "<style scoped>\n",
              "    .dataframe tbody tr th:only-of-type {\n",
              "        vertical-align: middle;\n",
              "    }\n",
              "\n",
              "    .dataframe tbody tr th {\n",
              "        vertical-align: top;\n",
              "    }\n",
              "\n",
              "    .dataframe thead th {\n",
              "        text-align: right;\n",
              "    }\n",
              "</style>\n",
              "<table border=\"1\" class=\"dataframe\">\n",
              "  <thead>\n",
              "    <tr style=\"text-align: right;\">\n",
              "      <th></th>\n",
              "      <th>age</th>\n",
              "      <th>Medu</th>\n",
              "      <th>Fedu</th>\n",
              "      <th>famrel</th>\n",
              "      <th>goout</th>\n",
              "      <th>Dalc</th>\n",
              "      <th>Walc</th>\n",
              "      <th>absences</th>\n",
              "      <th>G1</th>\n",
              "      <th>G2</th>\n",
              "      <th>G3</th>\n",
              "    </tr>\n",
              "  </thead>\n",
              "  <tbody>\n",
              "    <tr>\n",
              "      <th>count</th>\n",
              "      <td>662.000000</td>\n",
              "      <td>662.000000</td>\n",
              "      <td>662.000000</td>\n",
              "      <td>662.000000</td>\n",
              "      <td>662.000000</td>\n",
              "      <td>662.000000</td>\n",
              "      <td>662.000000</td>\n",
              "      <td>662.000000</td>\n",
              "      <td>662.000000</td>\n",
              "      <td>662.000000</td>\n",
              "      <td>662.000000</td>\n",
              "    </tr>\n",
              "    <tr>\n",
              "      <th>mean</th>\n",
              "      <td>16.812689</td>\n",
              "      <td>2.492447</td>\n",
              "      <td>2.293051</td>\n",
              "      <td>3.938066</td>\n",
              "      <td>3.172205</td>\n",
              "      <td>1.504532</td>\n",
              "      <td>2.282477</td>\n",
              "      <td>4.930514</td>\n",
              "      <td>10.728097</td>\n",
              "      <td>10.708459</td>\n",
              "      <td>10.725076</td>\n",
              "    </tr>\n",
              "    <tr>\n",
              "      <th>std</th>\n",
              "      <td>1.269194</td>\n",
              "      <td>1.130958</td>\n",
              "      <td>1.094027</td>\n",
              "      <td>0.941930</td>\n",
              "      <td>1.161907</td>\n",
              "      <td>0.926567</td>\n",
              "      <td>1.290121</td>\n",
              "      <td>6.858060</td>\n",
              "      <td>3.082098</td>\n",
              "      <td>3.529588</td>\n",
              "      <td>4.106738</td>\n",
              "    </tr>\n",
              "    <tr>\n",
              "      <th>min</th>\n",
              "      <td>15.000000</td>\n",
              "      <td>0.000000</td>\n",
              "      <td>0.000000</td>\n",
              "      <td>1.000000</td>\n",
              "      <td>1.000000</td>\n",
              "      <td>1.000000</td>\n",
              "      <td>1.000000</td>\n",
              "      <td>0.000000</td>\n",
              "      <td>3.000000</td>\n",
              "      <td>0.000000</td>\n",
              "      <td>0.000000</td>\n",
              "    </tr>\n",
              "    <tr>\n",
              "      <th>25%</th>\n",
              "      <td>16.000000</td>\n",
              "      <td>2.000000</td>\n",
              "      <td>1.000000</td>\n",
              "      <td>4.000000</td>\n",
              "      <td>2.000000</td>\n",
              "      <td>1.000000</td>\n",
              "      <td>1.000000</td>\n",
              "      <td>0.000000</td>\n",
              "      <td>8.000000</td>\n",
              "      <td>9.000000</td>\n",
              "      <td>9.000000</td>\n",
              "    </tr>\n",
              "    <tr>\n",
              "      <th>50%</th>\n",
              "      <td>17.000000</td>\n",
              "      <td>2.000000</td>\n",
              "      <td>2.000000</td>\n",
              "      <td>4.000000</td>\n",
              "      <td>3.000000</td>\n",
              "      <td>1.000000</td>\n",
              "      <td>2.000000</td>\n",
              "      <td>3.000000</td>\n",
              "      <td>10.000000</td>\n",
              "      <td>11.000000</td>\n",
              "      <td>11.000000</td>\n",
              "    </tr>\n",
              "    <tr>\n",
              "      <th>75%</th>\n",
              "      <td>18.000000</td>\n",
              "      <td>4.000000</td>\n",
              "      <td>3.000000</td>\n",
              "      <td>5.000000</td>\n",
              "      <td>4.000000</td>\n",
              "      <td>2.000000</td>\n",
              "      <td>3.000000</td>\n",
              "      <td>8.000000</td>\n",
              "      <td>13.000000</td>\n",
              "      <td>13.000000</td>\n",
              "      <td>13.000000</td>\n",
              "    </tr>\n",
              "    <tr>\n",
              "      <th>max</th>\n",
              "      <td>22.000000</td>\n",
              "      <td>4.000000</td>\n",
              "      <td>4.000000</td>\n",
              "      <td>5.000000</td>\n",
              "      <td>5.000000</td>\n",
              "      <td>5.000000</td>\n",
              "      <td>5.000000</td>\n",
              "      <td>75.000000</td>\n",
              "      <td>19.000000</td>\n",
              "      <td>19.000000</td>\n",
              "      <td>20.000000</td>\n",
              "    </tr>\n",
              "  </tbody>\n",
              "</table>\n",
              "</div>"
            ],
            "text/plain": [
              "              age        Medu        Fedu  ...          G1          G2          G3\n",
              "count  662.000000  662.000000  662.000000  ...  662.000000  662.000000  662.000000\n",
              "mean    16.812689    2.492447    2.293051  ...   10.728097   10.708459   10.725076\n",
              "std      1.269194    1.130958    1.094027  ...    3.082098    3.529588    4.106738\n",
              "min     15.000000    0.000000    0.000000  ...    3.000000    0.000000    0.000000\n",
              "25%     16.000000    2.000000    1.000000  ...    8.000000    9.000000    9.000000\n",
              "50%     17.000000    2.000000    2.000000  ...   10.000000   11.000000   11.000000\n",
              "75%     18.000000    4.000000    3.000000  ...   13.000000   13.000000   13.000000\n",
              "max     22.000000    4.000000    4.000000  ...   19.000000   19.000000   20.000000\n",
              "\n",
              "[8 rows x 11 columns]"
            ]
          },
          "metadata": {
            "tags": []
          },
          "execution_count": 39
        }
      ]
    },
    {
      "cell_type": "code",
      "metadata": {
        "id": "fjgnCBPpEuWy",
        "colab_type": "code",
        "outputId": "2b5bf0f2-04f6-46d7-b485-277d09421c3b",
        "colab": {
          "base_uri": "https://localhost:8080/",
          "height": 377
        }
      },
      "source": [
        "df3.corr()"
      ],
      "execution_count": 0,
      "outputs": [
        {
          "output_type": "execute_result",
          "data": {
            "text/html": [
              "<div>\n",
              "<style scoped>\n",
              "    .dataframe tbody tr th:only-of-type {\n",
              "        vertical-align: middle;\n",
              "    }\n",
              "\n",
              "    .dataframe tbody tr th {\n",
              "        vertical-align: top;\n",
              "    }\n",
              "\n",
              "    .dataframe thead th {\n",
              "        text-align: right;\n",
              "    }\n",
              "</style>\n",
              "<table border=\"1\" class=\"dataframe\">\n",
              "  <thead>\n",
              "    <tr style=\"text-align: right;\">\n",
              "      <th></th>\n",
              "      <th>age</th>\n",
              "      <th>Medu</th>\n",
              "      <th>Fedu</th>\n",
              "      <th>famrel</th>\n",
              "      <th>goout</th>\n",
              "      <th>Dalc</th>\n",
              "      <th>Walc</th>\n",
              "      <th>absences</th>\n",
              "      <th>G1</th>\n",
              "      <th>G2</th>\n",
              "      <th>G3</th>\n",
              "    </tr>\n",
              "  </thead>\n",
              "  <tbody>\n",
              "    <tr>\n",
              "      <th>age</th>\n",
              "      <td>1.000000</td>\n",
              "      <td>-0.119031</td>\n",
              "      <td>-0.133645</td>\n",
              "      <td>-0.008453</td>\n",
              "      <td>0.094744</td>\n",
              "      <td>0.130655</td>\n",
              "      <td>0.069320</td>\n",
              "      <td>0.168313</td>\n",
              "      <td>-0.113206</td>\n",
              "      <td>-0.130408</td>\n",
              "      <td>-0.127446</td>\n",
              "    </tr>\n",
              "    <tr>\n",
              "      <th>Medu</th>\n",
              "      <td>-0.119031</td>\n",
              "      <td>1.000000</td>\n",
              "      <td>0.635156</td>\n",
              "      <td>0.010211</td>\n",
              "      <td>0.022866</td>\n",
              "      <td>-0.018013</td>\n",
              "      <td>-0.036381</td>\n",
              "      <td>0.095703</td>\n",
              "      <td>0.208172</td>\n",
              "      <td>0.202776</td>\n",
              "      <td>0.182611</td>\n",
              "    </tr>\n",
              "    <tr>\n",
              "      <th>Fedu</th>\n",
              "      <td>-0.133645</td>\n",
              "      <td>0.635156</td>\n",
              "      <td>1.000000</td>\n",
              "      <td>0.016171</td>\n",
              "      <td>0.053071</td>\n",
              "      <td>-0.008774</td>\n",
              "      <td>0.032370</td>\n",
              "      <td>0.068048</td>\n",
              "      <td>0.185636</td>\n",
              "      <td>0.156541</td>\n",
              "      <td>0.137159</td>\n",
              "    </tr>\n",
              "    <tr>\n",
              "      <th>famrel</th>\n",
              "      <td>-0.008453</td>\n",
              "      <td>0.010211</td>\n",
              "      <td>0.016171</td>\n",
              "      <td>1.000000</td>\n",
              "      <td>0.091317</td>\n",
              "      <td>-0.069881</td>\n",
              "      <td>-0.092647</td>\n",
              "      <td>-0.067647</td>\n",
              "      <td>0.060893</td>\n",
              "      <td>0.052807</td>\n",
              "      <td>0.061296</td>\n",
              "    </tr>\n",
              "    <tr>\n",
              "      <th>goout</th>\n",
              "      <td>0.094744</td>\n",
              "      <td>0.022866</td>\n",
              "      <td>0.053071</td>\n",
              "      <td>0.091317</td>\n",
              "      <td>1.000000</td>\n",
              "      <td>0.252217</td>\n",
              "      <td>0.404503</td>\n",
              "      <td>0.025046</td>\n",
              "      <td>-0.093786</td>\n",
              "      <td>-0.091030</td>\n",
              "      <td>-0.081691</td>\n",
              "    </tr>\n",
              "    <tr>\n",
              "      <th>Dalc</th>\n",
              "      <td>0.130655</td>\n",
              "      <td>-0.018013</td>\n",
              "      <td>-0.008774</td>\n",
              "      <td>-0.069881</td>\n",
              "      <td>0.252217</td>\n",
              "      <td>1.000000</td>\n",
              "      <td>0.618431</td>\n",
              "      <td>0.125517</td>\n",
              "      <td>-0.112935</td>\n",
              "      <td>-0.084944</td>\n",
              "      <td>-0.075212</td>\n",
              "    </tr>\n",
              "    <tr>\n",
              "      <th>Walc</th>\n",
              "      <td>0.069320</td>\n",
              "      <td>-0.036381</td>\n",
              "      <td>0.032370</td>\n",
              "      <td>-0.092647</td>\n",
              "      <td>0.404503</td>\n",
              "      <td>0.618431</td>\n",
              "      <td>1.000000</td>\n",
              "      <td>0.131147</td>\n",
              "      <td>-0.131321</td>\n",
              "      <td>-0.102820</td>\n",
              "      <td>-0.084689</td>\n",
              "    </tr>\n",
              "    <tr>\n",
              "      <th>absences</th>\n",
              "      <td>0.168313</td>\n",
              "      <td>0.095703</td>\n",
              "      <td>0.068048</td>\n",
              "      <td>-0.067647</td>\n",
              "      <td>0.025046</td>\n",
              "      <td>0.125517</td>\n",
              "      <td>0.131147</td>\n",
              "      <td>1.000000</td>\n",
              "      <td>-0.050925</td>\n",
              "      <td>-0.042650</td>\n",
              "      <td>-0.004601</td>\n",
              "    </tr>\n",
              "    <tr>\n",
              "      <th>G1</th>\n",
              "      <td>-0.113206</td>\n",
              "      <td>0.208172</td>\n",
              "      <td>0.185636</td>\n",
              "      <td>0.060893</td>\n",
              "      <td>-0.093786</td>\n",
              "      <td>-0.112935</td>\n",
              "      <td>-0.131321</td>\n",
              "      <td>-0.050925</td>\n",
              "      <td>1.000000</td>\n",
              "      <td>0.841436</td>\n",
              "      <td>0.796569</td>\n",
              "    </tr>\n",
              "    <tr>\n",
              "      <th>G2</th>\n",
              "      <td>-0.130408</td>\n",
              "      <td>0.202776</td>\n",
              "      <td>0.156541</td>\n",
              "      <td>0.052807</td>\n",
              "      <td>-0.091030</td>\n",
              "      <td>-0.084944</td>\n",
              "      <td>-0.102820</td>\n",
              "      <td>-0.042650</td>\n",
              "      <td>0.841436</td>\n",
              "      <td>1.000000</td>\n",
              "      <td>0.913548</td>\n",
              "    </tr>\n",
              "    <tr>\n",
              "      <th>G3</th>\n",
              "      <td>-0.127446</td>\n",
              "      <td>0.182611</td>\n",
              "      <td>0.137159</td>\n",
              "      <td>0.061296</td>\n",
              "      <td>-0.081691</td>\n",
              "      <td>-0.075212</td>\n",
              "      <td>-0.084689</td>\n",
              "      <td>-0.004601</td>\n",
              "      <td>0.796569</td>\n",
              "      <td>0.913548</td>\n",
              "      <td>1.000000</td>\n",
              "    </tr>\n",
              "  </tbody>\n",
              "</table>\n",
              "</div>"
            ],
            "text/plain": [
              "               age      Medu      Fedu  ...        G1        G2        G3\n",
              "age       1.000000 -0.119031 -0.133645  ... -0.113206 -0.130408 -0.127446\n",
              "Medu     -0.119031  1.000000  0.635156  ...  0.208172  0.202776  0.182611\n",
              "Fedu     -0.133645  0.635156  1.000000  ...  0.185636  0.156541  0.137159\n",
              "famrel   -0.008453  0.010211  0.016171  ...  0.060893  0.052807  0.061296\n",
              "goout     0.094744  0.022866  0.053071  ... -0.093786 -0.091030 -0.081691\n",
              "Dalc      0.130655 -0.018013 -0.008774  ... -0.112935 -0.084944 -0.075212\n",
              "Walc      0.069320 -0.036381  0.032370  ... -0.131321 -0.102820 -0.084689\n",
              "absences  0.168313  0.095703  0.068048  ... -0.050925 -0.042650 -0.004601\n",
              "G1       -0.113206  0.208172  0.185636  ...  1.000000  0.841436  0.796569\n",
              "G2       -0.130408  0.202776  0.156541  ...  0.841436  1.000000  0.913548\n",
              "G3       -0.127446  0.182611  0.137159  ...  0.796569  0.913548  1.000000\n",
              "\n",
              "[11 rows x 11 columns]"
            ]
          },
          "metadata": {
            "tags": []
          },
          "execution_count": 40
        }
      ]
    },
    {
      "cell_type": "code",
      "metadata": {
        "id": "2ZoMo8biEztV",
        "colab_type": "code",
        "outputId": "d31e27e6-b4fc-499d-db23-9bf87c2b295d",
        "colab": {
          "base_uri": "https://localhost:8080/",
          "height": 425
        }
      },
      "source": [
        "#Getting dummies\n",
        "df3 = pd.get_dummies(df3, drop_first=True)\n",
        "df3.info()"
      ],
      "execution_count": 0,
      "outputs": [
        {
          "output_type": "stream",
          "text": [
            "<class 'pandas.core.frame.DataFrame'>\n",
            "Int64Index: 662 entries, 0 to 642\n",
            "Data columns (total 18 columns):\n",
            "age                662 non-null int64\n",
            "Medu               662 non-null int64\n",
            "Fedu               662 non-null int64\n",
            "famrel             662 non-null int64\n",
            "goout              662 non-null int64\n",
            "Dalc               662 non-null int64\n",
            "Walc               662 non-null int64\n",
            "absences           662 non-null int64\n",
            "G1                 662 non-null int64\n",
            "G2                 662 non-null int64\n",
            "G3                 662 non-null int64\n",
            "school_MS          662 non-null uint8\n",
            "sex_M              662 non-null uint8\n",
            "address_U          662 non-null uint8\n",
            "guardian_mother    662 non-null uint8\n",
            "guardian_other     662 non-null uint8\n",
            "activities_yes     662 non-null uint8\n",
            "romantic_yes       662 non-null uint8\n",
            "dtypes: int64(11), uint8(7)\n",
            "memory usage: 66.6 KB\n"
          ],
          "name": "stdout"
        }
      ]
    },
    {
      "cell_type": "code",
      "metadata": {
        "id": "oIe-hwumEzqd",
        "colab_type": "code",
        "colab": {}
      },
      "source": [
        "# define target variable and training and test sets\n",
        "X = df3.drop(\"G3\",axis=1)\n",
        "Y = df3[\"G3\"]\n",
        "# Splitting the dataset into the Training set and Test set\n",
        "from sklearn.model_selection import train_test_split\n",
        "X_train, X_test, y_train, y_test = train_test_split(X, Y, test_size = 0.2, random_state = 2020)"
      ],
      "execution_count": 0,
      "outputs": []
    },
    {
      "cell_type": "markdown",
      "metadata": {
        "id": "4E-k7oKNJCVH",
        "colab_type": "text"
      },
      "source": [
        "##5.1. Student Alcohol Consumption prediction \n"
      ]
    },
    {
      "cell_type": "code",
      "metadata": {
        "id": "LM3q1GeEJDip",
        "colab_type": "code",
        "outputId": "ff976bc6-598b-4f59-db81-fca74e7faeb8",
        "colab": {
          "base_uri": "https://localhost:8080/",
          "height": 34
        }
      },
      "source": [
        "# Fitting Multiple Linear Regression to the Training set\n",
        "from sklearn.linear_model import LinearRegression\n",
        "regressor = LinearRegression()\n",
        "regressor.fit(X_train, y_train)"
      ],
      "execution_count": 0,
      "outputs": [
        {
          "output_type": "execute_result",
          "data": {
            "text/plain": [
              "LinearRegression(copy_X=True, fit_intercept=True, n_jobs=None, normalize=False)"
            ]
          },
          "metadata": {
            "tags": []
          },
          "execution_count": 43
        }
      ]
    },
    {
      "cell_type": "markdown",
      "metadata": {
        "id": "wRR59BjRJEOQ",
        "colab_type": "text"
      },
      "source": [
        "##5.2.Forward, Backward, Stepwise\n"
      ]
    },
    {
      "cell_type": "code",
      "metadata": {
        "id": "HItGF-cIJFZQ",
        "colab_type": "code",
        "outputId": "9ea29421-45e6-49de-b771-efdbda05a0f1",
        "colab": {
          "base_uri": "https://localhost:8080/",
          "height": 547
        }
      },
      "source": [
        "# Predicting the Test set results\n",
        "y_pred = regressor.predict(X_test)\n",
        "\n",
        "# Building Optimal Model using Backward Elimination\n",
        "import statsmodels.api as sm\n",
        "X_opt = X\n",
        "regressor_OLS = sm.OLS(endog =Y, exog = X_opt).fit()\n",
        "regressor_OLS.summary()\n",
        "\n",
        "#Backward Eliminiation Process\n",
        "#Drop the variable which is not significant(p>0.05)\n",
        "X_opt = X.drop(['goout','activities_yes', 'address_U', 'school_MS', 'sex_M', 'guardian_mother'], axis=1)\n",
        "regressor_OLS = sm.OLS(endog =Y, exog = X_opt).fit()\n",
        "regressor_OLS.summary()"
      ],
      "execution_count": 0,
      "outputs": [
        {
          "output_type": "execute_result",
          "data": {
            "text/html": [
              "<table class=\"simpletable\">\n",
              "<caption>OLS Regression Results</caption>\n",
              "<tr>\n",
              "  <th>Dep. Variable:</th>           <td>G3</td>        <th>  R-squared (uncentered):</th>      <td>   0.980</td>\n",
              "</tr>\n",
              "<tr>\n",
              "  <th>Model:</th>                   <td>OLS</td>       <th>  Adj. R-squared (uncentered):</th> <td>   0.979</td>\n",
              "</tr>\n",
              "<tr>\n",
              "  <th>Method:</th>             <td>Least Squares</td>  <th>  F-statistic:       </th>          <td>   2835.</td>\n",
              "</tr>\n",
              "<tr>\n",
              "  <th>Date:</th>             <td>Tue, 11 Feb 2020</td> <th>  Prob (F-statistic):</th>           <td>  0.00</td> \n",
              "</tr>\n",
              "<tr>\n",
              "  <th>Time:</th>                 <td>01:51:58</td>     <th>  Log-Likelihood:    </th>          <td> -1267.6</td>\n",
              "</tr>\n",
              "<tr>\n",
              "  <th>No. Observations:</th>      <td>   662</td>      <th>  AIC:               </th>          <td>   2557.</td>\n",
              "</tr>\n",
              "<tr>\n",
              "  <th>Df Residuals:</th>          <td>   651</td>      <th>  BIC:               </th>          <td>   2607.</td>\n",
              "</tr>\n",
              "<tr>\n",
              "  <th>Df Model:</th>              <td>    11</td>      <th>                     </th>              <td> </td>   \n",
              "</tr>\n",
              "<tr>\n",
              "  <th>Covariance Type:</th>      <td>nonrobust</td>    <th>                     </th>              <td> </td>   \n",
              "</tr>\n",
              "</table>\n",
              "<table class=\"simpletable\">\n",
              "<tr>\n",
              "         <td></td>           <th>coef</th>     <th>std err</th>      <th>t</th>      <th>P>|t|</th>  <th>[0.025</th>    <th>0.975]</th>  \n",
              "</tr>\n",
              "<tr>\n",
              "  <th>age</th>            <td>   -0.0663</td> <td>    0.023</td> <td>   -2.903</td> <td> 0.004</td> <td>   -0.111</td> <td>   -0.021</td>\n",
              "</tr>\n",
              "<tr>\n",
              "  <th>Medu</th>           <td>   -0.0139</td> <td>    0.075</td> <td>   -0.186</td> <td> 0.853</td> <td>   -0.161</td> <td>    0.133</td>\n",
              "</tr>\n",
              "<tr>\n",
              "  <th>Fedu</th>           <td>   -0.0702</td> <td>    0.077</td> <td>   -0.914</td> <td> 0.361</td> <td>   -0.221</td> <td>    0.081</td>\n",
              "</tr>\n",
              "<tr>\n",
              "  <th>famrel</th>         <td>    0.0477</td> <td>    0.067</td> <td>    0.711</td> <td> 0.478</td> <td>   -0.084</td> <td>    0.179</td>\n",
              "</tr>\n",
              "<tr>\n",
              "  <th>Dalc</th>           <td>   -0.0033</td> <td>    0.090</td> <td>   -0.037</td> <td> 0.971</td> <td>   -0.180</td> <td>    0.173</td>\n",
              "</tr>\n",
              "<tr>\n",
              "  <th>Walc</th>           <td>    0.0278</td> <td>    0.065</td> <td>    0.428</td> <td> 0.668</td> <td>   -0.100</td> <td>    0.155</td>\n",
              "</tr>\n",
              "<tr>\n",
              "  <th>absences</th>       <td>    0.0266</td> <td>    0.010</td> <td>    2.721</td> <td> 0.007</td> <td>    0.007</td> <td>    0.046</td>\n",
              "</tr>\n",
              "<tr>\n",
              "  <th>G1</th>             <td>    0.1365</td> <td>    0.039</td> <td>    3.501</td> <td> 0.000</td> <td>    0.060</td> <td>    0.213</td>\n",
              "</tr>\n",
              "<tr>\n",
              "  <th>G2</th>             <td>    0.9602</td> <td>    0.034</td> <td>   28.195</td> <td> 0.000</td> <td>    0.893</td> <td>    1.027</td>\n",
              "</tr>\n",
              "<tr>\n",
              "  <th>guardian_other</th> <td>   -0.1371</td> <td>    0.245</td> <td>   -0.559</td> <td> 0.576</td> <td>   -0.618</td> <td>    0.344</td>\n",
              "</tr>\n",
              "<tr>\n",
              "  <th>romantic_yes</th>   <td>   -0.1964</td> <td>    0.138</td> <td>   -1.426</td> <td> 0.154</td> <td>   -0.467</td> <td>    0.074</td>\n",
              "</tr>\n",
              "</table>\n",
              "<table class=\"simpletable\">\n",
              "<tr>\n",
              "  <th>Omnibus:</th>       <td>423.930</td> <th>  Durbin-Watson:     </th> <td>   1.798</td>\n",
              "</tr>\n",
              "<tr>\n",
              "  <th>Prob(Omnibus):</th> <td> 0.000</td>  <th>  Jarque-Bera (JB):  </th> <td>4336.206</td>\n",
              "</tr>\n",
              "<tr>\n",
              "  <th>Skew:</th>          <td>-2.782</td>  <th>  Prob(JB):          </th> <td>    0.00</td>\n",
              "</tr>\n",
              "<tr>\n",
              "  <th>Kurtosis:</th>      <td>14.236</td>  <th>  Cond. No.          </th> <td>    92.3</td>\n",
              "</tr>\n",
              "</table><br/><br/>Warnings:<br/>[1] Standard Errors assume that the covariance matrix of the errors is correctly specified."
            ],
            "text/plain": [
              "<class 'statsmodels.iolib.summary.Summary'>\n",
              "\"\"\"\n",
              "                                 OLS Regression Results                                \n",
              "=======================================================================================\n",
              "Dep. Variable:                     G3   R-squared (uncentered):                   0.980\n",
              "Model:                            OLS   Adj. R-squared (uncentered):              0.979\n",
              "Method:                 Least Squares   F-statistic:                              2835.\n",
              "Date:                Tue, 11 Feb 2020   Prob (F-statistic):                        0.00\n",
              "Time:                        01:51:58   Log-Likelihood:                         -1267.6\n",
              "No. Observations:                 662   AIC:                                      2557.\n",
              "Df Residuals:                     651   BIC:                                      2607.\n",
              "Df Model:                          11                                                  \n",
              "Covariance Type:            nonrobust                                                  \n",
              "==================================================================================\n",
              "                     coef    std err          t      P>|t|      [0.025      0.975]\n",
              "----------------------------------------------------------------------------------\n",
              "age               -0.0663      0.023     -2.903      0.004      -0.111      -0.021\n",
              "Medu              -0.0139      0.075     -0.186      0.853      -0.161       0.133\n",
              "Fedu              -0.0702      0.077     -0.914      0.361      -0.221       0.081\n",
              "famrel             0.0477      0.067      0.711      0.478      -0.084       0.179\n",
              "Dalc              -0.0033      0.090     -0.037      0.971      -0.180       0.173\n",
              "Walc               0.0278      0.065      0.428      0.668      -0.100       0.155\n",
              "absences           0.0266      0.010      2.721      0.007       0.007       0.046\n",
              "G1                 0.1365      0.039      3.501      0.000       0.060       0.213\n",
              "G2                 0.9602      0.034     28.195      0.000       0.893       1.027\n",
              "guardian_other    -0.1371      0.245     -0.559      0.576      -0.618       0.344\n",
              "romantic_yes      -0.1964      0.138     -1.426      0.154      -0.467       0.074\n",
              "==============================================================================\n",
              "Omnibus:                      423.930   Durbin-Watson:                   1.798\n",
              "Prob(Omnibus):                  0.000   Jarque-Bera (JB):             4336.206\n",
              "Skew:                          -2.782   Prob(JB):                         0.00\n",
              "Kurtosis:                      14.236   Cond. No.                         92.3\n",
              "==============================================================================\n",
              "\n",
              "Warnings:\n",
              "[1] Standard Errors assume that the covariance matrix of the errors is correctly specified.\n",
              "\"\"\""
            ]
          },
          "metadata": {
            "tags": []
          },
          "execution_count": 44
        }
      ]
    },
    {
      "cell_type": "markdown",
      "metadata": {
        "id": "BJ7CS_CiJFy-",
        "colab_type": "text"
      },
      "source": [
        "#6.Logistic Regression (only numeric inputs)\n"
      ]
    },
    {
      "cell_type": "code",
      "metadata": {
        "id": "kbsP3k0UJGxT",
        "colab_type": "code",
        "colab": {}
      },
      "source": [
        "ds = pd.read_csv('https://github.com/kaopanboonyuen/Python-Data-Science/raw/master/Dataset/advertising.csv')"
      ],
      "execution_count": 0,
      "outputs": []
    },
    {
      "cell_type": "code",
      "metadata": {
        "id": "hBVQ89z3H-sX",
        "colab_type": "code",
        "outputId": "d9e33d2f-8522-4010-9153-f442f9f22bea",
        "colab": {
          "base_uri": "https://localhost:8080/",
          "height": 283
        }
      },
      "source": [
        "ds.info()"
      ],
      "execution_count": 0,
      "outputs": [
        {
          "output_type": "stream",
          "text": [
            "<class 'pandas.core.frame.DataFrame'>\n",
            "RangeIndex: 1000 entries, 0 to 999\n",
            "Data columns (total 10 columns):\n",
            "Daily Time Spent on Site    1000 non-null float64\n",
            "Age                         1000 non-null int64\n",
            "Area Income                 1000 non-null float64\n",
            "Daily Internet Usage        1000 non-null float64\n",
            "Ad Topic Line               1000 non-null object\n",
            "City                        1000 non-null object\n",
            "Male                        1000 non-null int64\n",
            "Country                     1000 non-null object\n",
            "Timestamp                   1000 non-null object\n",
            "Clicked on Ad               1000 non-null int64\n",
            "dtypes: float64(3), int64(3), object(4)\n",
            "memory usage: 78.2+ KB\n"
          ],
          "name": "stdout"
        }
      ]
    },
    {
      "cell_type": "code",
      "metadata": {
        "id": "ehIpjzKXH-qc",
        "colab_type": "code",
        "outputId": "316e9b79-efbc-48f2-a837-90e0657d7177",
        "colab": {
          "base_uri": "https://localhost:8080/",
          "height": 297
        }
      },
      "source": [
        "ds.head(5)"
      ],
      "execution_count": 0,
      "outputs": [
        {
          "output_type": "execute_result",
          "data": {
            "text/html": [
              "<div>\n",
              "<style scoped>\n",
              "    .dataframe tbody tr th:only-of-type {\n",
              "        vertical-align: middle;\n",
              "    }\n",
              "\n",
              "    .dataframe tbody tr th {\n",
              "        vertical-align: top;\n",
              "    }\n",
              "\n",
              "    .dataframe thead th {\n",
              "        text-align: right;\n",
              "    }\n",
              "</style>\n",
              "<table border=\"1\" class=\"dataframe\">\n",
              "  <thead>\n",
              "    <tr style=\"text-align: right;\">\n",
              "      <th></th>\n",
              "      <th>Daily Time Spent on Site</th>\n",
              "      <th>Age</th>\n",
              "      <th>Area Income</th>\n",
              "      <th>Daily Internet Usage</th>\n",
              "      <th>Ad Topic Line</th>\n",
              "      <th>City</th>\n",
              "      <th>Male</th>\n",
              "      <th>Country</th>\n",
              "      <th>Timestamp</th>\n",
              "      <th>Clicked on Ad</th>\n",
              "    </tr>\n",
              "  </thead>\n",
              "  <tbody>\n",
              "    <tr>\n",
              "      <th>0</th>\n",
              "      <td>68.95</td>\n",
              "      <td>35</td>\n",
              "      <td>61833.90</td>\n",
              "      <td>256.09</td>\n",
              "      <td>Cloned 5thgeneration orchestration</td>\n",
              "      <td>Wrightburgh</td>\n",
              "      <td>0</td>\n",
              "      <td>Tunisia</td>\n",
              "      <td>2016-03-27 00:53:11</td>\n",
              "      <td>0</td>\n",
              "    </tr>\n",
              "    <tr>\n",
              "      <th>1</th>\n",
              "      <td>80.23</td>\n",
              "      <td>31</td>\n",
              "      <td>68441.85</td>\n",
              "      <td>193.77</td>\n",
              "      <td>Monitored national standardization</td>\n",
              "      <td>West Jodi</td>\n",
              "      <td>1</td>\n",
              "      <td>Nauru</td>\n",
              "      <td>2016-04-04 01:39:02</td>\n",
              "      <td>0</td>\n",
              "    </tr>\n",
              "    <tr>\n",
              "      <th>2</th>\n",
              "      <td>69.47</td>\n",
              "      <td>26</td>\n",
              "      <td>59785.94</td>\n",
              "      <td>236.50</td>\n",
              "      <td>Organic bottom-line service-desk</td>\n",
              "      <td>Davidton</td>\n",
              "      <td>0</td>\n",
              "      <td>San Marino</td>\n",
              "      <td>2016-03-13 20:35:42</td>\n",
              "      <td>0</td>\n",
              "    </tr>\n",
              "    <tr>\n",
              "      <th>3</th>\n",
              "      <td>74.15</td>\n",
              "      <td>29</td>\n",
              "      <td>54806.18</td>\n",
              "      <td>245.89</td>\n",
              "      <td>Triple-buffered reciprocal time-frame</td>\n",
              "      <td>West Terrifurt</td>\n",
              "      <td>1</td>\n",
              "      <td>Italy</td>\n",
              "      <td>2016-01-10 02:31:19</td>\n",
              "      <td>0</td>\n",
              "    </tr>\n",
              "    <tr>\n",
              "      <th>4</th>\n",
              "      <td>68.37</td>\n",
              "      <td>35</td>\n",
              "      <td>73889.99</td>\n",
              "      <td>225.58</td>\n",
              "      <td>Robust logistical utilization</td>\n",
              "      <td>South Manuel</td>\n",
              "      <td>0</td>\n",
              "      <td>Iceland</td>\n",
              "      <td>2016-06-03 03:36:18</td>\n",
              "      <td>0</td>\n",
              "    </tr>\n",
              "  </tbody>\n",
              "</table>\n",
              "</div>"
            ],
            "text/plain": [
              "   Daily Time Spent on Site  Age  ...            Timestamp  Clicked on Ad\n",
              "0                     68.95   35  ...  2016-03-27 00:53:11              0\n",
              "1                     80.23   31  ...  2016-04-04 01:39:02              0\n",
              "2                     69.47   26  ...  2016-03-13 20:35:42              0\n",
              "3                     74.15   29  ...  2016-01-10 02:31:19              0\n",
              "4                     68.37   35  ...  2016-06-03 03:36:18              0\n",
              "\n",
              "[5 rows x 10 columns]"
            ]
          },
          "metadata": {
            "tags": []
          },
          "execution_count": 47
        }
      ]
    },
    {
      "cell_type": "code",
      "metadata": {
        "id": "riSmddHzH-ng",
        "colab_type": "code",
        "colab": {}
      },
      "source": [
        "from sklearn.model_selection import train_test_split\n",
        "from sklearn.preprocessing import StandardScaler\n",
        "from sklearn.linear_model import LogisticRegression\n",
        "from sklearn.metrics import classification_report, confusion_matrix"
      ],
      "execution_count": 0,
      "outputs": []
    },
    {
      "cell_type": "code",
      "metadata": {
        "id": "IH5WABzQH-gq",
        "colab_type": "code",
        "colab": {}
      },
      "source": [
        "y = ds['Clicked on Ad']\n",
        "X = ds[['Daily Time Spent on Site', 'Age', 'Area Income', 'Daily Internet Usage', 'Male']]"
      ],
      "execution_count": 0,
      "outputs": []
    },
    {
      "cell_type": "code",
      "metadata": {
        "id": "24PX5S0KH-dB",
        "colab_type": "code",
        "colab": {}
      },
      "source": [
        "X_train, X_test, y_train, y_test = train_test_split(X, y, test_size=0.25, random_state=0)"
      ],
      "execution_count": 0,
      "outputs": []
    },
    {
      "cell_type": "code",
      "metadata": {
        "id": "k84nYxmbIHiG",
        "colab_type": "code",
        "colab": {}
      },
      "source": [
        "sc = StandardScaler()\n",
        "X_train = sc.fit_transform(X_train)\n",
        "X_test = sc.transform(X_test)"
      ],
      "execution_count": 0,
      "outputs": []
    },
    {
      "cell_type": "markdown",
      "metadata": {
        "id": "ret_2-MPJH0i",
        "colab_type": "text"
      },
      "source": [
        "###6.1.Direct Target Marketing : Purchase(Yes/No)\n"
      ]
    },
    {
      "cell_type": "code",
      "metadata": {
        "id": "aZlRzkLBIHfT",
        "colab_type": "code",
        "colab": {}
      },
      "source": [
        "model = LogisticRegression(random_state=0)\n",
        "model.fit(X_train, y_train)\n",
        "y_pred = model.predict(X_test)"
      ],
      "execution_count": 0,
      "outputs": []
    },
    {
      "cell_type": "code",
      "metadata": {
        "id": "8Hb2zmkfIHcr",
        "colab_type": "code",
        "outputId": "03ffdf79-5163-4ca4-b89c-1dbc6e81927d",
        "colab": {
          "base_uri": "https://localhost:8080/",
          "height": 247
        }
      },
      "source": [
        "print(classification_report(y_test, y_pred))\n",
        "print('\\n')\n",
        "print(confusion_matrix(y_test, y_pred))"
      ],
      "execution_count": 0,
      "outputs": [
        {
          "output_type": "stream",
          "text": [
            "              precision    recall  f1-score   support\n",
            "\n",
            "           0       0.97      0.99      0.98       136\n",
            "           1       0.99      0.96      0.98       114\n",
            "\n",
            "    accuracy                           0.98       250\n",
            "   macro avg       0.98      0.98      0.98       250\n",
            "weighted avg       0.98      0.98      0.98       250\n",
            "\n",
            "\n",
            "\n",
            "[[135   1]\n",
            " [  4 110]]\n"
          ],
          "name": "stdout"
        }
      ]
    },
    {
      "cell_type": "code",
      "metadata": {
        "id": "tFgH_giEIHZ5",
        "colab_type": "code",
        "outputId": "8947b8ac-7ffb-4c01-ed60-1ea0dc608679",
        "colab": {
          "base_uri": "https://localhost:8080/",
          "height": 34
        }
      },
      "source": [
        "model.coef_"
      ],
      "execution_count": 0,
      "outputs": [
        {
          "output_type": "execute_result",
          "data": {
            "text/plain": [
              "array([[-2.48433792,  1.03334826, -1.47633287, -2.37579962, -0.12886094]])"
            ]
          },
          "metadata": {
            "tags": []
          },
          "execution_count": 54
        }
      ]
    },
    {
      "cell_type": "code",
      "metadata": {
        "id": "dg7fEQm-IwOd",
        "colab_type": "code",
        "outputId": "6dba1f25-17ca-4378-ba07-0563c4dbb44f",
        "colab": {
          "base_uri": "https://localhost:8080/",
          "height": 34
        }
      },
      "source": [
        "model.intercept_"
      ],
      "execution_count": 0,
      "outputs": [
        {
          "output_type": "execute_result",
          "data": {
            "text/plain": [
              "array([1.48849751])"
            ]
          },
          "metadata": {
            "tags": []
          },
          "execution_count": 55
        }
      ]
    },
    {
      "cell_type": "markdown",
      "metadata": {
        "id": "h71utsBaJJaq",
        "colab_type": "text"
      },
      "source": [
        "#7.MonteCarlo (Optimization)\n",
        "\n",
        "Credit: https://github.com/ranaroussi/pandas-montecarlo\n"
      ]
    },
    {
      "cell_type": "code",
      "metadata": {
        "id": "BbqaFD_PJKis",
        "colab_type": "code",
        "outputId": "0eb87ffa-e046-484a-9771-ad61d310f56f",
        "colab": {
          "base_uri": "https://localhost:8080/",
          "height": 232
        }
      },
      "source": [
        "!pip install pandas_montecarlo --upgrade --no-cache-dir "
      ],
      "execution_count": 0,
      "outputs": [
        {
          "output_type": "stream",
          "text": [
            "Requirement already up-to-date: pandas_montecarlo in /usr/local/lib/python3.6/dist-packages (0.0.2)\n",
            "Requirement already satisfied, skipping upgrade: matplotlib in /usr/local/lib/python3.6/dist-packages (from pandas_montecarlo) (3.1.3)\n",
            "Requirement already satisfied, skipping upgrade: pandas in /usr/local/lib/python3.6/dist-packages (from pandas_montecarlo) (0.25.3)\n",
            "Requirement already satisfied, skipping upgrade: kiwisolver>=1.0.1 in /usr/local/lib/python3.6/dist-packages (from matplotlib->pandas_montecarlo) (1.1.0)\n",
            "Requirement already satisfied, skipping upgrade: cycler>=0.10 in /usr/local/lib/python3.6/dist-packages (from matplotlib->pandas_montecarlo) (0.10.0)\n",
            "Requirement already satisfied, skipping upgrade: python-dateutil>=2.1 in /usr/local/lib/python3.6/dist-packages (from matplotlib->pandas_montecarlo) (2.6.1)\n",
            "Requirement already satisfied, skipping upgrade: pyparsing!=2.0.4,!=2.1.2,!=2.1.6,>=2.0.1 in /usr/local/lib/python3.6/dist-packages (from matplotlib->pandas_montecarlo) (2.4.6)\n",
            "Requirement already satisfied, skipping upgrade: numpy>=1.11 in /usr/local/lib/python3.6/dist-packages (from matplotlib->pandas_montecarlo) (1.17.5)\n",
            "Requirement already satisfied, skipping upgrade: pytz>=2017.2 in /usr/local/lib/python3.6/dist-packages (from pandas->pandas_montecarlo) (2018.9)\n",
            "Requirement already satisfied, skipping upgrade: setuptools in /usr/local/lib/python3.6/dist-packages (from kiwisolver>=1.0.1->matplotlib->pandas_montecarlo) (45.1.0)\n",
            "Requirement already satisfied, skipping upgrade: six in /usr/local/lib/python3.6/dist-packages (from cycler>=0.10->matplotlib->pandas_montecarlo) (1.12.0)\n"
          ],
          "name": "stdout"
        }
      ]
    },
    {
      "cell_type": "markdown",
      "metadata": {
        "id": "tAtULYl0J1Gb",
        "colab_type": "text"
      },
      "source": [
        "Let's run a monte carlo simulation on the returns of SPY (S&P 500 Spider ETF).\n",
        "\n",
        "First, let's download SPY's data and calculate the daily returns.\n",
        "\n",
        "![](https://raw.githubusercontent.com/ranaroussi/pandas-montecarlo/master/demo.png)"
      ]
    },
    {
      "cell_type": "code",
      "metadata": {
        "id": "92ChcwZ-I4lF",
        "colab_type": "code",
        "colab": {}
      },
      "source": [
        "from pandas_datareader import data\n",
        "\n",
        "df = data.get_data_yahoo(\"SPY\")\n",
        "df['return'] = df['Adj Close'].pct_change().fillna(0)"
      ],
      "execution_count": 0,
      "outputs": []
    },
    {
      "cell_type": "code",
      "metadata": {
        "id": "l8BgJYvXJ6gu",
        "colab_type": "code",
        "outputId": "687df5c5-ac3f-4cda-f9b2-7c9cb05ef993",
        "colab": {
          "base_uri": "https://localhost:8080/",
          "height": 227
        }
      },
      "source": [
        "df.head()"
      ],
      "execution_count": 0,
      "outputs": [
        {
          "output_type": "execute_result",
          "data": {
            "text/html": [
              "<div>\n",
              "<style scoped>\n",
              "    .dataframe tbody tr th:only-of-type {\n",
              "        vertical-align: middle;\n",
              "    }\n",
              "\n",
              "    .dataframe tbody tr th {\n",
              "        vertical-align: top;\n",
              "    }\n",
              "\n",
              "    .dataframe thead th {\n",
              "        text-align: right;\n",
              "    }\n",
              "</style>\n",
              "<table border=\"1\" class=\"dataframe\">\n",
              "  <thead>\n",
              "    <tr style=\"text-align: right;\">\n",
              "      <th></th>\n",
              "      <th>High</th>\n",
              "      <th>Low</th>\n",
              "      <th>Open</th>\n",
              "      <th>Close</th>\n",
              "      <th>Volume</th>\n",
              "      <th>Adj Close</th>\n",
              "      <th>return</th>\n",
              "    </tr>\n",
              "    <tr>\n",
              "      <th>Date</th>\n",
              "      <th></th>\n",
              "      <th></th>\n",
              "      <th></th>\n",
              "      <th></th>\n",
              "      <th></th>\n",
              "      <th></th>\n",
              "      <th></th>\n",
              "    </tr>\n",
              "  </thead>\n",
              "  <tbody>\n",
              "    <tr>\n",
              "      <th>2010-01-04</th>\n",
              "      <td>113.389999</td>\n",
              "      <td>111.510002</td>\n",
              "      <td>112.370003</td>\n",
              "      <td>113.330002</td>\n",
              "      <td>118944600.0</td>\n",
              "      <td>92.788483</td>\n",
              "      <td>0.000000</td>\n",
              "    </tr>\n",
              "    <tr>\n",
              "      <th>2010-01-05</th>\n",
              "      <td>113.680000</td>\n",
              "      <td>112.849998</td>\n",
              "      <td>113.260002</td>\n",
              "      <td>113.629997</td>\n",
              "      <td>111579900.0</td>\n",
              "      <td>93.034081</td>\n",
              "      <td>0.002647</td>\n",
              "    </tr>\n",
              "    <tr>\n",
              "      <th>2010-01-06</th>\n",
              "      <td>113.989998</td>\n",
              "      <td>113.430000</td>\n",
              "      <td>113.519997</td>\n",
              "      <td>113.709999</td>\n",
              "      <td>116074400.0</td>\n",
              "      <td>93.099579</td>\n",
              "      <td>0.000704</td>\n",
              "    </tr>\n",
              "    <tr>\n",
              "      <th>2010-01-07</th>\n",
              "      <td>114.330002</td>\n",
              "      <td>113.180000</td>\n",
              "      <td>113.500000</td>\n",
              "      <td>114.190002</td>\n",
              "      <td>131091100.0</td>\n",
              "      <td>93.492622</td>\n",
              "      <td>0.004222</td>\n",
              "    </tr>\n",
              "    <tr>\n",
              "      <th>2010-01-08</th>\n",
              "      <td>114.620003</td>\n",
              "      <td>113.660004</td>\n",
              "      <td>113.889999</td>\n",
              "      <td>114.570000</td>\n",
              "      <td>126402800.0</td>\n",
              "      <td>93.803726</td>\n",
              "      <td>0.003328</td>\n",
              "    </tr>\n",
              "  </tbody>\n",
              "</table>\n",
              "</div>"
            ],
            "text/plain": [
              "                  High         Low  ...  Adj Close    return\n",
              "Date                                ...                     \n",
              "2010-01-04  113.389999  111.510002  ...  92.788483  0.000000\n",
              "2010-01-05  113.680000  112.849998  ...  93.034081  0.002647\n",
              "2010-01-06  113.989998  113.430000  ...  93.099579  0.000704\n",
              "2010-01-07  114.330002  113.180000  ...  93.492622  0.004222\n",
              "2010-01-08  114.620003  113.660004  ...  93.803726  0.003328\n",
              "\n",
              "[5 rows x 7 columns]"
            ]
          },
          "metadata": {
            "tags": []
          },
          "execution_count": 58
        }
      ]
    },
    {
      "cell_type": "code",
      "metadata": {
        "id": "T-A3--L5J77i",
        "colab_type": "code",
        "colab": {}
      },
      "source": [
        "import pandas_montecarlo\n",
        "mc = df['return'].montecarlo(sims=10, bust=-0.1, goal=1)"
      ],
      "execution_count": 0,
      "outputs": []
    },
    {
      "cell_type": "code",
      "metadata": {
        "id": "8GlKswOtJ9f9",
        "colab_type": "code",
        "outputId": "53147968-a794-4776-b690-fc33337477f4",
        "colab": {
          "base_uri": "https://localhost:8080/",
          "height": 294
        }
      },
      "source": [
        "mc.plot(title=\"SPY Returns Monte Carlo Simulations\")  # optional: , figsize=(x, y)"
      ],
      "execution_count": 0,
      "outputs": [
        {
          "output_type": "display_data",
          "data": {
            "image/png": "[encoded data removed]",
            "text/plain": [
              "<Figure size 432x288 with 1 Axes>"
            ]
          },
          "metadata": {
            "tags": []
          }
        }
      ]
    },
    {
      "cell_type": "code",
      "metadata": {
        "id": "mMWjoHfvJ-17",
        "colab_type": "code",
        "outputId": "1c0a7016-fae2-49ee-bb10-9132b72dddcb",
        "colab": {
          "base_uri": "https://localhost:8080/",
          "height": 54
        }
      },
      "source": [
        "print(mc.stats) # Show test stats"
      ],
      "execution_count": 0,
      "outputs": [
        {
          "output_type": "stream",
          "text": [
            "{'min': 1.3919388565988917, 'max': 1.391938856598894, 'mean': 1.3919388565988926, 'median': 1.3919388565988926, 'std': 7.656157510037639e-16, 'maxdd': -0.17108989615842352, 'bust': 0.2, 'goal': 0.8}\n"
          ],
          "name": "stdout"
        }
      ]
    },
    {
      "cell_type": "code",
      "metadata": {
        "id": "qvNvjUIGKEwe",
        "colab_type": "code",
        "outputId": "2dec059c-5bcc-417f-ca62-a027a0f05d7b",
        "colab": {
          "base_uri": "https://localhost:8080/",
          "height": 54
        }
      },
      "source": [
        "print(mc.maxdd) # Show bust / max drawdown stats"
      ],
      "execution_count": 0,
      "outputs": [
        {
          "output_type": "stream",
          "text": [
            "{'min': -0.17108989615842352, 'max': -0.00864017987474941, 'mean': -0.06418126010605162, 'median': -0.05789152845195711, 'std': 0.061136599824424105}\n"
          ],
          "name": "stdout"
        }
      ]
    },
    {
      "cell_type": "code",
      "metadata": {
        "id": "pxEpjNHpKIQs",
        "colab_type": "code",
        "outputId": "f868ff04-fbc0-4f51-d019-954b8d48b090",
        "colab": {
          "base_uri": "https://localhost:8080/",
          "height": 158
        }
      },
      "source": [
        "print(mc.data.head()) # Access raw simulations' DataFrame"
      ],
      "execution_count": 0,
      "outputs": [
        {
          "output_type": "stream",
          "text": [
            "   original         1         2  ...         7         8         9\n",
            "0  0.000000 -0.005129  0.003322  ...  0.000467 -0.003010  0.000682\n",
            "1  0.002647 -0.006702  0.017795  ...  0.000544  0.001825  0.007878\n",
            "2  0.000704  0.002310  0.002667  ...  0.000730 -0.001766  0.005173\n",
            "3  0.004222 -0.012824 -0.004076  ...  0.010944  0.001247  0.000386\n",
            "4  0.003328 -0.000462 -0.000795  ... -0.004682  0.002687  0.008501\n",
            "\n",
            "[5 rows x 10 columns]\n"
          ],
          "name": "stdout"
        }
      ]
    }
  ]
}
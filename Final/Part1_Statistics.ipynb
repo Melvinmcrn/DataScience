{
  "nbformat": 4,
  "nbformat_minor": 0,
  "metadata": {
    "colab": {
      "name": "Part1_Statistics.ipynb",
      "provenance": [],
      "authorship_tag": "ABX9TyMaJSud6Kfd8MDPScvd+90A",
      "include_colab_link": true
    },
    "kernelspec": {
      "name": "python3",
      "display_name": "Python 3"
    }
  },
  "cells": [
    {
      "cell_type": "markdown",
      "metadata": {
        "id": "view-in-github",
        "colab_type": "text"
      },
      "source": [
        "<a href=\"https://colab.research.google.com/github/Melvinmcrn/DataScience/blob/master/Final/Part1_Statistics.ipynb\" target=\"_parent\"><img src=\"https://colab.research.google.com/assets/colab-badge.svg\" alt=\"Open In Colab\"/></a>"
      ]
    },
    {
      "cell_type": "code",
      "metadata": {
        "id": "PDUUfCZhOxf3",
        "colab_type": "code",
        "colab": {}
      },
      "source": [
        "import pandas as pd\n",
        "import numpy as np\n",
        "from scipy.stats import iqr"
      ],
      "execution_count": 0,
      "outputs": []
    },
    {
      "cell_type": "markdown",
      "metadata": {
        "id": "2koGttJcYh_v",
        "colab_type": "text"
      },
      "source": [
        "# Q1"
      ]
    },
    {
      "cell_type": "code",
      "metadata": {
        "id": "E_55efDsYG79",
        "colab_type": "code",
        "colab": {
          "base_uri": "https://localhost:8080/",
          "height": 195
        },
        "outputId": "01f0b592-62d1-42c8-dab3-2cd8c6e90181"
      },
      "source": [
        "data = pd.read_excel('https://github.com/kaopanboonyuen/Python-Data-Science/raw/master/Dataset/covid-19-daily-o5vw0e/covid-19-daily.xlsx')\n",
        "data.head(5)"
      ],
      "execution_count": 17,
      "outputs": [
        {
          "output_type": "execute_result",
          "data": {
            "text/html": [
              "<div>\n",
              "<style scoped>\n",
              "    .dataframe tbody tr th:only-of-type {\n",
              "        vertical-align: middle;\n",
              "    }\n",
              "\n",
              "    .dataframe tbody tr th {\n",
              "        vertical-align: top;\n",
              "    }\n",
              "\n",
              "    .dataframe thead th {\n",
              "        text-align: right;\n",
              "    }\n",
              "</style>\n",
              "<table border=\"1\" class=\"dataframe\">\n",
              "  <thead>\n",
              "    <tr style=\"text-align: right;\">\n",
              "      <th></th>\n",
              "      <th>no</th>\n",
              "      <th>age</th>\n",
              "      <th>sex</th>\n",
              "      <th>nationality</th>\n",
              "      <th>Province of isolation</th>\n",
              "      <th>Notification date</th>\n",
              "      <th>Announce Date</th>\n",
              "      <th>Province of onset</th>\n",
              "      <th>District of onset</th>\n",
              "    </tr>\n",
              "  </thead>\n",
              "  <tbody>\n",
              "    <tr>\n",
              "      <th>0</th>\n",
              "      <td>1</td>\n",
              "      <td>61.0</td>\n",
              "      <td>หญิง</td>\n",
              "      <td>จีน</td>\n",
              "      <td>กทม</td>\n",
              "      <td>NaN</td>\n",
              "      <td>2020-01-12</td>\n",
              "      <td>กทม</td>\n",
              "      <td>NaN</td>\n",
              "    </tr>\n",
              "    <tr>\n",
              "      <th>1</th>\n",
              "      <td>2</td>\n",
              "      <td>74.0</td>\n",
              "      <td>หญิง</td>\n",
              "      <td>จีน</td>\n",
              "      <td>กทม</td>\n",
              "      <td>NaN</td>\n",
              "      <td>2020-01-17</td>\n",
              "      <td>กทม</td>\n",
              "      <td>NaN</td>\n",
              "    </tr>\n",
              "    <tr>\n",
              "      <th>2</th>\n",
              "      <td>3</td>\n",
              "      <td>73.0</td>\n",
              "      <td>หญิง</td>\n",
              "      <td>จีน</td>\n",
              "      <td>นครปฐม</td>\n",
              "      <td>NaN</td>\n",
              "      <td>2020-01-22</td>\n",
              "      <td>นครปฐม</td>\n",
              "      <td>เมือง</td>\n",
              "    </tr>\n",
              "    <tr>\n",
              "      <th>3</th>\n",
              "      <td>4</td>\n",
              "      <td>68.0</td>\n",
              "      <td>ชาย</td>\n",
              "      <td>จีน</td>\n",
              "      <td>กทม</td>\n",
              "      <td>NaN</td>\n",
              "      <td>2020-01-22</td>\n",
              "      <td>กทม</td>\n",
              "      <td>NaN</td>\n",
              "    </tr>\n",
              "    <tr>\n",
              "      <th>4</th>\n",
              "      <td>5</td>\n",
              "      <td>66.0</td>\n",
              "      <td>หญิง</td>\n",
              "      <td>จีน</td>\n",
              "      <td>นนทบุรี</td>\n",
              "      <td>NaN</td>\n",
              "      <td>2020-01-24</td>\n",
              "      <td>กทม</td>\n",
              "      <td>NaN</td>\n",
              "    </tr>\n",
              "  </tbody>\n",
              "</table>\n",
              "</div>"
            ],
            "text/plain": [
              "   no   age   sex  ... Announce Date Province of onset District of onset\n",
              "0   1  61.0  หญิง  ...    2020-01-12               กทม               NaN\n",
              "1   2  74.0  หญิง  ...    2020-01-17               กทม               NaN\n",
              "2   3  73.0  หญิง  ...    2020-01-22            นครปฐม             เมือง\n",
              "3   4  68.0   ชาย  ...    2020-01-22               กทม               NaN\n",
              "4   5  66.0  หญิง  ...    2020-01-24               กทม               NaN\n",
              "\n",
              "[5 rows x 9 columns]"
            ]
          },
          "metadata": {
            "tags": []
          },
          "execution_count": 17
        }
      ]
    },
    {
      "cell_type": "code",
      "metadata": {
        "id": "iOnObrCsYPkU",
        "colab_type": "code",
        "colab": {}
      },
      "source": [
        "data = data.iloc[100:]"
      ],
      "execution_count": 0,
      "outputs": []
    },
    {
      "cell_type": "code",
      "metadata": {
        "id": "0sqmMeQ_ZDDh",
        "colab_type": "code",
        "colab": {
          "base_uri": "https://localhost:8080/",
          "height": 195
        },
        "outputId": "0cfe43f2-e8b4-46bd-9ae6-21a9d1ea9032"
      },
      "source": [
        "data.head(5)"
      ],
      "execution_count": 19,
      "outputs": [
        {
          "output_type": "execute_result",
          "data": {
            "text/html": [
              "<div>\n",
              "<style scoped>\n",
              "    .dataframe tbody tr th:only-of-type {\n",
              "        vertical-align: middle;\n",
              "    }\n",
              "\n",
              "    .dataframe tbody tr th {\n",
              "        vertical-align: top;\n",
              "    }\n",
              "\n",
              "    .dataframe thead th {\n",
              "        text-align: right;\n",
              "    }\n",
              "</style>\n",
              "<table border=\"1\" class=\"dataframe\">\n",
              "  <thead>\n",
              "    <tr style=\"text-align: right;\">\n",
              "      <th></th>\n",
              "      <th>no</th>\n",
              "      <th>age</th>\n",
              "      <th>sex</th>\n",
              "      <th>nationality</th>\n",
              "      <th>Province of isolation</th>\n",
              "      <th>Notification date</th>\n",
              "      <th>Announce Date</th>\n",
              "      <th>Province of onset</th>\n",
              "      <th>District of onset</th>\n",
              "    </tr>\n",
              "  </thead>\n",
              "  <tbody>\n",
              "    <tr>\n",
              "      <th>100</th>\n",
              "      <td>101</td>\n",
              "      <td>32.0</td>\n",
              "      <td>ชาย</td>\n",
              "      <td>ไทย</td>\n",
              "      <td>กทม</td>\n",
              "      <td>NaN</td>\n",
              "      <td>2020-03-15</td>\n",
              "      <td>กทม</td>\n",
              "      <td>NaN</td>\n",
              "    </tr>\n",
              "    <tr>\n",
              "      <th>101</th>\n",
              "      <td>102</td>\n",
              "      <td>28.0</td>\n",
              "      <td>ชาย</td>\n",
              "      <td>ญี่ปุ่น</td>\n",
              "      <td>กทม</td>\n",
              "      <td>NaN</td>\n",
              "      <td>2020-03-15</td>\n",
              "      <td>กทม</td>\n",
              "      <td>NaN</td>\n",
              "    </tr>\n",
              "    <tr>\n",
              "      <th>102</th>\n",
              "      <td>103</td>\n",
              "      <td>41.0</td>\n",
              "      <td>หญิง</td>\n",
              "      <td>ไทย</td>\n",
              "      <td>กทม</td>\n",
              "      <td>NaN</td>\n",
              "      <td>2020-03-15</td>\n",
              "      <td>กทม</td>\n",
              "      <td>NaN</td>\n",
              "    </tr>\n",
              "    <tr>\n",
              "      <th>103</th>\n",
              "      <td>104</td>\n",
              "      <td>68.0</td>\n",
              "      <td>ชาย</td>\n",
              "      <td>ไทย</td>\n",
              "      <td>กทม</td>\n",
              "      <td>NaN</td>\n",
              "      <td>2020-03-15</td>\n",
              "      <td>กทม</td>\n",
              "      <td>NaN</td>\n",
              "    </tr>\n",
              "    <tr>\n",
              "      <th>104</th>\n",
              "      <td>105</td>\n",
              "      <td>41.0</td>\n",
              "      <td>หญิง</td>\n",
              "      <td>ไทย</td>\n",
              "      <td>กทม</td>\n",
              "      <td>NaN</td>\n",
              "      <td>2020-03-15</td>\n",
              "      <td>กทม</td>\n",
              "      <td>NaN</td>\n",
              "    </tr>\n",
              "  </tbody>\n",
              "</table>\n",
              "</div>"
            ],
            "text/plain": [
              "      no   age   sex  ... Announce Date Province of onset District of onset\n",
              "100  101  32.0   ชาย  ...    2020-03-15               กทม               NaN\n",
              "101  102  28.0   ชาย  ...    2020-03-15               กทม               NaN\n",
              "102  103  41.0  หญิง  ...    2020-03-15               กทม               NaN\n",
              "103  104  68.0   ชาย  ...    2020-03-15               กทม               NaN\n",
              "104  105  41.0  หญิง  ...    2020-03-15               กทม               NaN\n",
              "\n",
              "[5 rows x 9 columns]"
            ]
          },
          "metadata": {
            "tags": []
          },
          "execution_count": 19
        }
      ]
    },
    {
      "cell_type": "code",
      "metadata": {
        "id": "TpFuJtY6ZFeR",
        "colab_type": "code",
        "colab": {
          "base_uri": "https://localhost:8080/",
          "height": 286
        },
        "outputId": "fdec21f2-a7a2-4ef9-df8d-05d9f43c0959"
      },
      "source": [
        "data.info()"
      ],
      "execution_count": 20,
      "outputs": [
        {
          "output_type": "stream",
          "text": [
            "<class 'pandas.core.frame.DataFrame'>\n",
            "RangeIndex: 2665 entries, 100 to 2764\n",
            "Data columns (total 9 columns):\n",
            " #   Column                 Non-Null Count  Dtype         \n",
            "---  ------                 --------------  -----         \n",
            " 0   no                     2665 non-null   int64         \n",
            " 1   age                    2569 non-null   float64       \n",
            " 2   sex                    2624 non-null   object        \n",
            " 3   nationality            2591 non-null   object        \n",
            " 4   Province of isolation  2598 non-null   object        \n",
            " 5   Notification date      2456 non-null   object        \n",
            " 6   Announce Date          2665 non-null   datetime64[ns]\n",
            " 7   Province of onset      2544 non-null   object        \n",
            " 8   District of onset      1402 non-null   object        \n",
            "dtypes: datetime64[ns](1), float64(1), int64(1), object(6)\n",
            "memory usage: 187.5+ KB\n"
          ],
          "name": "stdout"
        }
      ]
    },
    {
      "cell_type": "code",
      "metadata": {
        "id": "UkZCfTmRZS4f",
        "colab_type": "code",
        "colab": {
          "base_uri": "https://localhost:8080/",
          "height": 286
        },
        "outputId": "ce166a96-3222-47df-8b5d-cdeb529ee984"
      },
      "source": [
        "data = data.rename(columns={'nationality': 'NationalityGroup'})\n",
        "data.info()"
      ],
      "execution_count": 21,
      "outputs": [
        {
          "output_type": "stream",
          "text": [
            "<class 'pandas.core.frame.DataFrame'>\n",
            "RangeIndex: 2665 entries, 100 to 2764\n",
            "Data columns (total 9 columns):\n",
            " #   Column                 Non-Null Count  Dtype         \n",
            "---  ------                 --------------  -----         \n",
            " 0   no                     2665 non-null   int64         \n",
            " 1   age                    2569 non-null   float64       \n",
            " 2   sex                    2624 non-null   object        \n",
            " 3   NationalityGroup       2591 non-null   object        \n",
            " 4   Province of isolation  2598 non-null   object        \n",
            " 5   Notification date      2456 non-null   object        \n",
            " 6   Announce Date          2665 non-null   datetime64[ns]\n",
            " 7   Province of onset      2544 non-null   object        \n",
            " 8   District of onset      1402 non-null   object        \n",
            "dtypes: datetime64[ns](1), float64(1), int64(1), object(6)\n",
            "memory usage: 187.5+ KB\n"
          ],
          "name": "stdout"
        }
      ]
    },
    {
      "cell_type": "code",
      "metadata": {
        "id": "RvoUntGWZqCG",
        "colab_type": "code",
        "colab": {
          "base_uri": "https://localhost:8080/",
          "height": 924
        },
        "outputId": "f418cc29-3fb5-4174-812a-1a42de0b1dfb"
      },
      "source": [
        "data['NationalityGroup'].value_counts()"
      ],
      "execution_count": 22,
      "outputs": [
        {
          "output_type": "execute_result",
          "data": {
            "text/plain": [
              "ไทย               2373\n",
              "ฝรั่งเศส            25\n",
              "สหราชอาณาจักร       20\n",
              "พม่า                17\n",
              "รัสเซีย             12\n",
              "อเมริกัน            12\n",
              "ญี่ปุ่น             10\n",
              "แคนาดา               8\n",
              "อินเดีย              7\n",
              "เยอรมัน              7\n",
              "ไทย                  7\n",
              "อิตาลี               6\n",
              "เบลเยียม             6\n",
              "จีน                  6\n",
              "สวิตเซอร์แลนด์       5\n",
              "เดนมาร์ก             5\n",
              "สวีเดน               5\n",
              "ฟิลิปปินส์           4\n",
              "ปากีสถาน             4\n",
              "ไม่ระบุ              4\n",
              "สิงคโปร์             4\n",
              "ออสเตรเลีย           4\n",
              "เกาหลี               3\n",
              "อินโดนีเซีย          3\n",
              "อิสราเอล             2\n",
              "มาเลเซีย             2\n",
              "ลาว                  2\n",
              "คาซัคสถาน            2\n",
              "สเปน                 2\n",
              "ไทยใหญ่              1\n",
              "อิหร่าน              1\n",
              "Mali                 1\n",
              "ฮังการี              1\n",
              "แอลบาเนีย            1\n",
              "ฟินแลนด์             1\n",
              "ยูเครน               1\n",
              "ไลบีเรีย             1\n",
              "ตูนีเซีย             1\n",
              "นิวซีแลนด์           1\n",
              "เซอร์เบีย            1\n",
              "แอลเบเนีย            1\n",
              "โปรตุเกส             1\n",
              "เม็กซิกัน            1\n",
              "เมียนมาร์            1\n",
              "กัมพูชา              1\n",
              "บราซิล               1\n",
              "อินเดีย-ไทย          1\n",
              "เวียดนาม             1\n",
              "ไต้หวัน              1\n",
              "อุซเบกิสถาน          1\n",
              "เนเธอร์แลนด์         1\n",
              "ปาเลสไตน์            1\n",
              "ไม่ทราบ              1\n",
              "Name: NationalityGroup, dtype: int64"
            ]
          },
          "metadata": {
            "tags": []
          },
          "execution_count": 22
        }
      ]
    },
    {
      "cell_type": "code",
      "metadata": {
        "id": "5QF6VUH0Z0Mp",
        "colab_type": "code",
        "colab": {
          "base_uri": "https://localhost:8080/",
          "height": 907
        },
        "outputId": "c5ef62c8-19ce-4a20-a57c-311b54fde1c8"
      },
      "source": [
        "data['NationalityGroup'] = data['NationalityGroup'].str.strip()\n",
        "data['NationalityGroup'].value_counts()"
      ],
      "execution_count": 23,
      "outputs": [
        {
          "output_type": "execute_result",
          "data": {
            "text/plain": [
              "ไทย               2380\n",
              "ฝรั่งเศส            25\n",
              "สหราชอาณาจักร       20\n",
              "พม่า                17\n",
              "รัสเซีย             12\n",
              "อเมริกัน            12\n",
              "ญี่ปุ่น             10\n",
              "แคนาดา               8\n",
              "อินเดีย              7\n",
              "เยอรมัน              7\n",
              "เบลเยียม             6\n",
              "อิตาลี               6\n",
              "จีน                  6\n",
              "สวีเดน               5\n",
              "สวิตเซอร์แลนด์       5\n",
              "เดนมาร์ก             5\n",
              "ปากีสถาน             4\n",
              "ไม่ระบุ              4\n",
              "สิงคโปร์             4\n",
              "ออสเตรเลีย           4\n",
              "ฟิลิปปินส์           4\n",
              "เกาหลี               3\n",
              "อินโดนีเซีย          3\n",
              "มาเลเซีย             2\n",
              "อิสราเอล             2\n",
              "ลาว                  2\n",
              "สเปน                 2\n",
              "คาซัคสถาน            2\n",
              "ไลบีเรีย             1\n",
              "เม็กซิกัน            1\n",
              "ตูนีเซีย             1\n",
              "ยูเครน               1\n",
              "ฟินแลนด์             1\n",
              "แอลบาเนีย            1\n",
              "ฮังการี              1\n",
              "Mali                 1\n",
              "อิหร่าน              1\n",
              "ไม่ทราบ              1\n",
              "แอลเบเนีย            1\n",
              "กัมพูชา              1\n",
              "นิวซีแลนด์           1\n",
              "อินเดีย-ไทย          1\n",
              "อุซเบกิสถาน          1\n",
              "ปาเลสไตน์            1\n",
              "ไทยใหญ่              1\n",
              "เนเธอร์แลนด์         1\n",
              "เวียดนาม             1\n",
              "โปรตุเกส             1\n",
              "ไต้หวัน              1\n",
              "บราซิล               1\n",
              "เซอร์เบีย            1\n",
              "เมียนมาร์            1\n",
              "Name: NationalityGroup, dtype: int64"
            ]
          },
          "metadata": {
            "tags": []
          },
          "execution_count": 23
        }
      ]
    },
    {
      "cell_type": "code",
      "metadata": {
        "id": "bx8j6SSJaUlZ",
        "colab_type": "code",
        "colab": {
          "base_uri": "https://localhost:8080/",
          "height": 84
        },
        "outputId": "cd73242c-dffe-4ffb-f294-a5473c25be33"
      },
      "source": [
        "mapping_dictionary = {\"NationalityGroup\":{ \"ไทย\": \"Thai\", \"ไม่ทราบ\": \"N/A\", \"ไม่ระบุ\": \"N/A\"}}\n",
        "data = data.replace(mapping_dictionary)\n",
        "data.loc[(data['NationalityGroup'] != \"Thai\") & (data['NationalityGroup'] != \"N/A\"), 'NationalityGroup'] = 'Non-Thai'\n",
        "data['NationalityGroup'].value_counts()"
      ],
      "execution_count": 29,
      "outputs": [
        {
          "output_type": "execute_result",
          "data": {
            "text/plain": [
              "Thai        2380\n",
              "Non-Thai     280\n",
              "N/A            5\n",
              "Name: NationalityGroup, dtype: int64"
            ]
          },
          "metadata": {
            "tags": []
          },
          "execution_count": 29
        }
      ]
    },
    {
      "cell_type": "markdown",
      "metadata": {
        "id": "jrUi9IBFdnDi",
        "colab_type": "text"
      },
      "source": [
        "# Q2"
      ]
    },
    {
      "cell_type": "code",
      "metadata": {
        "id": "Jgo6C01Qf-b5",
        "colab_type": "code",
        "colab": {}
      },
      "source": [
        "from scipy.stats import kurtosis, skew"
      ],
      "execution_count": 0,
      "outputs": []
    },
    {
      "cell_type": "code",
      "metadata": {
        "id": "Q2xz7Wr4ad01",
        "colab_type": "code",
        "colab": {
          "base_uri": "https://localhost:8080/",
          "height": 168
        },
        "outputId": "72772c7d-7bad-4091-ed93-d00b34fefa4b"
      },
      "source": [
        "data['age'].describe(include='all')"
      ],
      "execution_count": 33,
      "outputs": [
        {
          "output_type": "execute_result",
          "data": {
            "text/plain": [
              "count    2569.000000\n",
              "mean       39.381666\n",
              "std        15.485453\n",
              "min         0.100000\n",
              "25%        27.000000\n",
              "50%        37.000000\n",
              "75%        50.000000\n",
              "max        97.000000\n",
              "Name: age, dtype: float64"
            ]
          },
          "metadata": {
            "tags": []
          },
          "execution_count": 33
        }
      ]
    },
    {
      "cell_type": "code",
      "metadata": {
        "id": "SpgWbwa5dplH",
        "colab_type": "code",
        "colab": {
          "base_uri": "https://localhost:8080/",
          "height": 34
        },
        "outputId": "f61867ce-c4f4-4ed9-ed48-c49bc34baaec"
      },
      "source": [
        "print('median=',data['age'].median())"
      ],
      "execution_count": 48,
      "outputs": [
        {
          "output_type": "stream",
          "text": [
            "median= 37.0\n"
          ],
          "name": "stdout"
        }
      ]
    },
    {
      "cell_type": "code",
      "metadata": {
        "id": "F20GOYImebN3",
        "colab_type": "code",
        "colab": {
          "base_uri": "https://localhost:8080/",
          "height": 34
        },
        "outputId": "6e4f814c-6528-4dfd-dc15-df1b004f3088"
      },
      "source": [
        "print('IQR=',data['age'].quantile(0.75) - data['age'].quantile(0.25))"
      ],
      "execution_count": 49,
      "outputs": [
        {
          "output_type": "stream",
          "text": [
            "IQR= 23.0\n"
          ],
          "name": "stdout"
        }
      ]
    },
    {
      "cell_type": "code",
      "metadata": {
        "id": "uY5wjrhAejLi",
        "colab_type": "code",
        "colab": {
          "base_uri": "https://localhost:8080/",
          "height": 50
        },
        "outputId": "996f641e-2113-4145-9d1f-ccfacb5716b2"
      },
      "source": [
        "print('kurtosis=',kurtosis(data['age']))\n",
        "print('skew=',skew(data['age']))"
      ],
      "execution_count": 52,
      "outputs": [
        {
          "output_type": "stream",
          "text": [
            "kurtosis= nan\n",
            "skew= nan\n"
          ],
          "name": "stdout"
        }
      ]
    },
    {
      "cell_type": "markdown",
      "metadata": {
        "id": "cB64xBQ1gpSl",
        "colab_type": "text"
      },
      "source": [
        "# Q3"
      ]
    },
    {
      "cell_type": "code",
      "metadata": {
        "id": "khPG8vuCer8e",
        "colab_type": "code",
        "colab": {}
      },
      "source": [
        "import matplotlib.pyplot as plt"
      ],
      "execution_count": 0,
      "outputs": []
    },
    {
      "cell_type": "code",
      "metadata": {
        "id": "Om10iW-mg7e8",
        "colab_type": "code",
        "colab": {
          "base_uri": "https://localhost:8080/",
          "height": 332
        },
        "outputId": "393fbb42-edb5-44a1-bd5a-605b9b773245"
      },
      "source": [
        "plt.hist(data['age'], bins=10, range=(0, 100))\n",
        "plt.show()"
      ],
      "execution_count": 55,
      "outputs": [
        {
          "output_type": "stream",
          "text": [
            "/usr/local/lib/python3.6/dist-packages/numpy/lib/histograms.py:839: RuntimeWarning: invalid value encountered in greater_equal\n",
            "  keep = (tmp_a >= first_edge)\n",
            "/usr/local/lib/python3.6/dist-packages/numpy/lib/histograms.py:840: RuntimeWarning: invalid value encountered in less_equal\n",
            "  keep &= (tmp_a <= last_edge)\n"
          ],
          "name": "stderr"
        },
        {
          "output_type": "display_data",
          "data": {
            "image/png": "[encoded data removed]",
            "text/plain": [
              "<Figure size 432x288 with 1 Axes>"
            ]
          },
          "metadata": {
            "tags": [],
            "needs_background": "light"
          }
        }
      ]
    },
    {
      "cell_type": "markdown",
      "metadata": {
        "id": "D30ux5nihf1r",
        "colab_type": "text"
      },
      "source": [
        "# Q4"
      ]
    },
    {
      "cell_type": "code",
      "metadata": {
        "id": "8tztjklsieXB",
        "colab_type": "code",
        "colab": {
          "base_uri": "https://localhost:8080/",
          "height": 282
        },
        "outputId": "0f395e0f-bc61-4157-ed0b-299dac41fe3a"
      },
      "source": [
        "ageman = data.loc[data['sex'] == 'ชาย', 'age'].to_frame()\n",
        "ageman = ageman.rename(columns={\"age\":\"man\"})\n",
        "ageman.plot(kind= 'box')"
      ],
      "execution_count": 96,
      "outputs": [
        {
          "output_type": "execute_result",
          "data": {
            "text/plain": [
              "<matplotlib.axes._subplots.AxesSubplot at 0x7fd616d70ef0>"
            ]
          },
          "metadata": {
            "tags": []
          },
          "execution_count": 96
        },
        {
          "output_type": "display_data",
          "data": {
            "image/png": "[encoded data removed]",
            "text/plain": [
              "<Figure size 432x288 with 1 Axes>"
            ]
          },
          "metadata": {
            "tags": [],
            "needs_background": "light"
          }
        }
      ]
    },
    {
      "cell_type": "code",
      "metadata": {
        "id": "jtDtiqIYjpDc",
        "colab_type": "code",
        "colab": {
          "base_uri": "https://localhost:8080/",
          "height": 283
        },
        "outputId": "14274cd0-08a6-4d4d-ed42-e486229b88a8"
      },
      "source": [
        "agewoman = data.loc[data['sex'] == 'หญิง', 'age'].to_frame()\n",
        "agewoman = agewoman.rename(columns={\"age\":\"woman\"})\n",
        "agewoman.plot(kind= 'box')"
      ],
      "execution_count": 97,
      "outputs": [
        {
          "output_type": "execute_result",
          "data": {
            "text/plain": [
              "<matplotlib.axes._subplots.AxesSubplot at 0x7fd616b7b5f8>"
            ]
          },
          "metadata": {
            "tags": []
          },
          "execution_count": 97
        },
        {
          "output_type": "display_data",
          "data": {
            "image/png": "[encoded data removed]",
            "text/plain": [
              "<Figure size 432x288 with 1 Axes>"
            ]
          },
          "metadata": {
            "tags": [],
            "needs_background": "light"
          }
        }
      ]
    },
    {
      "cell_type": "markdown",
      "metadata": {
        "id": "jO41SlgGlPuv",
        "colab_type": "text"
      },
      "source": [
        "# Q5"
      ]
    },
    {
      "cell_type": "code",
      "metadata": {
        "id": "OQj_Z7Rpkt9k",
        "colab_type": "code",
        "colab": {
          "base_uri": "https://localhost:8080/",
          "height": 762
        },
        "outputId": "2b95de47-185e-44c3-fc8b-9a7c143fce67"
      },
      "source": [
        "for c in data['NationalityGroup'].value_counts().keys():\n",
        "  age = data.loc[data['NationalityGroup'] == c, 'age'].to_frame()\n",
        "  age = age.rename(columns={\"age\":c})\n",
        "  age.plot(kind= 'box', layout=(1,3))"
      ],
      "execution_count": 106,
      "outputs": [
        {
          "output_type": "display_data",
          "data": {
            "image/png": "[encoded data removed]",
            "text/plain": [
              "<Figure size 432x288 with 1 Axes>"
            ]
          },
          "metadata": {
            "tags": [],
            "needs_background": "light"
          }
        },
        {
          "output_type": "display_data",
          "data": {
            "image/png": "[encoded data removed]",
            "text/plain": [
              "<Figure size 432x288 with 1 Axes>"
            ]
          },
          "metadata": {
            "tags": [],
            "needs_background": "light"
          }
        },
        {
          "output_type": "display_data",
          "data": {
            "image/png": "[encoded data removed]",
            "text/plain": [
              "<Figure size 432x288 with 1 Axes>"
            ]
          },
          "metadata": {
            "tags": [],
            "needs_background": "light"
          }
        }
      ]
    },
    {
      "cell_type": "code",
      "metadata": {
        "id": "DPbUbJOjlZFc",
        "colab_type": "code",
        "colab": {}
      },
      "source": [
        ""
      ],
      "execution_count": 0,
      "outputs": []
    }
  ]
}